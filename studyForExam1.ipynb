{
 "cells": [
  {
   "cell_type": "code",
   "execution_count": 1,
   "metadata": {},
   "outputs": [],
   "source": [
    "import numpy as np"
   ]
  },
  {
   "cell_type": "code",
   "execution_count": 5,
   "metadata": {},
   "outputs": [],
   "source": [
    "a = np.matrix([[0,-1],[3,4],[0,2]])"
   ]
  },
  {
   "cell_type": "code",
   "execution_count": 6,
   "metadata": {},
   "outputs": [
    {
     "data": {
      "text/plain": [
       "matrix([[ 0, -1],\n",
       "        [ 3,  4],\n",
       "        [ 0,  2]])"
      ]
     },
     "execution_count": 6,
     "metadata": {},
     "output_type": "execute_result"
    }
   ],
   "source": [
    "a"
   ]
  },
  {
   "cell_type": "code",
   "execution_count": 8,
   "metadata": {},
   "outputs": [
    {
     "data": {
      "text/plain": [
       "(3, 2)"
      ]
     },
     "execution_count": 8,
     "metadata": {},
     "output_type": "execute_result"
    }
   ],
   "source": [
    "a.shape"
   ]
  },
  {
   "cell_type": "markdown",
   "metadata": {},
   "source": [
    "### Elementry Row Operations\n",
    "1. Swapping Rows\n",
    "2. Multiplying row by a constant\n",
    "3. Multiplying a row by a constant and adding it to a second row"
   ]
  },
  {
   "cell_type": "code",
   "execution_count": 9,
   "metadata": {},
   "outputs": [
    {
     "data": {
      "text/plain": [
       "54"
      ]
     },
     "execution_count": 9,
     "metadata": {},
     "output_type": "execute_result"
    }
   ],
   "source": [
    "np.dot([1,7,9,11],[7,1,2,2])"
   ]
  },
  {
   "cell_type": "code",
   "execution_count": 10,
   "metadata": {},
   "outputs": [
    {
     "data": {
      "text/plain": [
       "5.0"
      ]
     },
     "execution_count": 10,
     "metadata": {},
     "output_type": "execute_result"
    }
   ],
   "source": [
    "import math\n",
    "math.hypot(3,4)"
   ]
  },
  {
   "cell_type": "code",
   "execution_count": 12,
   "metadata": {},
   "outputs": [
    {
     "data": {
      "text/plain": [
       "matrix([[12.],\n",
       "        [18.]])"
      ]
     },
     "execution_count": 12,
     "metadata": {},
     "output_type": "execute_result"
    }
   ],
   "source": [
    "A = np.matrix([[1,1],[20,25]])\n",
    "b = np.matrix([[30],[690]])\n",
    "\n",
    "np.linalg.solve(A,b)\n",
    "\n",
    "# import scipy.linalg as la -> la.solve(A,b)"
   ]
  },
  {
   "cell_type": "markdown",
   "metadata": {},
   "source": [
    "### LA Text"
   ]
  },
  {
   "cell_type": "markdown",
   "metadata": {},
   "source": [
    "Basic matrix notation:\n",
    "\n",
    "$$ \n",
    "\\left[\n",
    "\\begin{matrix}\n",
    "    1   & 0 & 4  \\\\\n",
    "    0   & 2 & -2  \\\\\n",
    "    0   & 1 & 2 \n",
    "\\end{matrix}\n",
    "\\right] \n",
    "$$\n",
    "\n",
    "Augmented matrix notation:\n",
    "\n",
    "$$ \n",
    "\\left[\n",
    "\\begin{matrix}\n",
    "    1   & 0 & 4  \\\\\n",
    "    0   & 2 & -2  \\\\\n",
    "    0   & 1 & 2 \n",
    " \\end{matrix}\n",
    "\\, \\middle\\vert \\,\n",
    "\\begin{matrix}\n",
    "-10 \\\\ 3 \\\\ 1\n",
    "\\end{matrix}\n",
    "\\right] \n",
    "$$"
   ]
  },
  {
   "cell_type": "markdown",
   "metadata": {},
   "source": [
    "$$ c = \\sqrt{a^2 + b^2} $$"
   ]
  },
  {
   "cell_type": "code",
   "execution_count": 18,
   "metadata": {},
   "outputs": [
    {
     "data": {
      "text/plain": [
       "matrix([[12., 25., 20.],\n",
       "        [18., 10., 10.]])"
      ]
     },
     "execution_count": 18,
     "metadata": {},
     "output_type": "execute_result"
    }
   ],
   "source": [
    "# Same A, multiple b\n",
    "\n",
    "w = np.matrix([[1,1],[20,25]])\n",
    "w1 = np.matrix([[30],[690]])\n",
    "w2 = np.matrix([[35],[750]])\n",
    "w3 = np.matrix([[30],[650]])\n",
    "\n",
    "b = np.concatenate((w1,w2,w3),axis = 1)\n",
    "np.linalg.solve(w,b)"
   ]
  },
  {
   "cell_type": "markdown",
   "metadata": {},
   "source": [
    "System of linear equations is homogenous if all constant terms are 0\n"
   ]
  },
  {
   "cell_type": "markdown",
   "metadata": {},
   "source": [
    "### Three steps to Gauss-Jordan Elimination\n",
    "1. Start with augmented matrix of the system of linear equations\n",
    "2. Derive the reduced echelon form of the augmented matrix using elementary row operations. This is done by creating leadings 1s, then zeros above and below each of the leading 1, column by column starting with the first\n",
    "3. Write down the system of equations corresponding to the reduced echelon form. This system gives the solution"
   ]
  },
  {
   "cell_type": "markdown",
   "metadata": {},
   "source": [
    "### RREF vs REF\n",
    "1. REF:\n",
    "    1. All nonzeros rows are above any rows of all zeros\n",
    "    2. Each leading entry of a row is in a column to the right of the leading entry of the row above it\n",
    "    3. All entries in a column below a leading entry are zeros\n",
    "2. RREF\n",
    "    1. Matrix in REF form\n",
    "    2. Each leading 1 is the only nonzero entry in its column\n",
    "    "
   ]
  },
  {
   "cell_type": "markdown",
   "metadata": {},
   "source": [
    "The following are properties of vector addition and multiplication for vectors $u$ and $v$:\n",
    "\n",
    "1. $u + v = v + u$ Commutative property\n",
    "2. $u + (v + w) = (u + v) + w$ Associative property\n",
    "3. $u+0 = 0 + u = u$ Property of zero vector\n",
    "4. $u + (-u) = 0$ Property of the negative vector\n",
    "5. $c(u+v) = cu + cv$ Distributive properties\n",
    "6. $(c+d)u = cu+du$ Distributive Properties\n",
    "7. $c(du) = (cd)u$ Distributed Properties\n",
    "8. $1u = u$ Scalar multiplication by 1"
   ]
  },
  {
   "cell_type": "code",
   "execution_count": 22,
   "metadata": {},
   "outputs": [
    {
     "data": {
      "text/latex": [
       "$$\\left[\\begin{matrix}1 & 1\\\\20 & 25\\end{matrix}\\right]$$"
      ],
      "text/plain": [
       "⎡1   1 ⎤\n",
       "⎢      ⎥\n",
       "⎣20  25⎦"
      ]
     },
     "execution_count": 22,
     "metadata": {},
     "output_type": "execute_result"
    }
   ],
   "source": [
    "import sympy as sym\n",
    "sym.init_printing(use_unicode=True) # Trick to make matrixes look nice in jupyter\n",
    "\n",
    "sym.Matrix(A)"
   ]
  },
  {
   "cell_type": "code",
   "execution_count": 24,
   "metadata": {},
   "outputs": [
    {
     "data": {
      "text/latex": [
       "$$\\left[\\begin{matrix}3 & -3 & 9\\\\2 & -2 & 7\\\\-1 & 2 & -4\\end{matrix}\\right]$$"
      ],
      "text/plain": [
       "⎡3   -3  9 ⎤\n",
       "⎢          ⎥\n",
       "⎢2   -2  7 ⎥\n",
       "⎢          ⎥\n",
       "⎣-1  2   -4⎦"
      ]
     },
     "execution_count": 24,
     "metadata": {},
     "output_type": "execute_result"
    }
   ],
   "source": [
    "A = np.matrix([[3,-3,9],[2,-2,7],[-1,2,-4]])\n",
    "sym.Matrix(A)"
   ]
  },
  {
   "cell_type": "code",
   "execution_count": 25,
   "metadata": {},
   "outputs": [
    {
     "data": {
      "text/latex": [
       "$$\\left[\\begin{matrix}-1 & 2 & -4\\\\2 & -2 & 7\\\\3 & -3 & 9\\end{matrix}\\right]$$"
      ],
      "text/plain": [
       "⎡-1  2   -4⎤\n",
       "⎢          ⎥\n",
       "⎢2   -2  7 ⎥\n",
       "⎢          ⎥\n",
       "⎣3   -3  9 ⎦"
      ]
     },
     "execution_count": 25,
     "metadata": {},
     "output_type": "execute_result"
    }
   ],
   "source": [
    "# Matrix swap row 3 with row 1\n",
    "E = np.matrix([[0,0,1],[0,1,0],[1,0,0]])\n",
    "sym.Matrix(E*A)"
   ]
  },
  {
   "cell_type": "code",
   "execution_count": 27,
   "metadata": {},
   "outputs": [
    {
     "data": {
      "text/latex": [
       "$$\\left[\\begin{matrix}3 & -3 & 9\\\\2 & -2 & 7\\\\8 & -7 & 23\\end{matrix}\\right]$$"
      ],
      "text/plain": [
       "⎡3  -3  9 ⎤\n",
       "⎢         ⎥\n",
       "⎢2  -2  7 ⎥\n",
       "⎢         ⎥\n",
       "⎣8  -7  23⎦"
      ]
     },
     "execution_count": 27,
     "metadata": {},
     "output_type": "execute_result"
    }
   ],
   "source": [
    "# Matrix multiply first row by c = 3 and adds it to the third row\n",
    "E = np.matrix([[1,0,0],[0,1,0],[3,0,1]])\n",
    "sym.Matrix(E*A)"
   ]
  },
  {
   "cell_type": "markdown",
   "metadata": {},
   "source": [
    "----\n",
    "# 3. The Inverse Matrix (aka $A^{-1}$)\n",
    "\n",
    "For some (not all) **square** matrices $A$, there exists a special matrix called the Inverse Matrix, which is typically written as $A^{-1}$ and when multiplied by the $A$ results in the Identity matrix $I$:\n",
    "\n",
    "$$ A^{-1}A = AA^{-1} = I $$\n",
    "\n",
    "Some properties of a Matrix Inverse Include:\n",
    "\n",
    "1. $(A^{-1})^{-1} = A$\n",
    "2. $(cA)^{-1} = \\frac{1}{c}A^{-1}$\n",
    "3. $(AB)^{-1} = B^{-1}A^{-1}$\n",
    "4. $(A^n)^{-1} = (A^{-1})^n$\n",
    "1. $(A^t)^{-1} = (A^{-1})^t$\n",
    "\n",
    "Other fun facts\n",
    "1. Invertable matrix is always square\n",
    "2. A square matrix is not always invertable\n",
    "3. RREF of a square invertible matrix is an identity matrix\n"
   ]
  },
  {
   "cell_type": "code",
   "execution_count": 30,
   "metadata": {},
   "outputs": [
    {
     "data": {
      "text/latex": [
       "$$\\left[\\begin{matrix}2.0 & -2.0 & 1.0\\\\-0.333333333333333 & 1.0 & 1.0\\\\-0.666666666666667 & 1.0 & 0.0\\end{matrix}\\right]$$"
      ],
      "text/plain": [
       "⎡       2.0          -2.0  1.0⎤\n",
       "⎢                             ⎥\n",
       "⎢-0.333333333333333  1.0   1.0⎥\n",
       "⎢                             ⎥\n",
       "⎣-0.666666666666667  1.0   0.0⎦"
      ]
     },
     "execution_count": 30,
     "metadata": {},
     "output_type": "execute_result"
    }
   ],
   "source": [
    "A_inv = np.linalg.inv(A)\n",
    "sym.Matrix(A_inv)"
   ]
  },
  {
   "cell_type": "code",
   "execution_count": 31,
   "metadata": {},
   "outputs": [
    {
     "data": {
      "text/latex": [
       "$$\\left[\\begin{matrix}1.0 & 0.0 & 0.0\\\\8.88178419700125 \\cdot 10^{-16} & 1.0 & 0.0\\\\0.0 & 0.0 & 1.0\\end{matrix}\\right]$$"
      ],
      "text/plain": [
       "⎡        1.0           0.0  0.0⎤\n",
       "⎢                              ⎥\n",
       "⎢8.88178419700125e-16  1.0  0.0⎥\n",
       "⎢                              ⎥\n",
       "⎣        0.0           0.0  1.0⎦"
      ]
     },
     "execution_count": 31,
     "metadata": {},
     "output_type": "execute_result"
    }
   ],
   "source": [
    "sym.Matrix(A*A_inv)"
   ]
  },
  {
   "cell_type": "code",
   "execution_count": 32,
   "metadata": {},
   "outputs": [
    {
     "data": {
      "text/latex": [
       "$$\\left[\\begin{matrix}3 & -3 & 9\\\\2 & -2 & 7\\\\-1 & 2 & -4\\end{matrix}\\right]$$"
      ],
      "text/plain": [
       "⎡3   -3  9 ⎤\n",
       "⎢          ⎥\n",
       "⎢2   -2  7 ⎥\n",
       "⎢          ⎥\n",
       "⎣-1  2   -4⎦"
      ]
     },
     "execution_count": 32,
     "metadata": {},
     "output_type": "execute_result"
    }
   ],
   "source": [
    "sym.Matrix(A)"
   ]
  },
  {
   "cell_type": "code",
   "execution_count": 33,
   "metadata": {},
   "outputs": [
    {
     "data": {
      "text/latex": [
       "$$\\left[\\begin{matrix}3 & 2 & -1\\\\-3 & -2 & 2\\\\9 & 7 & -4\\end{matrix}\\right]$$"
      ],
      "text/plain": [
       "⎡3   2   -1⎤\n",
       "⎢          ⎥\n",
       "⎢-3  -2  2 ⎥\n",
       "⎢          ⎥\n",
       "⎣9   7   -4⎦"
      ]
     },
     "execution_count": 33,
     "metadata": {},
     "output_type": "execute_result"
    }
   ],
   "source": [
    "sym.Matrix(A.T)"
   ]
  },
  {
   "cell_type": "markdown",
   "metadata": {},
   "source": [
    "\n",
    "\n",
    "$$\n",
    "\\left[\n",
    "\\begin{matrix}\n",
    "    \\sin{(\\theta)} & -\\cos{(\\theta)} & 0 & d_x \\\\ \n",
    "    \\cos{(\\theta)} & \\sin{(\\theta)}  & 0 & d_y \\\\ \n",
    "    0 & 0  & 1 & d_z \\\\ \n",
    "    0 & 0  & 0 & 1 \n",
    "\\end{matrix}\n",
    "\\right] \n",
    "$$\n",
    "\n",
    "$$ \n",
    "\\left[ \\begin{matrix}\n",
    "    x_{end} \\\\\n",
    "    y_{end} \n",
    " \\end{matrix}\n",
    "\\right] \n",
    "=\n",
    "\\left[ \\begin{matrix}\n",
    "    \\cos(q) & -\\sin(q) \\\\\n",
    "    \\sin(q) & \\cos(q) \n",
    " \\end{matrix}\n",
    "\\right] \n",
    "\\left[ \\begin{matrix}\n",
    "    x_{start} \\\\\n",
    "    y_{start} \n",
    " \\end{matrix}\n",
    "\\right] \n",
    "$$ "
   ]
  },
  {
   "cell_type": "code",
   "execution_count": 35,
   "metadata": {},
   "outputs": [
    {
     "data": {
      "image/png": "[encoded data removed]",
      "text/latex": [
       "$$-3.0000000000000004$$"
      ],
      "text/plain": [
       "-3.0000000000000004"
      ]
     },
     "execution_count": 35,
     "metadata": {},
     "output_type": "execute_result"
    }
   ],
   "source": [
    "np.linalg.det(A)"
   ]
  },
  {
   "cell_type": "markdown",
   "metadata": {},
   "source": [
    "## Determinant Tricks\n",
    "\n",
    "Some interesting properties of determinants result in applying elementary row operations. For example, let $A$ be an $n \\times n$ matrix and $c$ be a nonzero scalar.\n",
    "\n",
    "1. If a matrix $B$ is obtained from $A$ by multiplying a row (column) by $c$ then $|B| = c|A|$.\n",
    "2. If a matrix $B$ is obtained from $A$ by interchanging two rows (columns) then $|B| = -|A|$.\n",
    "3. if a matrix $B$ is obtained from $A$ by adding a multiple of one row (column) to another row (column), then $|B| = |A|$.\n",
    "\n",
    "## Theorem 3.3 - Singular Matrices\n",
    "\n",
    "**Definition:** A square matrix $A$ is said to be **singular** if $|A| = 0$. $A$ is **nonsingular** if $|A| \\neq 0$\n",
    "\n",
    "Now, Let $A$ be an $n \\times n$ matrix. $A$ is singular if:\n",
    "\n",
    "1. all the elements of a row (column) are zero.\n",
    "2. two rows (columns) are equal.\n",
    "3. two rows (columns) are proportional. i.e. they are the same given a scalar $c$.\n",
    "\n",
    "Let $A$ and $B$ be $n\\times n$ matrices and $c$ be a nonzero scalar.\n",
    "\n",
    "1. Determinate of a scalr multiple: $|cA| = c^n|A|$\n",
    "2. Determinate of a product: $|AB| = |A||B|$\n",
    "3. Determinate of a transpose\" $|A^t| = |A|$\n",
    "4. Determinate of an inverse: $|A^{-1}| = \\frac{1}{|A|}$ (Assuming $A^{-1}$ exists)\n",
    "\n",
    "The determinate of an *upper triangle matrix* is the product of the diagonal elements of the matrix $A$.  \n",
    "\n",
    "Also, per Theorem 3.4.3 the determinate of a *lower triangle matrix* is also the product of the diagonal elements. "
   ]
  },
  {
   "cell_type": "markdown",
   "metadata": {},
   "source": [
    "**LINEAR RULES:**\n",
    "$$F(cx) = cF(x)$$\n",
    "$$F(x+y) = F(x)+F(y)$$\n"
   ]
  },
  {
   "cell_type": "markdown",
   "metadata": {},
   "source": [
    "----\n",
    "# 3. Jacobi Method for Solving Linear Systems 01 inclass\n",
    "\n",
    "As a group, we will write an iterative method (named after Jacobi) to solve the following system of equations:\n",
    "\n",
    "$$ 6x + 2y - z = 4$$\n",
    "$$ x + 5y + z = 3$$\n",
    "$$ 2x + y + 4z = 27$$\n",
    "\n",
    "Here is a basic outline of the Jacobi method:\n",
    "\n",
    "1. Initialize each of the variables to zero ($x_0 = 0, y_0 = 0, z_0 = 0$) \n",
    "2. Calculate the next iteration using the above equations and the values from the previous iteration. For example the formula for calculating $x_i$ from $y_{(i-1)}$ and $z_{(i-1)}$ is:\n",
    "    $$x_i = \\frac{4 - 2y_{(i-1)} + z_{(i-1)}}{6} $$\n",
    "3. Increment the iteration count $(i = i + 1)$ and repeat step 2.\n",
    "4. Stop when the iteration \"converges\" or a maximum number (ex. 100) of iterations has been reached.\n",
    "\n",
    "**IMPORTANT NOTE:** This method does not work for all systems of linear equations.  From **Theorem 7.1** in the book, we know that the Jacobi method can be used when the absolute value of the diagonal element of each row **dominate** the sum of the absolute values for the other elements in the same row. \n",
    " \n",
    " \n",
    " \n",
    " **Do This:** On a paper, write out the equations for $x_i, y_i$, and $z_i$ based on $x_{(i-1)}, y_{(i-1)}$, and $z_{(i-1)}$.  Show your answer to an instructor:\n",
    " \n",
    " $$x_i = \\frac{4 - 2y_{(i-1)} + z_{(i-1)}}{6} $$\n",
    " $$y_i = \\frac{3 - x_{(i-1)} - z_{(i-1)}}{5} $$\n",
    " $$z_i = \\frac{27 - 2x_{(i-1)} - y_{(i-1)}}{4} $$\n",
    "\n"
   ]
  },
  {
   "cell_type": "code",
   "execution_count": 39,
   "metadata": {},
   "outputs": [],
   "source": [
    "# Curve Fitting 02 Inclass\n",
    "def fitPoly3(p1,p2,p3,p4):\n",
    "    A = np.matrix([[p1[0]**3, p1[0]**2, p1[0], 1],\n",
    "                   [p2[0]**3, p2[0]**2, p2[0], 1],\n",
    "                   [p3[0]**3, p3[0]**2, p3[0], 1],\n",
    "                   [p4[0]**3, p4[0]**2, p4[0], 1]])\n",
    "    \n",
    "    b = np.matrix([p1[1],p2[1],p3[1],p4[1]]).T\n",
    "\n",
    "    X = np.linalg.solve(A, b)\n",
    "    a = X.item(0)\n",
    "    b = X.item(1)\n",
    "    c = X.item(2)\n",
    "    d = X.item(3)\n",
    "    \n",
    "    #Try putting your figure generation code here\n",
    "    x = np.linspace(-3,3)\n",
    "    y = a*x**3 + b*x**2 + c*x + d\n",
    "\n",
    "    #plot the function. (Transpose is needed to make the data line up).\n",
    "    plt.plot(x,y.transpose())\n",
    "\n",
    "    #Plot the original points\n",
    "    plt.scatter(p1[0],p1[1])\n",
    "    plt.scatter(p2[0],p2[1])\n",
    "    plt.scatter(p3[0],p3[1])\n",
    "    plt.scatter(p4[0],p4[1])\n",
    "    plt.xlabel('x-axis')\n",
    "    plt.ylabel('y-axis')\n",
    "    \n",
    "    return (a,b,c,d)\n"
   ]
  },
  {
   "cell_type": "code",
   "execution_count": 41,
   "metadata": {},
   "outputs": [],
   "source": [
    "# Gaussian Elimination - 3b inclass\n",
    "\n",
    "def divide_row_to_get_one(vector,c):\n",
    "    constant = vector[c]\n",
    "    for e in range(0,len(vector)):\n",
    "        vector[e]=vector[e]/constant\n",
    "    return vector\n",
    "        \n",
    "def zero_out_column_below(matrix,r,c):\n",
    "    columns_in_matrix = len(matrix[0])\n",
    "    rows_in_matrix = len(matrix)\n",
    "    if(matrix[r][c] != 1):\n",
    "        print('ERROR - this should always be 1')\n",
    "    ### Put YOUR CODE HERE\n",
    "    ### The difference between this function and zero_out_colum is that\n",
    "    ### this function zeros out only the lower left part of the matrix.\n",
    "    for e_r in range(r, rows_in_matrix):\n",
    "        if e_r != r:\n",
    "            constant = -matrix[e_r][c]\n",
    "            for e_c in range(columns_in_matrix):\n",
    "                if (matrix[r][e_c] != 0):\n",
    "                    matrix[e_r][e_c] = matrix[r][e_c] * constant + matrix[e_r][e_c]\n",
    "                \n",
    "        \n",
    "    return matrix\n",
    "\n",
    "def zero_out_column_above(matrix,c):\n",
    "    ### Put YOUR CODE HERE\n",
    "    ### This function puts rows from 0 to c-1 (total c rows) on column c to be zero. \n",
    "    ### (Note that the index in python starts from 0)\n",
    "    r = c\n",
    "    columns_in_matrix = len(matrix[0])\n",
    "    rows_in_matrix = len(matrix)\n",
    "    if(matrix[r][c] != 1):\n",
    "        print('ERROR - this should always be 1')\n",
    "    for e_r in range(r):\n",
    "        if e_r != r:\n",
    "            constant = -matrix[e_r][c]\n",
    "            for e_c in range(columns_in_matrix):\n",
    "                if (matrix[r][e_c] != 0):\n",
    "                    matrix[e_r][e_c] = matrix[r][e_c] * constant + matrix[e_r][e_c]\n",
    "    \n",
    "    \n",
    "    return matrix\n",
    "\n",
    "\n",
    "def rref_Gauss(matrix):\n",
    "    columns_in_matrix = len(matrix[0])\n",
    "    rows_in_matrix = len(matrix)\n",
    "    for c in range(columns_in_matrix):\n",
    "        r = 0\n",
    "        pivot=False\n",
    "        for r in range(c,rows_in_matrix):\n",
    "            if matrix[r][c] != 0:\n",
    "                pivot = True\n",
    "                break\n",
    "        if pivot:\n",
    "            if(r != c):\n",
    "                #Swap_rows\n",
    "                temp = matrix[r]\n",
    "                matrix[r] = matrix[c]\n",
    "                matrix[c] = temp\n",
    "                r = c\n",
    "            matrix[r] = divide_row_to_get_one(matrix[r],c)\n",
    "            matrix = zero_out_column_below(matrix,r,c)\n",
    "    for c in range(rows_in_matrix-1, 0, -1):\n",
    "        zero_out_column_above(matrix,c)\n",
    "    \n",
    "    return matrix\n"
   ]
  },
  {
   "cell_type": "markdown",
   "metadata": {},
   "source": [
    "\n",
    "## X-Axis rotation 06 inclass\n",
    "\n",
    "$$ \n",
    "\\left[ \\begin{matrix}\n",
    "    x' \\\\\n",
    "    y' \\\\\n",
    "    z' \\\\\n",
    "    1 \n",
    " \\end{matrix}\n",
    "\\right] \n",
    "=\n",
    "\\left[ \\begin{matrix}\n",
    "    1 & 0 & 0 & dx \\\\\n",
    "    0 & cos(q) & -sin(q)  & dy \\\\\n",
    "    0 & sin(q) & cos(q)  & dz \\\\\n",
    "    0 & 0 & 0 & 1\n",
    " \\end{matrix}\n",
    "\\right] \n",
    "\\left[ \\begin{matrix}\n",
    "    x \\\\\n",
    "    y \\\\\n",
    "    z \\\\\n",
    "    1 \n",
    " \\end{matrix}\n",
    "\\right] \n",
    "$$ \n"
   ]
  },
  {
   "cell_type": "markdown",
   "metadata": {},
   "source": [
    "\n",
    "# 3. Systems of Linear Equations with Many Solutions In class 07\n",
    "\n",
    "When we solve a system of equations, we mentioned that we may have three outcomes: unique solution, no solution (inconsistent), infinity many solutions. \n",
    "\n",
    "**A system is inconstent means that $b$ is not in the sub space spanned by all the columns**\n",
    "\n",
    "Assume that we have $m$ equations and $n$ unkowns. \n",
    "\n",
    "**Case 1** $m< n$, we do not have enough equations, there will be only two outcomes: no solution, or infinity many solutions. \n",
    "\n",
    "**Case 2** $m= n$, we may have all three outcomes. If the determinate is nonzero, we have unique solution, otherwise, we have to decide the outcome based on augmented matrix. \n",
    "\n",
    "**Case 3** $m>n$, we have more equations than the number of unknowns. That means there will be redundant equations (we can remove them) or conflict equations (no solution). We may have all three outcomes. \n"
   ]
  },
  {
   "cell_type": "markdown",
   "metadata": {},
   "source": [
    "### 1.6 Dot Product, Norm, Angle, and Distance\n",
    "* Be able to calculate the dot produt between two vectors $u$ and $v$\n",
    "\n",
    "$$ u \\cdot v = u_1v_1+ \\dots + u_n v_n $$\n",
    "\n",
    "* Calculate the norm of a vector in $R^n$\n",
    "\n",
    "$$  \\|u\\| = \\sqrt{u_1^2 +  \\dots + u_n^2} \\text{    or    } \\|u\\| = \\sqrt{u \\cdot u} $$\n",
    "\n",
    "* Angle between two vectors\n",
    "\n",
    "$$ cos(\\theta) = \\frac{u \\cdot v}{ \\|u\\| \\|v\\| }$$\n",
    "\n",
    "* Distance between two points $x$ and $y$\n",
    "\n",
    "$$d(x,y) = \\sqrt{x_1-y_1)^2 + \\dots + (x_n-y_n)^2}= \\|x-y\\|$$"
   ]
  },
  {
   "cell_type": "markdown",
   "metadata": {},
   "source": [
    "\n",
    "- LU Decomposition: $A = LU$\n",
    "- Cholesky Decomposition: $A = R^TR\\quad (= LDL^T)$\n",
    "    - This factorization of $A$ into $R^TR$ also requires that $A$ be *symmetric* and *positive-definite*. The latter term simply requires that $x^{T}Ax > 0$ for every nonzero $x \\in \\mathbb{R}^n$. If it is not obvious, you should confirm that $x^{T}Ax$ is always some scalar value (e.g., note that $x^TA = y^T$ for some vector $y\\in\\mathbb{R}^n$, and $y^Tx$ is the dot product between $x$ and $y$ and, hence, a real scalar).\n",
    "    \n",
    "Each matrix in these decompositions is the *matrix product* of <a href=\"https://en.wikipedia.org/wiki/Elementary_matrix\">elementary matrices</a>. \n",
    "Recall that *an elementary matrix differs from the identity matrix (the square matrix with $1$s on the diagonal and $0$s elsewhere) by an elementary row operation*.\n",
    " \n",
    "The use of these matrix decompositions in Numerical Linear Algebra is motivated by computational efficiency or reduction of *computational complexity* (recall \"**Big-O notation**\" and **counting the loops in your matrix multiplication algorithm**) and *numerical stability*. \n",
    "Solving our old friend $Ax = b$ by computing the inverse of $A$, denoted $A^{-1}$, and taking the matrix-vector product $A^{-1}b = x$ is computational resource intensive and numerically unstable, in general. \n",
    "If the $LU$ decomposition of $A$ exists, then it will be less costly and more stable to:\n",
    "1. Solve $Ly = b$ for $y$ by *forward-substitution*; and then\n",
    "2. Solve $Ux = y$ for $x$ by *backward-substitution*\n"
   ]
  },
  {
   "cell_type": "code",
   "execution_count": 45,
   "metadata": {},
   "outputs": [
    {
     "data": {
      "text/plain": [
       "matrix([[ 14, -15,  45],\n",
       "        [-15,  17, -49],\n",
       "        [ 45, -49, 146]])"
      ]
     },
     "execution_count": 45,
     "metadata": {},
     "output_type": "execute_result"
    }
   ],
   "source": [
    "A.T*A"
   ]
  },
  {
   "cell_type": "code",
   "execution_count": 46,
   "metadata": {},
   "outputs": [
    {
     "data": {
      "text/plain": [
       "matrix([[ 3, -3,  9],\n",
       "        [ 2, -2,  7],\n",
       "        [-1,  2, -4]])"
      ]
     },
     "execution_count": 46,
     "metadata": {},
     "output_type": "execute_result"
    }
   ],
   "source": [
    "A"
   ]
  },
  {
   "cell_type": "code",
   "execution_count": 53,
   "metadata": {},
   "outputs": [
    {
     "data": {
      "text/latex": [
       "$$\\left ( \\left[\\begin{matrix}1 & 0 & 0\\\\0 & 1 & 0\\\\0 & 0 & 1\\end{matrix}\\right], \\quad \\left ( 0, \\quad 1, \\quad 2\\right )\\right )$$"
      ],
      "text/plain": [
       "⎛⎡1  0  0⎤           ⎞\n",
       "⎜⎢       ⎥           ⎟\n",
       "⎜⎢0  1  0⎥, (0, 1, 2)⎟\n",
       "⎜⎢       ⎥           ⎟\n",
       "⎝⎣0  0  1⎦           ⎠"
      ]
     },
     "execution_count": 53,
     "metadata": {},
     "output_type": "execute_result"
    }
   ],
   "source": [
    "sym.Matrix(A).rref()"
   ]
  },
  {
   "cell_type": "code",
   "execution_count": null,
   "metadata": {},
   "outputs": [],
   "source": []
  }
 ],
 "metadata": {
  "kernelspec": {
   "display_name": "Python 3",
   "language": "python",
   "name": "python3"
  },
  "language_info": {
   "codemirror_mode": {
    "name": "ipython",
    "version": 3
   },
   "file_extension": ".py",
   "mimetype": "text/x-python",
   "name": "python",
   "nbconvert_exporter": "python",
   "pygments_lexer": "ipython3",
   "version": "3.7.1"
  }
 },
 "nbformat": 4,
 "nbformat_minor": 2
}
