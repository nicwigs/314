{
 "cells": [
  {
   "cell_type": "code",
   "execution_count": 1,
   "metadata": {},
   "outputs": [],
   "source": [
    "# Here are some libraries you may need to use\n",
    "%matplotlib inline\n",
    "import numpy as np\n",
    "import sympy as sym\n",
    "\n",
    "import matplotlib.pyplot as plt\n",
    "sym.init_printing(use_unicode=True)"
   ]
  },
  {
   "cell_type": "markdown",
   "metadata": {},
   "source": [
    "----\n",
    "# Question 4 - (25 points) Data Science - Principal Component Analysis\n",
    "\n",
    "\n",
    "\n",
    "Principla component analysis (PCA) is a powerful tool used to analyze data sets and visulization. \n",
    "\n",
    "\n",
    "Suppose there are $m$ individuals. \n",
    "We measure the same $n$ variables for each individual. \n",
    "We can put the measurement into a $m\\times n$ matrix. \n",
    "Then PCA will create a low-dimensional representation of the high dimensional ($n$-dimensional) data. \n",
    "\n",
    "\n",
    "For the purpose of visualization in the exam, we are given a $100\\times 2$ matrix, that is we have $100$ individuals and each individual has two variables. \n",
    "We can plot these 100 points in the figure. \n",
    "In this example, we have 100 points in two dimensional, and we will find a one dimensional representation for the points. \n",
    "That is, we will find a line in the 2D space such that the data points are very close to the line.\n"
   ]
  },
  {
   "cell_type": "code",
   "execution_count": 2,
   "metadata": {},
   "outputs": [],
   "source": [
    "np.random.seed(123)\n",
    "m = 100;\n",
    "x = 5*np.random.rand(m)\n",
    "y = 2*x + 1 + 0.2*np.random.randn(m)\n",
    "\n",
    "x = x.reshape(m, 1)\n",
    "y = y.reshape(m, 1)\n",
    "\n",
    "X = np.hstack([x, y])"
   ]
  },
  {
   "cell_type": "code",
   "execution_count": 3,
   "metadata": {},
   "outputs": [
    {
     "data": {
      "image/png": "[encoded data removed]",
      "text/plain": [
       "<Figure size 432x288 with 1 Axes>"
      ]
     },
     "metadata": {
      "needs_background": "light"
     },
     "output_type": "display_data"
    }
   ],
   "source": [
    "plt.plot(X[:,0], X[:,1], '*')\n",
    "plt.axis('scaled');\n",
    "\n",
    "plt.show()"
   ]
  },
  {
   "cell_type": "markdown",
   "metadata": {},
   "source": [
    "From the plot, we see that all the points are along one line $y=2x+1$ in the $xy$-plane. \n",
    "Because this is in 2D, and we can see it. \n",
    "In real application, the dimension is very high, and we can not visualize it. \n",
    "The purpose of PCA for this given data set is to find the line in the $xy$-plane and project all data points onto this line. \n",
    "Next, we will do the following steps to find the line."
   ]
  },
  {
   "cell_type": "markdown",
   "metadata": {},
   "source": [
    "&#9989; <font color=red>**Question a:**</font> Find the center point $X_c$ of all the data points, and show it in the plot. \n",
    "The variable values for the center point is the average of the variable over all data points. "
   ]
  },
  {
   "cell_type": "code",
   "execution_count": 4,
   "metadata": {
    "scrolled": true
   },
   "outputs": [
    {
     "ename": "SyntaxError",
     "evalue": "invalid syntax (<ipython-input-4-54b697be0a3e>, line 2)",
     "output_type": "error",
     "traceback": [
      "\u001b[1;36m  File \u001b[1;32m\"<ipython-input-4-54b697be0a3e>\"\u001b[1;36m, line \u001b[1;32m2\u001b[0m\n\u001b[1;33m    X_c =\u001b[0m\n\u001b[1;37m          ^\u001b[0m\n\u001b[1;31mSyntaxError\u001b[0m\u001b[1;31m:\u001b[0m invalid syntax\n"
     ]
    }
   ],
   "source": [
    "# Finish the following code to find the center point X_c 7\n",
    "X_c = \n",
    "\n",
    "\n",
    "plt.plot(X[:,0], X[:,1], '*')\n",
    "plt.plot(X_c[0,0],X_c[0,1],'ro')\n",
    "plt.axis('scaled');\n",
    "plt.show()"
   ]
  },
  {
   "cell_type": "code",
   "execution_count": 9,
   "metadata": {
    "scrolled": true
   },
   "outputs": [
    {
     "name": "stdout",
     "output_type": "stream",
     "text": [
      "[[2.5071444  6.02129675]]\n"
     ]
    },
    {
     "data": {
      "image/png": "[encoded data removed]",
      "text/plain": [
       "<Figure size 432x288 with 1 Axes>"
      ]
     },
     "metadata": {
      "needs_background": "light"
     },
     "output_type": "display_data"
    }
   ],
   "source": [
    "###ANSWER###\n",
    "X=np.matrix(X)\n",
    "X_c = np.sum(X, axis=0)\n",
    "X_c = X_c/X.shape[0]\n",
    "print(X_c)\n",
    "plt.plot(X[:,0], X[:,1], '*')\n",
    "plt.plot(X_c[0,0],X_c[0,1],'ro')\n",
    "plt.axis('scaled');\n",
    "plt.show()\n",
    "\n",
    "###ANSWER###"
   ]
  },
  {
   "cell_type": "markdown",
   "metadata": {},
   "source": [
    "Then we plot $(X-X_c)$ in the $xy$-plane. \n",
    "It moves all the data points such that the center point becomes the original $(0,0)$. \n",
    "This is the same as applying a transpose matrix. \n",
    "The step is a very important step in many method in data science."
   ]
  },
  {
   "cell_type": "code",
   "execution_count": 12,
   "metadata": {
    "scrolled": true
   },
   "outputs": [
    {
     "data": {
      "image/png": "[encoded data removed]",
      "text/plain": [
       "<Figure size 432x288 with 1 Axes>"
      ]
     },
     "metadata": {
      "needs_background": "light"
     },
     "output_type": "display_data"
    }
   ],
   "source": [
    "X_1 = X - X_c\n",
    "plt.plot(X_1[:,0], X_1[:,1], '*')\n",
    "plt.plot(X_1[0,0], X_1[0,1], 'rs')\n",
    "plt.axis('scaled');\n",
    "plt.show()"
   ]
  },
  {
   "cell_type": "markdown",
   "metadata": {},
   "source": [
    "&#9989; <font color=red>**Question b:**</font> Find the variance of the data points. The variance is calculated by \n",
    "$\\sum\\limits_i (x_1^i-x_1^c)^2+(x_2^i-x_2^c)^2$, where $x^c=(x_1^c,x_2^c)$ is the center point, and $(x_1^i,x_2^i)$ is the $i$-th data point.  \n",
    "\n",
    "\n",
    "Matrix operations can simplify your answer. \n",
    "You are encouraged to use matrix operations here, but you can use any method. "
   ]
  },
  {
   "cell_type": "code",
   "execution_count": 13,
   "metadata": {
    "scrolled": true
   },
   "outputs": [],
   "source": [
    "# Put your answer here "
   ]
  },
  {
   "cell_type": "code",
   "execution_count": 14,
   "metadata": {
    "scrolled": true
   },
   "outputs": [
    {
     "name": "stdout",
     "output_type": "stream",
     "text": [
      "[[750.01337218]]\n"
     ]
    }
   ],
   "source": [
    "###ANSWER###\n",
    "X_c = np.sum(X, axis=0)\n",
    "X_c = X_c/X.shape[0]\n",
    "X_1 = X - X_c\n",
    "XtX = X_1.transpose()*X_1\n",
    "print(XtX.trace())\n",
    "###ANSWER###"
   ]
  },
  {
   "cell_type": "markdown",
   "metadata": {},
   "source": [
    "&#9989; <font color=red>**Question c:**</font>  This is an important step for PCA. \n",
    "It requires eigen decomposition, which will be covered after this midterm. \n",
    "Therefore, in this exam, we assume that we solved this step. \n",
    "When we look at the point in Question a, the slop of the line is not $0$. \n",
    "In this Question, we need to rotation it such that the slop is close to $0$ (Keep in mind, we want to find a line). \n",
    "\n",
    "Look at the figure and approximate the angle that you will need to rotate. \n",
    "After the rotation, you may notice that the $y$ values are very small, and the points are very close to the $x$-axis."
   ]
  },
  {
   "cell_type": "code",
   "execution_count": null,
   "metadata": {
    "scrolled": true
   },
   "outputs": [],
   "source": [
    "# Finish the following code for the rotation. We put the first point in the plot so you can adjust your angle \n",
    "\n",
    "theta = \n",
    "J1 =    # J1 is the rotation matrix \n",
    "X_2 = X_1*\n",
    "\n",
    "\n",
    "plt.plot(X_2[:,0], X_2[:,1], '*')\n",
    "plt.plot(X_2[0,0], X_2[0,1], 'rs')\n",
    "plt.axis('scaled');\n",
    "plt.show()"
   ]
  },
  {
   "cell_type": "code",
   "execution_count": 15,
   "metadata": {
    "scrolled": true
   },
   "outputs": [
    {
     "data": {
      "image/png": "[encoded data removed]",
      "text/plain": [
       "<Figure size 432x288 with 1 Axes>"
      ]
     },
     "metadata": {
      "needs_background": "light"
     },
     "output_type": "display_data"
    }
   ],
   "source": [
    "###ANSWER###  \n",
    "theta = 1.1\n",
    "J1 = np.matrix([[np.cos(theta),-np.sin(theta)],[np.sin(theta),np.cos(theta)]])\n",
    "X_2 = X_1*J1\n",
    "plt.plot(X_2[:,0], X_2[:,1], '*')\n",
    "plt.plot(X_2[0,0], X_2[0,1], 'rs')\n",
    "\n",
    "plt.axis('scaled');\n",
    "plt.show()\n",
    "###ANSWER###"
   ]
  },
  {
   "cell_type": "markdown",
   "metadata": {},
   "source": [
    "&#9989; <font color=red>**Question d:**</font> Since we need to reduce the dimension from $2$ to $1$, we can remove the $y$ values because they are very small. \n",
    "So we keep the $x$ values for all data points, and transform them back to the original plot. \n",
    "That is, we first rotate all the data points back to have a slop and move the center point to be $X_c$."
   ]
  },
  {
   "cell_type": "code",
   "execution_count": null,
   "metadata": {
    "scrolled": true
   },
   "outputs": [],
   "source": [
    "# Finish the following code to transform it back. You should see the new data points are close the orignal points.  \n",
    "X_2[:,1] = 0\n",
    "J2 = np.linalg.inv(J1) \n",
    "X_3 = X_2*\n",
    "\n",
    "\n",
    "\n",
    "plt.plot(X_3[:,0], X_3[:,1], 'r*')\n",
    "plt.plot(X_3[0,0], X_3[0,1], 'bs')\n",
    "plt.plot(X[:,0], X[:,1], 'b*')\n",
    "plt.axis('scaled');\n",
    "plt.show()"
   ]
  },
  {
   "cell_type": "code",
   "execution_count": 18,
   "metadata": {
    "scrolled": false
   },
   "outputs": [
    {
     "data": {
      "image/png": "[encoded data removed]",
      "text/plain": [
       "<Figure size 432x288 with 1 Axes>"
      ]
     },
     "metadata": {
      "needs_background": "light"
     },
     "output_type": "display_data"
    }
   ],
   "source": [
    "###ANSWER###\n",
    "X_2[:,1] = 0\n",
    "X_3 = X_2*np.linalg.inv(J1)+ X_c;\n",
    "plt.plot(X_3[:,0], X_3[:,1], 'r*')\n",
    "plt.plot(X_3[0,0], X_3[0,1], 'bs')\n",
    "plt.plot(X[:,0], X[:,1], 'g*')\n",
    "plt.axis('scaled');\n",
    "plt.show()\n",
    "###ANSWER###"
   ]
  },
  {
   "cell_type": "markdown",
   "metadata": {},
   "source": [
    "&#9989; <font color=red>**Question e:**</font>   Measure the variance for the new data points. Find the variance of the new data points in the same way as the original data points. Compare the new variance with the previous one. "
   ]
  },
  {
   "cell_type": "code",
   "execution_count": 23,
   "metadata": {},
   "outputs": [
    {
     "name": "stdout",
     "output_type": "stream",
     "text": [
      "[[749.20707191]]\n"
     ]
    }
   ],
   "source": [
    "# Put your answer here.   \n",
    "X_3c = np.sum(X_3, axis=0)\n",
    "X_3c = X_3c/X_3.shape[0]\n",
    "X_4 = X_3 - X_3c\n",
    "XtX = X_4.transpose()*X_4\n",
    "print(XtX.trace())"
   ]
  },
  {
   "cell_type": "markdown",
   "metadata": {},
   "source": [
    "&#9989; <font color=red>**Question f (bonus):**</font>   Change the angle *theta* in the previous code and compute the variance again. Did you get a larger variance or a smaller variance? Try to explain the reason why.  "
   ]
  },
  {
   "cell_type": "markdown",
   "metadata": {},
   "source": [
    "----\n",
    "# Question 2 - (25 points) Singular Value Decomposition -- Image Denoising\n",
    "\n",
    "In this question, we will use SVD to remove the noise in an image by approximating the image with a low-rank matrix.\n",
    "\n",
    "First, let's construct a grayscale image. \n",
    "A grayscale image can be represented by a matrix, whose elements are values between $0$ (black) and $1$ (white). \n",
    "Run the following code to see a grayscale image of $21\\times 26$."
   ]
  },
  {
   "cell_type": "code",
   "execution_count": 24,
   "metadata": {},
   "outputs": [],
   "source": [
    "I0 = np.array([[0, 0, 0, 0, 0, 0, 0, 0, 0, 0, 0, 0, 0],\n",
    "       [0, 1, 1, 1, 0, 1, 0, 1, 0, 1, 1, 0, 0],\n",
    "       [0, 1, 0, 0, 0, 1, 0, 1, 0, 1, 0, 1, 0],\n",
    "       [0, 1, 1, 1, 0, 1, 0, 1, 0, 1, 0, 1, 0],\n",
    "       [0, 0, 0, 1, 0, 1, 0, 1, 0, 1, 0, 1, 0],\n",
    "       [0, 1, 1, 1, 0, 0, 1, 0, 0, 1, 1, 0, 0],\n",
    "       [0, 0, 0, 0, 0, 0, 0, 0, 0, 0, 0, 0, 0]])\n",
    "\n",
    "I0 = np.concatenate((I0, I0, I0), axis=0)\n",
    "I  = np.concatenate((I0, I0), axis=1)"
   ]
  },
  {
   "cell_type": "code",
   "execution_count": 25,
   "metadata": {},
   "outputs": [
    {
     "data": {
      "image/png": "[encoded data removed]",
      "text/plain": [
       "<Figure size 432x288 with 1 Axes>"
      ]
     },
     "metadata": {
      "needs_background": "light"
     },
     "output_type": "display_data"
    }
   ],
   "source": [
    "plt.imshow(I, interpolation='nearest', cmap='gray')\n",
    "plt.show()"
   ]
  },
  {
   "cell_type": "markdown",
   "metadata": {},
   "source": [
    "&#9989; <font color=red>**Question a:**</font> Find the rank of this matrix $I$ (the grayscale image)."
   ]
  },
  {
   "cell_type": "code",
   "execution_count": 26,
   "metadata": {},
   "outputs": [],
   "source": [
    "#####Start your code here ##### 6\n",
    "\n",
    "#####End of your code here#####"
   ]
  },
  {
   "cell_type": "code",
   "execution_count": 27,
   "metadata": {},
   "outputs": [
    {
     "data": {
      "text/plain": [
       "5"
      ]
     },
     "execution_count": 27,
     "metadata": {},
     "output_type": "execute_result"
    }
   ],
   "source": [
    "##ANSWER##\n",
    "#####Start your code here #####\n",
    "np.linalg.matrix_rank(I)\n",
    "#####End of your code here#####\n",
    "##ANSWER##"
   ]
  },
  {
   "cell_type": "markdown",
   "metadata": {},
   "source": [
    "&#9989; <font color=red>**Question b:**</font> Find an approximation of the image with only the first 3 singular values."
   ]
  },
  {
   "cell_type": "code",
   "execution_count": 28,
   "metadata": {},
   "outputs": [
    {
     "ename": "SyntaxError",
     "evalue": "invalid syntax (<ipython-input-28-b3d862c1b03d>, line 4)",
     "output_type": "error",
     "traceback": [
      "\u001b[1;36m  File \u001b[1;32m\"<ipython-input-28-b3d862c1b03d>\"\u001b[1;36m, line \u001b[1;32m4\u001b[0m\n\u001b[1;33m    I3 =\u001b[0m\n\u001b[1;37m         ^\u001b[0m\n\u001b[1;31mSyntaxError\u001b[0m\u001b[1;31m:\u001b[0m invalid syntax\n"
     ]
    }
   ],
   "source": [
    "#####Start your code here ##### 6\n",
    "\n",
    "\n",
    "I3 = \n",
    "\n",
    "plt.imshow(I3, interpolation='nearest', cmap='gray')\n",
    "plt.show()\n",
    "#####End of your code here#####"
   ]
  },
  {
   "cell_type": "code",
   "execution_count": 29,
   "metadata": {},
   "outputs": [
    {
     "data": {
      "image/png": "[encoded data removed]",
      "text/plain": [
       "<Figure size 432x288 with 1 Axes>"
      ]
     },
     "metadata": {
      "needs_background": "light"
     },
     "output_type": "display_data"
    }
   ],
   "source": [
    "##ANSWER## \n",
    "#####Start your code here #####\n",
    "u, s, vt = np.linalg.svd(I)\n",
    "keep = 3\n",
    "I3 = np.matrix(u[:,:keep])*np.matrix(np.diag(s[:keep]))*np.matrix(vt[:keep,:])\n",
    "\n",
    "plt.imshow(I3, interpolation='nearest', cmap='gray')\n",
    "plt.show()\n",
    "#####End of your code here#####\n",
    "##ANSWER##"
   ]
  },
  {
   "cell_type": "markdown",
   "metadata": {},
   "source": [
    "Since this grayscale image can be represented as a low-rank matrix. We can use the singular value decomposition to remove random noise that corrupts the image. \n",
    "\n",
    "The following code adds Gaussian noise onto the image. It is not easy to read all the characters in this noisy image."
   ]
  },
  {
   "cell_type": "code",
   "execution_count": 30,
   "metadata": {},
   "outputs": [
    {
     "data": {
      "image/png": "[encoded data removed]",
      "text/plain": [
       "<Figure size 432x288 with 1 Axes>"
      ]
     },
     "metadata": {
      "needs_background": "light"
     },
     "output_type": "display_data"
    }
   ],
   "source": [
    "In = I + 0.2* np.random.randn(I.shape[0],I.shape[1])\n",
    "plt.imshow(In, interpolation='nearest', cmap='gray')\n",
    "plt.show()"
   ]
  },
  {
   "cell_type": "markdown",
   "metadata": {},
   "source": [
    "&#9989; <font color=red>**Question c:**</font> Plot the singular values of this noisy image."
   ]
  },
  {
   "cell_type": "code",
   "execution_count": 31,
   "metadata": {},
   "outputs": [],
   "source": [
    "#####Start your code here ##### 6\n",
    "\n",
    "\n",
    "#####End of your code here#####"
   ]
  },
  {
   "cell_type": "code",
   "execution_count": 32,
   "metadata": {
    "scrolled": true
   },
   "outputs": [
    {
     "data": {
      "text/plain": [
       "[<matplotlib.lines.Line2D at 0x1f74c3b6160>]"
      ]
     },
     "execution_count": 32,
     "metadata": {},
     "output_type": "execute_result"
    },
    {
     "data": {
      "image/png": "[encoded data removed]",
      "text/plain": [
       "<Figure size 432x288 with 1 Axes>"
      ]
     },
     "metadata": {
      "needs_background": "light"
     },
     "output_type": "display_data"
    }
   ],
   "source": [
    "##ANSWER##\n",
    "#####Start your code here #####\n",
    "u, s, vt = np.linalg.svd(In)\n",
    "\n",
    "plt.plot(s)\n",
    "#####End of your code here#####\n",
    "##ANSWER##"
   ]
  },
  {
   "cell_type": "markdown",
   "metadata": {},
   "source": [
    "We think the main signal is contained in large singular values and the noise is in small singular values. So we would like to keep only the largest singular values. \n",
    "From the previous tasks, we know that we can approximate the original image with only 5 singular values. \n",
    "Let's keep the first 5 singular values, and see the results.\n",
    "\n",
    "&#9989; <font color=red>**Question d:**</font> Find an approximation of the noisy image with only the first 5 singular values. You should be able to read all the characters clearly now."
   ]
  },
  {
   "cell_type": "code",
   "execution_count": 33,
   "metadata": {},
   "outputs": [],
   "source": [
    "#####Start your code here ##### 7\n",
    "\n",
    "\n",
    "#####End of your code here#####"
   ]
  },
  {
   "cell_type": "code",
   "execution_count": 34,
   "metadata": {
    "scrolled": true
   },
   "outputs": [
    {
     "data": {
      "image/png": "[encoded data removed]",
      "text/plain": [
       "<Figure size 432x288 with 1 Axes>"
      ]
     },
     "metadata": {
      "needs_background": "light"
     },
     "output_type": "display_data"
    }
   ],
   "source": [
    "##ANSWER##\n",
    "#####Start your code here #####\n",
    "u, s, vt = np.linalg.svd(In)\n",
    "keep = 5\n",
    "I5 = np.matrix(u[:,0:keep])*np.matrix(np.diag(s[0:keep]))*np.matrix(vt[0:keep,:])\n",
    "\n",
    "plt.imshow(I5, interpolation='nearest', cmap='gray')\n",
    "plt.show()\n",
    "#####End of your code here#####\n",
    "##ANSWER##"
   ]
  },
  {
   "cell_type": "markdown",
   "metadata": {},
   "source": [
    "----\n",
    "# Question 4 - (25 points) Cryptography \n",
    "<img src=\"https://3b6xlt3iddqmuq5vy2w0s5d3-wpengine.netdna-ssl.com/state-of-security/wp-content/uploads/sites/3/shutterstock_509910508-800x450.jpg\" width=50%>\n",
    "\n",
    "In this problem we are going to write some code to encrypt and decrypt message using linear algebra and inverse functions. We will represent the message as a matrix $m$ and the encrypted (secret) message as $s$.    We will also define an encryption matrix $A$ and a decryption matrix $B$ such that:\n",
    "\n",
    "$$s=Am$$\n",
    "\n",
    "$$m=Bs$$\n",
    "\n",
    "**Step 1 (letters to numbers):** The first step is to convert our message string into a list of numbers and be able to take a list of numbers and convert it back into a string. For example;  A=0, B=1, C=2, etc. The following functions use an existing letter to number encoding called ASCII so it includes uppercase letters, lowercase letters, numbers and many symbols."
   ]
  },
  {
   "cell_type": "code",
   "execution_count": 36,
   "metadata": {},
   "outputs": [],
   "source": [
    "# Here are some libraries you may need to use\n",
    "%matplotlib inline\n",
    "import numpy as np\n",
    "import sympy as sym\n",
    "import matplotlib.pyplot as plt\n",
    "sym.init_printing(use_unicode=True)"
   ]
  },
  {
   "cell_type": "code",
   "execution_count": 37,
   "metadata": {},
   "outputs": [],
   "source": [
    "def str2numlist(s):\n",
    "    \"\"\"Convert a string to a list of numbers\"\"\"\n",
    "    n = [ord(c)-ord('A') for c in s]\n",
    "    return n\n",
    "\n",
    "def numlist2str(n):\n",
    "    \"\"\"Convert list of numbers to a string\"\"\"\n",
    "    s = [chr(c+ord('A')) for c in n]\n",
    "    s = ''.join(s)\n",
    "    return s"
   ]
  },
  {
   "cell_type": "markdown",
   "metadata": {},
   "source": [
    "The following code demonstrates how these functions are used:"
   ]
  },
  {
   "cell_type": "code",
   "execution_count": 38,
   "metadata": {},
   "outputs": [
    {
     "name": "stdout",
     "output_type": "stream",
     "text": [
      "[32, 33, 34, 35, 36, 0, 1, 2, 3, 4]\n"
     ]
    }
   ],
   "source": [
    "message='abcdeABCDE'\n",
    "num_message = str2numlist(message)\n",
    "print(num_message)"
   ]
  },
  {
   "cell_type": "code",
   "execution_count": 39,
   "metadata": {
    "scrolled": false
   },
   "outputs": [
    {
     "name": "stdout",
     "output_type": "stream",
     "text": [
      "abcdeABCDE\n"
     ]
    }
   ],
   "source": [
    "message = numlist2str(num_message)\n",
    "print(message)"
   ]
  },
  {
   "cell_type": "markdown",
   "metadata": {},
   "source": [
    "**Step 2 (message as a matrix):** Now we need our number list to be in a matrix format.  The size of our message matrix depends on the size of our square encryption matrix $A$.   For this problem lets assume $A$ is a $4x4$ square matrix. This means that our message matrix should be $4 x l$, where length $l$ changes in size depending on the size of the message.\n",
    "\n",
    "The following functions use the ```str2numlist``` and ```numlist2str``` functions from above to convert our message strings into a message matrix $m$ and our message matrix $m$ back to a string. "
   ]
  },
  {
   "cell_type": "code",
   "execution_count": 40,
   "metadata": {},
   "outputs": [],
   "source": [
    "def message2mat(message, spacing=4):\n",
    "    \"\"\"Add extra spaces to message and turn into numpy matrix of size 4x(N%4)\"\"\"\n",
    "\n",
    "    message_len = len(message)\n",
    "    extra_spaces = spacing - message_len % spacing\n",
    "    message = message.ljust(len(message) + extra_spaces)\n",
    "    num_message = str2numlist(message)\n",
    "    message_mat=np.matrix(np.reshape(num_message, (spacing,-1)))\n",
    "    return message_mat\n",
    "\n",
    "def mat2message(message_mat):\n",
    "    try:\n",
    "        \"\"\"Unroll a numpy matrix into a list of numbers\"\"\"\n",
    "        # found this here https://stackoverflow.com/questions/5183533/how-to-make-list-from-numpy-matrix-in-python\n",
    "        num_message = np.round(np.array(message_mat).reshape(-1,)).astype(int).tolist()\n",
    "        message = numlist2str(num_message)\n",
    "        message = message.strip()\n",
    "    except:\n",
    "        raise Exception('Invalid Message Matrix!!!!')\n",
    "        \n",
    "    return message"
   ]
  },
  {
   "cell_type": "markdown",
   "metadata": {},
   "source": [
    "The following code demonstrates how these functions are used:"
   ]
  },
  {
   "cell_type": "code",
   "execution_count": 41,
   "metadata": {},
   "outputs": [
    {
     "data": {
      "text/plain": [
       "matrix([[ 32,  33,  34],\n",
       "        [ 35,  36,   0],\n",
       "        [  1,   2,   3],\n",
       "        [  4, -33, -33]])"
      ]
     },
     "execution_count": 41,
     "metadata": {},
     "output_type": "execute_result"
    }
   ],
   "source": [
    "m = message2mat(message)\n",
    "m"
   ]
  },
  {
   "cell_type": "code",
   "execution_count": 42,
   "metadata": {
    "scrolled": false
   },
   "outputs": [
    {
     "data": {
      "text/plain": [
       "'abcdeABCDE'"
      ]
     },
     "execution_count": 42,
     "metadata": {},
     "output_type": "execute_result"
    }
   ],
   "source": [
    "message = mat2message(m)\n",
    "message"
   ]
  },
  {
   "cell_type": "markdown",
   "metadata": {},
   "source": [
    "**Step 3 (encrypt message):** Now that we have a message as a matrix we can multiply that matrix by our encryption matrix $A$ which is defined as follows:"
   ]
  },
  {
   "cell_type": "code",
   "execution_count": 48,
   "metadata": {},
   "outputs": [
    {
     "data": {
      "image/png": "[encoded data removed]",
      "text/latex": [
       "$$\\left[\\begin{matrix}-18 & 9 & 10 & 11\\\\7 & -4 & 3 & 2\\\\14 & -4 & 6 & 6\\\\9 & 80 & 3 & -9\\end{matrix}\\right]$$"
      ],
      "text/plain": [
       "⎡-18  9   10  11⎤\n",
       "⎢               ⎥\n",
       "⎢ 7   -4  3   2 ⎥\n",
       "⎢               ⎥\n",
       "⎢14   -4  6   6 ⎥\n",
       "⎢               ⎥\n",
       "⎣ 9   80  3   -9⎦"
      ]
     },
     "execution_count": 48,
     "metadata": {},
     "output_type": "execute_result"
    }
   ],
   "source": [
    "A = np.matrix([[ -18, 9, 10, 11], [ 7, -4, 3, 2], [14, -4, 6, 6], [9, 80, 3, -9]])\n",
    "sym.Matrix(A)"
   ]
  },
  {
   "cell_type": "markdown",
   "metadata": {},
   "source": [
    "<font color=red>**Question 4.a:**</font> Apply $A$ to the message matrix $m$ and store the results in a new matrix $s$. "
   ]
  },
  {
   "cell_type": "code",
   "execution_count": 51,
   "metadata": {},
   "outputs": [
    {
     "data": {
      "text/plain": [
       "matrix([[-207, -613, -945],\n",
       "        [  95,   27,  181],\n",
       "        [ 338,  132,  296],\n",
       "        [3055, 3480,  612]])"
      ]
     },
     "execution_count": 51,
     "metadata": {},
     "output_type": "execute_result"
    }
   ],
   "source": [
    "#put your code here\n",
    "s=A*m\n",
    "s"
   ]
  },
  {
   "cell_type": "markdown",
   "metadata": {},
   "source": [
    "**Step 4 (Decrypt the message):** In order to decrypt your message your friends will already need the decryption matrix $B$.\n",
    "\n",
    "<font color=red>**Question 4.b:**</font> Generate the decryption matrix $B$"
   ]
  },
  {
   "cell_type": "code",
   "execution_count": 46,
   "metadata": {},
   "outputs": [
    {
     "data": {
      "text/plain": [
       "matrix([[-2.40435506e-02, -6.12430062e-02,  6.91441101e-02,\n",
       "          3.09995463e-03],\n",
       "        [ 4.53651898e-04, -1.12052019e-01,  5.05821866e-02,\n",
       "          9.37547255e-03],\n",
       "        [ 5.73113564e-02,  8.44094964e-01, -3.59783759e-01,\n",
       "          1.77680327e-02],\n",
       "        [-9.07303796e-04, -7.75895962e-01,  3.98835627e-01,\n",
       "         -1.87509451e-02]])"
      ]
     },
     "execution_count": 46,
     "metadata": {},
     "output_type": "execute_result"
    }
   ],
   "source": [
    "#Put your code here\n",
    "B=A.I # the inverse of A if it exists\n",
    "B"
   ]
  },
  {
   "cell_type": "markdown",
   "metadata": {},
   "source": [
    "<font color=red>**Question 4.c:**</font> Now apply the Decryption matrix $B$ to our encrypted message $s$ and pass the resulting matrix into ```mat2message``` to see the original message"
   ]
  },
  {
   "cell_type": "code",
   "execution_count": 13,
   "metadata": {},
   "outputs": [
    {
     "data": {
      "text/plain": [
       "'abcdeABCDE'"
      ]
     },
     "execution_count": 13,
     "metadata": {},
     "output_type": "execute_result"
    }
   ],
   "source": [
    "#Put your code here\n",
    "mat2message(B*s)"
   ]
  },
  {
   "cell_type": "markdown",
   "metadata": {},
   "source": [
    "<font color=red>**Question 4.d:**</font> The following message was encrypted using matrix $A$ from above. What is the message?"
   ]
  },
  {
   "cell_type": "code",
   "execution_count": 53,
   "metadata": {},
   "outputs": [],
   "source": [
    "secret_message = [[ 1055,  -121,  -401,  -680,   331,  1375, -1348,   -35,  -278, 1222,  -868, -1048,   262,  1252,  -479,  -154,  -186,  -369, -1070],\n",
    "                  [ 239, 619,   306,   232,   441,   -69,   554,   603,   627, -1,   382,   429,   565,   129,   269,    84,   193,   187, 501],\n",
    "                  [ 720,  1182,   554,   576,  1044,   -52,   910,  1228,  1254, 16,   614,   800,  1266,   216,   630,   288,   508,   452, 804],\n",
    "                  [ 2974, -2493,   901,   978,  1542,  -184, -1743,  -910,  -965, -1544,  -945, -2658,   763, -3204,  3999,  4364,  4588,  3654, -1818]]"
   ]
  },
  {
   "cell_type": "code",
   "execution_count": 54,
   "metadata": {},
   "outputs": [
    {
     "data": {
      "text/plain": [
       "'Thank you for taking CMSE 314, I hope you learned something and had fun!!'"
      ]
     },
     "execution_count": 54,
     "metadata": {},
     "output_type": "execute_result"
    }
   ],
   "source": [
    "#Put your code here.\n",
    "mat2message(B*secret_message)"
   ]
  },
  {
   "cell_type": "markdown",
   "metadata": {},
   "source": [
    "<font color=red>**Question 4.e:**</font> Compose your own secret message (minimum 10 characters long) to the instructor using the above encoding matrix $A$.  Make sure you print your original message string, the original message matrix, and the secret message matrix.  Include code to check and verify that the message can be decoded using the $B$ matrix. "
   ]
  },
  {
   "cell_type": "code",
   "execution_count": 57,
   "metadata": {},
   "outputs": [
    {
     "data": {
      "text/plain": [
       "'Linear algebra is the branch of mathematics concerning linear equations and their representations through matrices and vector spaces.'"
      ]
     },
     "execution_count": 57,
     "metadata": {},
     "output_type": "execute_result"
    }
   ],
   "source": [
    "# Put your answer to the above question here, example:\n",
    "message = 'Linear algebra is the branch of mathematics concerning linear equations and their representations through matrices and vector spaces.'\n",
    "m = message2mat(message)\n",
    "s = A*m\n",
    "mat2message(B*s)"
   ]
  },
  {
   "cell_type": "code",
   "execution_count": null,
   "metadata": {},
   "outputs": [],
   "source": []
  }
 ],
 "metadata": {
  "kernelspec": {
   "display_name": "Python 3",
   "language": "python",
   "name": "python3"
  },
  "language_info": {
   "codemirror_mode": {
    "name": "ipython",
    "version": 3
   },
   "file_extension": ".py",
   "mimetype": "text/x-python",
   "name": "python",
   "nbconvert_exporter": "python",
   "pygments_lexer": "ipython3",
   "version": "3.7.1"
  }
 },
 "nbformat": 4,
 "nbformat_minor": 2
}
