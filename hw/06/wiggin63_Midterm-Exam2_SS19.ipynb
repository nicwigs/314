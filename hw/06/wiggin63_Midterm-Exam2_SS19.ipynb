{
 "cells": [
  {
   "cell_type": "markdown",
   "metadata": {},
   "source": [
    "## <p style=\"text-align: right;\"> Nic Wiggins </p>"
   ]
  },
  {
   "cell_type": "markdown",
   "metadata": {},
   "source": [
    "# MTH 314 Spring 2019 - Midterm Exam 2\n",
    "\n",
    "This is an open internet exam.  Feel free to use anything on the internet with one important exception...\n",
    "\n",
    "- **DO NOT** communicate live with other people during the exam (either verbally or on-line).  The goal here is to find answers to problems as you would in the real world.  \n",
    "\n",
    "Please use paper provided at the front of the room to show your work.  Add your name to the upper right corner of **each page** and put the problem number on the upper left. \n",
    "\n",
    "You will be given **70 minutes** to complete this test.  Use your time wisely. \n",
    "\n",
    "**HINTS:**\n",
    "- Neatness is important.  we will ignore all notes or code we can not read.\n",
    "- Read the entire exam from beginning to end before starting.  Not all questions are equal in points vs. time, so plan your time accordingly.   \n",
    "- Skip questions you can not answer. \n",
    "- Some of the information provided my be a distraction. Do not assume you need to understand everything written to answer the questions. \n",
    "- Spaces for answers are provided. However, do not assume that the answer must be in the same format of the cell provided. Feel free to change the cell formatting (ex. markdown to code) or add additional cells as needed to provide your answer.\n",
    "- When we say \"in your own words\", it is still okay to Google the answer as a reminder. However, we would like you to do more than copy and paste. Make your own answer. \n",
    "- If you get stuck, try not to leave an blank answer. It is better to include some notes or stub functions, so we have an idea about your thinking process to give you partial credit.   \n",
    "- When you are done, restart the entire notebook and run from beginning to end and make sure your answers still match what you expect. This will ensure you didn't do anything out of order by mistake. "
   ]
  },
  {
   "cell_type": "markdown",
   "metadata": {},
   "source": [
    "### Exam Summary\n",
    "1. (25 points) Markov Chain -- Voters\n",
    "1. (25 points) Singular Value Decomposition -- Image Denoising\n",
    "1. (25 points) Furniture Company Profit\n",
    "1. (25 points) Quick Questions"
   ]
  },
  {
   "cell_type": "code",
   "execution_count": 1,
   "metadata": {},
   "outputs": [],
   "source": [
    "%matplotlib inline\n",
    "import matplotlib.pylab as plt\n",
    "import numpy as np\n",
    "import sympy as sym\n",
    "sym.init_printing(use_unicode=True)"
   ]
  },
  {
   "cell_type": "markdown",
   "metadata": {},
   "source": [
    "----\n",
    "# Question 1 - (25 points) Markov Chain -- Voters\n",
    "\n",
    "Markove chains can be applied to many fields. In this question, we will use this to model the voting behavior. \n",
    "Let's say that there are three candidates: the Democratic (D), Republican (R), and Independent (I). \n",
    "Assume that the distribution of voters starts with $p=[0.48, 0.51, 0.01]$ at day 1. That is, 40% voters may vote for D, another 40% voters may vote for R, and the left 20% will vote for I. In this case, we assume that every voter will vote for only one candidate. \n",
    "\n",
    "Everyday, the distribution will change based on the following rules. \n",
    "> 80% of D will remain, 15% will become I, and 5% will become R\n",
    "\n",
    "> 70% of R will remain, 20% will become D, and 10% will become I\n",
    "\n",
    "> 50% of I will remain, 25% will become R, and 25% will become D\n"
   ]
  },
  {
   "cell_type": "markdown",
   "metadata": {},
   "source": [
    "&#9989; <font color=red>**Question a:**</font> Write down the Markov matrix for this application."
   ]
  },
  {
   "cell_type": "code",
   "execution_count": 2,
   "metadata": {},
   "outputs": [
    {
     "name": "stdout",
     "output_type": "stream",
     "text": [
      "[[0.8  0.2  0.25]\n",
      " [0.05 0.7  0.25]\n",
      " [0.15 0.1  0.5 ]]\n"
     ]
    }
   ],
   "source": [
    "#####Start your code here #####\n",
    "A = np.matrix([[0.8,0.2,0.25],[0.05,0.7,0.25],[0.15,0.1,0.5]])\n",
    "#####End of your code here#####\n",
    "print(A)"
   ]
  },
  {
   "cell_type": "markdown",
   "metadata": {},
   "source": [
    "&#9989; <font color=red>**Question b:**</font> Write down a function to verify that the matrix $A$ you obtained from the previous question is a Markov matrix."
   ]
  },
  {
   "cell_type": "code",
   "execution_count": 3,
   "metadata": {},
   "outputs": [
    {
     "data": {
      "text/plain": [
       "True"
      ]
     },
     "execution_count": 3,
     "metadata": {},
     "output_type": "execute_result"
    }
   ],
   "source": [
    "#####Start your code here #####\n",
    "def verifyMarkov(A):\n",
    "    return  np.all(np.isclose(np.ones((A.shape[0],1)),A.T*np.ones((A.shape[0],1))))\n",
    "\n",
    "verifyMarkov(A)\n",
    "#####End of your code here#####"
   ]
  },
  {
   "cell_type": "markdown",
   "metadata": {},
   "source": [
    "&#9989; <font color=red>**Question c:**</font> Find a matrix $C$ and a diagonal matrix $D$ such that $C^{-1}AC=D$."
   ]
  },
  {
   "cell_type": "code",
   "execution_count": 4,
   "metadata": {},
   "outputs": [
    {
     "data": {
      "text/latex": [
       "$$\\left[\\begin{matrix}1.0 & 0 & 0\\\\0 & 0.388196601125011 & 0\\\\0 & 0 & 0.611803398874989\\end{matrix}\\right]$$"
      ],
      "text/plain": [
       "⎡1.0          0                  0        ⎤\n",
       "⎢                                         ⎥\n",
       "⎢ 0   0.388196601125011          0        ⎥\n",
       "⎢                                         ⎥\n",
       "⎣ 0           0          0.611803398874989⎦"
      ]
     },
     "execution_count": 4,
     "metadata": {},
     "output_type": "execute_result"
    }
   ],
   "source": [
    "#####Start your code here #####\n",
    "C,D = sym.Matrix(A).diagonalize()\n",
    "D\n",
    "#####End of your code here#####"
   ]
  },
  {
   "cell_type": "markdown",
   "metadata": {},
   "source": [
    "&#9989; <font color=red>**Question d:**</font> Find the distribution for day 10."
   ]
  },
  {
   "cell_type": "code",
   "execution_count": 5,
   "metadata": {},
   "outputs": [
    {
     "data": {
      "text/latex": [
       "$$\\left[\\begin{matrix}0.525419088867187\\\\0.264264778259277\\\\0.210316132873535\\end{matrix}\\right]$$"
      ],
      "text/plain": [
       "⎡0.525419088867187⎤\n",
       "⎢                 ⎥\n",
       "⎢0.264264778259277⎥\n",
       "⎢                 ⎥\n",
       "⎣0.210316132873535⎦"
      ]
     },
     "execution_count": 5,
     "metadata": {},
     "output_type": "execute_result"
    }
   ],
   "source": [
    "#####Start your code here #####\n",
    "C*D**10*C.inv()*sym.Matrix([[0.4],[0.4],[0.2]])\n",
    "#####End of your code here#####"
   ]
  },
  {
   "cell_type": "markdown",
   "metadata": {},
   "source": [
    "&#9989; <font color=red>**Question e:**</font> Find the final distribution (the stationary point)."
   ]
  },
  {
   "cell_type": "code",
   "execution_count": 6,
   "metadata": {},
   "outputs": [
    {
     "data": {
      "text/latex": [
       "$$\\left[\\begin{matrix}0.526315789473684\\\\0.263157894736842\\\\0.210526315789474\\end{matrix}\\right]$$"
      ],
      "text/plain": [
       "⎡0.526315789473684⎤\n",
       "⎢                 ⎥\n",
       "⎢0.263157894736842⎥\n",
       "⎢                 ⎥\n",
       "⎣0.210526315789474⎦"
      ]
     },
     "execution_count": 6,
     "metadata": {},
     "output_type": "execute_result"
    }
   ],
   "source": [
    "#####Start your code here #####\n",
    "vects = sym.Matrix(A).eigenvects()\n",
    "\n",
    "steadystate = np.matrix(vects[0][2][0])\n",
    "steadystate = steadystate/steadystate.sum()\n",
    "sym.Matrix(steadystate)\n",
    "#####End of your code here#####"
   ]
  },
  {
   "cell_type": "markdown",
   "metadata": {},
   "source": [
    "----\n",
    "# Question 2 - (25 points) Singular Value Decomposition -- Image Denoising\n",
    "\n",
    "In this question, we will use SVD to remove the noise in an image by approximating the image with a low-rank matrix.\n",
    "\n",
    "First, let's construct a grayscale image. \n",
    "A grayscale image can be represented by a matrix, whose elements are values between $0$ (black) and $1$ (white). \n",
    "Run the following code to see a grayscale image of $21\\times 26$."
   ]
  },
  {
   "cell_type": "code",
   "execution_count": 7,
   "metadata": {},
   "outputs": [],
   "source": [
    "I0 = np.array([[0, 0, 0, 0, 0, 0, 0, 0, 0, 0, 0, 0, 0],\n",
    "       [0, 1, 1, 1, 0, 1, 0, 1, 0, 1, 1, 0, 0],\n",
    "       [0, 1, 0, 0, 0, 1, 0, 1, 0, 1, 0, 1, 0],\n",
    "       [0, 1, 1, 1, 0, 1, 0, 1, 0, 1, 0, 1, 0],\n",
    "       [0, 0, 0, 1, 0, 1, 0, 1, 0, 1, 0, 1, 0],\n",
    "       [0, 1, 1, 1, 0, 0, 1, 0, 0, 1, 1, 0, 0],\n",
    "       [0, 0, 0, 0, 0, 0, 0, 0, 0, 0, 0, 0, 0]])\n",
    "\n",
    "I0 = np.concatenate((I0, I0, I0), axis=0)\n",
    "I  = np.concatenate((I0, I0), axis=1)"
   ]
  },
  {
   "cell_type": "code",
   "execution_count": 8,
   "metadata": {},
   "outputs": [
    {
     "data": {
      "image/png": "[encoded data removed]",
      "text/plain": [
       "<Figure size 432x288 with 1 Axes>"
      ]
     },
     "metadata": {
      "needs_background": "light"
     },
     "output_type": "display_data"
    }
   ],
   "source": [
    "plt.imshow(I, interpolation='nearest', cmap='gray')\n",
    "plt.show()"
   ]
  },
  {
   "cell_type": "markdown",
   "metadata": {},
   "source": [
    "&#9989; <font color=red>**Question a:**</font> Find the rank of this matrix $I$ (the grayscale image)."
   ]
  },
  {
   "cell_type": "code",
   "execution_count": 9,
   "metadata": {},
   "outputs": [
    {
     "data": {
      "image/png": "[encoded data removed]",
      "text/latex": [
       "$$5$$"
      ],
      "text/plain": [
       "5"
      ]
     },
     "execution_count": 9,
     "metadata": {},
     "output_type": "execute_result"
    }
   ],
   "source": [
    "#####Start your code here #####\n",
    "sym.Matrix(I).rank()\n",
    "#####End of your code here#####"
   ]
  },
  {
   "cell_type": "markdown",
   "metadata": {},
   "source": [
    "&#9989; <font color=red>**Question b:**</font> Find an approximation of the image with only the first 3 singular values."
   ]
  },
  {
   "cell_type": "code",
   "execution_count": 10,
   "metadata": {},
   "outputs": [
    {
     "data": {
      "image/png": "[encoded data removed]",
      "text/plain": [
       "<Figure size 432x288 with 1 Axes>"
      ]
     },
     "metadata": {
      "needs_background": "light"
     },
     "output_type": "display_data"
    }
   ],
   "source": [
    "#####Start your code here #####\n",
    "U, e, Vt = np.linalg.svd(I)\n",
    "S = np.zeros(I.shape)\n",
    "S[:len(e), :len(e)] = np.diag(e)\n",
    "s = e[:3] #first 3 singular values\n",
    "\n",
    "U1 = np.matrix(U[:,:len(s)])\n",
    "S1 = np.diag(s)\n",
    "Vt1 = np.matrix(Vt[:len(s),:])\n",
    "\n",
    "I3 = U1*S1*Vt1\n",
    "\n",
    "plt.imshow(I3, interpolation='nearest', cmap='gray')\n",
    "plt.show()\n",
    "#####End of your code here#####"
   ]
  },
  {
   "cell_type": "markdown",
   "metadata": {},
   "source": [
    "Since this grayscale image can be represented as a low-rank matrix. We can use the singular value decomposition to remove random noise that corrupts the image. \n",
    "\n",
    "The following code adds Gaussian noise onto the image. It is not easy to read all the characters in this noisy image."
   ]
  },
  {
   "cell_type": "code",
   "execution_count": 11,
   "metadata": {},
   "outputs": [
    {
     "data": {
      "image/png": "[encoded data removed]",
      "text/plain": [
       "<Figure size 432x288 with 1 Axes>"
      ]
     },
     "metadata": {
      "needs_background": "light"
     },
     "output_type": "display_data"
    }
   ],
   "source": [
    "In = I + 0.2* np.random.randn(I.shape[0],I.shape[1])\n",
    "plt.imshow(In, interpolation='nearest', cmap='gray')\n",
    "plt.show()"
   ]
  },
  {
   "cell_type": "markdown",
   "metadata": {},
   "source": [
    "&#9989; <font color=red>**Question c:**</font> Plot the singular values of this noisy image."
   ]
  },
  {
   "cell_type": "code",
   "execution_count": 12,
   "metadata": {},
   "outputs": [
    {
     "data": {
      "text/plain": [
       "Text(0, 0.5, 'singular value')"
      ]
     },
     "execution_count": 12,
     "metadata": {},
     "output_type": "execute_result"
    },
    {
     "data": {
      "image/png": "[encoded data removed]",
      "text/plain": [
       "<Figure size 432x288 with 1 Axes>"
      ]
     },
     "metadata": {
      "needs_background": "light"
     },
     "output_type": "display_data"
    }
   ],
   "source": [
    "#####Start your code here #####\n",
    "\n",
    "Un, en, Vtn = np.linalg.svd(In)\n",
    "\n",
    "plt.plot(en)\n",
    "plt.gca().set_yscale('log')\n",
    "plt.xlabel('index')\n",
    "plt.ylabel('singular value')\n",
    "#####End of your code here#####"
   ]
  },
  {
   "cell_type": "markdown",
   "metadata": {},
   "source": [
    "We think the main signal is contained in large singular values and the noise is in small singular values. So we would like to keep only the largest singular values. \n",
    "From the previous tasks, we know that we can approximate the original image with only 5 singular values. \n",
    "Let's keep the first 5 singular values, and see the results.\n",
    "\n",
    "&#9989; <font color=red>**Question d:**</font> Find an approximation of the noisy image with only the first 5 singular values. You should be able to read all the characters clearly now."
   ]
  },
  {
   "cell_type": "code",
   "execution_count": 13,
   "metadata": {},
   "outputs": [
    {
     "data": {
      "image/png": "[encoded data removed]",
      "text/plain": [
       "<Figure size 432x288 with 1 Axes>"
      ]
     },
     "metadata": {
      "needs_background": "light"
     },
     "output_type": "display_data"
    }
   ],
   "source": [
    "#####Start your code here #####\n",
    "s = en[:5] #first 5 singular values\n",
    "\n",
    "U1n = np.matrix(U[:,:len(s)])\n",
    "S1n = np.diag(s)\n",
    "Vt1n = np.matrix(Vt[:len(s),:])\n",
    "\n",
    "I5 = U1n*S1n*Vt1n\n",
    "\n",
    "plt.imshow(I5, interpolation='nearest', cmap='gray')\n",
    "plt.show()\n",
    "\n",
    "#####End of your code here#####"
   ]
  },
  {
   "cell_type": "markdown",
   "metadata": {},
   "source": [
    "----\n",
    "\n",
    "# Question 3 - Furniture Company Profit\n",
    "\n",
    "<img src=\"http://i2.cdn.turner.com/cnn/dam/assets/131216104851-made-in-usa-itsy-bitsy-ritzy-horizontal-gallery.png\" width=\"80%\">\n",
    "\n",
    "An industrial furniture company manufactures desks, cabinet, and chairs. \n",
    "These items involve metal and wood. \n",
    "The required amounts for each material and the profit is listed below. \n",
    "That is, one desk cost 3 Metal and 4 Wood and its profit is \\$16.\n",
    "\n",
    "\n",
    "|    | Metal           |    Wood        |       Profit   | \n",
    "|----|-----------------|----------------|----------|\n",
    "|Cabinet| 6 | 1 |  \\$12 |\n",
    "|Chair | 1 | 2 |  \\$6|\n",
    "|Desk|               3 |              4 |      \\$16|\n"
   ]
  },
  {
   "cell_type": "markdown",
   "metadata": {},
   "source": [
    "The following are linear equations representing the metal and wood consumption of the company in terms of the number of cabinet  ($Ca$), the number of Chair ($Ch$), and the number of desks ($D$). \n",
    "\n",
    "$$metal =  6 *Ca + 1* Ch+  3* D$$\n",
    "$$wood = 1* Ca + 2 *Ch+ 4*D$$"
   ]
  },
  {
   "cell_type": "markdown",
   "metadata": {},
   "source": [
    "&#9989; <font color=red>**Question a:**</font> The above system of equations can be formed as $Ax=b$ by defining $A$. Creat a ```numpy``` matrix for $A$. "
   ]
  },
  {
   "cell_type": "code",
   "execution_count": 14,
   "metadata": {},
   "outputs": [
    {
     "data": {
      "text/latex": [
       "$$\\left[\\begin{matrix}6 & 1 & 3\\\\1 & 2 & 4\\end{matrix}\\right]$$"
      ],
      "text/plain": [
       "⎡6  1  3⎤\n",
       "⎢       ⎥\n",
       "⎣1  2  4⎦"
      ]
     },
     "execution_count": 14,
     "metadata": {},
     "output_type": "execute_result"
    }
   ],
   "source": [
    "#####Start your code here #####\n",
    "A = np.matrix([[6,1,3],[1,2,4]])\n",
    "sym.Matrix(A)\n",
    "#####End of your code here#####"
   ]
  },
  {
   "cell_type": "markdown",
   "metadata": {},
   "source": [
    "&#9989; <font color=red>**Question b:**</font> Describe the elementary row operation that will convert the first element of the second row of $A$ to zero (i.e., the first step in calculating the reduced row echelon form that makes $A_{21} = 0$):"
   ]
  },
  {
   "cell_type": "markdown",
   "metadata": {},
   "source": [
    "R2 = -1/6R1 + R2"
   ]
  },
  {
   "cell_type": "markdown",
   "metadata": {},
   "source": [
    "&#9989; <font color=red>**Question c:**</font> Calculate the null space of the matrix $A$."
   ]
  },
  {
   "cell_type": "code",
   "execution_count": 15,
   "metadata": {},
   "outputs": [
    {
     "data": {
      "text/latex": [
       "$$\\left [ \\left[\\begin{matrix}- \\frac{2}{11}\\\\- \\frac{21}{11}\\\\1\\end{matrix}\\right]\\right ]$$"
      ],
      "text/plain": [
       "⎡⎡-2/11⎤⎤\n",
       "⎢⎢     ⎥⎥\n",
       "⎢⎢-21  ⎥⎥\n",
       "⎢⎢──── ⎥⎥\n",
       "⎢⎢ 11  ⎥⎥\n",
       "⎢⎢     ⎥⎥\n",
       "⎣⎣  1  ⎦⎦"
      ]
     },
     "execution_count": 15,
     "metadata": {},
     "output_type": "execute_result"
    }
   ],
   "source": [
    "#####Start your code here #####\n",
    "sym.Matrix(A).rref()[0]\n",
    "# null(A) = D*(-2/11,-21/11, 1)^T\n",
    "sym.Matrix(A).nullspace()\n",
    "#####End of your code here#####"
   ]
  },
  {
   "cell_type": "markdown",
   "metadata": {},
   "source": [
    "&#9989; <font color=red>**Question d:**</font> This month, the company can use 450 metal and 250 wood. \n",
    "What are the possible numbers of desks, cabinets, and chairs to make?"
   ]
  },
  {
   "cell_type": "code",
   "execution_count": 16,
   "metadata": {},
   "outputs": [
    {
     "data": {
      "text/latex": [
       "$$\\left[\\begin{matrix}1 & 0 & \\frac{2}{11} & \\frac{650}{11}\\\\0 & 1 & \\frac{21}{11} & \\frac{1050}{11}\\end{matrix}\\right]$$"
      ],
      "text/plain": [
       "⎡            650 ⎤\n",
       "⎢1  0  2/11  ─── ⎥\n",
       "⎢             11 ⎥\n",
       "⎢                ⎥\n",
       "⎢       21   1050⎥\n",
       "⎢0  1   ──   ────⎥\n",
       "⎣       11    11 ⎦"
      ]
     },
     "execution_count": 16,
     "metadata": {},
     "output_type": "execute_result"
    }
   ],
   "source": [
    "#####Start your code here #####\n",
    "\n",
    "sym.Matrix([[6,1,3,450],[1,2,4,250]]).rref()[0]\n",
    "#####End of your code here#####"
   ]
  },
  {
   "cell_type": "markdown",
   "metadata": {},
   "source": [
    "$$\n",
    "\\left[\n",
    "\\begin{matrix}\n",
    "    Ca \\\\\n",
    "    Ch \\\\\n",
    "    D\n",
    " \\end{matrix}\n",
    "\\right] =\n",
    "\\left[\n",
    "\\begin{matrix}\n",
    "    -2/11 \\\\\n",
    "    -21/11 \\\\\n",
    "    1\n",
    " \\end{matrix}\n",
    "\\right]D+ \n",
    "\\left[\n",
    "\\begin{matrix}\n",
    "    650/11 \\\\\n",
    "    1050/11 \\\\\n",
    "    0\n",
    " \\end{matrix}\n",
    "\\right]\n",
    "$$"
   ]
  },
  {
   "cell_type": "markdown",
   "metadata": {},
   "source": [
    "&#9989; <font color=red>**Question e:**</font> If you are the manager of this company, what are the number of desks, cabinet, and chairs you will make to make the most profit? What is your profit?"
   ]
  },
  {
   "cell_type": "code",
   "execution_count": 17,
   "metadata": {},
   "outputs": [
    {
     "data": {
      "image/png": "[encoded data removed]",
      "text/plain": [
       "<Figure size 432x288 with 1 Axes>"
      ]
     },
     "metadata": {
      "needs_background": "light"
     },
     "output_type": "display_data"
    }
   ],
   "source": [
    "#####Start your code here #####\n",
    "\n",
    "D = np.linspace(1,50)\n",
    "#y = 12*(-2/11*x+650/11) + 6*(-21/11*x+1050/11) + 16*x\n",
    "Ca = -2/11*D+650/11\n",
    "Ch = -21/11*D+1050/11\n",
    "plt.plot(D,Ca)\n",
    "plt.plot(D,Ch)\n",
    "plt.show()\n",
    "#####End of your code here#####"
   ]
  },
  {
   "cell_type": "code",
   "execution_count": 18,
   "metadata": {
    "scrolled": true
   },
   "outputs": [
    {
     "name": "stdout",
     "output_type": "stream",
     "text": [
      "(Matrix([\n",
      "[1, 0, 50],\n",
      "[0, 1, 50]]), (0, 1))\n",
      "profit ca and d 1400\n",
      "(Matrix([\n",
      "[1, 0,  650/11],\n",
      "[0, 1, 1050/11]]), (0, 1))\n",
      "profit ca and ch 900\n",
      "(Matrix([\n",
      "[1, 0, -525],\n",
      "[0, 1,  325]]), (0, 1))\n",
      "profit ch and d 2050\n"
     ]
    }
   ],
   "source": [
    "# Remove chairs since it diminshes the quickest with an increase in desks - the most profitble \n",
    "A2 = np.matrix([[6,3,450],[1,4,250]])\n",
    "p2 = sym.Matrix(A2).rref()\n",
    "print(p2)\n",
    "print(\"profit ca and d\", p2[0][2]*12+p2[0][5]*16)\n",
    "\n",
    "A3 = np.matrix([[6,1,450],[1,2,250]])\n",
    "p3 = sym.Matrix(A3).rref()\n",
    "print(p3)\n",
    "print(\"profit ca and ch\", p2[0][2]*12+p2[0][5]*6)\n",
    "\n",
    "A2 = np.matrix([[1,3,450],[2,4,250]])\n",
    "p2 = sym.Matrix(A2).rref()\n",
    "print(p2)\n",
    "print(\"profit ch and d\", p2[0][2]*6+p2[0][5]*16)"
   ]
  },
  {
   "cell_type": "markdown",
   "metadata": {},
   "source": [
    "## To maximize - 50 cabinets and 50 desks, yielding a profit of $1400 "
   ]
  },
  {
   "cell_type": "markdown",
   "metadata": {},
   "source": [
    "----\n",
    "# Question 4 - (25 points) Quick Questions\n"
   ]
  },
  {
   "cell_type": "markdown",
   "metadata": {},
   "source": [
    "<font color=red>**Question a.1 (1 points):**</font> The set of $2\\times 2$ matrices where all the elements are nonnegative is a vector space? (True or False)"
   ]
  },
  {
   "cell_type": "markdown",
   "metadata": {},
   "source": [
    "False"
   ]
  },
  {
   "cell_type": "markdown",
   "metadata": {},
   "source": [
    "<font color=red>**Question a.2 (2 points):**</font> Can the following vectors span $R^3$? Why?\n",
    "$$(1,-2,3),\\quad (-2,4,-6),\\quad (0,6,4)$$"
   ]
  },
  {
   "cell_type": "code",
   "execution_count": 19,
   "metadata": {},
   "outputs": [
    {
     "data": {
      "text/latex": [
       "$$\\left ( \\left[\\begin{matrix}1 & 0 & \\frac{13}{3}\\\\0 & 1 & \\frac{2}{3}\\\\0 & 0 & 0\\end{matrix}\\right], \\quad \\left ( 0, \\quad 1\\right )\\right )$$"
      ],
      "text/plain": [
       "⎛⎡1  0  13/3⎤        ⎞\n",
       "⎜⎢          ⎥        ⎟\n",
       "⎜⎢0  1  2/3 ⎥, (0, 1)⎟\n",
       "⎜⎢          ⎥        ⎟\n",
       "⎝⎣0  0   0  ⎦        ⎠"
      ]
     },
     "execution_count": 19,
     "metadata": {},
     "output_type": "execute_result"
    }
   ],
   "source": [
    "b1 = [1,-2,3]\n",
    "b2 = [-2,4,-6]\n",
    "b3 = [0,6,4]\n",
    "b = np.matrix([b1,b2,b3])\n",
    "sym.Matrix(b).rref()\n",
    "# no linear dependent"
   ]
  },
  {
   "cell_type": "markdown",
   "metadata": {},
   "source": [
    "<font color=red>**Question a.3 (1 points):**</font> $\\{(1,0,1),(2,1,5)\\}$ is a basis for the subspace of vector in $R^3$ of the form $(a,b,a+3b)$? (True or False)"
   ]
  },
  {
   "cell_type": "markdown",
   "metadata": {},
   "source": [
    "True"
   ]
  },
  {
   "cell_type": "markdown",
   "metadata": {},
   "source": [
    "<font color=red>**Question a.4 (1 points):**</font> Let $V$ be a vector space of dimension $n$. A set of more than $n$ vectors can span $V$, but cannot be linearly dependent? (True or False)"
   ]
  },
  {
   "cell_type": "markdown",
   "metadata": {},
   "source": [
    "True"
   ]
  },
  {
   "cell_type": "markdown",
   "metadata": {},
   "source": [
    "<font color=red>**Question b.1 (3 points):**</font> Verify that $\\{x^2+1,x+2,x-3\\}$ is basis for the $P_2$ (the set of all polynomials with degree not great than 2). "
   ]
  },
  {
   "cell_type": "code",
   "execution_count": 20,
   "metadata": {},
   "outputs": [
    {
     "data": {
      "text/latex": [
       "$$\\left ( \\left[\\begin{matrix}1 & 0 & 0\\\\0 & 1 & 0\\\\0 & 0 & 1\\end{matrix}\\right], \\quad \\left ( 0, \\quad 1, \\quad 2\\right )\\right )$$"
      ],
      "text/plain": [
       "⎛⎡1  0  0⎤           ⎞\n",
       "⎜⎢       ⎥           ⎟\n",
       "⎜⎢0  1  0⎥, (0, 1, 2)⎟\n",
       "⎜⎢       ⎥           ⎟\n",
       "⎝⎣0  0  1⎦           ⎠"
      ]
     },
     "execution_count": 20,
     "metadata": {},
     "output_type": "execute_result"
    }
   ],
   "source": [
    "b1 = [1,0,1]\n",
    "b2 = [0,1,2]\n",
    "b3 = [0,1,-3]\n",
    "b = np.matrix([b1,b2,b3])\n",
    "sym.Matrix(b).rref()"
   ]
  },
  {
   "cell_type": "markdown",
   "metadata": {},
   "source": [
    "<font color=red>**Question b.2 (2 points):**</font> Find the coordinate vector of $3x^2+2x-13$ relative to the basis $\\{x^2+1,x+2,x-3\\}$"
   ]
  },
  {
   "cell_type": "code",
   "execution_count": 21,
   "metadata": {},
   "outputs": [
    {
     "data": {
      "text/latex": [
       "$$\\left[\\begin{matrix}3.0\\\\-2.0\\\\4.0\\end{matrix}\\right]$$"
      ],
      "text/plain": [
       "⎡3.0 ⎤\n",
       "⎢    ⎥\n",
       "⎢-2.0⎥\n",
       "⎢    ⎥\n",
       "⎣4.0 ⎦"
      ]
     },
     "execution_count": 21,
     "metadata": {},
     "output_type": "execute_result"
    }
   ],
   "source": [
    "B = np.matrix([[1,0,1],[0,1,2],[0,1,-3]]).T\n",
    "P = np.linalg.inv(B)\n",
    "\n",
    "u = np.matrix([3,2,-13]).T\n",
    "\n",
    "UB = P*u\n",
    "sym.Matrix(UB)"
   ]
  },
  {
   "cell_type": "markdown",
   "metadata": {},
   "source": [
    "<font color=red>**Question c.1 (2 points):**</font> Find the projection of the vector $v$ onto the vector $u$ for \n",
    "$$v=(1,3)\\qquad u=(2,3)$$"
   ]
  },
  {
   "cell_type": "code",
   "execution_count": 22,
   "metadata": {},
   "outputs": [
    {
     "data": {
      "text/plain": [
       "array([1.69230769, 2.53846154])"
      ]
     },
     "execution_count": 22,
     "metadata": {},
     "output_type": "execute_result"
    }
   ],
   "source": [
    "v = np.array([1,3])\n",
    "u = np.array([2,3])\n",
    "np.dot(v,u)/np.dot(u,u)*u"
   ]
  },
  {
   "cell_type": "markdown",
   "metadata": {},
   "source": [
    "<font color=red>**Question c.2 (3 points):**</font> Find the distance of $(1,2,-4)$ in $R^3$ to the subspace of vectors in the form of $(a, 3a, b)$."
   ]
  },
  {
   "cell_type": "code",
   "execution_count": 23,
   "metadata": {},
   "outputs": [
    {
     "data": {
      "image/png": "[encoded data removed]",
      "text/latex": [
       "$$0.31622776601683783$$"
      ],
      "text/plain": [
       "0.31622776601683783"
      ]
     },
     "execution_count": 23,
     "metadata": {},
     "output_type": "execute_result"
    }
   ],
   "source": [
    "x = np.array([1,2,-4])\n",
    "b1 = np.array([1,3,0])\n",
    "b2 = np.array([0,0,1])\n",
    "y = x - (np.dot(x,b1)/np.dot(b1,b1)*b1 + np.dot(x,b2)/np.dot(b2,b2)*b2)\n",
    "np.linalg.norm(y)"
   ]
  },
  {
   "cell_type": "markdown",
   "metadata": {},
   "source": [
    "<font color=red>**Question d:**</font> Let \n",
    "$$T=\\begin{bmatrix}6&4 & 2\\\\ 3&2 & 1\\end{bmatrix}.$$"
   ]
  },
  {
   "cell_type": "markdown",
   "metadata": {},
   "source": [
    "<font color=red>**Question d.1 (3 points):**</font> Find the kernel and range of the matrix $T$."
   ]
  },
  {
   "cell_type": "code",
   "execution_count": 24,
   "metadata": {},
   "outputs": [
    {
     "data": {
      "text/latex": [
       "$$\\left ( \\left[\\begin{matrix}1 & \\frac{1}{2}\\\\0 & 0\\\\0 & 0\\end{matrix}\\right], \\quad \\left ( 0\\right )\\right )$$"
      ],
      "text/plain": [
       "⎛⎡1  1/2⎤      ⎞\n",
       "⎜⎢      ⎥      ⎟\n",
       "⎜⎢0   0 ⎥, (0,)⎟\n",
       "⎜⎢      ⎥      ⎟\n",
       "⎝⎣0   0 ⎦      ⎠"
      ]
     },
     "execution_count": 24,
     "metadata": {},
     "output_type": "execute_result"
    }
   ],
   "source": [
    "sym.Matrix([[6,4,2],[3,2,1]]).T.rref()"
   ]
  },
  {
   "cell_type": "markdown",
   "metadata": {},
   "source": [
    "$$range = \n",
    "\\left[\n",
    "\\begin{matrix}\n",
    "    1 \\\\\n",
    "    1/2\n",
    " \\end{matrix}\n",
    "\\right]\n",
    "$$"
   ]
  },
  {
   "cell_type": "code",
   "execution_count": 25,
   "metadata": {},
   "outputs": [
    {
     "data": {
      "text/latex": [
       "$$\\left [ \\left[\\begin{matrix}- \\frac{2}{3}\\\\1\\\\0\\end{matrix}\\right], \\quad \\left[\\begin{matrix}- \\frac{1}{3}\\\\0\\\\1\\end{matrix}\\right]\\right ]$$"
      ],
      "text/plain": [
       "⎡⎡-2/3⎤  ⎡-1/3⎤⎤\n",
       "⎢⎢    ⎥  ⎢    ⎥⎥\n",
       "⎢⎢ 1  ⎥, ⎢ 0  ⎥⎥\n",
       "⎢⎢    ⎥  ⎢    ⎥⎥\n",
       "⎣⎣ 0  ⎦  ⎣ 1  ⎦⎦"
      ]
     },
     "execution_count": 25,
     "metadata": {},
     "output_type": "execute_result"
    }
   ],
   "source": [
    "sym.Matrix([[6,4,2],[3,2,1]]).nullspace()"
   ]
  },
  {
   "cell_type": "markdown",
   "metadata": {},
   "source": [
    "<font color=red>**Question d.2 (2 points):**</font> Verify that \n",
    "$$\\mbox{dim Ker}(T) + \\mbox{dim range}(T) = \\mbox{dim domain}(T)$$"
   ]
  },
  {
   "cell_type": "code",
   "execution_count": 26,
   "metadata": {},
   "outputs": [
    {
     "data": {
      "text/plain": [
       "True"
      ]
     },
     "execution_count": 26,
     "metadata": {},
     "output_type": "execute_result"
    }
   ],
   "source": [
    "1 + 2 == 3"
   ]
  },
  {
   "cell_type": "markdown",
   "metadata": {},
   "source": [
    "<font color=red>**Question e.1 (3 points):**</font> Consider $v=(1,3,-1)$ in $R^3$. Let $W$ be the subspace consisting of all vectors in the form $(a,b,a-2b)$. Decompose $v$ into the sum of a vector in $W$ and a vector orthogonal to $W$."
   ]
  },
  {
   "cell_type": "code",
   "execution_count": 27,
   "metadata": {},
   "outputs": [
    {
     "name": "stdout",
     "output_type": "stream",
     "text": [
      "vector in W [ 0.  1. -2.]\n",
      "vector in orthoginal to W [1. 2. 1.]\n"
     ]
    }
   ],
   "source": [
    "b1 = np.array([1,0,1])\n",
    "b2 = np.array([0,1,-2])\n",
    "v = np.array([1,3,-1])\n",
    "\n",
    "W = np.dot(v,b1)/np.dot(b1,b1)*b1 + np.dot(v,b2)/np.dot(b2,b2)*b2\n",
    "\n",
    "WT = v - W\n",
    "print(\"vector in W\", W)\n",
    "print(\"vector in orthoginal to W\", WT)"
   ]
  },
  {
   "cell_type": "markdown",
   "metadata": {},
   "source": [
    "<font color=red>**Question e.2 (2 points):**</font> Find a basis for the vector space of upper triangular $2\\times 2$ matrix."
   ]
  },
  {
   "cell_type": "markdown",
   "metadata": {},
   "source": [
    "$$\\left[\n",
    "\\begin{matrix}\n",
    "    1 & 0\\\\\n",
    "    0 & 0\n",
    " \\end{matrix}\n",
    "\\right],\n",
    "\\left[\n",
    "\\begin{matrix}\n",
    "    0 & 1\\\\\n",
    "    0 & 0\n",
    " \\end{matrix}\n",
    "\\right],\n",
    "\\left[\n",
    "\\begin{matrix}\n",
    "    0 & 0\\\\\n",
    "    0 & 1\n",
    " \\end{matrix}\n",
    "\\right]\n",
    "$$\n",
    "\n"
   ]
  },
  {
   "cell_type": "markdown",
   "metadata": {},
   "source": [
    "---------\n",
    "### Congratulations, you're almost done with your EXAM\n",
    "\n",
    "Now, you just need to submit this assignment by uploading it to the course <a href=\"https://d2l.msu.edu/\">Desire2Learn</a> web page for today's dropbox (Don't forget to add your names in the first cell and restart and check the notebook for errors).\n",
    "\n",
    "&#9989; <font color=red>**DO THIS:**</font>\n",
    "- In the \"Kernel\" menu above, select \"Restart and Run All\". Make sure your answers still match what you expect. This will ensure you didn't do anything out of order by mistake.\n",
    "- Download the Notebook to your desktop with the filename using the format **\"<NETID\\>_Exam2.ipynb\"**.  Replace <NETID\\> in the filename with your personal MSU NetID (the stuff that comes before the @ symbol in your msu email address).\n",
    "- Upload the newly renamed notebook to the D2L dropbox. "
   ]
  },
  {
   "cell_type": "markdown",
   "metadata": {},
   "source": [
    "&#169; Copyright 2018,  Michigan State University Board of Trustees"
   ]
  }
 ],
 "metadata": {
  "kernelspec": {
   "display_name": "Python 3",
   "language": "python",
   "name": "python3"
  },
  "language_info": {
   "codemirror_mode": {
    "name": "ipython",
    "version": 3
   },
   "file_extension": ".py",
   "mimetype": "text/x-python",
   "name": "python",
   "nbconvert_exporter": "python",
   "pygments_lexer": "ipython3",
   "version": "3.7.1"
  }
 },
 "nbformat": 4,
 "nbformat_minor": 1
}
