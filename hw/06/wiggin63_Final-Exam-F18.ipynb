{
 "cells": [
  {
   "cell_type": "markdown",
   "metadata": {},
   "source": [
    "# CMSE/MTH 314 - Final Exam\n",
    "This is an open internet exam.  Feel free to use anything on the internet with one important exception...\n",
    "\n",
    "- **DO NOT** communicate live with other people during the exam (either verbally or on-line).  The goal here is to find answers to problems as you would in the real world.  \n",
    "\n",
    "Please use paper provided at the front of the room to show your work.  Add your name to the upper right corner of **each page** and put the problem number on the upper left. \n",
    "\n",
    "You will be given **60 minutes (wishful thinking by the instructor, you will be given the entire exam time if needed)** to complete this test.  Use your time wisely. \n",
    "\n",
    "**HINTS:**\n",
    "- Neatness is important.  we will ignore all notes or code we can not read.\n",
    "- Read the entire exam from beginning to end before starting.  Not all questions are equal in points vs. time so plan your time accordingly.   \n",
    "- Skip questions you can not answer. \n",
    "- Some of the information provided my be a distraction. Do not assume you need to understand everything written to answer the questions. \n",
    "- Spaces for answers are provided. However, do not assume that the answer must be in the same format of the cell provided. Feel free to change the cell formatting (ex. markdown to code) or add additional cells as needed to provide your answer.\n",
    "- When we say \"in your own words\" it is still okay to search the Internet for the answer as a reminder, however, we would like you to do more than cut and paste.  Make the answer your own. \n",
    "- If you get stuck, try not to leave an answer blank. It is better to include some notes or stub functions so we have an idea about your thinking process so we can give you partial credit.   \n",
    "- When you are done, restart the entire notebook and run from beginning to end and make sure your answers still match what you expect.  This will ensure you didn't do anything out of order by mistake. "
   ]
  },
  {
   "cell_type": "markdown",
   "metadata": {},
   "source": [
    "### Exam Summary\n",
    "1. (25 points) Forward Kinematics \n",
    "2. (25 points) Markov's Bookstore\n",
    "2. (25 points) Symmetric Positive-Definite Matrices\n",
    "3. (25 points) Cryptography"
   ]
  },
  {
   "cell_type": "markdown",
   "metadata": {},
   "source": [
    "----\n",
    "# Question 1 - (25 points) Forward Kinematics \n",
    "\n",
    "<img src=\"https://3c1703fe8d.site.internapcdn.net/newman/csz/news/800/2016/foursynchron.gif\" width=\"30%\">\n",
    "   "
   ]
  },
  {
   "cell_type": "markdown",
   "metadata": {},
   "source": [
    "The following code models the sun, earth, moon and mars as perfectly circular orbits.  Day zero is at a time when the sun, earth, moon and mars all line up in a strait line.  Review the code and answer the provided questions.\n",
    "\n",
    "NOTE: Simulation not quite to scale. Points are plotted based on radius of body in km while distances to sun are plotted based on millions of km (see notes in code).  Even at this scale, the earth and moon can not be distinguished in the plot."
   ]
  },
  {
   "cell_type": "code",
   "execution_count": 1,
   "metadata": {},
   "outputs": [],
   "source": [
    "# Here are some libraries you may need to use\n",
    "%matplotlib inline\n",
    "import numpy as np\n",
    "import sympy as sym\n",
    "import matplotlib.pyplot as plt\n",
    "sym.init_printing(use_unicode=True)"
   ]
  },
  {
   "cell_type": "code",
   "execution_count": 2,
   "metadata": {},
   "outputs": [
    {
     "data": {
      "application/vnd.jupyter.widget-view+json": {
       "model_id": "c34f2efe5e604361b02a20e7c590fa3b",
       "version_major": 2,
       "version_minor": 0
      },
      "text/plain": [
       "interactive(children=(IntSlider(value=0, description='time_days', max=10000), Checkbox(value=True, description…"
      ]
     },
     "metadata": {},
     "output_type": "display_data"
    }
   ],
   "source": [
    "from ipywidgets import interact\n",
    "from mpl_toolkits.mplot3d import Axes3D\n",
    "\n",
    "def Robot_Simulator(time_days=0, show=True):\n",
    "    \n",
    "    #Convert time (in days) into angles based on orbits. \n",
    "    earth_orbit = time_days/365.25 * (2* np.pi)\n",
    "    moon_orbit = time_days/27 * (2*np.pi)\n",
    "    mars_orbit = time_days/687 * (2*np.pi)\n",
    "    \n",
    "    #Radius of object (km)\n",
    "    names = ['moon','earth', 'sun', 'mars']\n",
    "    R = [1.737, 6.371, 695.5, 3.389]\n",
    "    \n",
    "    #Distances (Millions of km)\n",
    "    D1 = 0.3844 #(Moon to Earth)\n",
    "    D2 = 149.6 #(Earth to Sun)\n",
    "    D3 = 227.9 #(Mars to Sun)\n",
    "\n",
    "    #Transform moon coordates to earth\n",
    "    A3 = np.matrix([[1, 0, D1 ], \n",
    "                    [0, 1,  0 ], \n",
    "                    [0, 0, 1]])\n",
    "    \n",
    "    #Rotate moon and around earth and Transform Earth to Sun\n",
    "    A2 = np.matrix([[np.cos(moon_orbit), -np.sin(moon_orbit), D2 ], \n",
    "                    [np.sin(moon_orbit), np.cos(moon_orbit),  0 ], \n",
    "                    [0, 0, 1]])   \n",
    "    \n",
    "    #Rotate Earth around Sun\n",
    "    A1 = np.matrix([[np.cos(earth_orbit), -np.sin(earth_orbit), 0 ], \n",
    "                [np.sin(earth_orbit), np.cos(earth_orbit),  0 ], \n",
    "                [0, 0, 1]])\n",
    "    \n",
    "\n",
    "    #First point is the moon\n",
    "    m = np.matrix([[0,0,1]]).T \n",
    "    \n",
    "    #Propogate points though the simulation\n",
    "    p = np.concatenate((A3*m, np.matrix([0,0,1]).T), axis=1 )\n",
    "    p = np.concatenate((A2*p, np.matrix([0,0,1]).T), axis=1 )\n",
    "    p = A1*p\n",
    "\n",
    "    #S = A1*A2*A3*m\n",
    "\n",
    "    #Transform Mars Coordinates to Sun\n",
    "    B2 = np.matrix([[1, 0, D3 ], \n",
    "                [0, 1,  0 ], \n",
    "                [0, 0, 1]])\n",
    "    \n",
    "    #Rotate Mars around the Sun\n",
    "    B1 = np.matrix([[np.cos(mars_orbit), -np.sin(mars_orbit), 0 ], \n",
    "                [np.sin(mars_orbit), np.cos(mars_orbit),  0 ], \n",
    "                [0, 0, 1]])\n",
    "\n",
    "    #Propogate point though simulation\n",
    "    r = np.matrix([[0,0,1]]).T \n",
    "    p2 = B1*B2*r\n",
    "       \n",
    "    #S = B2*B2*M\n",
    "    \n",
    "    #Combine Earth/Moon points with Mars points\n",
    "    p = np.concatenate((p, p2 ), axis=1 )\n",
    "                       \n",
    "    if show:\n",
    "        fig = plt.figure()\n",
    "        ax = fig.gca()\n",
    "        plt.scatter(p[0,:].tolist()[0],(p[1,:]).tolist()[0], s = R,  facecolors=['black', 'blue','yellow', 'red'], edgecolors=['black', 'blue','yellow','red'])\n",
    "        #ax.scatter(5,0,0, s=200, facecolors='r', edgecolors='r')\n",
    "\n",
    "        #Plot Mars\n",
    "        \n",
    "        #ax.plot(p[0,:].tolist()[0],(p[1,:]).tolist()[0])\n",
    "        #ax.set_xlim([-H1,H1])\n",
    "        #ax.set_ylim([-H1,H1])\n",
    "        ax.set_xlabel('x-axis');\n",
    "        ax.set_ylabel('y-axis'); \n",
    "        ax.axis('equal')\n",
    "\n",
    "        plt.show()\n",
    "\n",
    "    return names,p\n",
    "    \n",
    "target = interact(Robot_Simulator, time_days=(0,10000));"
   ]
  },
  {
   "cell_type": "markdown",
   "metadata": {},
   "source": [
    "The following code will show the plot the status of the solar system for any day you pick and return the point location for the celestial bodies. For example, the following point is 300 days after day zero"
   ]
  },
  {
   "cell_type": "code",
   "execution_count": 3,
   "metadata": {},
   "outputs": [
    {
     "data": {
      "image/png": "[encoded data removed]",
      "text/plain": [
       "<Figure size 432x288 with 1 Axes>"
      ]
     },
     "metadata": {
      "needs_background": "light"
     },
     "output_type": "display_data"
    },
    {
     "data": {
      "text/plain": [
       "(['moon', 'earth', 'sun', 'mars'],\n",
       " matrix([[  65.19720435,   64.84689438,    0.        , -210.10068849],\n",
       "         [-134.97309724, -134.81483705,    0.        ,   88.29558707],\n",
       "         [   1.        ,    1.        ,    1.        ,    1.        ]]))"
      ]
     },
     "execution_count": 3,
     "metadata": {},
     "output_type": "execute_result"
    }
   ],
   "source": [
    "names, loc = Robot_Simulator(time_days=300, show=True)\n",
    "names, loc"
   ]
  },
  {
   "cell_type": "markdown",
   "metadata": {},
   "source": [
    "&#9989; <font color=red>**Question 1.a**</font>: Consider the state of the system shown at day=300.  Calculate the  distance between mars and the earth?"
   ]
  },
  {
   "cell_type": "code",
   "execution_count": 4,
   "metadata": {},
   "outputs": [
    {
     "data": {
      "image/png": "[encoded data removed]",
      "text/latex": [
       "$$0.3843999999999876$$"
      ],
      "text/plain": [
       "0.3843999999999876"
      ]
     },
     "execution_count": 4,
     "metadata": {},
     "output_type": "execute_result"
    }
   ],
   "source": [
    "np.linalg.norm(np.array(loc[:,0])-np.array(loc[:,1]))"
   ]
  },
  {
   "cell_type": "markdown",
   "metadata": {},
   "source": [
    "&#9989; <font color=red>**Question 1.b:**</font>: Consider the $A_2$ matrix in the code above (show here again so you don't need to scroll).  Is this matrix linearly independent? Explain how you got to your answer."
   ]
  },
  {
   "cell_type": "code",
   "execution_count": 5,
   "metadata": {},
   "outputs": [],
   "source": [
    "time_days = 300\n",
    "moon_orbit = time_days/27 * (2*np.pi)\n",
    "D2 = 149.6 #(Earth to Sun)\n",
    "\n",
    "#Rotate moon and around earth and Transform Earth to Sun\n",
    "A2 = np.matrix([[np.cos(moon_orbit), -np.sin(moon_orbit), D2 ], \n",
    "                [np.sin(moon_orbit), np.cos(moon_orbit),  0 ], \n",
    "                [0, 0, 1]]) "
   ]
  },
  {
   "cell_type": "code",
   "execution_count": 6,
   "metadata": {},
   "outputs": [
    {
     "data": {
      "text/latex": [
       "$$\\left ( \\left[\\begin{matrix}1 & 0 & 0\\\\0 & 1 & 0\\\\0.0 & 0.0 & 1\\end{matrix}\\right], \\quad \\left ( 0, \\quad 1, \\quad 2\\right )\\right )$$"
      ],
      "text/plain": [
       "⎛⎡ 1    0   0⎤           ⎞\n",
       "⎜⎢           ⎥           ⎟\n",
       "⎜⎢ 0    1   0⎥, (0, 1, 2)⎟\n",
       "⎜⎢           ⎥           ⎟\n",
       "⎝⎣0.0  0.0  1⎦           ⎠"
      ]
     },
     "execution_count": 6,
     "metadata": {},
     "output_type": "execute_result"
    }
   ],
   "source": [
    "# Yes !\n",
    "sym.Matrix(A2).rref()"
   ]
  },
  {
   "cell_type": "markdown",
   "metadata": {},
   "source": [
    "&#9989; <font color=red>**Question 1.c**</font>: The matrices $A_1$, $A_2$, and $A_3$ form a basis transform from the moon coordinates ($m$) to the Sun's coordinates ( $s = A_1A_2A_3m$).  The matrices $B_1$ and $B_2$ form a basis transform from Mars coordinates ($r$) to the Sun's coordinates ( $s = B_1B_2r$). Show how you would combine these matrices to create a new matrix $C$ which is the basis transform from Mars to moon coordinates.  NOTE: we used $r$ for the mars point since $m$ was already taken.  "
   ]
  },
  {
   "cell_type": "markdown",
   "metadata": {},
   "source": [
    "$$s = A_1A_2A_3m$$\n",
    "$$s = B_1B_2r$$\n",
    "$$ C = (A_1A_2A_3)^{-1}B_1B_2 $$\n",
    "$$ m = Cr $$"
   ]
  },
  {
   "cell_type": "markdown",
   "metadata": {},
   "source": [
    "&#9989; <font color=red>**Question 1.d:**</font>: Assuming you calculated $C$ correctly above, write the equation to convert from moon coordinates ($m$) to Mars coordinates ($r$)."
   ]
  },
  {
   "cell_type": "markdown",
   "metadata": {},
   "source": [
    "$$r = C^{-1}m$$"
   ]
  },
  {
   "cell_type": "markdown",
   "metadata": {},
   "source": [
    "&#9989; <font color=red>**Question 1.e:**</font>: Explain why we use $3 \\times 3$ matrices ($A_1$, $A_2$, $A_3$, $B_1$ and $B_2$) to model the 2 dimentional motion instead of $2 \\times 2$ matrices.  In other words, what is the extra dimention used for?"
   ]
  },
  {
   "cell_type": "markdown",
   "metadata": {},
   "source": [
    "Used for translations in x and y direction "
   ]
  },
  {
   "cell_type": "markdown",
   "metadata": {},
   "source": [
    "----\n",
    "\n",
    "# Question 2 - (25 points)  Markov's Bookstore"
   ]
  },
  {
   "cell_type": "markdown",
   "metadata": {},
   "source": [
    "<img src=\"https://lh6.googleusercontent.com/-7I7okWc7XvR6Wy3GPafHgPtGWkK9pQYbpwHMmFnXHhCsLMCt8qC_mLhMqDjO1kVJElnLQJd8A=w740\">\n",
    "Example motivated by (hint good resource if you are stuck): https://www.countbayesie.com/blog/2015/11/21/the-black-friday-puzzle-understanding-markov-chains\n",
    "\n",
    "Consider the map of the book/gift store shown in the figure above. The store is shaped like a pentagon with each department on the outer edge.  To the right of the map we see a Markov state transition model that describes the probabilities of customers moving between departments. \n",
    "\n",
    "This probability model can be represented by the following matrix. \n"
   ]
  },
  {
   "cell_type": "code",
   "execution_count": 7,
   "metadata": {},
   "outputs": [],
   "source": [
    "# Here are some libraries you may need to use\n",
    "%matplotlib inline\n",
    "import numpy as np\n",
    "import sympy as sym\n",
    "import matplotlib.pyplot as plt\n",
    "sym.init_printing(use_unicode=True)"
   ]
  },
  {
   "cell_type": "code",
   "execution_count": 8,
   "metadata": {},
   "outputs": [
    {
     "name": "stdout",
     "output_type": "stream",
     "text": [
      "['Books', 'Childrens', 'Toys', 'Puzzles', 'Music']\n"
     ]
    },
    {
     "data": {
      "text/latex": [
       "$$\\left[\\begin{matrix}0.5 & 0.1 & 0.1 & 0.05 & 0.2\\\\0.2 & 0.3 & 0.2 & 0.15 & 0.1\\\\0.15 & 0.2 & 0.3 & 0.3 & 0.1\\\\0.1 & 0.3 & 0.2 & 0.4 & 0.1\\\\0.05 & 0.1 & 0.2 & 0.1 & 0.5\\end{matrix}\\right]$$"
      ],
      "text/plain": [
       "⎡0.5   0.1  0.1  0.05  0.2⎤\n",
       "⎢                         ⎥\n",
       "⎢0.2   0.3  0.2  0.15  0.1⎥\n",
       "⎢                         ⎥\n",
       "⎢0.15  0.2  0.3  0.3   0.1⎥\n",
       "⎢                         ⎥\n",
       "⎢0.1   0.3  0.2  0.4   0.1⎥\n",
       "⎢                         ⎥\n",
       "⎣0.05  0.1  0.2  0.1   0.5⎦"
      ]
     },
     "execution_count": 8,
     "metadata": {},
     "output_type": "execute_result"
    }
   ],
   "source": [
    "names = ['Books', 'Childrens', 'Toys', 'Puzzles', 'Music']\n",
    "         \n",
    "A = np.matrix([[ 0.5,0.1, 0.1, 0.05,  0.2],\n",
    "               [0.2, 0.3, 0.2, 0.15, 0.1],\n",
    "               [ 0.15, 0.2,0.3, 0.3, 0.1], \n",
    "               [ 0.1,0.3, 0.2 ,0.4 ,0.1],\n",
    "               [0.05,0.1 ,0.2,0.1,0.5]])\n",
    "print(names)\n",
    "sym.Matrix(A)"
   ]
  },
  {
   "cell_type": "markdown",
   "metadata": {},
   "source": [
    "&#9989; <font color=red>**Question 2.a:**</font> Assume the store opens and starts with exactly 50 people in each room and no one leaves or enters the store.  How many people does the Markov model predict will be in each department in exactly two time steps?"
   ]
  },
  {
   "cell_type": "code",
   "execution_count": 9,
   "metadata": {},
   "outputs": [
    {
     "data": {
      "text/latex": [
       "$$\\left[\\begin{matrix}46.0\\\\47.25\\\\53.625\\\\56.25\\\\46.875\\end{matrix}\\right]$$"
      ],
      "text/plain": [
       "⎡ 46.0 ⎤\n",
       "⎢      ⎥\n",
       "⎢47.25 ⎥\n",
       "⎢      ⎥\n",
       "⎢53.625⎥\n",
       "⎢      ⎥\n",
       "⎢56.25 ⎥\n",
       "⎢      ⎥\n",
       "⎣46.875⎦"
      ]
     },
     "execution_count": 9,
     "metadata": {},
     "output_type": "execute_result"
    }
   ],
   "source": [
    "#C, D = sym.Matrix(A).diagonalize()\n",
    "#C*D**2*C.inv()*sym.Matrix([[50],[50],[50],[50]])\n",
    "A**2*sym.Matrix([[50],[50],[50],[50],[50]])"
   ]
  },
  {
   "cell_type": "markdown",
   "metadata": {},
   "source": [
    "&#9989; <font color=red>**Question 2.b:**</font> Use ```numpy``` to calculate the eigenvalues and eigenvectors for the matrix $A$. Note some of these eigenvectors may have imaginary values."
   ]
  },
  {
   "cell_type": "code",
   "execution_count": 10,
   "metadata": {},
   "outputs": [],
   "source": [
    "vals, vecs = np.linalg.eig(A)\n",
    "idx = vals.argsort()[::-1]   \n",
    "vals = vals[idx]\n",
    "vecs = vecs[:,idx]"
   ]
  },
  {
   "cell_type": "markdown",
   "metadata": {},
   "source": [
    "&#9989; <font color=red>**Question 2.c:**</font> The eigenvector associated with the largest eigenvalue (we can call it $v$) represents the long term steady state probably of the system.  Rescale the vector $v$ into a new vector called $\\bar{v}$ such that it's components represent probabilities that add to one.  In other words, calculate a constant $c$  such as the following is true:\n",
    "\n",
    "$$v = [v_1,v_2,v_3,v_4,v_5]$$\n",
    "\n",
    "$$\\bar{v} = cv$$\n",
    "Where $c$ above fulfills the following equalities:\n",
    "\n",
    "$$\\begin{align}\n",
    "cv_1 + cv_2 + cv_3 + cv_4 + cv_5 &= \\bar{v}_1 + \\bar{v}_2 + \\bar{v}_3 + \\bar{v}_4 + \\bar{v}_5\\\\\n",
    "&= 1\n",
    "\\end{align}\n",
    "$$\n",
    "\n"
   ]
  },
  {
   "cell_type": "code",
   "execution_count": 11,
   "metadata": {},
   "outputs": [
    {
     "data": {
      "text/plain": [
       "matrix([[0.17900058],\n",
       "        [0.18869644],\n",
       "        [0.21670672],\n",
       "        [0.22772852],\n",
       "        [0.18786774]])"
      ]
     },
     "execution_count": 11,
     "metadata": {},
     "output_type": "execute_result"
    }
   ],
   "source": [
    "v = vecs[:,0].real\n",
    "c = 1/v.sum()\n",
    "vbar = c*v\n",
    "vbar"
   ]
  },
  {
   "cell_type": "markdown",
   "metadata": {},
   "source": [
    "&#9989; <font color=red>**Question 2.d:**</font> Using $\\bar{v}$ calculated above create a new $5 \\times 5$ steady state matrix with $\\bar{v}$ each of the five columns of the matrix.\n",
    "\n",
    "$$ [ \\bar{v}^T | \\bar{v}^T | \\bar{v}^T | \\bar{v}^T | \\bar{v}^T ] $$"
   ]
  },
  {
   "cell_type": "code",
   "execution_count": 12,
   "metadata": {},
   "outputs": [
    {
     "data": {
      "text/plain": [
       "matrix([[0.17900058, 0.17900058, 0.17900058, 0.17900058, 0.17900058],\n",
       "        [0.18869644, 0.18869644, 0.18869644, 0.18869644, 0.18869644],\n",
       "        [0.21670672, 0.21670672, 0.21670672, 0.21670672, 0.21670672],\n",
       "        [0.22772852, 0.22772852, 0.22772852, 0.22772852, 0.22772852],\n",
       "        [0.18786774, 0.18786774, 0.18786774, 0.18786774, 0.18786774]])"
      ]
     },
     "execution_count": 12,
     "metadata": {},
     "output_type": "execute_result"
    }
   ],
   "source": [
    "ss = np.hstack((vbar,vbar,vbar,vbar,vbar))\n",
    "ss"
   ]
  },
  {
   "cell_type": "markdown",
   "metadata": {},
   "source": [
    "&#9989; <font color=red>**Question 2.e:**</font> Assume the store opens and starts with exactly 50 people in each room and no one leaves or enters the store.  Using the Markov model, what is the long term steady state of the system.  i.e. how many people are likely to be in each room as time approaches infinity?"
   ]
  },
  {
   "cell_type": "code",
   "execution_count": 13,
   "metadata": {},
   "outputs": [
    {
     "data": {
      "text/plain": [
       "matrix([[44.75014502],\n",
       "        [47.17411121],\n",
       "        [54.1766802 ],\n",
       "        [56.93212895],\n",
       "        [46.96693462]])"
      ]
     },
     "execution_count": 13,
     "metadata": {},
     "output_type": "execute_result"
    }
   ],
   "source": [
    "ss*np.matrix([[50],[50],[50],[50],[50]])"
   ]
  },
  {
   "cell_type": "markdown",
   "metadata": {},
   "source": [
    "---\n",
    "\n",
    "# Question 3 - (25 points) Symmetric Positive-Definite Matrices\n",
    "\n",
    "<img src=\"https://cdn-images-1.medium.com/max/1600/1*OE32XelHMmsXZpBJISmweQ.jpeg\" width=400 height=400>\n",
    "\n",
    "<a href=\"https://en.wikipedia.org/wiki/Positive-definite_matrix\">Positive-Definite Matrices</a> arise throughout Machine Learning, particularly in methods where Kernel Matrices arise, like Support Vector Machines. This is fortunate, as these matrices possess useful properties. In this series of questions, we will discover some of them. Let's begin by reminding ourselves of some truths.\n",
    "\n",
    "**Definition**: $A$ is a Symmetric Positive-Definite Matrix which means it has the following properties:\n",
    "- $A$ is square i.e. $A\\in\\mathbb{R}^{n \\times n}$\n",
    "- $A$ is full rank\n",
    "- $A$ is symmetric i.e. $A^{T}=A$\n",
    "- $x^{T}Ax>0$ for $x\\in\\mathbb{R}^{n}$"
   ]
  },
  {
   "cell_type": "code",
   "execution_count": 14,
   "metadata": {},
   "outputs": [],
   "source": [
    "%matplotlib inline\n",
    "\n",
    "import numpy as np\n",
    "import matplotlib.pyplot as plt\n",
    "import sympy as sym\n",
    "sym.init_printing(use_unicode=True)"
   ]
  },
  {
   "cell_type": "markdown",
   "metadata": {},
   "source": [
    "&#9989; <font color=red>**Question 3.a**</font>: Since $A$ is full rank and square, it has an *Eigenvalue Decomposition*, $X\\Lambda X^{-1}$. *What are the columns of $X$, and what are the entries of $\\Lambda$*?"
   ]
  },
  {
   "cell_type": "markdown",
   "metadata": {},
   "source": [
    "columns are eigenvectors, $\\Lambda$ entries of eigenvalues along diag"
   ]
  },
  {
   "cell_type": "markdown",
   "metadata": {},
   "source": [
    "&#9989; <font color=red>**Question 3.b**</font>: Show that Positive-Definite Matrix $A$ can't have any negative eigenvalues. i.e. Show that if $x_i$ is an eigenvector of $A$ and $\\lambda_i$ is an eigenvalue of $A$ then $\\lambda_i$ must be positive. "
   ]
  },
  {
   "cell_type": "markdown",
   "metadata": {},
   "source": [
    "To be positive definite $x^\\top A x >0$, since always $x^\\top x >0$, $A$ must consist of only positive eigenvalues for the condition $x^\\top A x >0$ to be met\n"
   ]
  },
  {
   "cell_type": "markdown",
   "metadata": {},
   "source": [
    "&#9989; <font color=red>**Question 3.c:**</font>: Suppose $\\lambda_{1},\\lambda_{2}$ are distinct eigenvalues of $A$ (i.e., $\\lambda_{1}\\neq\\lambda_{2}$, and $x_{1}$ and $x_{2}$ are the associated eigenvectors (e.g., $Ax_{i}=\\lambda_{i}x_{i}$). Use the following equality to *explain why the eigenvectors must be orthogonal*. \n",
    "\n",
    "$$\\begin{align}\n",
    "\\lambda_{1}x_{2}^{T}x_{1} &= x_{2}^{T}\\lambda_{1}x_{1} \\\\\n",
    "&= x_{2}^{T}Ax_{1}, \\quad (\\text{by the definition of an eigenvalue}) \\\\\n",
    "&= (x_{2}^{T}Ax_{1})^{T}, \\quad (\\text{since this expression is just a real number}) \\\\\n",
    "&= x_{1}^{T}A^{T}x_{2}, \\quad (\\text{by properties of the transpose}) \\\\ \n",
    "&= x_{1}^{T}Ax_{2}, \\quad (\\text{by symmetry of }A) \\\\\n",
    "&= x_{1}^{T}\\lambda_{2}x_{2} \\\\\n",
    "&=\\lambda_{2}x_{1}^{T}x_{2} \\\\\n",
    "\\end{align}\n",
    "$$\n",
    "\n",
    "In other words, taking the first and last expressions:\n",
    "\n",
    "$$\\begin{align}\n",
    "\\lambda_{1}x_{2}^{T}x_{1} &=\\lambda_{2}x_{1}^{T}x_{2} \\quad (1)\\\\\n",
    "\\end{align}\n",
    "$$\n",
    "\n",
    "But!\n",
    "\n",
    "$$\\lambda_{1}\\neq\\lambda_{2} \\quad (2)$$\n",
    "\n",
    "And\n",
    "\n",
    "$$\\begin{align}\n",
    "x_{2}^{T}x_{1}&=x_{1}^{T}x_{2} \\quad (3)\\\\\n",
    "\\end{align}\n",
    "$$\n",
    "\n",
    "Hence, the eigenvectors of distinct eigenvalues must be orthogonal, because..."
   ]
  },
  {
   "cell_type": "markdown",
   "metadata": {},
   "source": [
    "Then (3) is equal to zero so that (1) is true in light of (2). All because orthoginal vectors dot product is zero. "
   ]
  },
  {
   "cell_type": "markdown",
   "metadata": {},
   "source": [
    "&#9989; <font color=red>**Question 3.d:**</font>: Turns out that for any real invertible matrix $B$, the product $B^TB$ is a Symmetric positive definite matrix. Using `numpy`, compute the Eigenvalue Decomposition of the Symmetric Positive-Definite Matrix `A` (given below)."
   ]
  },
  {
   "cell_type": "code",
   "execution_count": 15,
   "metadata": {},
   "outputs": [],
   "source": [
    "B = np.matrix([[1,2,3,11],[4,5,6,12],[7,9,8,13]])\n",
    "A = B.T*B"
   ]
  },
  {
   "cell_type": "code",
   "execution_count": 16,
   "metadata": {},
   "outputs": [
    {
     "data": {
      "text/plain": [
       "matrix([[ 0.29175527,  0.5167551 , -0.79753895,  0.10851108],\n",
       "        [ 0.38325062,  0.55673694,  0.41838109, -0.6067291 ],\n",
       "        [ 0.39318331,  0.26074918,  0.41838109,  0.77612758],\n",
       "        [ 0.78320158, -0.59583387, -0.11766968, -0.13315829]])"
      ]
     },
     "execution_count": 16,
     "metadata": {},
     "output_type": "execute_result"
    }
   ],
   "source": [
    "vals, vecs = np.linalg.eig(A)\n",
    "vecs"
   ]
  },
  {
   "cell_type": "markdown",
   "metadata": {},
   "source": [
    "&#9989; <font color=red>**Question 3.e:**</font>: Using the Eigenvalue Decomposition of matrix `A` above, show via computation that the eigenvectors are, indeed, orthogonal."
   ]
  },
  {
   "cell_type": "code",
   "execution_count": 17,
   "metadata": {},
   "outputs": [
    {
     "name": "stdout",
     "output_type": "stream",
     "text": [
      "True\n",
      "True\n",
      "True\n",
      "True\n",
      "True\n",
      "True\n"
     ]
    }
   ],
   "source": [
    "print(np.isclose(vecs[:,0].T*vecs[:,1],0).all())\n",
    "print(np.isclose(vecs[:,0].T*vecs[:,2],0).all())\n",
    "print(np.isclose(vecs[:,0].T*vecs[:,3],0).all())\n",
    "print(np.isclose(vecs[:,1].T*vecs[:,2],0).all())\n",
    "print(np.isclose(vecs[:,1].T*vecs[:,3],0).all())\n",
    "print(np.isclose(vecs[:,2].T*vecs[:,3],0).all())\n"
   ]
  },
  {
   "cell_type": "markdown",
   "metadata": {},
   "source": [
    "**Put your answer to the above question here.**"
   ]
  },
  {
   "cell_type": "markdown",
   "metadata": {},
   "source": [
    "----\n",
    "# Question 4 - (25 points) Cryptography \n",
    "<img src=\"https://3b6xlt3iddqmuq5vy2w0s5d3-wpengine.netdna-ssl.com/state-of-security/wp-content/uploads/sites/3/shutterstock_509910508-800x450.jpg\" width=50%>\n",
    "\n",
    "In this problem we are going to write some code to encrypt and decrypt message using linear algebra and inverse functions. We will represent the message as a matrix $m$ and the encrypted (secret) message as $s$.    We will also define an encryption matrix $A$ and a decryption matrix $B$ such that:\n",
    "\n",
    "$$s=Am$$\n",
    "\n",
    "$$m=Bs$$\n",
    "\n",
    "**Step 1 (letters to numbers):** The first step is to convert our message string into a list of numbers and be able to take a list of numbers and convert it back into a string. For example;  A=0, B=1, C=2, etc. The following functions use an existing letter to number encoding called ASCII so it includes uppercase letters, lowercase letters, numbers and many symbols."
   ]
  },
  {
   "cell_type": "code",
   "execution_count": 18,
   "metadata": {},
   "outputs": [],
   "source": [
    "# Here are some libraries you may need to use\n",
    "%matplotlib inline\n",
    "import numpy as np\n",
    "import sympy as sym\n",
    "import matplotlib.pyplot as plt\n",
    "sym.init_printing(use_unicode=True)"
   ]
  },
  {
   "cell_type": "code",
   "execution_count": 19,
   "metadata": {},
   "outputs": [],
   "source": [
    "def str2numlist(s):\n",
    "    \"\"\"Convert a string to a list of numbers\"\"\"\n",
    "    n = [ord(c)-ord('A') for c in s]\n",
    "    return n\n",
    "\n",
    "def numlist2str(n):\n",
    "    \"\"\"Convert list of numbers to a string\"\"\"\n",
    "    s = [chr(c+ord('A')) for c in n]\n",
    "    s = ''.join(s)\n",
    "    return s"
   ]
  },
  {
   "cell_type": "markdown",
   "metadata": {},
   "source": [
    "The following code demonstrates how these functions are used:"
   ]
  },
  {
   "cell_type": "code",
   "execution_count": 20,
   "metadata": {},
   "outputs": [
    {
     "name": "stdout",
     "output_type": "stream",
     "text": [
      "[32, 33, 34, 35, 36, 0, 1, 2, 3, 4]\n"
     ]
    }
   ],
   "source": [
    "message='abcdeABCDE'\n",
    "num_message = str2numlist(message)\n",
    "print(num_message)"
   ]
  },
  {
   "cell_type": "code",
   "execution_count": 21,
   "metadata": {
    "scrolled": false
   },
   "outputs": [
    {
     "name": "stdout",
     "output_type": "stream",
     "text": [
      "abcdeABCDE\n"
     ]
    }
   ],
   "source": [
    "message = numlist2str(num_message)\n",
    "print(message)"
   ]
  },
  {
   "cell_type": "markdown",
   "metadata": {},
   "source": [
    "**Step 2 (message as a matrix):** Now we need our number list to be in a matrix format.  The size of our message matrix depends on the size of our square encryption matrix $A$.   For this problem lets assume $A$ is a $4x4$ square matrix. This means that our message matrix should be $4 x l$, where length $l$ changes in size depending on the size of the message.\n",
    "\n",
    "The following functions use the ```str2numlist``` and ```numlist2str``` functions from above to convert our message strings into a message matrix $m$ and our message matrix $m$ back to a string. "
   ]
  },
  {
   "cell_type": "code",
   "execution_count": 22,
   "metadata": {},
   "outputs": [],
   "source": [
    "def message2mat(message, spacing=4):\n",
    "    \"\"\"Add extra spaces to message and turn into numpy matrix of size 4x(N%4)\"\"\"\n",
    "\n",
    "    message_len = len(message)\n",
    "    extra_spaces = spacing - message_len % spacing\n",
    "    message = message.ljust(len(message) + extra_spaces)\n",
    "    num_message = str2numlist(message)\n",
    "    message_mat=np.matrix(np.reshape(num_message, (spacing,-1)))\n",
    "    return message_mat\n",
    "\n",
    "def mat2message(message_mat):\n",
    "    try:\n",
    "        \"\"\"Unroll a numpy matrix into a list of numbers\"\"\"\n",
    "        # found this here https://stackoverflow.com/questions/5183533/how-to-make-list-from-numpy-matrix-in-python\n",
    "        num_message = np.round(np.array(message_mat).reshape(-1,)).astype(int).tolist()\n",
    "        message = numlist2str(num_message)\n",
    "        message = message.strip()\n",
    "    except:\n",
    "        raise Exception('Invalid Message Matrix!!!!')\n",
    "        \n",
    "    return message"
   ]
  },
  {
   "cell_type": "markdown",
   "metadata": {},
   "source": [
    "The following code demonstrates how these functions are used:"
   ]
  },
  {
   "cell_type": "code",
   "execution_count": 23,
   "metadata": {},
   "outputs": [
    {
     "data": {
      "text/plain": [
       "matrix([[ 32,  33,  34],\n",
       "        [ 35,  36,   0],\n",
       "        [  1,   2,   3],\n",
       "        [  4, -33, -33]])"
      ]
     },
     "execution_count": 23,
     "metadata": {},
     "output_type": "execute_result"
    }
   ],
   "source": [
    "m = message2mat(message)\n",
    "m"
   ]
  },
  {
   "cell_type": "code",
   "execution_count": 24,
   "metadata": {
    "scrolled": false
   },
   "outputs": [
    {
     "data": {
      "text/plain": [
       "'abcdeABCDE'"
      ]
     },
     "execution_count": 24,
     "metadata": {},
     "output_type": "execute_result"
    }
   ],
   "source": [
    "message = mat2message(m)\n",
    "message"
   ]
  },
  {
   "cell_type": "markdown",
   "metadata": {},
   "source": [
    "**Step 3 (encrypt message):** Now that we have a message as a matrix we can multiply that matrix by our encryption matrix $A$ which is defined as follows:"
   ]
  },
  {
   "cell_type": "code",
   "execution_count": 25,
   "metadata": {},
   "outputs": [
    {
     "data": {
      "text/latex": [
       "$$\\left[\\begin{matrix}-18 & 9 & 10 & 11\\\\7 & -4 & 3 & 2\\\\14 & -4 & 6 & 6\\\\9 & 80 & 3 & -9\\end{matrix}\\right]$$"
      ],
      "text/plain": [
       "⎡-18  9   10  11⎤\n",
       "⎢               ⎥\n",
       "⎢ 7   -4  3   2 ⎥\n",
       "⎢               ⎥\n",
       "⎢14   -4  6   6 ⎥\n",
       "⎢               ⎥\n",
       "⎣ 9   80  3   -9⎦"
      ]
     },
     "execution_count": 25,
     "metadata": {},
     "output_type": "execute_result"
    }
   ],
   "source": [
    "A = np.matrix([[ -18, 9, 10, 11], [ 7, -4, 3, 2], [14, -4, 6, 6], [9, 80, 3, -9]])\n",
    "sym.Matrix(A)"
   ]
  },
  {
   "cell_type": "markdown",
   "metadata": {},
   "source": [
    "<font color=red>**Question 4.a:**</font> Apply $A$ to the message matrix $m$ and store the results in a new matrix $s$. "
   ]
  },
  {
   "cell_type": "code",
   "execution_count": 26,
   "metadata": {},
   "outputs": [],
   "source": [
    "s = A*m"
   ]
  },
  {
   "cell_type": "markdown",
   "metadata": {},
   "source": [
    "**Step 4 (Decrypt the message):** In order to decrypt your message your friends will already need the decryption matrix $B$.\n",
    "\n",
    "<font color=red>**Question 4.b:**</font> Generate the decryption matrix $B$"
   ]
  },
  {
   "cell_type": "code",
   "execution_count": 27,
   "metadata": {},
   "outputs": [],
   "source": [
    "B = np.linalg.inv(A)"
   ]
  },
  {
   "cell_type": "markdown",
   "metadata": {},
   "source": [
    "<font color=red>**Question 4.c:**</font> Now apply the Decryption matrix $B$ to our encrypted message $s$ and pass the resulting matrix into ```mat2message``` to see the original message"
   ]
  },
  {
   "cell_type": "code",
   "execution_count": 28,
   "metadata": {},
   "outputs": [
    {
     "data": {
      "text/plain": [
       "'abcdeABCDE'"
      ]
     },
     "execution_count": 28,
     "metadata": {},
     "output_type": "execute_result"
    }
   ],
   "source": [
    "mat2message(B*s)"
   ]
  },
  {
   "cell_type": "markdown",
   "metadata": {},
   "source": [
    "<font color=red>**Question 4.d:**</font> The following message was encrypted using matrix $A$ from above. What is the message?"
   ]
  },
  {
   "cell_type": "code",
   "execution_count": 29,
   "metadata": {},
   "outputs": [],
   "source": [
    "secret_message = [[ 1055,  -121,  -401,  -680,   331,  1375, -1348,   -35,  -278, 1222,  -868, -1048,   262,  1252,  -479,  -154,  -186,  -369, -1070],\n",
    "                  [ 239, 619,   306,   232,   441,   -69,   554,   603,   627, -1,   382,   429,   565,   129,   269,    84,   193,   187, 501],\n",
    "                  [ 720,  1182,   554,   576,  1044,   -52,   910,  1228,  1254, 16,   614,   800,  1266,   216,   630,   288,   508,   452, 804],\n",
    "                  [ 2974, -2493,   901,   978,  1542,  -184, -1743,  -910,  -965, -1544,  -945, -2658,   763, -3204,  3999,  4364,  4588,  3654, -1818]]"
   ]
  },
  {
   "cell_type": "code",
   "execution_count": 30,
   "metadata": {},
   "outputs": [
    {
     "data": {
      "text/plain": [
       "'Thank you for taking CMSE 314, I hope you learned something and had fun!!'"
      ]
     },
     "execution_count": 30,
     "metadata": {},
     "output_type": "execute_result"
    }
   ],
   "source": [
    "mat2message(B*secret_message)"
   ]
  },
  {
   "cell_type": "markdown",
   "metadata": {},
   "source": [
    "<font color=red>**Question 4.e:**</font> Compose your own secret message (minimum 10 characters long) to the instructor using the above encoding matrix $A$.  Make sure you print your original message string, the original message matrix, and the secret message matrix.  Include code to check and verify that the message can be decoded using the $B$ matrix. "
   ]
  },
  {
   "cell_type": "code",
   "execution_count": 31,
   "metadata": {},
   "outputs": [
    {
     "data": {
      "text/plain": [
       "'I learned a lot, thank you!!'"
      ]
     },
     "execution_count": 31,
     "metadata": {},
     "output_type": "execute_result"
    }
   ],
   "source": [
    "m2 = 'I learned a lot, thank you!!'\n",
    "mm2 = message2mat(m2)\n",
    "s2 = A*mm2\n",
    "m2d = B*s2\n",
    "mat2message(m2d)"
   ]
  },
  {
   "cell_type": "markdown",
   "metadata": {},
   "source": [
    "---------\n",
    "### Congratulations, you're done with your EXAM\n",
    "\n",
    "Now, you just need to submit this assignment by uploading it to the course <a href=\"https://d2l.msu.edu/\">Desire2Learn</a> web page for today's dropbox.\n",
    "\n",
    "&#9989; <font color=red>**DO THIS:**</font>\n",
    "- In the \"Kernel\" menu above, select \"Restart and Run All\".  and make sure your answers still match what you expect. This will ensure you didn't do anything out of order by mistake.\n",
    "- Download the Notebook to your desktop with the filename using the format **\"<NETID\\>_Final-Exam.ipynb\"**.  Replace <NETID\\> in the filename with your personal MSU NetID (the stuff that comes before the @ symbol in your msu email address).\n",
    "- Upload the newly renamed notebook to the D2L dropbox. \n"
   ]
  },
  {
   "cell_type": "markdown",
   "metadata": {},
   "source": [
    "&#169; Copyright 2018,  Michigan State University Board of Trustees"
   ]
  }
 ],
 "metadata": {
  "kernelspec": {
   "display_name": "Python 3",
   "language": "python",
   "name": "python3"
  },
  "language_info": {
   "codemirror_mode": {
    "name": "ipython",
    "version": 3
   },
   "file_extension": ".py",
   "mimetype": "text/x-python",
   "name": "python",
   "nbconvert_exporter": "python",
   "pygments_lexer": "ipython3",
   "version": "3.7.1"
  }
 },
 "nbformat": 4,
 "nbformat_minor": 1
}
