{
 "cells": [
  {
   "cell_type": "markdown",
   "metadata": {},
   "source": [
    "## <p style=\"text-align: right;\"> &#9989; Put your name here</p>"
   ]
  },
  {
   "cell_type": "markdown",
   "metadata": {},
   "source": [
    "In order to successfully complete this assignment, you must follow all instructions in this notebook and upload your edited ipynb file with your answers on or before **11:59pm on Friday Feb. 22nd**.\n",
    "\n",
    "**BIG HINT:** Read the entire homework before starting.  "
   ]
  },
  {
   "cell_type": "markdown",
   "metadata": {},
   "source": [
    "# In-Class Assignment: Cramer's Rule\n",
    "\n",
    "|   |   |\n",
    "|---|---|\n",
    "| <img src=\"https://upload.wikimedia.org/wikipedia/en/b/b7/Cosmo_Kramer.jpg\">  | <img src=\"http://www.mathnstuff.com/math/algebra/gif/asys1.gif\" alt=\"Depiction of Cramer's Rule with two equations and two variables\">  |   \n",
    "| [Cosmo Kramer from Sienfield (No relation)](https://en.wikipedia.org/wiki/Cosmo_Kramer)  | Image from:[http://www.mathnstuff.com/](http://www.mathnstuff.com/)  | \n",
    "\n",
    "\n",
    "    "
   ]
  },
  {
   "cell_type": "markdown",
   "metadata": {},
   "source": [
    "### Outline for Homework 3\n",
    "\n",
    "</p>\n",
    "1. One application of determinants\n",
    "1. Algorithm to calculate the determinant\n",
    "1. Elimination method for evaluating a determinant\n",
    "1. Determinant timing study\n",
    "1. Using Cramer's rule to solve $Ax=b$\n",
    "6. Timing study comparing Cramer's rule with Gauss-Jordan"
   ]
  },
  {
   "cell_type": "markdown",
   "metadata": {},
   "source": [
    "# 1. One interplation of determinants\n",
    "\n",
    "The following is an application of determinats. Watch this!"
   ]
  },
  {
   "cell_type": "code",
   "execution_count": null,
   "metadata": {},
   "outputs": [],
   "source": [
    "from IPython.display import YouTubeVideo\n",
    "YouTubeVideo(\"Ip3X9LOh2dk\",width=640,height=360)"
   ]
  },
  {
   "cell_type": "markdown",
   "metadata": {},
   "source": [
    "For fun, we will recreate some of the video's visualizations in python. \n",
    "It was a little tricky to get the aspect ratios correct but here is some code I managed to get to work. "
   ]
  },
  {
   "cell_type": "code",
   "execution_count": null,
   "metadata": {},
   "outputs": [],
   "source": [
    "%matplotlib inline\n",
    "import matplotlib.pyplot as plt\n",
    "from mpl_toolkits.mplot3d import Axes3D\n",
    "from mpl_toolkits.mplot3d.art3d import Poly3DCollection, Line3DCollection\n",
    "import numpy as np"
   ]
  },
  {
   "cell_type": "code",
   "execution_count": null,
   "metadata": {},
   "outputs": [],
   "source": [
    "# Lets define somme points that form a Unit Cube\n",
    "points = np.array([[0, 0, 0],\n",
    "                  [1, 0, 0 ],\n",
    "                  [1, 1, 0],\n",
    "                  [0, 1, 0],\n",
    "                  [0, 0, 1],\n",
    "                  [1, 0, 1 ],\n",
    "                  [1, 1, 1],\n",
    "                  [0, 1, 1]])\n",
    "\n",
    "points = np.matrix(points)"
   ]
  },
  {
   "cell_type": "code",
   "execution_count": null,
   "metadata": {},
   "outputs": [],
   "source": [
    "#Here is some code to build cube from https://stackoverflow.com/questions/44881885/python-draw-3d-cube\n",
    "\n",
    "def plot3dcube(Z):\n",
    "    \n",
    "    if type(Z) == np.matrix:\n",
    "        Z = np.asarray(Z)\n",
    "\n",
    "    fig = plt.figure()\n",
    "    ax = fig.add_subplot(111, projection='3d')\n",
    "\n",
    "    r = [-1,1]\n",
    "\n",
    "    X, Y = np.meshgrid(r, r)\n",
    "    # plot vertices\n",
    "    ax.scatter3D(Z[:, 0], Z[:, 1], Z[:, 2])\n",
    "\n",
    "    # list of sides' polygons of figure\n",
    "    verts = [[Z[0],Z[1],Z[2],Z[3]],\n",
    "     [Z[4],Z[5],Z[6],Z[7]], \n",
    "     [Z[0],Z[1],Z[5],Z[4]], \n",
    "     [Z[2],Z[3],Z[7],Z[6]], \n",
    "     [Z[1],Z[2],Z[6],Z[5]],\n",
    "     [Z[4],Z[7],Z[3],Z[0]], \n",
    "     [Z[2],Z[3],Z[7],Z[6]]]\n",
    "\n",
    "    #alpha transparency was't working found fix here: \n",
    "    # https://stackoverflow.com/questions/23403293/3d-surface-not-transparent-inspite-of-setting-alpha\n",
    "    # plot sides\n",
    "    ax.add_collection3d(Poly3DCollection(verts, \n",
    "     facecolors=(0,0,1,0.25), linewidths=1, edgecolors='r'))\n",
    "    \n",
    "    ax.set_xlabel('X')\n",
    "    ax.set_ylabel('Y')\n",
    "    ax.set_zlabel('Z')\n",
    "    \n",
    "    ## Weird trick to get the axpect ratio to work.\n",
    "    ## From https://stackoverflow.com/questions/13685386/matplotlib-equal-unit-length-with-equal-aspect-ratio-z-axis-is-not-equal-to\n",
    "    ax.set_aspect('equal')\n",
    "    mx = np.amax(Z, axis=0)\n",
    "    mn = np.amin(Z, axis=0)\n",
    "    max_range = mx-mn\n",
    "\n",
    "    # Create cubic bounding box to simulate equal aspect ratio\n",
    "    Xb = 0.5*max_range.max()*np.mgrid[-1:2:2,-1:2:2,-1:2:2][0].flatten() + 0.5*(max_range[0])\n",
    "    Yb = 0.5*max_range.max()*np.mgrid[-1:2:2,-1:2:2,-1:2:2][1].flatten() + 0.5*(max_range[1])\n",
    "    Zb = 0.5*max_range.max()*np.mgrid[-1:2:2,-1:2:2,-1:2:2][2].flatten() + 0.5*(max_range[2])\n",
    "    # Comment or uncomment following both lines to test the fake bounding box:\n",
    "    for xb, yb, zb in zip(Xb, Yb, Zb):\n",
    "       ax.plot([xb], [yb], [zb], 'w')\n",
    "\n",
    "    plt.show()"
   ]
  },
  {
   "cell_type": "code",
   "execution_count": null,
   "metadata": {},
   "outputs": [],
   "source": [
    "plot3dcube(points)"
   ]
  },
  {
   "cell_type": "markdown",
   "metadata": {},
   "source": [
    "<font color='red'>**Question:**</font> Generate the $3\\times 3$ matrix used in the video (around 6'50'') and apply that matrix to the points in the unit cube.  Use ```plot3dcube``` to show the resulting transformed points. "
   ]
  },
  {
   "cell_type": "code",
   "execution_count": null,
   "metadata": {},
   "outputs": [],
   "source": [
    "#Put the answer to the above question here. "
   ]
  },
  {
   "cell_type": "markdown",
   "metadata": {},
   "source": [
    "&#9989; <font color='red'>**QUESTION:**</font> In the video, the determinant was shown to be what value in 2D? "
   ]
  },
  {
   "cell_type": "markdown",
   "metadata": {},
   "source": [
    "Put your answer here"
   ]
  },
  {
   "cell_type": "markdown",
   "metadata": {},
   "source": [
    "---\n",
    "# 2. Algorithm to calculate the determinant\n",
    "Consider the following recursive algorithm (algorithm that calls itself) to determine the determinate of a $n\\times n$ matrix $A$ (denoted $|A|$), which is the sum of the products of the elements of any row or column. i.e.:\n",
    "\n",
    "$$i\\text{th row expansion:     } |A| = a_{i1}C_{i1} + a_{i2}C_{i2} + \\ldots + a_{in}C_{in} $$\n",
    "$$j\\text{th column expansion:     } |A| = a_{1j}C_{1j} + a_{2j}C_{2j} + \\ldots + a_{nj}C_{nj} $$\n",
    "\n",
    "where $C_{ij}$ is the cofactor of $a_{ij}$ and is given by:\n",
    "\n",
    "$$ C_{ij} = (-1)^{i+j}|M_{ij}|$$\n",
    "\n",
    "and $M_{ij}$ is the matrix that remains after deleting row $i$ and column $j$ of $A$.\n",
    "\n",
    "Using the above steps, the determinant can be calculated in $O(n!)$ time!.  \n",
    "\n",
    "Here is some code that tries to implement this algorithm.  "
   ]
  },
  {
   "cell_type": "code",
   "execution_count": null,
   "metadata": {},
   "outputs": [],
   "source": [
    "## Import our standard packages packages\n",
    "%matplotlib inline\n",
    "import numpy as np\n",
    "import matplotlib.pyplot as plt\n",
    "import sympy as sym\n",
    "sym.init_printing(use_unicode=True)"
   ]
  },
  {
   "cell_type": "code",
   "execution_count": null,
   "metadata": {},
   "outputs": [],
   "source": [
    "import copy\n",
    "import random\n",
    "\n",
    "def makeM(A,i,j):\n",
    "    ''' Deletes the ith row and jth column from A'''\n",
    "    M = copy.deepcopy(A)\n",
    "    del M[i]\n",
    "    for k in range(len(M)):\n",
    "        del M[k][j]\n",
    "    return M\n",
    "\n",
    "def mydet(A):\n",
    "    '''Calculate the determinant from list-of-lists matrix A'''\n",
    "    n = len(A)\n",
    "    if n == 2:\n",
    "        det = (A[0][0]*A[1][1] - A[1][0]*A[0][1]) \n",
    "        return det\n",
    "    det = 0\n",
    "    i = 0\n",
    "    for j in range(n):\n",
    "        M = makeM(A,i,j)\n",
    "        \n",
    "        #Calculate the determinant\n",
    "        det += (A[i][j] * ((-1)**(i+j+2)) * mydet(M))\n",
    "    return det"
   ]
  },
  {
   "cell_type": "markdown",
   "metadata": {},
   "source": [
    "The following code generates an $n \\times n$ matrix with random values from 0 to 10.  \n",
    "Run the code multiple times to get different matrices:"
   ]
  },
  {
   "cell_type": "code",
   "execution_count": null,
   "metadata": {},
   "outputs": [],
   "source": [
    "#generate Random Matrix and calculate it's determinant using numpy\n",
    "n = 5\n",
    "s = 10\n",
    "A = [[round(random.random()*s) for i in range(n)] for j in range(n)]\n",
    "\n",
    "#print matrix\n",
    "sym.Matrix(A)"
   ]
  },
  {
   "cell_type": "markdown",
   "metadata": {},
   "source": [
    "&#9989; <font color='red'>**DO THIS:**</font> Use the randomly generated matrix ($A$) to test the above ```mydet``` function and compare your result to the ```numpy.linalg.det``` function."
   ]
  },
  {
   "cell_type": "code",
   "execution_count": null,
   "metadata": {},
   "outputs": [],
   "source": [
    "# Put your test code here"
   ]
  },
  {
   "cell_type": "markdown",
   "metadata": {},
   "source": [
    "&#9989; <font color=red>**QUESTION:**</font> Are the answers to ```mydet``` and ```numpuy.linalg.det``` exactly the same every time you generate a different random matrix?  If not, explain why."
   ]
  },
  {
   "cell_type": "markdown",
   "metadata": {},
   "source": [
    "Put your answer here"
   ]
  },
  {
   "cell_type": "markdown",
   "metadata": {},
   "source": [
    "&#9989; <font color=red>**QUESTION:**</font> On line 24 of the above code, you can see that algorithm calls itself.  Explain why this doesn't run forever."
   ]
  },
  {
   "cell_type": "markdown",
   "metadata": {},
   "source": [
    "Put your answer here"
   ]
  },
  {
   "cell_type": "markdown",
   "metadata": {},
   "source": [
    "# 3. Elimination method for evaluating a determinant\n",
    "\n",
    "Assume the following is true\n",
    "\n",
    "> The determinant of a triangular matrix is the product of its diagonal elements.\n",
    "\n",
    "If we transform a $n\\times n$ matrix $A$ into it's upper triangular form, we can calculate the determinant of $A$ if we keep track of the elementary row operations and adjust the upper triangular determinate using the following rules:\n",
    "\n",
    "1. Add a multiple of one row to another. This transform leaves the determinant unchanged.\n",
    "2. Interchange two rows of $A$. This transformation multiplies the determinant by -1. \n",
    "3. Multiply one row by $c$. This transformation multiplies the determinant by $c$"
   ]
  },
  {
   "cell_type": "markdown",
   "metadata": {},
   "source": [
    "&#9989; <font color=red>**QUESTION:**</font> What is the computational complexity of using elimination method (Gauss-Jordan) for evaluating the determinant? Explain how you came up with this estimation and/or provide a reference."
   ]
  },
  {
   "cell_type": "markdown",
   "metadata": {},
   "source": [
    "Put your answer here."
   ]
  },
  {
   "cell_type": "markdown",
   "metadata": {},
   "source": [
    "# 4. Determinant timing study\n",
    "\n",
    "&#9989; <font color=red>**DO THIS:**</font> In this part of the homework, we want you to do a timing study to measure the time taken to run the ```mydet``` algorithm defined in part 2 and compare it to the elimination (Gaussian) method for evaluating a determinant as described in part 3.  Assume that the ```numpy.linalg.det``` function uses elimination method to calculate the determinant.  \n",
    "\n",
    "Here is the basic structure of your timing study:\n",
    "\n",
    "1. Initialize two empty lists called ```my_det_time``` and ```np_det_time```.\n",
    "2. Loop over values of $n$ (2, 3, 4, 5, 6, 7, 8, 9)  **HINT:** Do NOT make $n$ bigger than 9.  If you do, the ```mydet``` function will take a very long time.\n",
    "3. For each value of $n$, generate a list-of-lists of size $n \\times n$ of random values to serve as matrix $A$.\n",
    "4. For each matrix $A$, use the time.clock() function to calculate the time it takes to find the determinant using the ```mydet``` function and append that time (in seconds) to the ```my_det_time``` list.\n",
    "5. For each matrix $A$, use the time.clock() function to calculate the time it takes to find the determinant using the ```numpy``` determinate function and append that time (in seconds) to the ```numpy_time``` list.\n",
    "6. Plot your results (Make sure you label your figure appropriately)"
   ]
  },
  {
   "cell_type": "code",
   "execution_count": null,
   "metadata": {},
   "outputs": [],
   "source": [
    "## Put your timing study code here"
   ]
  },
  {
   "cell_type": "markdown",
   "metadata": {},
   "source": [
    "---\n",
    "# 5. Using Cramer's rule to solve $Ax=b$\n",
    "\n",
    "Let $Ax = b$ be a system of $n$ linear equations in $n$ variables such that $|A| \\neq 0$. the system has a unique solution given by:\n",
    "\n",
    "$$x_1 = \\frac{|A_1|}{|A|}, x_2 = \\frac{|A_2|}{|A|}, \\ldots,  x_n = \\frac{|A_n|}{|A|}$$\n",
    "\n",
    "where $A_i$ is the matrix obtained by replacing column $i$ of $A$ with $b$ (See diagram at the beginning of this homework). The following function generates $A_i$ by replacing the $i$th column of $A$ with $b$:"
   ]
  },
  {
   "cell_type": "code",
   "execution_count": null,
   "metadata": {},
   "outputs": [],
   "source": [
    "def makeAi(A,i,b):\n",
    "    '''Replace the ith column in A with b'''\n",
    "    Ai = copy.deepcopy(A)\n",
    "    for j in range(len(Ai)):\n",
    "        Ai[j][i] = b[j][0]\n",
    "    return Ai"
   ]
  },
  {
   "cell_type": "markdown",
   "metadata": {},
   "source": [
    "&#9989; <font color=red>**DO THIS:**</font> Create a new function called ```cramersRule```, which takes $A$ and $b$ and returns $x$ using the Cramer's rule. **Note:** Use ```numpy``` and NOT ```mydet``` to find the required determinants. ```mydet``` is too slow. "
   ]
  },
  {
   "cell_type": "code",
   "execution_count": null,
   "metadata": {},
   "outputs": [],
   "source": [
    "# Stub code. Replace the np.linalg.solve code with your answer\n",
    "\n",
    "def cramersRule(A,b):\n",
    "    return np.linalg.solve(A,b)"
   ]
  },
  {
   "cell_type": "markdown",
   "metadata": {},
   "source": [
    "&#9989; <font color=red>**QUESTION:**</font> Test your ```cramersRule``` function on the following system of linear equations:\n",
    "\n",
    "$$ x_1 + 2x_2 = 3$$\n",
    "$$3x_1 + x_2 = -1$$"
   ]
  },
  {
   "cell_type": "code",
   "execution_count": null,
   "metadata": {},
   "outputs": [],
   "source": [
    "#Put your answer to the above quesiton here"
   ]
  },
  {
   "cell_type": "markdown",
   "metadata": {},
   "source": [
    "&#9989; <font color=red>**QUESTION:**</font> Verify the above answer by using the ```np.linalg.solve``` function:"
   ]
  },
  {
   "cell_type": "code",
   "execution_count": null,
   "metadata": {},
   "outputs": [],
   "source": [
    "#Put your answer to the above quesiton here"
   ]
  },
  {
   "cell_type": "markdown",
   "metadata": {},
   "source": [
    "&#9989; <font color=red>**QUESTION:**</font> Test your ```cramersRule``` function on the following system of linear equations and verify the answer by using the ```np.linalg.solve``` function: \n",
    "\n",
    "$$ x_1 + 2x_2 +x_3 = 9$$\n",
    "$$ x_1 + 3x_2 - x_3 = 4$$\n",
    "$$ x_1 + 4x_2 - x_3 = 7$$"
   ]
  },
  {
   "cell_type": "code",
   "execution_count": null,
   "metadata": {},
   "outputs": [],
   "source": [
    "#Put your answer to the above quesiton here"
   ]
  },
  {
   "cell_type": "markdown",
   "metadata": {},
   "source": [
    "&#9989; <font color=red>**QUESTION:**</font> Cramer's rule is a $O(n!)$ algorithm and the Gauss-Jordan (or Gaussian) elimination is $O(n^3)$.  What advantages does Cramer's rule have over elimination?"
   ]
  },
  {
   "cell_type": "markdown",
   "metadata": {},
   "source": [
    "Put your answer here."
   ]
  },
  {
   "cell_type": "markdown",
   "metadata": {},
   "source": [
    "# 6. Timing study comparing Cramer's rule with Gaussian\n",
    "The following code conducts a timing study to compare your Cramer's rule with Gaussian (aka ```numpy.linalg.solve```).  \n",
    "The code generates a random system of linear equations in the form of $Ax=b$ and then attempt to solve them using both methods.  "
   ]
  },
  {
   "cell_type": "code",
   "execution_count": null,
   "metadata": {},
   "outputs": [],
   "source": [
    "import time\n",
    "\n",
    "n_list = [2, 3, 4, 5, 6, 7, 8, 9, 10 , 11, 12, 13, 14, 15 ]\n",
    "cramer_time = []\n",
    "numpy_time = []\n",
    "\n",
    "for n in n_list:\n",
    "    #Generate random nxn array of two lists\n",
    "    A = [[0,0],[0,0]]\n",
    "    while np.linalg.det(A) == 0:\n",
    "        A = [[random.random() for i in range(n)] for j in range(n)]\n",
    "    b = [[random.random()] for i in range(n)]\n",
    "    \n",
    "    start = time.time()\n",
    "    x = cramersRule(A, b)\n",
    "    stop = time.time()\n",
    "    cramer_time.append(stop - start)\n",
    "    \n",
    "    #Convert the lists to a numpy matrix\n",
    "    nA = np.matrix(A)\n",
    "    nb = np.matrix(b)\n",
    "\n",
    "    #Calculate the time it takes to run the numpy matrix. \n",
    "    start = time.time()\n",
    "    x2 = np.linalg.solve(A,b)\n",
    "    stop = time.time()\n",
    "    numpy_time.append(stop - start)"
   ]
  },
  {
   "cell_type": "code",
   "execution_count": null,
   "metadata": {
    "scrolled": false
   },
   "outputs": [],
   "source": [
    "plt.plot(n_list, cramer_time, 'r-^', label=\"Cramer's Rule\")\n",
    "plt.plot(n_list, numpy_time, 'g-*', label='Numpy Solve')\n",
    "plt.xlabel('Number of variables $n$ in system of equations');\n",
    "plt.ylabel('Time (seconds)');\n",
    "plt.legend();"
   ]
  },
  {
   "cell_type": "markdown",
   "metadata": {},
   "source": [
    "Based on the above results, you can see that the numpy algorithm not only is faster but also \"scales\" at a slower rate than cramer's rule.  "
   ]
  },
  {
   "cell_type": "markdown",
   "metadata": {},
   "source": [
    "&#9989; <font color=red>**QUESTION:**</font> The following is a list of all of the different algorithms we have used so far to solve systems of equations in the form of $Ax=b$. Do the following:\n",
    "\n",
    "1. Include the missing big-O notations. (Jacobi and Gauss-Sideal provided).\n",
    "2. Reorder the algorithms from slowest to fastest. \n",
    "3. Include any limitations for each approach (example provided for Jacobi)."
   ]
  },
  {
   "cell_type": "markdown",
   "metadata": {},
   "source": [
    "* One iteration of the Jacobi method is $O(n^2)$ (many iterations are needed) [REF](http://shodhganga.inflibnet.ac.in/bitstream/10603/148188/9/09_chapter%203.pdf) \n",
    "    - Only works for diagonally dominant matrices\n",
    "* One iteration of the Gauss-Sideal method is $O(n^2)$ (many iterations are needed) [REF](http://shodhganga.inflibnet.ac.in/bitstream/10603/148188/9/09_chapter%203.pdf)\n",
    "* LU Decomposition and then forward and backward substitution is $O(??)$\n",
    "* Elimination method is $O(??)$\n",
    "* Cramer's rule is $O(??)$"
   ]
  },
  {
   "cell_type": "markdown",
   "metadata": {},
   "source": [
    "-----\n",
    "### Congratulations, we're almost done!\n",
    "\n",
    "Now, you just need to submit this assignment by uploading it to the course <a href=\"https://d2l.msu.edu/\">Desire2Learn</a> web page for the homework's dropbox (Don't forget to add your names in the first cell).\n"
   ]
  },
  {
   "cell_type": "markdown",
   "metadata": {},
   "source": [
    "&#169; Copyright 2018,  Michigan State University Board of Trustees"
   ]
  }
 ],
 "metadata": {
  "kernelspec": {
   "display_name": "Python 3",
   "language": "python",
   "name": "python3"
  },
  "language_info": {
   "codemirror_mode": {
    "name": "ipython",
    "version": 3
   },
   "file_extension": ".py",
   "mimetype": "text/x-python",
   "name": "python",
   "nbconvert_exporter": "python",
   "pygments_lexer": "ipython3",
   "version": "3.6.5"
  }
 },
 "nbformat": 4,
 "nbformat_minor": 2
}
