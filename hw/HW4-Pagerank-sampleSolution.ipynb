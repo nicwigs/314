{
 "cells": [
  {
   "cell_type": "markdown",
   "metadata": {},
   "source": [
    "## <p style=\"text-align: right;\"> &#9989; Put your name here</p>"
   ]
  },
  {
   "cell_type": "markdown",
   "metadata": {},
   "source": [
    "In order to successfully complete this assignment, you must follow all instructions in this notebook and upload your edited ipynb file with your answers on or before **11:59pm on Friday Mar. 22nd**.\n",
    "\n",
    "**BIG HINT:** Read the entire homework before starting.  "
   ]
  },
  {
   "cell_type": "markdown",
   "metadata": {},
   "source": [
    "# Homework: Pagerank\n",
    "\n",
    "\n",
    "\n",
    "<img src=\"https://upload.wikimedia.org/wikipedia/en/thumb/8/8b/PageRanks-Example.jpg/1920px-PageRanks-Example.jpg\" width=\"70%\"> \n",
    "<p style=\"text-align: right;\">Image from: https://en.wikipedia.org/wiki/PageRank/</p>\n",
    "\n"
   ]
  },
  {
   "cell_type": "markdown",
   "metadata": {},
   "source": [
    "### Outline for Homework 4\n",
    "\n",
    "</p>\n",
    "1. Introduction of pagerank step by step\n",
    "1. How to find the ranking $v$ efficiently"
   ]
  },
  {
   "cell_type": "markdown",
   "metadata": {},
   "source": [
    "## 1. Pagerank\n",
    "\n",
    "In the PageRank method, the ranking of pages is based solely on how pages are linked and not on the content of the pages or on how often the pages are visited. Google calculates the ranks at some frequency. Every time you do a search, Google gives a list\n",
    "of the relevant pages in order of the lastest ranking. You can check the pagerank score of a website via http://www.prchecker.info/check_page_rank.php\n",
    "\n"
   ]
  },
  {
   "cell_type": "code",
   "execution_count": 48,
   "metadata": {},
   "outputs": [],
   "source": [
    "import numpy as np\n",
    "import networkx as nx\n",
    "import matplotlib.pyplot as plt\n",
    "import sympy as sym\n",
    "sym.init_printing(use_unicode=True)\n",
    "%matplotlib inline"
   ]
  },
  {
   "cell_type": "code",
   "execution_count": 49,
   "metadata": {},
   "outputs": [
    {
     "name": "stdout",
     "output_type": "stream",
     "text": [
      "11\n"
     ]
    },
    {
     "data": {
      "image/png": "[encoded data removed]",
      "text/plain": [
       "<Figure size 432x288 with 1 Axes>"
      ]
     },
     "metadata": {},
     "output_type": "display_data"
    }
   ],
   "source": [
    "adj  = [(0, 1), (1, 2), (1, 3), (2, 0), (2, 4), (2, 3), (3, 4), (3, 0), (3, 1), (3, 2), (4, 3)]\n",
    "adj += [(5, 6), (6, 7), (6, 8), (7, 5), (7, 9), (7, 8), (9, 8), (8, 5), (8, 6), (8, 7), (8, 9)]\n",
    "adj += [(10,1), (10,2), (10, 6), (10,7)]\n",
    "graph = nx.DiGraph(adj)\n",
    "graph.add_node(10)\n",
    "n = len(graph)\n",
    "nx.draw(graph)\n",
    "\n",
    "print(len(graph))"
   ]
  },
  {
   "cell_type": "markdown",
   "metadata": {},
   "source": [
    "The matrix $A$ describes the links in this graph. $A_{ij}=1$ if page $j$ has a link to page $i$, and $A_{ij}=0$ if page $j$ does not have a link to page $i$.\n"
   ]
  },
  {
   "cell_type": "code",
   "execution_count": 50,
   "metadata": {},
   "outputs": [
    {
     "name": "stdout",
     "output_type": "stream",
     "text": [
      "[[0. 0. 1. 1. 0. 0. 0. 0. 0. 0. 0.]\n",
      " [1. 0. 0. 1. 0. 0. 0. 0. 0. 0. 1.]\n",
      " [0. 1. 0. 1. 0. 0. 0. 0. 0. 0. 1.]\n",
      " [0. 1. 1. 0. 1. 0. 0. 0. 0. 0. 0.]\n",
      " [0. 0. 1. 1. 0. 0. 0. 0. 0. 0. 0.]\n",
      " [0. 0. 0. 0. 0. 0. 0. 1. 1. 0. 0.]\n",
      " [0. 0. 0. 0. 0. 1. 0. 0. 1. 0. 1.]\n",
      " [0. 0. 0. 0. 0. 0. 1. 0. 1. 0. 1.]\n",
      " [0. 0. 0. 0. 0. 0. 1. 1. 0. 1. 0.]\n",
      " [0. 0. 0. 0. 0. 0. 0. 1. 1. 0. 0.]\n",
      " [0. 0. 0. 0. 0. 0. 0. 0. 0. 0. 0.]]\n"
     ]
    }
   ],
   "source": [
    "A = np.transpose(nx.to_numpy_matrix(graph)) # form a matrix, \n",
    "#a_{ij} equals 1 if page j has a link to page i and \n",
    "#it equals 0 otherwise \n",
    "print(A)"
   ]
  },
  {
   "cell_type": "markdown",
   "metadata": {},
   "source": [
    "### The Simple Method (voting): \n",
    "We start with purely computing the number of pages having links to the page. \n",
    "We can think about one link as one vote, and the page that is link by the most pages has the highest ranking. \n",
    "\n",
    "$$v_{i}=a_{i1}+a_{i2}+\\cdots+a_{in}$$\n",
    "\n",
    "<font color='red'>**DO THIS:**</font> Write your code to count the number of pages having links to each page for all pages and apply it on the previous matrix $A$."
   ]
  },
  {
   "cell_type": "code",
   "execution_count": 52,
   "metadata": {},
   "outputs": [
    {
     "ename": "SyntaxError",
     "evalue": "invalid syntax (<ipython-input-52-4448f47ad510>, line 2)",
     "output_type": "error",
     "traceback": [
      "\u001b[1;36m  File \u001b[1;32m\"<ipython-input-52-4448f47ad510>\"\u001b[1;36m, line \u001b[1;32m2\u001b[0m\n\u001b[1;33m    v1 =\u001b[0m\n\u001b[1;37m         ^\u001b[0m\n\u001b[1;31mSyntaxError\u001b[0m\u001b[1;31m:\u001b[0m invalid syntax\n"
     ]
    }
   ],
   "source": [
    "# Put your code here\n",
    "v1 = "
   ]
  },
  {
   "cell_type": "code",
   "execution_count": 53,
   "metadata": {},
   "outputs": [
    {
     "data": {
      "text/plain": [
       "matrix([[2.],\n",
       "        [3.],\n",
       "        [3.],\n",
       "        [3.],\n",
       "        [2.],\n",
       "        [2.],\n",
       "        [3.],\n",
       "        [3.],\n",
       "        [3.],\n",
       "        [2.],\n",
       "        [0.]])"
      ]
     },
     "execution_count": 53,
     "metadata": {},
     "output_type": "execute_result"
    }
   ],
   "source": [
    "###ANSWER###\n",
    "u = np.ones((n,1))\n",
    "v1 = A.dot(u)\n",
    "v1 \n",
    "###ANSWER###"
   ]
  },
  {
   "cell_type": "markdown",
   "metadata": {},
   "source": [
    "Obviously, this approch has its drawbacks. \n",
    "We can not think about the links on different pages as the same. \n",
    "One link among a group of one hundred of links should not be treated as one link among a group of five links.\n",
    "### First improvement:\n",
    "To be included on a short list presumably means more than to be included on a long list. We should have a weight on different links.\n",
    "$$v_{i}={a_{i1}\\over n_1}+{a_{i2}\\over n_2}+\\cdots+{a_{in}\\over n_n}$$\n",
    "where $n_j=\\sum\\limits_i a_{ij}$ is the total number of recommendations that page $j$ makes."
   ]
  },
  {
   "cell_type": "markdown",
   "metadata": {},
   "source": [
    "<font color='red'>**DO THIS:**</font> Write your code to computer the improved ranking based on the previous matrix $A$. "
   ]
  },
  {
   "cell_type": "code",
   "execution_count": 54,
   "metadata": {},
   "outputs": [
    {
     "ename": "SyntaxError",
     "evalue": "invalid syntax (<ipython-input-54-75fb943f3e88>, line 3)",
     "output_type": "error",
     "traceback": [
      "\u001b[1;36m  File \u001b[1;32m\"<ipython-input-54-75fb943f3e88>\"\u001b[1;36m, line \u001b[1;32m3\u001b[0m\n\u001b[1;33m    v2 =\u001b[0m\n\u001b[1;37m         ^\u001b[0m\n\u001b[1;31mSyntaxError\u001b[0m\u001b[1;31m:\u001b[0m invalid syntax\n"
     ]
    }
   ],
   "source": [
    "# Put your test code here\n",
    "\n",
    "v2 = "
   ]
  },
  {
   "cell_type": "code",
   "execution_count": 55,
   "metadata": {},
   "outputs": [
    {
     "name": "stdout",
     "output_type": "stream",
     "text": [
      "[[0.58333333]\n",
      " [1.5       ]\n",
      " [1.        ]\n",
      " [1.83333333]\n",
      " [0.58333333]\n",
      " [0.58333333]\n",
      " [1.5       ]\n",
      " [1.        ]\n",
      " [1.83333333]\n",
      " [0.58333333]\n",
      " [0.        ]]\n"
     ]
    }
   ],
   "source": [
    "###ANSWER1###\n",
    "P = A.copy()\n",
    "#print(A.shape)\n",
    "#print(P.shape)\n",
    "for node in graph:\n",
    "    if len(graph[node]) != 0:\n",
    "        P[:,node] = np.divide(A[:,node],len(graph[node]))  \n",
    "#    else:\n",
    "#        P[:,node] = 1/len(graph)\n",
    "        \n",
    "v2 = P.sum(axis=1)    \n",
    "print(v2)\n",
    "###ANSWER1#### "
   ]
  },
  {
   "cell_type": "code",
   "execution_count": 56,
   "metadata": {},
   "outputs": [
    {
     "data": {
      "text/plain": [
       "matrix([[0.58333333],\n",
       "        [1.5       ],\n",
       "        [1.        ],\n",
       "        [1.83333333],\n",
       "        [0.58333333],\n",
       "        [0.58333333],\n",
       "        [1.5       ],\n",
       "        [1.        ],\n",
       "        [1.83333333],\n",
       "        [0.58333333],\n",
       "        [0.        ]])"
      ]
     },
     "execution_count": 56,
     "metadata": {},
     "output_type": "execute_result"
    }
   ],
   "source": [
    "###ANSWER2###\n",
    "n = np.matrix(np.diagflat(np.ones((1,11))*A))\n",
    "P = A*n.I\n",
    "v2 = P*np.ones((11,1))\n",
    "v2\n",
    "###ANSWER2#### "
   ]
  },
  {
   "cell_type": "markdown",
   "metadata": {},
   "source": [
    "## A further improvement:\n",
    "Different pages should have different weight. \n",
    "For example, a link on www.msu.edu should be more important than a professor's personal website. \n",
    "\n",
    "Therefore, the weight of a recommendation should depend on the importance of the recommender. \n",
    "\n",
    "$$v_i = {a_{i1}\\over n_1}v_1 + {a_{i2}\\over n_2}v_2 + \\cdots + {a_{in}\\over n_n}v_n.$$\n",
    "That is $$v=Pv.$$"
   ]
  },
  {
   "cell_type": "markdown",
   "metadata": {},
   "source": [
    "<font color='red'>**DO THIS:**</font> Verify that the matrix $P$ is a Markov matrix. \n"
   ]
  },
  {
   "cell_type": "code",
   "execution_count": 57,
   "metadata": {},
   "outputs": [],
   "source": [
    "# Put your verify code here\n"
   ]
  },
  {
   "cell_type": "code",
   "execution_count": 58,
   "metadata": {},
   "outputs": [
    {
     "name": "stdout",
     "output_type": "stream",
     "text": [
      "[[1. 1. 1. 1. 1. 1. 1. 1. 1. 1. 1.]]\n"
     ]
    },
    {
     "data": {
      "text/plain": [
       "matrix([[ True,  True,  True,  True,  True,  True,  True,  True,  True,\n",
       "          True,  True],\n",
       "        [ True,  True,  True,  True,  True,  True,  True,  True,  True,\n",
       "          True,  True],\n",
       "        [ True,  True,  True,  True,  True,  True,  True,  True,  True,\n",
       "          True,  True],\n",
       "        [ True,  True,  True,  True,  True,  True,  True,  True,  True,\n",
       "          True,  True],\n",
       "        [ True,  True,  True,  True,  True,  True,  True,  True,  True,\n",
       "          True,  True],\n",
       "        [ True,  True,  True,  True,  True,  True,  True,  True,  True,\n",
       "          True,  True],\n",
       "        [ True,  True,  True,  True,  True,  True,  True,  True,  True,\n",
       "          True,  True],\n",
       "        [ True,  True,  True,  True,  True,  True,  True,  True,  True,\n",
       "          True,  True],\n",
       "        [ True,  True,  True,  True,  True,  True,  True,  True,  True,\n",
       "          True,  True],\n",
       "        [ True,  True,  True,  True,  True,  True,  True,  True,  True,\n",
       "          True,  True],\n",
       "        [ True,  True,  True,  True,  True,  True,  True,  True,  True,\n",
       "          True,  True]])"
      ]
     },
     "execution_count": 58,
     "metadata": {},
     "output_type": "execute_result"
    }
   ],
   "source": [
    "###ANSWER###\n",
    "print(P.sum(axis=0))  # check that the sum of every column equals one \n",
    "P >= 0  # check that they are all positive.\n",
    "###ANSWER###"
   ]
  },
  {
   "cell_type": "markdown",
   "metadata": {},
   "source": [
    "<font color='red'>**DO THIS:**</font> Solve the Markov system for a improved ranking $v3$."
   ]
  },
  {
   "cell_type": "code",
   "execution_count": 59,
   "metadata": {},
   "outputs": [],
   "source": [
    "# Put your code here #"
   ]
  },
  {
   "cell_type": "code",
   "execution_count": 60,
   "metadata": {
    "scrolled": true
   },
   "outputs": [
    {
     "name": "stdout",
     "output_type": "stream",
     "text": [
      "[ 1.00000000e+00+0.j        -2.90407534e-01+0.4624513j\n",
      " -2.90407534e-01-0.4624513j -4.19184931e-01+0.j\n",
      " -8.59605897e-17+0.j         1.00000000e+00+0.j\n",
      " -2.90407534e-01+0.4624513j -2.90407534e-01-0.4624513j\n",
      " -4.19184931e-01+0.j        -8.59605897e-17+0.j\n",
      "  0.00000000e+00+0.j       ]\n",
      "[[0.140625+0.j]\n",
      " [0.21875 +0.j]\n",
      " [0.1875  +0.j]\n",
      " [0.3125  +0.j]\n",
      " [0.140625+0.j]\n",
      " [0.      +0.j]\n",
      " [0.      +0.j]\n",
      " [0.      +0.j]\n",
      " [0.      +0.j]\n",
      " [0.      +0.j]\n",
      " [0.      +0.j]]\n"
     ]
    },
    {
     "data": {
      "text/plain": [
       "matrix([[0.140625+0.j],\n",
       "        [0.21875 +0.j],\n",
       "        [0.1875  +0.j],\n",
       "        [0.3125  +0.j],\n",
       "        [0.140625+0.j],\n",
       "        [0.      +0.j],\n",
       "        [0.      +0.j],\n",
       "        [0.      +0.j],\n",
       "        [0.      +0.j],\n",
       "        [0.      +0.j],\n",
       "        [0.      +0.j]])"
      ]
     },
     "execution_count": 60,
     "metadata": {},
     "output_type": "execute_result"
    }
   ],
   "source": [
    "###ANSWER### \n",
    "w, v = np.linalg.eig(P)\n",
    "print(w)\n",
    "print(v[:,0]/np.sum(v[:,0])) # the normalized first eigenvector\n",
    "P.dot(v[:,0]/np.sum(v[:,0])) # check whether vector solves markov system\n",
    "###ANSWER###"
   ]
  },
  {
   "cell_type": "markdown",
   "metadata": {},
   "source": [
    ">If we use np.linalg.eig to see the eigenvalues of $P$, we will get"
   ]
  },
  {
   "cell_type": "code",
   "execution_count": 61,
   "metadata": {},
   "outputs": [
    {
     "data": {
      "image/png": "[encoded data removed]",
      "text/latex": [
       "$$\\left[\\begin{matrix}1.0\\\\-0.290407534333213 + 0.462451301212063 i\\\\-0.290407534333213 - 0.462451301212063 i\\\\-0.419184931333576\\\\-8.59605897407485 \\cdot 10^{-17}\\\\1.0\\\\-0.290407534333213 + 0.462451301212063 i\\\\-0.290407534333213 - 0.462451301212063 i\\\\-0.419184931333576\\\\-8.59605897407485 \\cdot 10^{-17}\\\\0\\end{matrix}\\right]$$"
      ],
      "text/plain": [
       "⎡                  1.0                   ⎤\n",
       "⎢                                        ⎥\n",
       "⎢-0.290407534333213 + 0.462451301212063⋅ⅈ⎥\n",
       "⎢                                        ⎥\n",
       "⎢-0.290407534333213 - 0.462451301212063⋅ⅈ⎥\n",
       "⎢                                        ⎥\n",
       "⎢           -0.419184931333576           ⎥\n",
       "⎢                                        ⎥\n",
       "⎢         -8.59605897407485e-17          ⎥\n",
       "⎢                                        ⎥\n",
       "⎢                  1.0                   ⎥\n",
       "⎢                                        ⎥\n",
       "⎢-0.290407534333213 + 0.462451301212063⋅ⅈ⎥\n",
       "⎢                                        ⎥\n",
       "⎢-0.290407534333213 - 0.462451301212063⋅ⅈ⎥\n",
       "⎢                                        ⎥\n",
       "⎢           -0.419184931333576           ⎥\n",
       "⎢                                        ⎥\n",
       "⎢         -8.59605897407485e-17          ⎥\n",
       "⎢                                        ⎥\n",
       "⎣                   0                    ⎦"
      ]
     },
     "execution_count": 61,
     "metadata": {},
     "output_type": "execute_result"
    }
   ],
   "source": [
    "vals, vecs=np.linalg.eig(P)\n",
    "sym.Matrix(vals)\n",
    "#vecs"
   ]
  },
  {
   "cell_type": "markdown",
   "metadata": {},
   "source": [
    ">Note that the first and sixth eigenvalues are all 1, which means we can pick the first and sixth eigenvector to be the rank which solves markov system."
   ]
  },
  {
   "cell_type": "markdown",
   "metadata": {},
   "source": [
    ">the first vector is (I do not normalize it here)"
   ]
  },
  {
   "cell_type": "code",
   "execution_count": 62,
   "metadata": {},
   "outputs": [
    {
     "data": {
      "image/png": "[encoded data removed]",
      "text/latex": [
       "$$\\left[\\begin{matrix}0.299667221195412\\\\0.466149010748419\\\\0.399556294927216\\\\0.665927158212027\\\\0.299667221195412\\\\0\\\\0\\\\0\\\\0\\\\0\\\\0\\end{matrix}\\right]$$"
      ],
      "text/plain": [
       "⎡0.299667221195412⎤\n",
       "⎢                 ⎥\n",
       "⎢0.466149010748419⎥\n",
       "⎢                 ⎥\n",
       "⎢0.399556294927216⎥\n",
       "⎢                 ⎥\n",
       "⎢0.665927158212027⎥\n",
       "⎢                 ⎥\n",
       "⎢0.299667221195412⎥\n",
       "⎢                 ⎥\n",
       "⎢        0        ⎥\n",
       "⎢                 ⎥\n",
       "⎢        0        ⎥\n",
       "⎢                 ⎥\n",
       "⎢        0        ⎥\n",
       "⎢                 ⎥\n",
       "⎢        0        ⎥\n",
       "⎢                 ⎥\n",
       "⎢        0        ⎥\n",
       "⎢                 ⎥\n",
       "⎣        0        ⎦"
      ]
     },
     "execution_count": 62,
     "metadata": {},
     "output_type": "execute_result"
    }
   ],
   "source": [
    "sym.Matrix(vecs[:,0])"
   ]
  },
  {
   "cell_type": "markdown",
   "metadata": {},
   "source": [
    ">the sixth one is (I do not normalize it here)"
   ]
  },
  {
   "cell_type": "code",
   "execution_count": 63,
   "metadata": {},
   "outputs": [
    {
     "data": {
      "image/png": "[encoded data removed]",
      "text/latex": [
       "$$\\left[\\begin{matrix}0\\\\0\\\\0\\\\0\\\\0\\\\0.299667221195412\\\\0.466149010748419\\\\0.399556294927216\\\\0.665927158212027\\\\0.299667221195412\\\\0\\end{matrix}\\right]$$"
      ],
      "text/plain": [
       "⎡        0        ⎤\n",
       "⎢                 ⎥\n",
       "⎢        0        ⎥\n",
       "⎢                 ⎥\n",
       "⎢        0        ⎥\n",
       "⎢                 ⎥\n",
       "⎢        0        ⎥\n",
       "⎢                 ⎥\n",
       "⎢        0        ⎥\n",
       "⎢                 ⎥\n",
       "⎢0.299667221195412⎥\n",
       "⎢                 ⎥\n",
       "⎢0.466149010748419⎥\n",
       "⎢                 ⎥\n",
       "⎢0.399556294927216⎥\n",
       "⎢                 ⎥\n",
       "⎢0.665927158212027⎥\n",
       "⎢                 ⎥\n",
       "⎢0.299667221195412⎥\n",
       "⎢                 ⎥\n",
       "⎣        0        ⎦"
      ]
     },
     "execution_count": 63,
     "metadata": {},
     "output_type": "execute_result"
    }
   ],
   "source": [
    "sym.Matrix(vecs[:,5])"
   ]
  },
  {
   "cell_type": "markdown",
   "metadata": {},
   "source": [
    ">In this case, both of two vectors solve markov system, we can pick one of them. we can also observe either of two vectors has many zero entries."
   ]
  },
  {
   "cell_type": "markdown",
   "metadata": {},
   "source": [
    "If you are doing correctly, you may obtain a ranking with many zeros. \n",
    "Think about the reason why this happens? (Hint, if we start with zeros for some pages, the values for these pages will stay zero.)"
   ]
  },
  {
   "cell_type": "markdown",
   "metadata": {},
   "source": [
    "<font color='red'>**QUESTION:**</font> Why some values are zeros? Does it mean that these pages are not important?"
   ]
  },
  {
   "cell_type": "markdown",
   "metadata": {},
   "source": [
    "> Suppose we denote these 11 pages be $w_{1}, \\cdots, w_{11}$ and let the first eigenvector and sixth eigenvector be $u_{1}$ and $u_{6}$. Notice that the nonzero entries of $u_{1}$ and $u_{6}$ is not overlapped and in either of them, the last entry is zero."
   ]
  },
  {
   "cell_type": "markdown",
   "metadata": {},
   "source": [
    "> In order to explain zero entries, we need go back to the original matrix $A$,"
   ]
  },
  {
   "cell_type": "code",
   "execution_count": 64,
   "metadata": {},
   "outputs": [
    {
     "data": {
      "image/png": "[encoded data removed]",
      "text/latex": [
       "$$\\left[\\begin{array}{ccccccccccc}0.0 & 0.0 & 1.0 & 1.0 & 0.0 & 0.0 & 0.0 & 0.0 & 0.0 & 0.0 & 0.0\\\\1.0 & 0.0 & 0.0 & 1.0 & 0.0 & 0.0 & 0.0 & 0.0 & 0.0 & 0.0 & 1.0\\\\0.0 & 1.0 & 0.0 & 1.0 & 0.0 & 0.0 & 0.0 & 0.0 & 0.0 & 0.0 & 1.0\\\\0.0 & 1.0 & 1.0 & 0.0 & 1.0 & 0.0 & 0.0 & 0.0 & 0.0 & 0.0 & 0.0\\\\0.0 & 0.0 & 1.0 & 1.0 & 0.0 & 0.0 & 0.0 & 0.0 & 0.0 & 0.0 & 0.0\\\\0.0 & 0.0 & 0.0 & 0.0 & 0.0 & 0.0 & 0.0 & 1.0 & 1.0 & 0.0 & 0.0\\\\0.0 & 0.0 & 0.0 & 0.0 & 0.0 & 1.0 & 0.0 & 0.0 & 1.0 & 0.0 & 1.0\\\\0.0 & 0.0 & 0.0 & 0.0 & 0.0 & 0.0 & 1.0 & 0.0 & 1.0 & 0.0 & 1.0\\\\0.0 & 0.0 & 0.0 & 0.0 & 0.0 & 0.0 & 1.0 & 1.0 & 0.0 & 1.0 & 0.0\\\\0.0 & 0.0 & 0.0 & 0.0 & 0.0 & 0.0 & 0.0 & 1.0 & 1.0 & 0.0 & 0.0\\\\0.0 & 0.0 & 0.0 & 0.0 & 0.0 & 0.0 & 0.0 & 0.0 & 0.0 & 0.0 & 0.0\\end{array}\\right]$$"
      ],
      "text/plain": [
       "⎡0.0  0.0  1.0  1.0  0.0  0.0  0.0  0.0  0.0  0.0  0.0⎤\n",
       "⎢                                                     ⎥\n",
       "⎢1.0  0.0  0.0  1.0  0.0  0.0  0.0  0.0  0.0  0.0  1.0⎥\n",
       "⎢                                                     ⎥\n",
       "⎢0.0  1.0  0.0  1.0  0.0  0.0  0.0  0.0  0.0  0.0  1.0⎥\n",
       "⎢                                                     ⎥\n",
       "⎢0.0  1.0  1.0  0.0  1.0  0.0  0.0  0.0  0.0  0.0  0.0⎥\n",
       "⎢                                                     ⎥\n",
       "⎢0.0  0.0  1.0  1.0  0.0  0.0  0.0  0.0  0.0  0.0  0.0⎥\n",
       "⎢                                                     ⎥\n",
       "⎢0.0  0.0  0.0  0.0  0.0  0.0  0.0  1.0  1.0  0.0  0.0⎥\n",
       "⎢                                                     ⎥\n",
       "⎢0.0  0.0  0.0  0.0  0.0  1.0  0.0  0.0  1.0  0.0  1.0⎥\n",
       "⎢                                                     ⎥\n",
       "⎢0.0  0.0  0.0  0.0  0.0  0.0  1.0  0.0  1.0  0.0  1.0⎥\n",
       "⎢                                                     ⎥\n",
       "⎢0.0  0.0  0.0  0.0  0.0  0.0  1.0  1.0  0.0  1.0  0.0⎥\n",
       "⎢                                                     ⎥\n",
       "⎢0.0  0.0  0.0  0.0  0.0  0.0  0.0  1.0  1.0  0.0  0.0⎥\n",
       "⎢                                                     ⎥\n",
       "⎣0.0  0.0  0.0  0.0  0.0  0.0  0.0  0.0  0.0  0.0  0.0⎦"
      ]
     },
     "execution_count": 64,
     "metadata": {},
     "output_type": "execute_result"
    }
   ],
   "source": [
    "sym.Matrix(A)"
   ]
  },
  {
   "cell_type": "markdown",
   "metadata": {},
   "source": [
    "> and markov matrix $P$"
   ]
  },
  {
   "cell_type": "code",
   "execution_count": 65,
   "metadata": {},
   "outputs": [
    {
     "data": {
      "image/png": "[encoded data removed]",
      "text/latex": [
       "$$\\left[\\begin{array}{ccccccccccc}0.0 & 0.0 & 0.333333333333333 & 0.25 & 0.0 & 0.0 & 0.0 & 0.0 & 0.0 & 0.0 & 0.0\\\\1.0 & 0.0 & 0.0 & 0.25 & 0.0 & 0.0 & 0.0 & 0.0 & 0.0 & 0.0 & 0.25\\\\0.0 & 0.5 & 0.0 & 0.25 & 0.0 & 0.0 & 0.0 & 0.0 & 0.0 & 0.0 & 0.25\\\\0.0 & 0.5 & 0.333333333333333 & 0.0 & 1.0 & 0.0 & 0.0 & 0.0 & 0.0 & 0.0 & 0.0\\\\0.0 & 0.0 & 0.333333333333333 & 0.25 & 0.0 & 0.0 & 0.0 & 0.0 & 0.0 & 0.0 & 0.0\\\\0.0 & 0.0 & 0.0 & 0.0 & 0.0 & 0.0 & 0.0 & 0.333333333333333 & 0.25 & 0.0 & 0.0\\\\0.0 & 0.0 & 0.0 & 0.0 & 0.0 & 1.0 & 0.0 & 0.0 & 0.25 & 0.0 & 0.25\\\\0.0 & 0.0 & 0.0 & 0.0 & 0.0 & 0.0 & 0.5 & 0.0 & 0.25 & 0.0 & 0.25\\\\0.0 & 0.0 & 0.0 & 0.0 & 0.0 & 0.0 & 0.5 & 0.333333333333333 & 0.0 & 1.0 & 0.0\\\\0.0 & 0.0 & 0.0 & 0.0 & 0.0 & 0.0 & 0.0 & 0.333333333333333 & 0.25 & 0.0 & 0.0\\\\0.0 & 0.0 & 0.0 & 0.0 & 0.0 & 0.0 & 0.0 & 0.0 & 0.0 & 0.0 & 0.0\\end{array}\\right]$$"
      ],
      "text/plain": [
       "⎡0.0  0.0  0.333333333333333  0.25  0.0  0.0  0.0         0.0         0.0   0.\n",
       "⎢                                                                             \n",
       "⎢1.0  0.0         0.0         0.25  0.0  0.0  0.0         0.0         0.0   0.\n",
       "⎢                                                                             \n",
       "⎢0.0  0.5         0.0         0.25  0.0  0.0  0.0         0.0         0.0   0.\n",
       "⎢                                                                             \n",
       "⎢0.0  0.5  0.333333333333333  0.0   1.0  0.0  0.0         0.0         0.0   0.\n",
       "⎢                                                                             \n",
       "⎢0.0  0.0  0.333333333333333  0.25  0.0  0.0  0.0         0.0         0.0   0.\n",
       "⎢                                                                             \n",
       "⎢0.0  0.0         0.0         0.0   0.0  0.0  0.0  0.333333333333333  0.25  0.\n",
       "⎢                                                                             \n",
       "⎢0.0  0.0         0.0         0.0   0.0  1.0  0.0         0.0         0.25  0.\n",
       "⎢                                                                             \n",
       "⎢0.0  0.0         0.0         0.0   0.0  0.0  0.5         0.0         0.25  0.\n",
       "⎢                                                                             \n",
       "⎢0.0  0.0         0.0         0.0   0.0  0.0  0.5  0.333333333333333  0.0   1.\n",
       "⎢                                                                             \n",
       "⎢0.0  0.0         0.0         0.0   0.0  0.0  0.0  0.333333333333333  0.25  0.\n",
       "⎢                                                                             \n",
       "⎣0.0  0.0         0.0         0.0   0.0  0.0  0.0         0.0         0.0   0.\n",
       "\n",
       "0  0.0 ⎤\n",
       "       ⎥\n",
       "0  0.25⎥\n",
       "       ⎥\n",
       "0  0.25⎥\n",
       "       ⎥\n",
       "0  0.0 ⎥\n",
       "       ⎥\n",
       "0  0.0 ⎥\n",
       "       ⎥\n",
       "0  0.0 ⎥\n",
       "       ⎥\n",
       "0  0.25⎥\n",
       "       ⎥\n",
       "0  0.25⎥\n",
       "       ⎥\n",
       "0  0.0 ⎥\n",
       "       ⎥\n",
       "0  0.0 ⎥\n",
       "       ⎥\n",
       "0  0.0 ⎦"
      ]
     },
     "execution_count": 65,
     "metadata": {},
     "output_type": "execute_result"
    }
   ],
   "source": [
    "sym.Matrix(P)"
   ]
  },
  {
   "cell_type": "markdown",
   "metadata": {},
   "source": [
    "> Since the last row of $P$ is all-zero vector, then no matter what values we assign to each page, say vector $v.$ If $v$ satisfy $v=Pv,$ which means the last entry of $v$ is $$v_{11}=P_{11,:}*v=\\textbf{0}*v=0,$$ \n",
    "where $P_{11,:}$ denotes the last row vector of $P$ and $\\textbf{0}$ is all-zero row vector.\n",
    "\n",
    "That's the reason that the last entry is always $0.$"
   ]
  },
  {
   "cell_type": "markdown",
   "metadata": {},
   "source": [
    "> Why $u_{1}$ and $u_{6}$ have non-overlap nonzero entries? Suppose we group these $11$ pages into three clusters $\\{w_{1},\\cdots, w_{5}\\}, \\{w_{6},\\cdots, w_{10}\\}$ and $\\{w_{11}\\}.$ According to the graph shown above and matrix $A$,\n",
    ">>1. cluster 1 is not connected to cluster 2 and cluster 3;\n",
    ">>2. cluster 2 is not connected to cluster 1 and cluster 3;\n",
    ">>3. $w_{11}$ only links to some of pages in cluster 1 and cluster 2 without links in inverse direction. "
   ]
  },
  {
   "cell_type": "markdown",
   "metadata": {},
   "source": [
    "> Based on these observations, we know that if we change the rank of pages in cluster 2, the rank of pages in cluster 1 and 3 will not be affected, even we assign those ranks in cluster 2 to be 0. Hence the vector $u_{1}$ shows the situation that we let all ranks in cluster 2 and 3 be 0. "
   ]
  },
  {
   "cell_type": "markdown",
   "metadata": {},
   "source": [
    "> The same analysis can be applied for $u_{6}.$"
   ]
  },
  {
   "cell_type": "markdown",
   "metadata": {},
   "source": [
    "> Hence no matter which eigenvectors we pick, the nonzero entry doesn't show the corresponding pages are not important, but shows there are separated clusters of pages. "
   ]
  },
  {
   "cell_type": "markdown",
   "metadata": {},
   "source": [
    "> In the following simpler case, we can easily see the separation of clusters."
   ]
  },
  {
   "cell_type": "markdown",
   "metadata": {},
   "source": [
    "## A final improvement: uniqueness\n",
    "Let's consider a simple case. \n",
    "What happens if there are several clusters of webpages not connected to each other and having no dead ends."
   ]
  },
  {
   "cell_type": "code",
   "execution_count": 66,
   "metadata": {},
   "outputs": [
    {
     "data": {
      "text/plain": [
       "(array([ 1., -1.,  1., -1.]),\n",
       " matrix([[ 0.70710678, -0.70710678,  0.        ,  0.        ],\n",
       "         [ 0.70710678,  0.70710678,  0.        ,  0.        ],\n",
       "         [ 0.        ,  0.        ,  0.70710678, -0.70710678],\n",
       "         [ 0.        ,  0.        ,  0.70710678,  0.70710678]]))"
      ]
     },
     "execution_count": 66,
     "metadata": {},
     "output_type": "execute_result"
    }
   ],
   "source": [
    "graph2 = nx.DiGraph([(0,1),(1,0),(2,3),(3,2)])\n",
    "A2 = np.transpose(nx.to_numpy_matrix(graph2)) # form a matrix, \n",
    "P2 = A2\n",
    "for node in graph2:\n",
    "    if len(graph2[node]) != 0:\n",
    "        P2[:,node] = np.divide(A2[:,node],len(graph2[node]))  \n",
    "        \n",
    "w, v = np.linalg.eig(P2)\n",
    "w, v  "
   ]
  },
  {
   "cell_type": "markdown",
   "metadata": {},
   "source": [
    "We want to find an eigenvector corresponding to the eigenvalue 1. If there are two linear independent eigenvectors having the same eigenvalue 1, we obtain nonunique solutions and there may be zeros in the ranking (at least we can find these eigenvectors). \n",
    "\n",
    "For this simple case, there are two eigenvalues $1$. The nodes 0 and 1 form a cluster and there is no links between this cluster with nodes 2 and 3."
   ]
  },
  {
   "cell_type": "markdown",
   "metadata": {},
   "source": [
    "In general, if it is possible to get from page $j$ to page $i$ by following links but not vice versa, then $v_j$ turns out to be 0.\n",
    "In order to get all nonzeros, we have to make sure that the graph is connected. That is, starting from any page, you can arrive at any other page through the links.\n",
    "\n",
    "\n",
    "\n",
    "In order to fix this, imagine you have a biased coin, so that the probability of heads is $r$. Now move around the web as follows. If you're on page $j$, flip the coin. If you get heads, then choose randomly one of the links from page $j$ and\n",
    "follow that link. If the coin comes up tails, then pick a page at random from the whole web and jump (or \"teleport\") to that page. \n",
    "\n",
    "<font color='red'>**DO THIS:**</font>  Finish the code to construct the new matrix $Q$ with $r=0.85$."
   ]
  },
  {
   "cell_type": "code",
   "execution_count": 67,
   "metadata": {},
   "outputs": [
    {
     "ename": "SyntaxError",
     "evalue": "invalid syntax (<ipython-input-67-d1132f312d9a>, line 4)",
     "output_type": "error",
     "traceback": [
      "\u001b[1;36m  File \u001b[1;32m\"<ipython-input-67-d1132f312d9a>\"\u001b[1;36m, line \u001b[1;32m4\u001b[0m\n\u001b[1;33m    T =\u001b[0m\n\u001b[1;37m        ^\u001b[0m\n\u001b[1;31mSyntaxError\u001b[0m\u001b[1;31m:\u001b[0m invalid syntax\n"
     ]
    }
   ],
   "source": [
    "r = 0.85\n",
    "\n",
    "#Put you code here for the matrix that simulate the teleport from one page to any page (including itself)\n",
    "T = \n",
    "\n",
    "Q = r*P + (1-r)*T"
   ]
  },
  {
   "cell_type": "code",
   "execution_count": 69,
   "metadata": {},
   "outputs": [
    {
     "name": "stdout",
     "output_type": "stream",
     "text": [
      "[[0.01363636 0.01363636 0.2969697  0.22613636 0.01363636 0.01363636\n",
      "  0.01363636 0.01363636 0.01363636 0.01363636 0.01363636]\n",
      " [0.86363636 0.01363636 0.01363636 0.22613636 0.01363636 0.01363636\n",
      "  0.01363636 0.01363636 0.01363636 0.01363636 0.22613636]\n",
      " [0.01363636 0.43863636 0.01363636 0.22613636 0.01363636 0.01363636\n",
      "  0.01363636 0.01363636 0.01363636 0.01363636 0.22613636]\n",
      " [0.01363636 0.43863636 0.2969697  0.01363636 0.86363636 0.01363636\n",
      "  0.01363636 0.01363636 0.01363636 0.01363636 0.01363636]\n",
      " [0.01363636 0.01363636 0.2969697  0.22613636 0.01363636 0.01363636\n",
      "  0.01363636 0.01363636 0.01363636 0.01363636 0.01363636]\n",
      " [0.01363636 0.01363636 0.01363636 0.01363636 0.01363636 0.01363636\n",
      "  0.01363636 0.2969697  0.22613636 0.01363636 0.01363636]\n",
      " [0.01363636 0.01363636 0.01363636 0.01363636 0.01363636 0.86363636\n",
      "  0.01363636 0.01363636 0.22613636 0.01363636 0.22613636]\n",
      " [0.01363636 0.01363636 0.01363636 0.01363636 0.01363636 0.01363636\n",
      "  0.43863636 0.01363636 0.22613636 0.01363636 0.22613636]\n",
      " [0.01363636 0.01363636 0.01363636 0.01363636 0.01363636 0.01363636\n",
      "  0.43863636 0.2969697  0.01363636 0.86363636 0.01363636]\n",
      " [0.01363636 0.01363636 0.01363636 0.01363636 0.01363636 0.01363636\n",
      "  0.01363636 0.2969697  0.22613636 0.01363636 0.01363636]\n",
      " [0.01363636 0.01363636 0.01363636 0.01363636 0.01363636 0.01363636\n",
      "  0.01363636 0.01363636 0.01363636 0.01363636 0.01363636]]\n"
     ]
    }
   ],
   "source": [
    "###ANSWER###\n",
    "r = 0.85\n",
    "T = np.ones((11,11))/11\n",
    "Q = r*P + (1-r)*T\n",
    "print(Q)\n",
    "###ANSWER###"
   ]
  },
  {
   "cell_type": "markdown",
   "metadata": {},
   "source": [
    "<font color='red'>**DO THIS:**</font> Check that $Q$ has only one independent eigenvector for eigenvalue 1. \n",
    "Find the corresponding eigenvector and normalize it such that the sum equals one."
   ]
  },
  {
   "cell_type": "code",
   "execution_count": null,
   "metadata": {},
   "outputs": [],
   "source": [
    "# Put your code here"
   ]
  },
  {
   "cell_type": "code",
   "execution_count": 118,
   "metadata": {},
   "outputs": [
    {
     "name": "stdout",
     "output_type": "stream",
     "text": [
      "[-2.46846404e-01+3.93083606e-01j -2.46846404e-01-3.93083606e-01j\n",
      " -3.56307192e-01+0.00000000e+00j -6.58362666e-17+0.00000000e+00j\n",
      "  1.00000000e+00+0.00000000e+00j  8.50000000e-01+0.00000000e+00j\n",
      " -2.46846404e-01+3.93083606e-01j -2.46846404e-01-3.93083606e-01j\n",
      " -3.56307192e-01+0.00000000e+00j -8.84649004e-18+2.70345934e-18j\n",
      " -8.84649004e-18-2.70345934e-18j]\n",
      "[[0.07158101+0.j]\n",
      " [0.10868153+0.j]\n",
      " [0.09402732+0.j]\n",
      " [0.14731095+0.j]\n",
      " [0.07158101+0.j]\n",
      " [0.07158101+0.j]\n",
      " [0.10868153+0.j]\n",
      " [0.09402732+0.j]\n",
      " [0.14731095+0.j]\n",
      " [0.07158101+0.j]\n",
      " [0.01363636+0.j]]\n"
     ]
    },
    {
     "data": {
      "text/plain": [
       "matrix([[0.07158101+0.j],\n",
       "        [0.10868153+0.j],\n",
       "        [0.09402732+0.j],\n",
       "        [0.14731095+0.j],\n",
       "        [0.07158101+0.j],\n",
       "        [0.07158101+0.j],\n",
       "        [0.10868153+0.j],\n",
       "        [0.09402732+0.j],\n",
       "        [0.14731095+0.j],\n",
       "        [0.07158101+0.j],\n",
       "        [0.01363636+0.j]])"
      ]
     },
     "execution_count": 118,
     "metadata": {},
     "output_type": "execute_result"
    }
   ],
   "source": [
    "###ANSWER1###\n",
    "w, v = np.linalg.eig(Q)\n",
    "print(w)\n",
    "print(v[:,4]/sum(v[:,4])) # normalize\n",
    "Q.dot(v[:,4]/sum(v[:,4])) # check correctness\n",
    "###ANSWER1###"
   ]
  },
  {
   "cell_type": "code",
   "execution_count": 72,
   "metadata": {},
   "outputs": [
    {
     "name": "stdout",
     "output_type": "stream",
     "text": [
      "[[0.07158101]\n",
      " [0.10868153]\n",
      " [0.09402732]\n",
      " [0.14731095]\n",
      " [0.07158101]\n",
      " [0.07158101]\n",
      " [0.10868153]\n",
      " [0.09402732]\n",
      " [0.14731095]\n",
      " [0.07158101]\n",
      " [0.01363636]]\n"
     ]
    }
   ],
   "source": [
    "###ANSWER2###\n",
    "u = np.ones((n,1))\n",
    "print((np.eye(11) - r*P).I*((1-r)/11*u))\n",
    "###ANSWER2###"
   ]
  },
  {
   "cell_type": "markdown",
   "metadata": {},
   "source": [
    "Check the result with the pagerank algortihm from networkX"
   ]
  },
  {
   "cell_type": "code",
   "execution_count": 73,
   "metadata": {},
   "outputs": [
    {
     "data": {
      "image/png": "[encoded data removed]",
      "text/latex": [
       "$$\\left \\{ 0 : 0.07158114363183696, \\quad 1 : 0.1086817508531579, \\quad 2 : 0.0940267803332746, \\quad 3 : 0.1473109997317118, \\quad 4 : 0.07158114363183696, \\quad 5 : 0.07158114363183696, \\quad 6 : 0.1086817508531579, \\quad 7 : 0.0940267803332746, \\quad 8 : 0.1473109997317118, \\quad 9 : 0.07158114363183696, \\quad 10 : 0.01363636363636364\\right \\}$$"
      ],
      "text/plain": [
       "{0: 0.07158114363183696, 1: 0.1086817508531579, 2: 0.0940267803332746, 3: 0.14\n",
       "73109997317118, 4: 0.07158114363183696, 5: 0.07158114363183696, 6: 0.108681750\n",
       "8531579, 7: 0.0940267803332746, 8: 0.1473109997317118, 9: 0.07158114363183696,\n",
       " 10: 0.01363636363636364}"
      ]
     },
     "execution_count": 73,
     "metadata": {},
     "output_type": "execute_result"
    }
   ],
   "source": [
    "v2 = nx.pagerank(graph)\n",
    "v2"
   ]
  },
  {
   "cell_type": "markdown",
   "metadata": {},
   "source": [
    "There are several functions in the networkX for computing the pagerank. \n",
    "The following code compares the time for these settings. (You can change the value for *tol* and see the performance in time and the accuracy)."
   ]
  },
  {
   "cell_type": "code",
   "execution_count": null,
   "metadata": {},
   "outputs": [],
   "source": [
    "%timeit nx.pagerank(graph,tol=1e-1)\n",
    "%timeit nx.pagerank_scipy(graph,tol=1e-10)\n",
    "%timeit nx.pagerank(graph)"
   ]
  },
  {
   "cell_type": "markdown",
   "metadata": {},
   "source": [
    "# 2. How to find the ranking $v$ efficiently"
   ]
  },
  {
   "cell_type": "markdown",
   "metadata": {},
   "source": [
    "In the previous section, we discussed how to build the Markov matrix for pagerank. \n",
    "We start with a *sparse* Markov matrix $P$ (a matrix with many zeros). However, this matrix may have *dead-end* (there are more than one independent eigenvectors for the eigenvalue 1, and the eigenvalue can be zeros for many pages). \n",
    "Therefore, we introduce a new Markov matrix $T$ that describes moving around the internet without following the links (the chance to go to any page is the same). \n",
    "Assume that we have chance $r=85\\%$ choosing the *sparse* matrix $P$, and $1-r=15\\%$ choosing the matrix $T$. \n",
    "The new Markov matrix together is \n",
    "$$Q = rP + (1 − r)T.$$"
   ]
  },
  {
   "cell_type": "markdown",
   "metadata": {},
   "source": [
    "It is impossible for Google to update the rank by finding the exact eigenvalue using an eig solver. \n",
    "In the following, we test the time for computing the eigenvector for up to $128\\times 128$ matrix."
   ]
  },
  {
   "cell_type": "code",
   "execution_count": 81,
   "metadata": {},
   "outputs": [],
   "source": [
    "import time\n",
    "\n",
    "k_list = [2, 4, 8, 16, 32, 64, 128]\n",
    "\n",
    "eig_time = []\n",
    "\n",
    "for k in k_list:\n",
    "    #Generate random nxn array of two lists\n",
    "    result = np.identity(k) + np.random.uniform(low=0., high=.25, size=(k, k))\n",
    "    result /= result.sum(axis=1, keepdims=1)\n",
    "    \n",
    "    start = time.time()\n",
    "    np.linalg.eig(result)\n",
    "    stop = time.time()\n",
    "    eig_time.append(stop - start)    "
   ]
  },
  {
   "cell_type": "code",
   "execution_count": 82,
   "metadata": {
    "scrolled": false
   },
   "outputs": [
    {
     "data": {
      "image/png": "[encoded data removed]",
      "text/plain": [
       "<Figure size 432x288 with 1 Axes>"
      ]
     },
     "metadata": {
      "needs_background": "light"
     },
     "output_type": "display_data"
    }
   ],
   "source": [
    "plt.plot(k_list, eig_time, 'r-^', label=\"Time to find eigenvalues\")\n",
    "plt.xlabel('The size of the matrix');\n",
    "plt.ylabel('Time (seconds)');\n",
    "plt.legend();"
   ]
  },
  {
   "cell_type": "markdown",
   "metadata": {},
   "source": [
    "<font color='red'>**QUESTION:**</font> Estimate how long does it take to compute the eigenvectors for a $10^9\\times 10^9$ Markov matrix. ($10^9$ is still small comparing to the number of pages)"
   ]
  },
  {
   "cell_type": "markdown",
   "metadata": {},
   "source": [
    "> in this case, time for $100\\times 100$ matrix is about $1e-2,$ so the time for $10^9\\times 10^9$ will be $(1e-2)\\times(10^7)^3$ since the complexity is $O(n^{3})$"
   ]
  },
  {
   "cell_type": "markdown",
   "metadata": {},
   "source": [
    "You may notice that the time for computing eigenvectors is too long for big matrices. \n",
    "So we have to use alternative ways to find the rank (the eigenvector corresponding to eigenvalue 1). \n",
    "From our lecture on Eig_problems (Lecture 09), we know that we can use iterative algorithms to find the eigenvector for a Markov matrix that corresponding to the eigenvalue 1. \n",
    "Though we need many matrix-vector multiplications, the computation can be efficient. \n",
    "Furthermore, when we update the matrix (new pages are added, new links are added), we do not need to start it again. We can use the previous ranking as the initial to save time.\n",
    "Next, let's think about how to do the matrix-vector multiplication for the large matrix."
   ]
  },
  {
   "cell_type": "markdown",
   "metadata": {},
   "source": [
    "For sparse matrix, we have fast computation. But, this matrix $Q$ is not sparse any more. \n",
    "The complexity for the multiplication of a $n\\times n$ matrix with a $n\\times 1$ vector is $n^2$ for a general matrix. \n",
    "However, if the matrix is sparse with only $N$ nonzero. The complexity becomes $N$. \n",
    "For the matrix $P$ we derived, it is very sparse (say, $n=10^9$, and the links for each page is only in the order of 10s, so the number of nonzero entries is only about $10^{10}$, but the  total number of elements in the matrix is $10^{18}$).\n",
    "How can be use this property of sparse matrix to compute for $Qw$ for a given column vector $w$.\n",
    "\n",
    "Given a rank $w$, we update the rank by the following computation:\n",
    "$$Qw = rPw + (1 − r)T w= rPw + (1-r){u\\over n} \\mathbf{1},$$\n",
    "where $u$ is the sum of all elements in $w$, and $\\mathbf{1}$ is a column vector with all $1$s. \n",
    "It works because of the special matrix $T$, whose elements are all ${1\\over n}$. \n",
    "The effect of $T$ is just finding the average of all elements in $w$ and "
   ]
  },
  {
   "cell_type": "markdown",
   "metadata": {},
   "source": [
    "<font color='red'>**DO THIS:**</font> Write the code to compute the matrix vector muptlication $Qw$ without using the matrix $P$. (Assume we are giving only $P$ and $r$) "
   ]
  },
  {
   "cell_type": "code",
   "execution_count": null,
   "metadata": {},
   "outputs": [],
   "source": [
    "def update_rank(graph, r, ranks)\n",
    "\n",
    "    #Step 1: find the matrix P based on the preivous tasks\n",
    "    \n",
    "    #Step 2: find rPW\n",
    "    \n",
    "    #Step 3: find rPW + (1-r) u/n\n",
    "    \n",
    "\n",
    "\n",
    "    return"
   ]
  },
  {
   "cell_type": "code",
   "execution_count": null,
   "metadata": {},
   "outputs": [],
   "source": [
    "# Iterative methods for pagerank. \n",
    "def compute_ranks(graph, r, numloops):\n",
    "    ranks = []\n",
    "    npages = len(graph)\n",
    "    for page in graph:\n",
    "        ranks[page] = 1.0 / npages\n",
    "\n",
    "    for i in range(0, numloops):\n",
    "        newranks = update_rank(graph, r, ranks)\n",
    "    return(ranks)"
   ]
  },
  {
   "cell_type": "code",
   "execution_count": 115,
   "metadata": {},
   "outputs": [
    {
     "data": {
      "image/png": "[encoded data removed]",
      "text/latex": [
       "$$\\left [ \\left [ 0.07158101299279047, \\quad 0.10868152824350491, \\quad 0.09402731670312259, \\quad 0.14731094724960986, \\quad 0.07158101299279047, \\quad 0.07158101299279046, \\quad 0.10868152824350491, \\quad 0.09402731670312259, \\quad 0.14731094724960986, \\quad 0.07158101299279046, \\quad 0.013636363636363641\\right ]\\right ]$$"
      ],
      "text/plain": [
       "[[0.07158101299279047, 0.10868152824350491, 0.09402731670312259, 0.14731094724\n",
       "960986, 0.07158101299279047, 0.07158101299279046, 0.10868152824350491, 0.09402\n",
       "731670312259, 0.14731094724960986, 0.07158101299279046, 0.013636363636363641]]"
      ]
     },
     "execution_count": 115,
     "metadata": {},
     "output_type": "execute_result"
    }
   ],
   "source": [
    "compute_ranks(graph,0.85,100)"
   ]
  },
  {
   "cell_type": "code",
   "execution_count": 103,
   "metadata": {},
   "outputs": [
    {
     "data": {
      "text/plain": [
       "array([0.07158101, 0.10868153, 0.09402732, 0.14731095, 0.07158101,\n",
       "       0.07158101, 0.10868153, 0.09402732, 0.14731095, 0.07158101,\n",
       "       0.01363636])"
      ]
     },
     "execution_count": 103,
     "metadata": {},
     "output_type": "execute_result"
    }
   ],
   "source": [
    "###ANSWER1###\n",
    "### Activity 4: Iterative methods for pagerank. \n",
    "#Discussion in a group and fill out the code for the modification. \n",
    "def compute_ranks(graph, r, numloops):\n",
    "    npages = len(graph)\n",
    "    ranks = np.zeros(npages)\n",
    "    for page in graph:\n",
    "        ranks[page] = 1.0 / npages\n",
    "\n",
    "    for i in range(0, numloops):\n",
    "        newranks = ranks\n",
    "        for page in graph:\n",
    "            newrank = (1 - r) / npages\n",
    "            for node in graph:\n",
    "                if page in graph[node]:\n",
    "                    newrank = newrank + r * (ranks[node] / len(graph[node]))\n",
    "            newranks[page] = newrank\n",
    "        ranks = newranks\n",
    "    return(ranks)\n",
    "compute_ranks(graph,0.85,100)\n",
    "###ANSWER1###"
   ]
  },
  {
   "cell_type": "code",
   "execution_count": 114,
   "metadata": {},
   "outputs": [],
   "source": [
    "###ANSWER2###\n",
    "def update_rank(graph, r, ranks):\n",
    "    \n",
    "    ranks=np.matrix(ranks)\n",
    "    n=ranks.shape[1]\n",
    "    ranks=ranks.T\n",
    "    \n",
    "    #Step 1: find the matrix P based on the preivous tasks\n",
    "    A = np.transpose(nx.to_numpy_matrix(graph)) # form a matrix, \n",
    "    P = A\n",
    "    for node in graph:\n",
    "        if len(graph[node]) != 0:\n",
    "            P[:,node] = np.divide(A[:,node],len(graph[node]))  \n",
    "    \n",
    "    #Step 2: find rPW\n",
    "    \n",
    "    p_r=r*P*ranks\n",
    "    \n",
    "    #Step 3: find rPW + (1-r) u/n\n",
    "    mu=np.ones((1,n))*ranks\n",
    "    \n",
    "    ranks=p_r+np.multiply((1-r)*mu/n, np.ones((n,1)))\n",
    "    ranks=ranks.T\n",
    "\n",
    "    return ranks.tolist()\n",
    "\n",
    "def compute_ranks(graph, r, numloops):\n",
    "    ranks = []\n",
    "    npages = len(graph)\n",
    "    for page in graph:\n",
    "        ranks.append(1.0 / npages)\n",
    "    \n",
    "    for i in range(0, numloops):\n",
    "        newranks = update_rank(graph, r, ranks)\n",
    "        ranks=newranks\n",
    "    return ranks\n",
    "###ANSWER2###"
   ]
  },
  {
   "cell_type": "markdown",
   "metadata": {},
   "source": [
    "-----\n",
    "### Congratulations, we're almost done!\n",
    "\n",
    "Now, you just need to submit this assignment by uploading it to the course <a href=\"https://d2l.msu.edu/\">Desire2Learn</a> web page for the homework's dropbox (Don't forget to add your names in the first cell).\n"
   ]
  },
  {
   "cell_type": "markdown",
   "metadata": {},
   "source": [
    "&#169; Copyright 2018,  Michigan State University Board of Trustees"
   ]
  }
 ],
 "metadata": {
  "anaconda-cloud": {},
  "kernelspec": {
   "display_name": "Python 3",
   "language": "python",
   "name": "python3"
  },
  "language_info": {
   "codemirror_mode": {
    "name": "ipython",
    "version": 3
   },
   "file_extension": ".py",
   "mimetype": "text/x-python",
   "name": "python",
   "nbconvert_exporter": "python",
   "pygments_lexer": "ipython3",
   "version": "3.7.1"
  }
 },
 "nbformat": 4,
 "nbformat_minor": 1
}
