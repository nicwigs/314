{
 "cells": [
  {
   "cell_type": "markdown",
   "metadata": {},
   "source": [
    "In order to successfully complete this assignment, you must do the required reading, watch the provided videos and complete all instructions. \n",
    "The embedded Google form must be entirely filled out and submitted on or before **11:59pm on Wednesday Feb. 27th**. \n",
    "Students must come to class the next day prepared to discuss the material covered in this assignment. "
   ]
  },
  {
   "cell_type": "markdown",
   "metadata": {},
   "source": [
    "# Pre-Class Assignment: Projections"
   ]
  },
  {
   "cell_type": "markdown",
   "metadata": {},
   "source": [
    "# Goals for today's pre-class assignment \n",
    "**Read Section 4.6 of the textbook.**\n",
    "</p>\n",
    "\n",
    "1. Orthogonal and Orthonormal\n",
    "1. Code Review\n",
    "1. Assignment Wrap-up"
   ]
  },
  {
   "cell_type": "markdown",
   "metadata": {},
   "source": [
    "----\n",
    "# 1. Orthogonal and Orthonormal\n",
    "\n",
    "**Definition:** A set of vectors is said to be **orthogonal** if every pair of vectors in the set is orthogonal (the dot product is 0). \n",
    "The set is **orthonormal** if it is orthogonal and each vector is a unit vector (norm equals 1). \n",
    "\n",
    "**Result:** An orthogonal set of nonzero vectors is linearly independent.\n",
    "\n",
    "**Definition:** A basis that is an orthogonal set is called an orthogonal basis.\n",
    "A basis that is an orthonormal set is called an orthonormal basis.\n",
    "\n",
    "**Result:** Let $\\{u_1,\\dots,u_n\\}$ be an orthonormal basis for a vector space $V$. \n",
    "Then for any vector $v$ in $V$, we have \n",
    "$$v=(v\\cdot u_1)u_1+(v\\cdot u_2)u_2 +\\dots + (v\\cdot u_n)u_n$$\n",
    "\n",
    "**Definition:** A *square* matrix is **orthogonal** is $A^{-1}=A^\\top$.\n",
    "\n",
    "**Result:** Let $A$ be a square matrix. The following three statements are equivalent.\n",
    "\n",
    "(a) $A$ is orthogonal. \n",
    "\n",
    "(b) The column vectors of $A$ form an orthonormal set. \n",
    "\n",
    "(c) The row vectors of $A$ form an orthonormal set.\n",
    "\n",
    "(d) $A^{-1}$ is orthogonal. \n",
    "\n",
    "(e) $A^\\top$ is orthogonal.\n",
    "\n",
    "**Result:** If $A$ is an orthogonal matrix, then we have $|A|=\\pm 1$."
   ]
  },
  {
   "cell_type": "markdown",
   "metadata": {},
   "source": [
    "Consider the following vectors $u_1, u_2$, and $u_3$ that form a basis for $R^3$. \n",
    "\n",
    "$$ u_1 = (1,0,0)$$\n",
    "$$ u_2 = (0, \\frac{1}{\\sqrt(2)}, \\frac{1}{\\sqrt(2)})$$\n",
    "$$ u_3 = (0, \\frac{1}{\\sqrt(2)}, -\\frac{1}{\\sqrt(2)})$$"
   ]
  },
  {
   "cell_type": "markdown",
   "metadata": {},
   "source": [
    "&#9989; <font color=red>**DO THIS:**</font>  Show that the vectors $u_1$, $u_2$, and $u_3$ are linearly independent (**HINT:** see the pre-class for module 11-Change_Basis):"
   ]
  },
  {
   "cell_type": "markdown",
   "metadata": {},
   "source": [
    "Put your answer to the above here"
   ]
  },
  {
   "cell_type": "markdown",
   "metadata": {},
   "source": [
    "&#9989; <font color=red>**QUESTION 1:**</font> How do you show that $u_1$, $u_2$, and $u_3$ are orthogonal?"
   ]
  },
  {
   "cell_type": "markdown",
   "metadata": {},
   "source": [
    "Put your answer to the above question here"
   ]
  },
  {
   "cell_type": "markdown",
   "metadata": {},
   "source": [
    "&#9989; <font color=red>**QUESTION 2:**</font> How do you show that $u_1$, $u_2$, and $u_3$ are normal vectors?"
   ]
  },
  {
   "cell_type": "markdown",
   "metadata": {},
   "source": [
    "Put your answer to the above question here"
   ]
  },
  {
   "cell_type": "markdown",
   "metadata": {},
   "source": [
    "&#9989; <font color=red>**DO THIS:**</font>  Express the vector $v = (7,5,-1)$ as a linear combination of the $u_1$, $u_2$, and $u_3$ basis vectors:"
   ]
  },
  {
   "cell_type": "code",
   "execution_count": null,
   "metadata": {},
   "outputs": [],
   "source": [
    "# Put your answer here"
   ]
  },
  {
   "cell_type": "markdown",
   "metadata": {},
   "source": [
    "# 2. Code Review\n",
    "\n",
    "In the next in-class assignment, we are going to avoid some of the more advanced libraries ((i.e. no ```numpy``` or ```scipy``` or ```sympy```) to try to get a better understanding about what is going on in the math. \n",
    "The following code implements some common linear algebra functions:"
   ]
  },
  {
   "cell_type": "code",
   "execution_count": null,
   "metadata": {},
   "outputs": [],
   "source": [
    "#Standard Python Libraries only\n",
    "import math\n",
    "import copy"
   ]
  },
  {
   "cell_type": "code",
   "execution_count": null,
   "metadata": {},
   "outputs": [],
   "source": [
    "def dot(u,v):\n",
    "    '''Calculate the dot product between vectors u and v'''\n",
    "    temp = 0;\n",
    "    for i in range(len(u)):\n",
    "        temp += u[i]*v[i]\n",
    "    return temp"
   ]
  },
  {
   "cell_type": "markdown",
   "metadata": {},
   "source": [
    "&#9989; <font color=red>**DO THIS:**</font> Write a quick test to compare the output of the above ```dot``` function with the ```numpy``` dot function."
   ]
  },
  {
   "cell_type": "code",
   "execution_count": null,
   "metadata": {},
   "outputs": [],
   "source": [
    "# Put your test code here"
   ]
  },
  {
   "cell_type": "code",
   "execution_count": null,
   "metadata": {},
   "outputs": [],
   "source": [
    "def multiply(m1,m2):\n",
    "    '''Calculate the matrix multiplication between m1 and m2 represented as list-of-list.'''\n",
    "    n = len(m1)\n",
    "    d = len(m2)\n",
    "    m = len(m2[0])\n",
    "    \n",
    "    if len(m1[0]) != d:\n",
    "        print(\"ERROR - inner dimentions not equal\")\n",
    "    \n",
    "    #make zero matrix\n",
    "    result = [[0 for j in range(m)] for i in range(n)]\n",
    "#    print(result)\n",
    "    for i in range(0,n):\n",
    "        for j in range(0,m):\n",
    "            for k in range(0,d):\n",
    "                #print(i,j,k)\n",
    "                #print('result', result[i][j])\n",
    "                #print('m1', m1[i][k])\n",
    "                #print('m2', m2[k][j])\n",
    "                result[i][j] = result[i][j] + m1[i][k] * m2[k][j]\n",
    "    return result\n"
   ]
  },
  {
   "cell_type": "markdown",
   "metadata": {},
   "source": [
    "&#9989; <font color=red>**DO THIS:**</font> Write a quick test to compare the output of the above ```multiply``` function with the ```numpy``` multiply function."
   ]
  },
  {
   "cell_type": "code",
   "execution_count": null,
   "metadata": {},
   "outputs": [],
   "source": [
    "# Put your test code here"
   ]
  },
  {
   "cell_type": "markdown",
   "metadata": {},
   "source": [
    "&#9989; <font color=red>**QUESTION 3:**</font> What is the big-O complexity of the above ```multiply``` function?"
   ]
  },
  {
   "cell_type": "markdown",
   "metadata": {},
   "source": [
    "Put your answer to the above question here."
   ]
  },
  {
   "cell_type": "markdown",
   "metadata": {},
   "source": [
    "&#9989; <font color=red>**QUESTION 4:**</font> Line 11 in the provided ```multiply``` code initializes a matrix of the size of the output matrix as a list of lists with zeros. What is the big-O complexity of line 11?"
   ]
  },
  {
   "cell_type": "markdown",
   "metadata": {},
   "source": [
    "Put your answer to the above question here."
   ]
  },
  {
   "cell_type": "code",
   "execution_count": null,
   "metadata": {},
   "outputs": [],
   "source": [
    "def norm(u):\n",
    "    '''Calculate the norm of vector u'''\n",
    "    nm = 0\n",
    "    for i in range(len(u)):\n",
    "        nm += u[i]*u[i]\n",
    "    return math.sqrt(nm)"
   ]
  },
  {
   "cell_type": "markdown",
   "metadata": {},
   "source": [
    "&#9989; <font color=red>**DO THIS:**</font> Write a quick test to compare the outputs of the above ```norm``` function with the ```numpy``` norm function."
   ]
  },
  {
   "cell_type": "code",
   "execution_count": null,
   "metadata": {},
   "outputs": [],
   "source": [
    "#Put your test code here"
   ]
  },
  {
   "cell_type": "code",
   "execution_count": null,
   "metadata": {},
   "outputs": [],
   "source": [
    "def transpose(A):\n",
    "    '''Calculate the transpose of matrix A represented as list of lists'''\n",
    "    n = len(A)\n",
    "    m = len(A[0])\n",
    "    AT = list()\n",
    "    for j in range(0,m):    \n",
    "        temp = list()\n",
    "        for i in range(0,n):\n",
    "            temp.append(A[i][j])\n",
    "        AT.append(temp)\n",
    "    return AT"
   ]
  },
  {
   "cell_type": "markdown",
   "metadata": {},
   "source": [
    "&#9989; <font color=red>**DO THIS:**</font> Write a quick test to compare the output of the above ```transpose``` function with the ```numpy``` transpose function."
   ]
  },
  {
   "cell_type": "code",
   "execution_count": null,
   "metadata": {},
   "outputs": [],
   "source": [
    "# Put your test code here"
   ]
  },
  {
   "cell_type": "markdown",
   "metadata": {},
   "source": [
    "&#9989; <font color=red>**QUESTION 5:**</font> What is the big-O complexity of the above ```transpose``` function?"
   ]
  },
  {
   "cell_type": "markdown",
   "metadata": {},
   "source": [
    "Put your answer to the above question here"
   ]
  },
  {
   "cell_type": "markdown",
   "metadata": {},
   "source": [
    "&#9989; <font color=red>**QUESTION 6:**</font> Explain any differences in results between the provided functions and their ```numpy``` counterparts. "
   ]
  },
  {
   "cell_type": "markdown",
   "metadata": {},
   "source": [
    "Put your answer to the above question here"
   ]
  },
  {
   "cell_type": "markdown",
   "metadata": {},
   "source": [
    "----\n",
    "# 3. Assignment wrap-up\n"
   ]
  },
  {
   "cell_type": "markdown",
   "metadata": {},
   "source": [
    "&#9989; <font color=red>**DO THIS:**</font> Please fill out the form that appears when you run the code below.  **You must completely fill this out in order to receive credit for the assignment!**\n",
    "\n",
    "\n",
    "[Direct Link](https://docs.google.com/forms/d/e/1FAIpQLSdRC85pnj2Yyz5W-qsLbdKGbx8hTFwBFu2GKwMZYqok9DFjIg/viewform)"
   ]
  },
  {
   "cell_type": "code",
   "execution_count": null,
   "metadata": {},
   "outputs": [],
   "source": [
    "from IPython.display import HTML\n",
    "HTML(\n",
    "\"\"\"\n",
    "<iframe \n",
    "\tsrc=\"https://docs.google.com/forms/d/e/1FAIpQLSdRC85pnj2Yyz5W-qsLbdKGbx8hTFwBFu2GKwMZYqok9DFjIg/viewform?embedded=true\" \n",
    "\twidth=\"100%\" \n",
    "\theight=\"1200px\" \n",
    "\tframeborder=\"0\" \n",
    "\tmarginheight=\"0\" \n",
    "\tmarginwidth=\"0\">\n",
    "\tLoading...\n",
    "</iframe>\n",
    "\"\"\"\n",
    ")"
   ]
  },
  {
   "cell_type": "markdown",
   "metadata": {},
   "source": [
    "---------\n",
    "### Congratulations, we're almost done!\n",
    "\n",
    "To get credit for this assignment you must fill out and submit the above Google form on or before the assignment due date."
   ]
  },
  {
   "cell_type": "markdown",
   "metadata": {},
   "source": [
    "&#169; Copyright 2018,  Michigan State University Board of Trustees"
   ]
  }
 ],
 "metadata": {
  "anaconda-cloud": {},
  "kernelspec": {
   "display_name": "Python 3",
   "language": "python",
   "name": "python3"
  },
  "language_info": {
   "codemirror_mode": {
    "name": "ipython",
    "version": 3
   },
   "file_extension": ".py",
   "mimetype": "text/x-python",
   "name": "python",
   "nbconvert_exporter": "python",
   "pygments_lexer": "ipython3",
   "version": "3.6.5"
  }
 },
 "nbformat": 4,
 "nbformat_minor": 1
}
