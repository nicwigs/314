{
 "cells": [
  {
   "cell_type": "markdown",
   "metadata": {},
   "source": [
    "In order to successfully complete this assignment, you must do the required reading, watch the provided videos and complete all instructions. \n",
    "The embedded Google form must be entirely filled out and submitted on or before **11:59pm on Monday Feb. 25th**. \n",
    "Students must come to class the next day prepared to discuss the material covered in this assignment. "
   ]
  },
  {
   "cell_type": "markdown",
   "metadata": {},
   "source": [
    "# Pre-Class Assignment: Matrix Spaces\n",
    "\n",
    "*Read sections 4.4-4.5, 5.1 of the textbook before doing this assignment.*"
   ]
  },
  {
   "cell_type": "markdown",
   "metadata": {},
   "source": [
    "# Goals for today's pre-class assignment \n",
    "\n",
    "</p>\n",
    "\n",
    "1. Properties of Invertible Matrices - Theorem 4.18\n",
    "1. The Basis of a Vector Space\n",
    "1. Change of Basis\n",
    "1. Assignment wrap-up"
   ]
  },
  {
   "cell_type": "code",
   "execution_count": 1,
   "metadata": {},
   "outputs": [],
   "source": [
    "%matplotlib inline\n",
    "import matplotlib.pylab as plt\n",
    "import numpy as np\n",
    "import sympy as sym\n",
    "sym.init_printing(use_unicode=True)"
   ]
  },
  {
   "cell_type": "markdown",
   "metadata": {},
   "source": [
    "# 1.  Properties of Invertible Matrices - Theorem 4.18\n",
    "Let $A$ be an $n \\times n$ matrix. The following statements are equivalent.\n",
    "\n",
    "- $|A| \\ne 0$\n",
    "- $A$ is invertible.\n",
    "- $A$ is row equivalent to $I_n$ (i.e. it's reduced row echelon form is $I_n$)\n",
    "- The system of equations $Ax = b$ has a unique solution.\n",
    "- $rank(A) = n$\n",
    "- The column vectors of $A$ form a basis for $R^n$"
   ]
  },
  {
   "cell_type": "markdown",
   "metadata": {},
   "source": [
    "Consider the following set of two vectors:\n",
    "\n",
    "$$B = \\{(1,2), (3,-1)\\}$$\n"
   ]
  },
  {
   "cell_type": "markdown",
   "metadata": {},
   "source": [
    "&#9989; <font color=red>**QUESTION 1:**</font> Using some of the properties of Theorm 4.18, how could you show that $B$ is a basis of $R^2$?"
   ]
  },
  {
   "cell_type": "code",
   "execution_count": 1,
   "metadata": {},
   "outputs": [
    {
     "ename": "NameError",
     "evalue": "name 'np' is not defined",
     "output_type": "error",
     "traceback": [
      "\u001b[0;31m---------------------------------------------------------------------------\u001b[0m",
      "\u001b[0;31mNameError\u001b[0m                                 Traceback (most recent call last)",
      "\u001b[0;32m<ipython-input-1-2df090da07b0>\u001b[0m in \u001b[0;36m<module>\u001b[0;34m\u001b[0m\n\u001b[1;32m      1\u001b[0m \u001b[0mb1\u001b[0m \u001b[0;34m=\u001b[0m \u001b[0;34m[\u001b[0m\u001b[0;36m1\u001b[0m\u001b[0;34m,\u001b[0m\u001b[0;36m2\u001b[0m\u001b[0;34m]\u001b[0m\u001b[0;34m\u001b[0m\u001b[0;34m\u001b[0m\u001b[0m\n\u001b[1;32m      2\u001b[0m \u001b[0mb2\u001b[0m \u001b[0;34m=\u001b[0m \u001b[0;34m[\u001b[0m\u001b[0;36m3\u001b[0m\u001b[0;34m,\u001b[0m\u001b[0;36m1\u001b[0m\u001b[0;34m]\u001b[0m\u001b[0;34m\u001b[0m\u001b[0;34m\u001b[0m\u001b[0m\n\u001b[0;32m----> 3\u001b[0;31m \u001b[0mb\u001b[0m \u001b[0;34m=\u001b[0m \u001b[0mnp\u001b[0m\u001b[0;34m.\u001b[0m\u001b[0mmatrix\u001b[0m\u001b[0;34m(\u001b[0m\u001b[0;34m[\u001b[0m\u001b[0;34m[\u001b[0m\u001b[0;36m1\u001b[0m\u001b[0;34m,\u001b[0m\u001b[0;36m2\u001b[0m\u001b[0;34m]\u001b[0m\u001b[0;34m,\u001b[0m\u001b[0;34m[\u001b[0m\u001b[0;36m3\u001b[0m\u001b[0;34m,\u001b[0m\u001b[0;34m-\u001b[0m\u001b[0;36m1\u001b[0m\u001b[0;34m]\u001b[0m\u001b[0;34m]\u001b[0m\u001b[0;34m)\u001b[0m\u001b[0;34m\u001b[0m\u001b[0;34m\u001b[0m\u001b[0m\n\u001b[0m\u001b[1;32m      4\u001b[0m \u001b[0mc\u001b[0m \u001b[0;34m=\u001b[0m \u001b[0mnp\u001b[0m\u001b[0;34m.\u001b[0m\u001b[0mmatrix\u001b[0m\u001b[0;34m(\u001b[0m\u001b[0;34m[\u001b[0m\u001b[0;34m[\u001b[0m\u001b[0;36m0\u001b[0m\u001b[0;34m]\u001b[0m\u001b[0;34m,\u001b[0m\u001b[0;34m[\u001b[0m\u001b[0;36m0\u001b[0m\u001b[0;34m]\u001b[0m\u001b[0;34m]\u001b[0m\u001b[0;34m)\u001b[0m\u001b[0;34m\u001b[0m\u001b[0;34m\u001b[0m\u001b[0m\n\u001b[1;32m      5\u001b[0m \u001b[0mnp\u001b[0m\u001b[0;34m.\u001b[0m\u001b[0mlinalg\u001b[0m\u001b[0;34m.\u001b[0m\u001b[0msolve\u001b[0m\u001b[0;34m(\u001b[0m\u001b[0mb\u001b[0m\u001b[0;34m,\u001b[0m\u001b[0mc\u001b[0m\u001b[0;34m)\u001b[0m\u001b[0;34m\u001b[0m\u001b[0;34m\u001b[0m\u001b[0m\n",
      "\u001b[0;31mNameError\u001b[0m: name 'np' is not defined"
     ]
    }
   ],
   "source": [
    "b1 = [1,2]\n",
    "b2 = [3,1]\n",
    "b = np.matrix([[1,2],[3,-1]])\n",
    "c = np.matrix([[0],[0]])\n",
    "np.linalg.solve(b,c)\n",
    "# Linear Independent since constants have unique solution of 0\n",
    "# or if determinant is 0"
   ]
  },
  {
   "cell_type": "markdown",
   "metadata": {},
   "source": [
    "Consider the following matrix: "
   ]
  },
  {
   "cell_type": "markdown",
   "metadata": {},
   "source": [
    "$$A = \n",
    "\\left[\n",
    "\\begin{matrix}\n",
    "    1 & -3 \\\\\n",
    "    -2 & 6\n",
    "\\end{matrix}\n",
    "\\right] \n",
    "$$"
   ]
  },
  {
   "cell_type": "markdown",
   "metadata": {},
   "source": [
    "&#9989; <font color=red>**DO THIS**</font> Find the reduced echelon form of $A$."
   ]
  },
  {
   "cell_type": "code",
   "execution_count": 3,
   "metadata": {},
   "outputs": [
    {
     "data": {
      "text/latex": [
       "$$\\left ( \\left[\\begin{matrix}1 & -3\\\\0 & 0\\end{matrix}\\right], \\quad \\left ( 0\\right )\\right )$$"
      ],
      "text/plain": [
       "⎛⎡1  -3⎤      ⎞\n",
       "⎜⎢     ⎥, (0,)⎟\n",
       "⎝⎣0  0 ⎦      ⎠"
      ]
     },
     "execution_count": 3,
     "metadata": {},
     "output_type": "execute_result"
    }
   ],
   "source": [
    "A = np.matrix([[1,-3],[-2,6]])\n",
    "sym.Matrix(A).rref()"
   ]
  },
  {
   "cell_type": "markdown",
   "metadata": {},
   "source": [
    "&#9989; <font color=red>**QUESTION 2**</font> Based on the answer above and Theorm 4.18, does $Ax=0$ have a unique solution? Explain your answer."
   ]
  },
  {
   "cell_type": "code",
   "execution_count": 2,
   "metadata": {},
   "outputs": [],
   "source": [
    "#No unique solution, only one linear independant equation as can be seen with all 0 on bottom line. Or because determinant is 0"
   ]
  },
  {
   "cell_type": "markdown",
   "metadata": {},
   "source": [
    "&#9989; <font color=red>**QUESTION 3:**</font> What is the rank of $A$?"
   ]
  },
  {
   "cell_type": "code",
   "execution_count": 5,
   "metadata": {},
   "outputs": [
    {
     "data": {
      "text/plain": [
       "1"
      ]
     },
     "execution_count": 5,
     "metadata": {},
     "output_type": "execute_result"
    }
   ],
   "source": [
    "# Only one linear independant equation as seen from the result of rref\n",
    "np.linalg.matrix_rank(A)"
   ]
  },
  {
   "cell_type": "markdown",
   "metadata": {},
   "source": [
    "&#9989; <font color=red>**QUESTION 4:**</font> What is(are) the solution(s) to $Ax=0$?"
   ]
  },
  {
   "cell_type": "markdown",
   "metadata": {},
   "source": [
    "(x1,x2) = (3*x2, x2)"
   ]
  },
  {
   "cell_type": "markdown",
   "metadata": {},
   "source": [
    "# 2. The Basis of a Vector Space\n",
    "\n",
    "Let $U$ be a vector space with basis $B=\\{u_1, \\ldots, u_n\\}$, and let $u$ be a vector in $U$. \n",
    "Because a basis \"spans\" the vector space, we know that there exists unique scalars $a_1, \\dots a_n$ such that:\n",
    "\n",
    "$$ u = a_1u_1 + \\dots + a_nu_n$$\n",
    "\n",
    "The values $a_1, \\dots, a_n$ are called the **coordinates of $u$** relative to the basis ($B$) and is typically written as a column vector:\n",
    "\n",
    "$$ u_B = \n",
    "\\left[\n",
    "\\begin{matrix}\n",
    "    a_1  \\\\\n",
    "    \\vdots  \\\\\n",
    "    a_n \n",
    " \\end{matrix}\n",
    "\\right] \n",
    "$$\n",
    "\n",
    "We can create a *transition matrix* $P$ using the inverse of the matrix with the basis vectors being columns. \n",
    "\n",
    "$$P = [ u_1  \\ldots  u_n ]^{-1}$$\n",
    "\n",
    "Now we will show that matrix $P$ will transition vector $u$ in the standard coordinate system to the coordinates relative to the basis $B$:\n",
    "\n",
    "$$ u_B = Pu$$"
   ]
  },
  {
   "cell_type": "markdown",
   "metadata": {},
   "source": [
    "**EXAMPLE**: Consider the vector $u = \\left[ \\begin{matrix} 5 \\\\ 3 \\end{matrix} \\right]$ and the basis vectors $B = \\{(1,2), (3,-1)\\}$. \n",
    "The following code calculate the $P$ *transition matrix* from $B$ and then use $P$ to calculate the values of $u_B$ ($a_1$ and $a_2$):\n"
   ]
  },
  {
   "cell_type": "code",
   "execution_count": 6,
   "metadata": {
    "scrolled": false
   },
   "outputs": [
    {
     "data": {
      "text/latex": [
       "$$\\left[\\begin{matrix}2.0\\\\1.0\\end{matrix}\\right]$$"
      ],
      "text/plain": [
       "⎡2.0⎤\n",
       "⎢   ⎥\n",
       "⎣1.0⎦"
      ]
     },
     "execution_count": 6,
     "metadata": {},
     "output_type": "execute_result"
    }
   ],
   "source": [
    "B = np.matrix([[1,2],[3,-1]]).T\n",
    "u = np.matrix([[5],[3]])\n",
    "P = np.linalg.inv(B)\n",
    "ub = P*u\n",
    "\n",
    "sym.Matrix(ub)"
   ]
  },
  {
   "cell_type": "markdown",
   "metadata": {},
   "source": [
    "Here we would like to view this from $R^n$ \n",
    "Let $$B=[u_1 \\dots u_n],$$\n",
    "then the values of $u_B$ can be found by solving the linear system $$u = B u_B.$$\n",
    "Because the columns of $B$ is a basis, therefore, the matrix $B$ is a $n\\times n$ square matrix and it has an inverse. \n",
    "Therefore, we can solve the linear system and obtain \n",
    "$$u_b = B^{-1} u = Pu.$$\n"
   ]
  },
  {
   "cell_type": "markdown",
   "metadata": {},
   "source": [
    "Let's try to visualize this with a plot:"
   ]
  },
  {
   "cell_type": "code",
   "execution_count": 7,
   "metadata": {},
   "outputs": [
    {
     "data": {
      "image/png": "[encoded data removed]",
      "text/plain": [
       "<Figure size 432x288 with 1 Axes>"
      ]
     },
     "metadata": {
      "needs_background": "light"
     },
     "output_type": "display_data"
    }
   ],
   "source": [
    "ax = plt.axes();\n",
    "\n",
    "\n",
    "#Blue arrow representing first Basis Vector\n",
    "ax.arrow(0, 0, B[0,0],B[1,0], head_width=.2, head_length=.2, fc='blue', ec='blue');\n",
    "\n",
    "\n",
    "#Green arrow representing Second Basis Vector\n",
    "plt.plot([0,B[0,1]],[0,B[1,1]],color='green'); #Need this line to make the figure work. Not sure why.\n",
    "ax.arrow(0, 0, B[0,1],B[1,1], head_width=.2, head_length=.2, fc='green', ec='green');\n",
    "\n",
    "#Original point u as a red dot\n",
    "ax.scatter(u[0,0],u[1,0], color='red');\n",
    "\n",
    "plt.show()\n",
    "#plt.axis('equal');\n"
   ]
  },
  {
   "cell_type": "markdown",
   "metadata": {},
   "source": [
    "Notice that the blue arrow represents the first basis vector and the green arrow is the second basis vector in $B$. \n",
    "The solution to $u_B$ shows 2 units along the blue vector and 1 units along the green vector, which puts us at the point (5,3). \n",
    "\n",
    "This is also called a change in coordinate systems."
   ]
  },
  {
   "cell_type": "markdown",
   "metadata": {},
   "source": [
    "&#9989; <font color=red>**QUESTION 5**</font>: What is the coordinate vector of $u$ relative to the given basis $B$ in $R^3$:  \n",
    "\n",
    "$$u = (9,-3,21)$$\n",
    "$$B = \\{(2,0,-1), (0,1,3), (1,1,1)\\}$$"
   ]
  },
  {
   "cell_type": "code",
   "execution_count": 8,
   "metadata": {},
   "outputs": [
    {
     "data": {
      "text/latex": [
       "$$\\left[\\begin{matrix}16.0\\\\20.0\\\\-23.0\\end{matrix}\\right]$$"
      ],
      "text/plain": [
       "⎡16.0 ⎤\n",
       "⎢     ⎥\n",
       "⎢20.0 ⎥\n",
       "⎢     ⎥\n",
       "⎣-23.0⎦"
      ]
     },
     "execution_count": 8,
     "metadata": {},
     "output_type": "execute_result"
    }
   ],
   "source": [
    "B = np.matrix([[2,0,-1],[0,1,3],[1,1,1]]).T\n",
    "u = np.matrix([[9],[-3],[21]])\n",
    "P = np.linalg.inv(B)\n",
    "ub = P*u\n",
    "\n",
    "sym.Matrix(ub)"
   ]
  },
  {
   "cell_type": "markdown",
   "metadata": {},
   "source": [
    "*Let's look into the matrix $P$, what is the meaning of the columns of the matrix $P$?*\n",
    "\n",
    "We know that $P$ is the inverse of $B$, therefore, we have $$BP=I.$$\n",
    "Then we can look at the first column of the $P$, say $p_{1}$, we have that $Bp_1$ is the column vector $(1,0,0)^\\top$, which  is exactly the first component from the standard basis. \n",
    "This is true for other columns. \n",
    "It means that if we want to change an old basis $B$ to a nwe basis $B'$, we need to find out all the coordinates in the new basis for the old basis, and the transition matrix is by putting all he coordinates as columns."
   ]
  },
  {
   "cell_type": "code",
   "execution_count": 9,
   "metadata": {},
   "outputs": [
    {
     "name": "stdout",
     "output_type": "stream",
     "text": [
      "[[ 16.]\n",
      " [ 20.]\n",
      " [-23.]]\n"
     ]
    }
   ],
   "source": [
    "B = np.matrix([[2,0,-1],[0,1,3],[1,1,1]]).T\n",
    "# The first column of P should be \n",
    "u1 = np.matrix([1,0,0]).T\n",
    "p1 = np.linalg.solve(B,u1)\n",
    "# The second column of P should be \n",
    "u2 = np.matrix([0,1,0]).T\n",
    "p2 = np.linalg.solve(B,u2)\n",
    "# The third column of P should be \n",
    "u3 = np.matrix([0,0,1]).T\n",
    "p3 = np.linalg.solve(B,u3)\n",
    "# concatenate three column together into a 3x3 matrix\n",
    "P = np.concatenate((p1, p2, p3), axis=1)\n",
    "# Find the new coordinate in the new basis\n",
    "u = np.matrix([9,-3,21]).T\n",
    "UB = P*u\n",
    "print(UB)"
   ]
  },
  {
   "cell_type": "markdown",
   "metadata": {},
   "source": [
    "(**Optional** [Example 2 in Section 5.1 of the textbook, Page 301]) Let's make it complicated. \n",
    "Here we consider the vector space that is not $R^n$. \n",
    "Find the coordinate vectors of $u=5x^2+x+9$ relative to the following bases of $P_2$ (the polynomial with order not great than 2):\n",
    "\n",
    "(a) The standard basis, $B=\\{x^2, x , 1\\}$\n",
    "\n",
    "(b) $B'=\\{x^2-x+1, 3x^2-1, 2x^2+x+2\\}$\n",
    "\n",
    "It is easy to see that $u = 5 (x^2) + 1(x) + 9(1)$, therefore,\n",
    "$$u_B=[5, 1, 9]^\\top.$$"
   ]
  },
  {
   "cell_type": "markdown",
   "metadata": {},
   "source": [
    "&#9989; <font color=red>**DO IT**</font>: What is the coordinate vector of $u_{B'}$ relative to the given basis $B'$ in for $P_2$ (the polynomial with order not greater than 2): "
   ]
  },
  {
   "cell_type": "code",
   "execution_count": 10,
   "metadata": {},
   "outputs": [
    {
     "data": {
      "text/latex": [
       "$$\\left[\\begin{matrix}2.0\\\\-1.0\\\\3.0\\end{matrix}\\right]$$"
      ],
      "text/plain": [
       "⎡2.0 ⎤\n",
       "⎢    ⎥\n",
       "⎢-1.0⎥\n",
       "⎢    ⎥\n",
       "⎣3.0 ⎦"
      ]
     },
     "execution_count": 10,
     "metadata": {},
     "output_type": "execute_result"
    }
   ],
   "source": [
    "#ANSWER#\n",
    "B = np.matrix([[1,-1,1],[3,0,-1],[2,1,2]]).T\n",
    "P = np.linalg.inv(B)\n",
    "\n",
    "u = np.matrix([5,1,9]).T\n",
    "\n",
    "UB = P*u\n",
    "sym.Matrix(UB)\n",
    "#ANSWER#"
   ]
  },
  {
   "cell_type": "markdown",
   "metadata": {},
   "source": [
    "# 3. Change of Basis\n",
    "\n",
    "Now consider the following two bases in $R^2$:\n",
    "\n",
    "$$B_1 = \\{(1,2), (3,-1)\\}$$\n",
    "$$B_2 = \\{(3,1), (5,2)\\}$$\n",
    "\n",
    "The transformation from the \"standard basis\" to $B_1$ and $B_2$ can be defined as the column vectors $P_1$ and $P_2$ as follows:\n"
   ]
  },
  {
   "cell_type": "code",
   "execution_count": 11,
   "metadata": {},
   "outputs": [
    {
     "data": {
      "text/latex": [
       "$$\\left[\\begin{matrix}0.142857142857143 & 0.428571428571429\\\\0.285714285714286 & -0.142857142857143\\end{matrix}\\right]$$"
      ],
      "text/plain": [
       "⎡0.142857142857143  0.428571428571429 ⎤\n",
       "⎢                                     ⎥\n",
       "⎣0.285714285714286  -0.142857142857143⎦"
      ]
     },
     "execution_count": 11,
     "metadata": {},
     "output_type": "execute_result"
    }
   ],
   "source": [
    "B1 = np.matrix([[1,2],[3,-1]]).T\n",
    "P1 = sym.Matrix(np.linalg.inv(B1))\n",
    "P1"
   ]
  },
  {
   "cell_type": "code",
   "execution_count": 12,
   "metadata": {},
   "outputs": [
    {
     "data": {
      "text/latex": [
       "$$\\left[\\begin{matrix}2.0 & -5.0\\\\-1.0 & 3.0\\end{matrix}\\right]$$"
      ],
      "text/plain": [
       "⎡2.0   -5.0⎤\n",
       "⎢          ⎥\n",
       "⎣-1.0  3.0 ⎦"
      ]
     },
     "execution_count": 12,
     "metadata": {},
     "output_type": "execute_result"
    }
   ],
   "source": [
    "B2 = np.matrix([[3,1],[5,2]]).T\n",
    "P2 = sym.Matrix(np.linalg.inv(B2))\n",
    "P2"
   ]
  },
  {
   "cell_type": "markdown",
   "metadata": {},
   "source": [
    "&#9989; <font color=red>**DO THIS**</font>: Find the transition matrix $T$ that will take points in the $B_1$ coordinate representation and put them into $B_2$ coordinates.   (**HINT:** Reread the subsection titled \"Change of Basis\" of Section 5.1 on page 302 of the textbook.)"
   ]
  },
  {
   "cell_type": "code",
   "execution_count": 16,
   "metadata": {},
   "outputs": [
    {
     "data": {
      "text/latex": [
       "$$\\left[\\begin{matrix}-8.0 & 11.0\\\\5.0 & -6.0\\end{matrix}\\right]$$"
      ],
      "text/plain": [
       "⎡-8.0  11.0⎤\n",
       "⎢          ⎥\n",
       "⎣5.0   -6.0⎦"
      ]
     },
     "execution_count": 16,
     "metadata": {},
     "output_type": "execute_result"
    }
   ],
   "source": [
    "T = np.linalg.inv(B2)*B1\n",
    "sym.Matrix(T)"
   ]
  },
  {
   "cell_type": "markdown",
   "metadata": {},
   "source": [
    "&#9989; <font color=red>**QUESTION 6**</font>: Given $u_{B_1} = \\left[ \\begin{matrix} 2 \\\\ 1 \\end{matrix} \\right]$ and your calculated transition matrix $T$, what is the same points expressed in the $B_2$ basis (i.e. what is $u_{B2}$)?"
   ]
  },
  {
   "cell_type": "code",
   "execution_count": 14,
   "metadata": {},
   "outputs": [
    {
     "data": {
      "text/latex": [
       "$$\\left[\\begin{matrix}2\\\\1\\end{matrix}\\right]$$"
      ],
      "text/plain": [
       "⎡2⎤\n",
       "⎢ ⎥\n",
       "⎣1⎦"
      ]
     },
     "execution_count": 14,
     "metadata": {},
     "output_type": "execute_result"
    }
   ],
   "source": [
    "ub1 = np.matrix([[2],[1]])\n",
    "sym.Matrix(ub1)"
   ]
  },
  {
   "cell_type": "code",
   "execution_count": 3,
   "metadata": {},
   "outputs": [
    {
     "ename": "NameError",
     "evalue": "name 'T' is not defined",
     "output_type": "error",
     "traceback": [
      "\u001b[0;31m---------------------------------------------------------------------------\u001b[0m",
      "\u001b[0;31mNameError\u001b[0m                                 Traceback (most recent call last)",
      "\u001b[0;32m<ipython-input-3-6c975dbce7aa>\u001b[0m in \u001b[0;36m<module>\u001b[0;34m\u001b[0m\n\u001b[0;32m----> 1\u001b[0;31m \u001b[0mT\u001b[0m\u001b[0;34m*\u001b[0m\u001b[0mub1\u001b[0m\u001b[0;34m\u001b[0m\u001b[0;34m\u001b[0m\u001b[0m\n\u001b[0m\u001b[1;32m      2\u001b[0m \u001b[0;31m# B1*u_b1 puts into standard bases, then multiply by B2 inverse like we did before\u001b[0m\u001b[0;34m\u001b[0m\u001b[0;34m\u001b[0m\u001b[0;34m\u001b[0m\u001b[0m\n",
      "\u001b[0;31mNameError\u001b[0m: name 'T' is not defined"
     ]
    }
   ],
   "source": [
    "T*ub1\n",
    "# B1*u_b1 puts into standard bases, then multiply by B2 inverse like we did before"
   ]
  },
  {
   "cell_type": "markdown",
   "metadata": {},
   "source": [
    "There are there bases $B_1$, $B_2$, and $B_3$. We have the transition matrix $P_{12}$ from $B_1$ to $B_2$ and the transition matrix $P_{23}$ from $B_2$ to $B_3$. \n",
    "In $R^n$, we can compute the transition matrix as $$P_{12}=B_2^{-1}B_1,\\quad P_{23}=B_3^{-1}B_2$$\n",
    "\n",
    "Then we can find all other transition matrices.\n",
    "$$P_{13} = B_3^{-1}B_1=B_3^{-1}B_2*B_2^{-1}B_1= P_{23}P_{12}$$\n",
    "$$P_{21} = B_1^{-1}B_2 = (B_2^{-1}B_1)^{-1}=P_{12}^{-1}$$\n",
    "$$P_{32} = B_2^{-1}B_3 = (B_3^{-1}B_2)^{-1}=P_{23}^{-1}$$\n",
    "$$P_{31} = B_1^{-1}B_3 = (B_3^{-1}B_1)^{-1}=P_{13}^{-1}=(P_{23}P_{12})^{-1}=P_{12}^{-1}P_{23}^{-1}$$\n",
    "\n",
    "The result is true for general vector spaces and can be extended to many bases."
   ]
  },
  {
   "cell_type": "markdown",
   "metadata": {},
   "source": [
    "----\n",
    "# 4. Assignment wrap-up\n"
   ]
  },
  {
   "cell_type": "markdown",
   "metadata": {},
   "source": [
    "&#9989; <font color=red>**DO THIS:**</font> Please fill out the form that appears when you run the code below.  **You must completely fill this out in order to receive credit for the assignment!**\n",
    "\n",
    "[Direct Link](https://docs.google.com/forms/d/e/1FAIpQLScX1V5yxB6HLP0_SEzlepfYibr_63OzeRLEfmCRODriLWkH-Q/viewform)"
   ]
  },
  {
   "cell_type": "code",
   "execution_count": null,
   "metadata": {},
   "outputs": [],
   "source": [
    "from IPython.display import HTML\n",
    "HTML(\n",
    "\"\"\"\n",
    "<iframe \n",
    "\tsrc=\"https://docs.google.com/forms/d/e/1FAIpQLScX1V5yxB6HLP0_SEzlepfYibr_63OzeRLEfmCRODriLWkH-Q/viewform?embedded=true\" \n",
    "\twidth=\"100%\" \n",
    "\theight=\"1200px\" \n",
    "\tframeborder=\"0\" \n",
    "\tmarginheight=\"0\" \n",
    "\tmarginwidth=\"0\">\n",
    "\tLoading...\n",
    "</iframe>\n",
    "\"\"\"\n",
    ")"
   ]
  },
  {
   "cell_type": "markdown",
   "metadata": {},
   "source": [
    "---------\n",
    "### Congratulations, we're almost done!\n",
    "\n",
    "To get credit for this assignment you must fill out and submit the above Google form on or before the assignment due date."
   ]
  },
  {
   "cell_type": "markdown",
   "metadata": {},
   "source": [
    "&#169; Copyright 2018,  Michigan State University Board of Trustees"
   ]
  }
 ],
 "metadata": {
  "anaconda-cloud": {},
  "kernelspec": {
   "display_name": "Python 3",
   "language": "python",
   "name": "python3"
  },
  "language_info": {
   "codemirror_mode": {
    "name": "ipython",
    "version": 3
   },
   "file_extension": ".py",
   "mimetype": "text/x-python",
   "name": "python",
   "nbconvert_exporter": "python",
   "pygments_lexer": "ipython3",
   "version": "3.7.1"
  }
 },
 "nbformat": 4,
 "nbformat_minor": 1
}
