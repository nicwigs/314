{
 "cells": [
  {
   "cell_type": "markdown",
   "metadata": {},
   "source": [
    "In order to successfully complete this assignment, you must do the required reading, watch the provided videos, and complete all instructions. The embedded Google form must be entirely filled out and submitted before **11:59pm on Wednesday Jan. 9th**. Students must come to class the next day prepared to discuss the materials covered in this assignment. \n",
    "\n"
   ]
  },
  {
   "cell_type": "markdown",
   "metadata": {},
   "source": [
    "# Pre-Class Assignment: Linear Equations\n",
    "\n",
    "\n",
    "**Give yourself time and come prepared for class!!!** Read the entire assignment.  Depending on your reading comprehension, the sections in the book should take 20 minutes, watching the videos may be another hour, and then you have to do the assignments and answer the questions.  So, at a minimum, you should probably plan for **about 2 hours of work** to complete this assignment (actual times may vary). \n",
    "\n",
    "**This assignment is due by 11:59pm the day before class.**"
   ]
  },
  {
   "cell_type": "markdown",
   "metadata": {},
   "source": [
    "---\n",
    "# Assignment Overview\n",
    "1. Reading\n",
    "2. Example: Simple 2D Example\n",
    "3. Visualizing the Problem\n",
    "4. Scalar, Vector, Matrix\n",
    "5. Multidimentional Spaces\n",
    "6. Matrixes Notation\n",
    "7. Assignment Wrap-up"
   ]
  },
  {
   "cell_type": "markdown",
   "metadata": {},
   "source": [
    "---\n",
    "\n",
    "# 1. Reading\n",
    "\n",
    "Read Sections 1.1, 1.3, and 1.4 of **Linear Algebra with Applications** by Gareth Williams and answer the following questions:"
   ]
  },
  {
   "cell_type": "markdown",
   "metadata": {},
   "source": [
    "**Question 1**: What is the size of the following matrix?\n",
    "\n",
    "\n",
    "$$ \n",
    "\\left[\n",
    "\\begin{matrix}\n",
    "    0 & -1 \\\\ \n",
    "    3 & 4 \\\\\n",
    "    0 & 2\n",
    " \\end{matrix}\n",
    "\\right]\n",
    "$$"
   ]
  },
  {
   "cell_type": "markdown",
   "metadata": {},
   "source": [
    "3x2"
   ]
  },
  {
   "cell_type": "markdown",
   "metadata": {},
   "source": [
    "**Question 2**: In the matrix shown in question 1,  what is the value of element (2,1)?"
   ]
  },
  {
   "cell_type": "markdown",
   "metadata": {},
   "source": [
    "3"
   ]
  },
  {
   "cell_type": "markdown",
   "metadata": {},
   "source": [
    "**Question 3**: The book defines three Elementary Row Operations. These include: \n",
    "1) Swapping rows; \n",
    "2) multiplying one row by a constant and adding it to a second row. \n",
    "What is the third Elementary Row Operation?"
   ]
  },
  {
   "cell_type": "markdown",
   "metadata": {},
   "source": [
    "Multiply the elements of a row by a nonzero constant."
   ]
  },
  {
   "cell_type": "markdown",
   "metadata": {},
   "source": [
    "**Question 4**: The following system of equations has a unique solution. What is the solution?\n",
    "\n",
    "\n",
    "$$ x_1 - 2x_2 = -1 $$\n",
    "$$ 2x_1 - 3x_2 = -11 $$"
   ]
  },
  {
   "cell_type": "markdown",
   "metadata": {},
   "source": [
    "$$ x1 = -19 $$\n",
    "$$ x2 = -9 $$"
   ]
  },
  {
   "cell_type": "markdown",
   "metadata": {},
   "source": [
    "**Question 5**: Describe an Elementary Row Operation that can be applied to the following augmented matrix that will place a one in the (2,2) element and not change the answer to the system of linear equations.\n",
    "\n",
    "\n",
    "$$ \n",
    "\\left[\n",
    "\\begin{matrix}\n",
    "    1 & 0 & 4 \\\\ \n",
    "    0 & 2 & -2 \\\\\n",
    "    0 & 1 & 2\n",
    "  \\end{matrix}\n",
    "\\, \\middle\\vert \\,\n",
    "\\begin{matrix}\n",
    " -10 \\\\ \n",
    " 3 \\\\\n",
    " 1\n",
    "\\end{matrix}\n",
    "\\right] \n",
    "$$"
   ]
  },
  {
   "cell_type": "markdown",
   "metadata": {},
   "source": [
    "$$ R2 = R2 - R3 $$\n"
   ]
  },
  {
   "cell_type": "markdown",
   "metadata": {},
   "source": [
    "---\n",
    "# 2. Example: Simple 2D Example"
   ]
  },
  {
   "cell_type": "code",
   "execution_count": 1,
   "metadata": {},
   "outputs": [
    {
     "data": {
      "image/jpeg": "[encoded data removed]",
      "text/html": [
       "\n",
       "        <iframe\n",
       "            width=\"640\"\n",
       "            height=\"360\"\n",
       "            src=\"https://www.youtube.com/embed/CH68cc7sH4A\"\n",
       "            frameborder=\"0\"\n",
       "            allowfullscreen\n",
       "        ></iframe>\n",
       "        "
      ],
      "text/plain": [
       "<IPython.lib.display.YouTubeVideo at 0x7f1f7cfe78d0>"
      ]
     },
     "execution_count": 1,
     "metadata": {},
     "output_type": "execute_result"
    }
   ],
   "source": [
    "from IPython.display import YouTubeVideo\n",
    "YouTubeVideo(\"CH68cc7sH4A\",width=640,height=360)"
   ]
  },
  {
   "cell_type": "markdown",
   "metadata": {},
   "source": [
    "> Giselle works as a carpenter and as a blacksmith. She earns \\$20 per hour as a carpenter and \\$25 per hour as a blacksmith. Last week, Giselle worked both jobs for a total of 30 hours, and earned a total of \\$690.\n",
    ">How long did Giselle work as a carpenter last week, and how long did she work as a blacksmith?\n",
    "\n",
    "<p style=\"text-align: right;\"> - [Brainly.com](https://brainly.com/question/2202719)</p>\n",
    "\n",
    "This problems gives us two equations and two unknowns:\n",
    "\n",
    "$$ c + b = 30 $$\n",
    "$$ 20c + 25b = 690 $$\n",
    "\n",
    "How would we solve this in algebra?  \n",
    "\n",
    "First, we can multiply the first equation by -20 and add to the second equation.  This is often called a \"linear combination\" of the two equations. The operation does not change the answer:\n",
    "\n",
    "$$ -20c - 20b = -600$$\n",
    "$$ 20c + 25b = 690$$\n",
    "$$----$$\n",
    "$$ 0c + 5b = 90$$\n",
    "\n",
    "This is our new second equation:\n",
    "$$ c + b = 30$$\n",
    "$$ 0c + 5b = 90$$\n",
    "\n",
    "Now we can easily divide the second equation by 5 and get the value for $b$:\n",
    "\n",
    "$$b = 90/5 = 18$$\n",
    "\n",
    "If we substitute 18 for $b$ into the first equation, we get:\n",
    "$$ c + 18 = 30$$\n",
    "\n",
    "Solving for $c$ gives us $c = 30-18=12$.  Lets check to see if this works by substituting $b=18$ and $c=12$ into our original equations:\n",
    "\n",
    "$$ 12 + 18 = 30$$\n",
    "$$ 20(12) + 25(18) = 690$$"
   ]
  },
  {
   "cell_type": "markdown",
   "metadata": {},
   "source": [
    "Lets check the answer using Python:"
   ]
  },
  {
   "cell_type": "code",
   "execution_count": 2,
   "metadata": {},
   "outputs": [],
   "source": [
    "b = 18\n",
    "c = 12"
   ]
  },
  {
   "cell_type": "code",
   "execution_count": 3,
   "metadata": {},
   "outputs": [
    {
     "data": {
      "text/plain": [
       "True"
      ]
     },
     "execution_count": 3,
     "metadata": {},
     "output_type": "execute_result"
    }
   ],
   "source": [
    "c + b == 30"
   ]
  },
  {
   "cell_type": "code",
   "execution_count": 4,
   "metadata": {},
   "outputs": [
    {
     "data": {
      "text/plain": [
       "True"
      ]
     },
     "execution_count": 4,
     "metadata": {},
     "output_type": "execute_result"
    }
   ],
   "source": [
    "20*c + 25*b == 690"
   ]
  },
  {
   "cell_type": "markdown",
   "metadata": {},
   "source": [
    "---\n",
    "\n",
    "# 3.  Visualizing the Problem\n",
    "We can visualize the solution to these equations in a graph. If we make $b$ the \"$y$\"-axis and $c$ the \"$x$\"-axis. For each equation we calculate the $b$ value for each $c$, and it gives us two lines. \n",
    "\n",
    "**Note:** This is sometimes called the \"Row Picture.\" I will ask you why it has this name in class. So think about it."
   ]
  },
  {
   "cell_type": "code",
   "execution_count": 5,
   "metadata": {},
   "outputs": [
    {
     "data": {
      "image/jpeg": "[encoded data removed]",
      "text/html": [
       "\n",
       "        <iframe\n",
       "            width=\"640\"\n",
       "            height=\"360\"\n",
       "            src=\"https://www.youtube.com/embed/BSxWO6FGib0\"\n",
       "            frameborder=\"0\"\n",
       "            allowfullscreen\n",
       "        ></iframe>\n",
       "        "
      ],
      "text/plain": [
       "<IPython.lib.display.YouTubeVideo at 0x7f1f7c73bcc0>"
      ]
     },
     "execution_count": 5,
     "metadata": {},
     "output_type": "execute_result"
    }
   ],
   "source": [
    "from IPython.display import YouTubeVideo\n",
    "YouTubeVideo(\"BSxWO6FGib0\",width=640,height=360)"
   ]
  },
  {
   "cell_type": "code",
   "execution_count": 6,
   "metadata": {},
   "outputs": [],
   "source": [
    "%matplotlib inline\n",
    "import matplotlib.pylab as plt\n",
    "import numpy as np"
   ]
  },
  {
   "cell_type": "code",
   "execution_count": 7,
   "metadata": {},
   "outputs": [],
   "source": [
    "c = np.linspace(0,20)\n",
    "b1 = 30-c\n",
    "b2 = (690-20*c)/25"
   ]
  },
  {
   "cell_type": "code",
   "execution_count": 8,
   "metadata": {},
   "outputs": [
    {
     "data": {
      "text/plain": [
       "<matplotlib.collections.PathCollection at 0x7f1f54885fd0>"
      ]
     },
     "execution_count": 8,
     "metadata": {},
     "output_type": "execute_result"
    },
    {
     "data": {
      "image/png": "[encoded data removed]",
      "text/plain": [
       "<Figure size 432x288 with 1 Axes>"
      ]
     },
     "metadata": {},
     "output_type": "display_data"
    }
   ],
   "source": [
    "plt.plot(c,b1)\n",
    "plt.plot(c,b2)\n",
    "plt.xlabel('c (hours worked as carpenter)')\n",
    "plt.ylabel('b (hours worked as blacksmith)')\n",
    "plt.scatter(12,18)"
   ]
  },
  {
   "cell_type": "markdown",
   "metadata": {},
   "source": [
    "\n",
    "Now, consider the next set of equations which do not have a solution (from Figure 1.2 in the book)\n",
    "\n",
    "$$-2x+y=3$$\n",
    "$$-4x+2y=2$$\n"
   ]
  },
  {
   "cell_type": "code",
   "execution_count": 9,
   "metadata": {},
   "outputs": [
    {
     "data": {
      "text/plain": [
       "[<matplotlib.lines.Line2D at 0x7f1f547efd68>]"
      ]
     },
     "execution_count": 9,
     "metadata": {},
     "output_type": "execute_result"
    },
    {
     "data": {
      "image/png": "[encoded data removed]",
      "text/plain": [
       "<Figure size 432x288 with 1 Axes>"
      ]
     },
     "metadata": {},
     "output_type": "display_data"
    }
   ],
   "source": [
    "x = np.linspace(-10,10)\n",
    "y1 =  3+2*x\n",
    "y2 = (2+4*x)/2\n",
    "plt.plot(x,y1)\n",
    "plt.plot(x,y2)"
   ]
  },
  {
   "cell_type": "code",
   "execution_count": 10,
   "metadata": {},
   "outputs": [
    {
     "data": {
      "image/jpeg": "[encoded data removed]",
      "text/html": [
       "\n",
       "        <iframe\n",
       "            width=\"640\"\n",
       "            height=\"360\"\n",
       "            src=\"https://www.youtube.com/embed/Z9gkovHDpIQ\"\n",
       "            frameborder=\"0\"\n",
       "            allowfullscreen\n",
       "        ></iframe>\n",
       "        "
      ],
      "text/plain": [
       "<IPython.lib.display.YouTubeVideo at 0x7f1f583dd320>"
      ]
     },
     "execution_count": 10,
     "metadata": {},
     "output_type": "execute_result"
    }
   ],
   "source": [
    "from IPython.display import YouTubeVideo\n",
    "YouTubeVideo(\"Z9gkovHDpIQ\",width=640,height=360)"
   ]
  },
  {
   "cell_type": "markdown",
   "metadata": {},
   "source": [
    "Consider the next set of equations which have infinte solutions (from Figure 1.2 in the book)\n",
    "\n",
    "$$4x-2y=6$$\n",
    "$$6x-3y=9$$\n"
   ]
  },
  {
   "cell_type": "code",
   "execution_count": 11,
   "metadata": {},
   "outputs": [
    {
     "data": {
      "text/plain": [
       "[<matplotlib.lines.Line2D at 0x7f1f547e06a0>]"
      ]
     },
     "execution_count": 11,
     "metadata": {},
     "output_type": "execute_result"
    },
    {
     "data": {
      "image/png": "[encoded data removed]",
      "text/plain": [
       "<Figure size 432x288 with 1 Axes>"
      ]
     },
     "metadata": {},
     "output_type": "display_data"
    }
   ],
   "source": [
    "x = np.linspace(-10,10)\n",
    "y1 =  (4*x-6)/2\n",
    "y2 = (6*x-9)/3\n",
    "plt.plot(x,y1)\n",
    "plt.plot(x,y2)"
   ]
  },
  {
   "cell_type": "markdown",
   "metadata": {},
   "source": [
    "Plot the following equations from 5 to 10\n",
    "\n",
    "$$ 18x+21y = 226$$\n",
    "$$ 72x-3y = 644$$"
   ]
  },
  {
   "cell_type": "code",
   "execution_count": 13,
   "metadata": {},
   "outputs": [
    {
     "data": {
      "text/plain": [
       "(0, 4)"
      ]
     },
     "execution_count": 13,
     "metadata": {},
     "output_type": "execute_result"
    },
    {
     "data": {
      "image/png": "[encoded data removed]",
      "text/plain": [
       "<Figure size 432x288 with 1 Axes>"
      ]
     },
     "metadata": {},
     "output_type": "display_data"
    }
   ],
   "source": [
    "x = np.linspace(5,10)\n",
    "y1 =  (-18*x+226)/21\n",
    "y2 = (-72*x+644)/-3\n",
    "plt.plot(x,y1)\n",
    "plt.plot(x,y2)\n",
    "plt.ylim(0,4)"
   ]
  },
  {
   "cell_type": "markdown",
   "metadata": {},
   "source": [
    "**Question 6:** Without solving the equations, visually estimate a solution to the two equations.  Hint, you may want to change the $x$ range to \"zoom\" in on the intersection. "
   ]
  },
  {
   "cell_type": "markdown",
   "metadata": {},
   "source": [
    "\n",
    "\n",
    "$$ x = 9$$\n",
    "$$ y = 3$$"
   ]
  },
  {
   "cell_type": "markdown",
   "metadata": {},
   "source": [
    "# 4. Scalar, Vector, Matrix\n",
    "\n",
    "In this class, a scalar is a single number or variable.  A vector is a group of numbers which we typically represent with lower case letters. There are row vectors and column vectors:\n",
    "\n",
    "**Row Vector:** \n",
    "$$v = [ v_1, v_2, \\dots, v_n ]$$\n",
    "\n",
    "**Column Vector:**\n",
    "$$\n",
    "v=\n",
    "\\left[\n",
    "\\begin{matrix}\n",
    "    v_1 \\\\ \n",
    "    v_2 \\\\\n",
    "    \\vdots \\\\\n",
    "    v_m\n",
    " \\end{matrix}\n",
    "\\right]\n",
    "$$"
   ]
  },
  {
   "cell_type": "markdown",
   "metadata": {},
   "source": [
    "I think a good programmer is a lazy person.  Never write something twice when you can make a program that will do it for you. We make it easier to write the system of equations from above using the column vector format for the equations.\n",
    "\n",
    "### Column vector format:\n",
    "$$ \n",
    "\\left[\n",
    "\\begin{matrix}\n",
    "    1 \\\\ 20  \n",
    " \\end{matrix}\n",
    "\\right]c\n",
    "+\n",
    "\\left[\n",
    "\\begin{matrix}\n",
    "    1 \\\\ 25  \n",
    " \\end{matrix}\n",
    "\\right]b\n",
    "=\n",
    "\\left[\n",
    "\\begin{matrix}\n",
    " 30 \\\\ 690\n",
    "\\end{matrix}\n",
    "\\right]\n",
    "$$"
   ]
  },
  {
   "cell_type": "markdown",
   "metadata": {},
   "source": [
    "### Column Picture:\n",
    "\n",
    "Lets plot this \"column picture\" which shows how the above equation is a \"linear combination\" of the two column vectors. Lets draw a picture. In the \"column picture\", we treat the vectors in a graph. So $[1,20]$ would be a point $x=1$ and $y=20$ on an $x-y$ graph. Consider the following:\n",
    "\n",
    "We can only move in two directions. The first direction is (1,20) and the second is (1,25). If we choose to move in the first direction, the $y$-component increases by 20 if the $x$-compoent increases by 1. The solution to the problem is how far in each direction we need to move to reach our final destination of (30,690).\n",
    "\n",
    "The first column is a vector in the (1,20) direction. The variable $c$ is how far in the (1,20) direction we want to go.  Then $b$ is how far in the (1,25) direction we want to go to arrive at the point (30,390).\n",
    "\n",
    "We will use the ```matplotlib``` function ```arrow``` to plot the vectors.  The arrow function takes a starting point $[x,y]$ and a direction $[dx,dy]$ as inputs and draws an arrow from the starting point in the direction specified.\n",
    "\n",
    "\n"
   ]
  },
  {
   "cell_type": "code",
   "execution_count": 14,
   "metadata": {},
   "outputs": [
    {
     "data": {
      "image/png": "[encoded data removed]",
      "text/plain": [
       "<Figure size 432x288 with 1 Axes>"
      ]
     },
     "metadata": {},
     "output_type": "display_data"
    }
   ],
   "source": [
    "## %matplotlib inline\n",
    "import matplotlib.pyplot as plt\n",
    "\n",
    "c = 12\n",
    "b = 18\n",
    "plt.plot(10,10)\n",
    "plt.plot(0,0)\n",
    "plt.arrow(0, 0, c*1, c*20,head_width=2, head_length=10, fc='blue', ec='blue')\n",
    "plt.arrow(c*1, c*20, b*1, b*25, head_width=2, head_length=10, fc='red', ec='red')\n",
    "plt.scatter(30,690, color='purple', s=50)\n",
    "plt.xlabel('x');\n",
    "plt.ylabel('y');\n"
   ]
  },
  {
   "cell_type": "markdown",
   "metadata": {},
   "source": [
    "# 5. Multidimentional Spaces"
   ]
  },
  {
   "cell_type": "code",
   "execution_count": 15,
   "metadata": {},
   "outputs": [
    {
     "data": {
      "image/jpeg": "[encoded data removed]",
      "text/html": [
       "\n",
       "        <iframe\n",
       "            width=\"640\"\n",
       "            height=\"320\"\n",
       "            src=\"https://www.youtube.com/embed/A3fHytkJ010\"\n",
       "            frameborder=\"0\"\n",
       "            allowfullscreen\n",
       "        ></iframe>\n",
       "        "
      ],
      "text/plain": [
       "<IPython.lib.display.YouTubeVideo at 0x7f1f5468de48>"
      ]
     },
     "execution_count": 15,
     "metadata": {},
     "output_type": "execute_result"
    }
   ],
   "source": [
    "from IPython.display import YouTubeVideo\n",
    "YouTubeVideo(\"A3fHytkJ010\",width=640,height=320)"
   ]
  },
  {
   "cell_type": "markdown",
   "metadata": {},
   "source": [
    "**Question 7:** Describe in words, what does the solution space for three equations with three unknowns and no solutions look like."
   ]
  },
  {
   "cell_type": "markdown",
   "metadata": {},
   "source": [
    "3 parallel planes"
   ]
  },
  {
   "cell_type": "markdown",
   "metadata": {},
   "source": [
    "----\n",
    "\n",
    "# 6. Matrixes Notation\n",
    "\n",
    "A *matrix* is just another form of shorthand for a system of linear equations. The general matrix format for the equations can be written as follows:\n",
    "\n",
    "$$ \n",
    "X = \n",
    "\\left[\n",
    "\\begin{matrix}\n",
    "    x_{11}       & x_{12} & x_{13} & \\dots  \\\\\n",
    "    x_{21}       & x_{22} & x_{23} & \\dots \\\\\n",
    "    \\ldots       & \\ldots & \\ldots & \\ddots \\\\\n",
    "    x_{n1}       & x_{n2} & x_{n3} & \\dots \n",
    " \\end{matrix}\n",
    "\\, % \\middle\\vert \\,\n",
    "\\begin{matrix}\n",
    "x_{1m} \\\\ x_{2m} \\\\ \\ldots \\\\ x_{nm}\n",
    "\\end{matrix}\n",
    "\\right]_{nxm}\n",
    "$$\n",
    "\n",
    "where $x_{ij}$ is a scalar element in the matrx."
   ]
  },
  {
   "cell_type": "code",
   "execution_count": 16,
   "metadata": {},
   "outputs": [
    {
     "data": {
      "image/jpeg": "[encoded data removed]",
      "text/html": [
       "\n",
       "        <iframe\n",
       "            width=\"640\"\n",
       "            height=\"360\"\n",
       "            src=\"https://www.youtube.com/embed/uC46qAjdE9w\"\n",
       "            frameborder=\"0\"\n",
       "            allowfullscreen\n",
       "        ></iframe>\n",
       "        "
      ],
      "text/plain": [
       "<IPython.lib.display.YouTubeVideo at 0x7f1f547ce1d0>"
      ]
     },
     "execution_count": 16,
     "metadata": {},
     "output_type": "execute_result"
    }
   ],
   "source": [
    "from IPython.display import YouTubeVideo\n",
    "YouTubeVideo(\"uC46qAjdE9w\",height=360,width=640)"
   ]
  },
  {
   "cell_type": "markdown",
   "metadata": {},
   "source": [
    "We represent the above system of linear equations as"
   ]
  },
  {
   "cell_type": "markdown",
   "metadata": {},
   "source": [
    "\n",
    "$$ \n",
    "\\left[\n",
    "\\begin{matrix}\n",
    "    1 & 1 \\\\ \n",
    "    20 & 25  \n",
    " \\end{matrix}\n",
    "\\right]\n",
    "\\left[\n",
    "\\begin{matrix}\n",
    "    c \\\\ \n",
    "    b  \n",
    " \\end{matrix}\n",
    "\\right]\n",
    "=\n",
    "\\left[\n",
    "\\begin{matrix}\n",
    " 30 \\\\ \n",
    " 690\n",
    "\\end{matrix}\n",
    "\\right] \n",
    "$$"
   ]
  },
  {
   "cell_type": "markdown",
   "metadata": {},
   "source": [
    "Or, sometimes we write it with a vertical line:\n",
    "$$ \n",
    "\\left[\n",
    "\\begin{matrix}\n",
    "    1 & 1 \\\\ \n",
    "    20 & 25  \n",
    " \\end{matrix}\n",
    " \\, \\middle\\vert \\,\n",
    "\\begin{matrix}\n",
    " 30 \\\\ \n",
    " 690\n",
    "\\end{matrix}\n",
    "\\right] \n",
    "$$"
   ]
  },
  {
   "cell_type": "markdown",
   "metadata": {},
   "source": [
    "We can also give these matrices names (variables):\n",
    "$$ \n",
    "\\mathbf{A} = \\left[\n",
    "\\begin{matrix}\n",
    "    1 & 1 \\\\ \n",
    "    20 & 25  \n",
    " \\end{matrix}\n",
    "\\right]\n",
    "$$\n",
    "\n",
    "$$\n",
    "x=\n",
    "\\left[\n",
    "\\begin{matrix}\n",
    "    c \\\\ \n",
    "    b  \n",
    " \\end{matrix}\n",
    "\\right]\n",
    "$$\n",
    "\n",
    "$$\n",
    "y=\n",
    "\\left[\n",
    "\\begin{matrix}\n",
    " 30 \\\\ \n",
    " 690\n",
    "\\end{matrix}\n",
    "\\right] \n",
    "$$\n",
    "\n",
    "And you can write the entire matrix equation as the following:\n",
    "$$Ax=y$$"
   ]
  },
  {
   "cell_type": "markdown",
   "metadata": {},
   "source": [
    "----\n",
    "\n",
    "# 7. Assignment Wrap-up\n",
    "\n",
    "Please fill out the form which will appear when you run the code below.  **You must completely fill it out in order to receive credits for the assignment!**\n",
    "\n",
    "[Direct Link to Google Form](https://docs.google.com/forms/d/e/1FAIpQLSfE9LQG6Z_aXAkBE_15VZbpGL4I5mt4npOKcTliiVk_zpxvSg/viewform)"
   ]
  },
  {
   "cell_type": "code",
   "execution_count": 17,
   "metadata": {},
   "outputs": [
    {
     "data": {
      "text/html": [
       "\n",
       "<iframe \n",
       "\tsrc=\"https://docs.google.com/forms/d/e/1FAIpQLSfE9LQG6Z_aXAkBE_15VZbpGL4I5mt4npOKcTliiVk_zpxvSg/viewform?embedded=true\" \n",
       "\twidth=\"100%\" \n",
       "\theight=\"500px\" \n",
       "\tframeborder=\"0\" \n",
       "\tmarginheight=\"0\" \n",
       "\tmarginwidth=\"0\">\n",
       "\tLoading...\n",
       "</iframe>\n"
      ],
      "text/plain": [
       "<IPython.core.display.HTML object>"
      ]
     },
     "execution_count": 17,
     "metadata": {},
     "output_type": "execute_result"
    }
   ],
   "source": [
    "from IPython.display import HTML\n",
    "HTML(\n",
    "\"\"\"\n",
    "<iframe \n",
    "\tsrc=\"https://docs.google.com/forms/d/e/1FAIpQLSfE9LQG6Z_aXAkBE_15VZbpGL4I5mt4npOKcTliiVk_zpxvSg/viewform?embedded=true\" \n",
    "\twidth=\"100%\" \n",
    "\theight=\"500px\" \n",
    "\tframeborder=\"0\" \n",
    "\tmarginheight=\"0\" \n",
    "\tmarginwidth=\"0\">\n",
    "\tLoading...\n",
    "</iframe>\n",
    "\"\"\"\n",
    ")"
   ]
  },
  {
   "cell_type": "markdown",
   "metadata": {},
   "source": [
    "-----\n",
    "### Congratulations, we're done!\n",
    "\n",
    "To get credit for this assignment you must fill out and submit the above Google From on or before the assignment due date."
   ]
  },
  {
   "cell_type": "markdown",
   "metadata": {},
   "source": [
    "&#169; Copyright 2019,  Michigan State University Board of Trustees"
   ]
  }
 ],
 "metadata": {
  "kernelspec": {
   "display_name": "Python 3",
   "language": "python",
   "name": "python3"
  },
  "language_info": {
   "codemirror_mode": {
    "name": "ipython",
    "version": 3
   },
   "file_extension": ".py",
   "mimetype": "text/x-python",
   "name": "python",
   "nbconvert_exporter": "python",
   "pygments_lexer": "ipython3",
   "version": "3.6.5"
  }
 },
 "nbformat": 4,
 "nbformat_minor": 2
}
