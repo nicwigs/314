{
 "cells": [
  {
   "cell_type": "markdown",
   "metadata": {},
   "source": [
    "In order to successfully complete this assignment, you must do the required reading, watch the provided videos and complete all instructions. \n",
    "The embedded Google form must be entirely filled out and submitted on or before **11:59pm on Monday Mar. 18th**. \n",
    "Students must come to class the next day prepared to discuss the material covered in this assignment. "
   ]
  },
  {
   "cell_type": "markdown",
   "metadata": {},
   "source": [
    "# Pre-Class Assignment: Symmetric Matrices"
   ]
  },
  {
   "cell_type": "markdown",
   "metadata": {},
   "source": [
    "# Goals for today's pre-class assignment \n",
    "\n",
    "**Read Section 5.3 of the textbook.**\n",
    "\n",
    "</p>\n",
    "\n",
    "1. Symmetric Matrices\n",
    "1. Assignment Wrap-up"
   ]
  },
  {
   "cell_type": "code",
   "execution_count": 1,
   "metadata": {},
   "outputs": [],
   "source": [
    "%matplotlib inline\n",
    "import matplotlib.pylab as plt\n",
    "import numpy as np\n",
    "import sympy as sym\n",
    "sym.init_printing()"
   ]
  },
  {
   "cell_type": "markdown",
   "metadata": {},
   "source": [
    "----\n",
    "# 1. Symmetric Matrices\n",
    "\n",
    "**Definition**: A square matrix is *symmetric* if \n",
    "$$ {A}={A}^{\\top}.$$\n",
    "\n",
    "We are concerned with the eigenvalues and eigenvectors of symmetric matrices\n",
    "- The eigenvalues are real\n",
    "- It has $n$ linearly independent eigenvectors\n",
    "- The eigenvectors are orthogonal, or at least, can be chosen orthogonal"
   ]
  },
  {
   "cell_type": "markdown",
   "metadata": {},
   "source": [
    "&#9989; <font color=red>**DO THIS:**</font> Let's find the eigenvalues and eigenvectors of the following matrix:\n",
    "$$ A=\\begin{bmatrix} 5 & 2 \\\\ 2 & 3  \\end{bmatrix}$$"
   ]
  },
  {
   "cell_type": "code",
   "execution_count": 7,
   "metadata": {},
   "outputs": [
    {
     "data": {
      "text/latex": [
       "$$\\left [ \\left ( 1.76393202250021, \\quad 1, \\quad \\left [ \\left[\\begin{matrix}-0.618033988749895\\\\1.0\\end{matrix}\\right]\\right ]\\right ), \\quad \\left ( 6.23606797749979, \\quad 1, \\quad \\left [ \\left[\\begin{matrix}1.61803398874989\\\\1.0\\end{matrix}\\right]\\right ]\\right )\\right ]$$"
      ],
      "text/plain": [
       "⎡⎛                     ⎡⎡-0.618033988749895⎤⎤⎞  ⎛                     ⎡⎡1.6180\n",
       "⎢⎜1.76393202250021, 1, ⎢⎢                  ⎥⎥⎟, ⎜6.23606797749979, 1, ⎢⎢      \n",
       "⎣⎝                     ⎣⎣       1.0        ⎦⎦⎠  ⎝                     ⎣⎣      \n",
       "\n",
       "3398874989⎤⎤⎞⎤\n",
       "          ⎥⎥⎟⎥\n",
       "1.0       ⎦⎦⎠⎦"
      ]
     },
     "execution_count": 7,
     "metadata": {},
     "output_type": "execute_result"
    }
   ],
   "source": [
    "A = sym.Matrix([[5,2.],[2,3]])\n",
    "A.eigenvects()"
   ]
  },
  {
   "cell_type": "markdown",
   "metadata": {},
   "source": [
    "&#9989; <font color=red>**QUESTION 1:**</font> Write a function to check the symmetricity of the matrix $A$."
   ]
  },
  {
   "cell_type": "code",
   "execution_count": 8,
   "metadata": {},
   "outputs": [],
   "source": [
    "def symCheck(A):\n",
    "    return A.T == A"
   ]
  },
  {
   "cell_type": "code",
   "execution_count": 9,
   "metadata": {},
   "outputs": [
    {
     "data": {
      "text/plain": [
       "True"
      ]
     },
     "execution_count": 9,
     "metadata": {},
     "output_type": "execute_result"
    }
   ],
   "source": [
    "symCheck(A)"
   ]
  },
  {
   "cell_type": "markdown",
   "metadata": {},
   "source": [
    "&#9989; <font color=red>**QUESTION 2:**</font>  Find the eigenvalues for the matrix $A$?"
   ]
  },
  {
   "cell_type": "markdown",
   "metadata": {},
   "source": [
    "1.76, 6.23"
   ]
  },
  {
   "cell_type": "markdown",
   "metadata": {},
   "source": [
    "&#9989; <font color=red>**QUESTION 3:**</font>  Find two linear independent eigenvectors for the matrix $A$?"
   ]
  },
  {
   "cell_type": "markdown",
   "metadata": {},
   "source": [
    "[-0.618,1],[1.618,1]"
   ]
  },
  {
   "cell_type": "markdown",
   "metadata": {},
   "source": [
    "&#9989; <font color=red>**DO THIS:**</font>   Check that two lienar independent eigenvectors are orthogonal."
   ]
  },
  {
   "cell_type": "code",
   "execution_count": 12,
   "metadata": {},
   "outputs": [
    {
     "data": {
      "image/png": "[encoded data removed]",
      "text/latex": [
       "$$7.599999999996498e-05$$"
      ],
      "text/plain": [
       "7.599999999996498e-05"
      ]
     },
     "execution_count": 12,
     "metadata": {},
     "output_type": "execute_result"
    }
   ],
   "source": [
    "a = np.array([-0.618,1])\n",
    "b = np.array([1.618,1])\n",
    "np.dot(a,b)"
   ]
  },
  {
   "cell_type": "markdown",
   "metadata": {},
   "source": [
    "&#9989; <font color=red>**QUESTION 4:**</font> Find a orthongonal matrix $S$ such that $S^\\top AS$ is diagonal."
   ]
  },
  {
   "cell_type": "code",
   "execution_count": 15,
   "metadata": {},
   "outputs": [
    {
     "data": {
      "text/latex": [
       "$$\\left[\\begin{matrix}-0.618033988749895 & 1.61803398874989\\\\1.0 & 1.0\\end{matrix}\\right]$$"
      ],
      "text/plain": [
       "⎡-0.618033988749895  1.61803398874989⎤\n",
       "⎢                                    ⎥\n",
       "⎣       1.0                1.0       ⎦"
      ]
     },
     "execution_count": 15,
     "metadata": {},
     "output_type": "execute_result"
    }
   ],
   "source": [
    "S, D = A.diagonalize()\n",
    "S"
   ]
  },
  {
   "cell_type": "code",
   "execution_count": 16,
   "metadata": {},
   "outputs": [
    {
     "data": {
      "text/latex": [
       "$$\\left[\\begin{matrix}2.43769410125095 & -6.66133814775094 \\cdot 10^{-16}\\\\-8.88178419700125 \\cdot 10^{-16} & 22.5623058987491\\end{matrix}\\right]$$"
      ],
      "text/plain": [
       "⎡  2.43769410125095     -6.66133814775094e-16⎤\n",
       "⎢                                            ⎥\n",
       "⎣-8.88178419700125e-16    22.5623058987491   ⎦"
      ]
     },
     "execution_count": 16,
     "metadata": {},
     "output_type": "execute_result"
    }
   ],
   "source": [
    "S.T*A*S"
   ]
  },
  {
   "cell_type": "markdown",
   "metadata": {},
   "source": [
    "### Orthogonal diagonalization\n",
    "\n",
    "**Definition:** A square matrix $A$ is called *orthogonally diagonalizable* if there exists an orthogonal matric $S$ such that $D= S^\\top A S$ is a diagonal matrix. \n",
    "\n",
    "**Theorem:** Let $A$ be a $n\\times n$ matrix. $A$ is orthogonally diagonalizable if and only if it is symmetric. The columns of $S$ are unit orthogonal eigenvectors of $A$, and the diagonal elements of $D$ are the eigenvalues of $A$."
   ]
  },
  {
   "cell_type": "markdown",
   "metadata": {},
   "source": [
    "&#9989; <font color=red>**QUESTION 5:**</font>  Orthogonally diagonalize the matrix \n",
    "$$B= \\begin{bmatrix}1 & -2 \\\\ -2 & 1\\end{bmatrix}.$$\n",
    "That is, find the orthogonal matrix $S$ such that $S^\\top B S$ is diagonal."
   ]
  },
  {
   "cell_type": "code",
   "execution_count": 19,
   "metadata": {},
   "outputs": [
    {
     "data": {
      "text/latex": [
       "$$\\left [ \\left ( -1, \\quad 1, \\quad \\left [ \\left[\\begin{matrix}1\\\\1\\end{matrix}\\right]\\right ]\\right ), \\quad \\left ( 3, \\quad 1, \\quad \\left [ \\left[\\begin{matrix}-1\\\\1\\end{matrix}\\right]\\right ]\\right )\\right ]$$"
      ],
      "text/plain": [
       "⎡⎛       ⎡⎡1⎤⎤⎞  ⎛      ⎡⎡-1⎤⎤⎞⎤\n",
       "⎢⎜-1, 1, ⎢⎢ ⎥⎥⎟, ⎜3, 1, ⎢⎢  ⎥⎥⎟⎥\n",
       "⎣⎝       ⎣⎣1⎦⎦⎠  ⎝      ⎣⎣1 ⎦⎦⎠⎦"
      ]
     },
     "execution_count": 19,
     "metadata": {},
     "output_type": "execute_result"
    }
   ],
   "source": [
    "B = sym.Matrix([[1,-2],[-2,1]])\n",
    "B.eigenvects()"
   ]
  },
  {
   "cell_type": "code",
   "execution_count": 21,
   "metadata": {},
   "outputs": [
    {
     "data": {
      "text/latex": [
       "$$\\left[\\begin{matrix}1 & -1\\\\1 & 1\\end{matrix}\\right]$$"
      ],
      "text/plain": [
       "⎡1  -1⎤\n",
       "⎢     ⎥\n",
       "⎣1  1 ⎦"
      ]
     },
     "execution_count": 21,
     "metadata": {},
     "output_type": "execute_result"
    }
   ],
   "source": [
    "S = sym.Matrix([[1,-1],[1,1]])\n",
    "S"
   ]
  },
  {
   "cell_type": "code",
   "execution_count": 22,
   "metadata": {},
   "outputs": [
    {
     "data": {
      "text/latex": [
       "$$\\left[\\begin{matrix}-2 & 0\\\\0 & 6\\end{matrix}\\right]$$"
      ],
      "text/plain": [
       "⎡-2  0⎤\n",
       "⎢     ⎥\n",
       "⎣0   6⎦"
      ]
     },
     "execution_count": 22,
     "metadata": {},
     "output_type": "execute_result"
    }
   ],
   "source": [
    "S.T*B*S"
   ]
  },
  {
   "cell_type": "code",
   "execution_count": 24,
   "metadata": {},
   "outputs": [
    {
     "data": {
      "text/latex": [
       "$$\\left[\\begin{matrix}-2 & 0\\\\0 & 6\\end{matrix}\\right]$$"
      ],
      "text/plain": [
       "⎡-2  0⎤\n",
       "⎢     ⎥\n",
       "⎣0   6⎦"
      ]
     },
     "execution_count": 24,
     "metadata": {},
     "output_type": "execute_result"
    }
   ],
   "source": [
    "S,D = B.diagonalize()\n",
    "S.T*B*S"
   ]
  },
  {
   "cell_type": "markdown",
   "metadata": {},
   "source": [
    "----\n",
    "# 2. Assignment wrap-up"
   ]
  },
  {
   "cell_type": "markdown",
   "metadata": {},
   "source": [
    "&#9989; <font color=red>**DO THIS:**</font> Please fill out the form that appears when you run the code below.  **You must completely fill this out in order to receive credit for the assignment!**\n",
    "\n",
    "[Direct Link](https://docs.google.com/forms/d/e/1FAIpQLSfmyCQVDqz3p8j7EIS4sIqoo09FHvnPDp22DJ5L51_t9fjv7A/viewform)"
   ]
  },
  {
   "cell_type": "code",
   "execution_count": 6,
   "metadata": {},
   "outputs": [
    {
     "data": {
      "text/html": [
       "\n",
       "<iframe \n",
       "\tsrc=\"https://docs.google.com/forms/d/e/1FAIpQLSfmyCQVDqz3p8j7EIS4sIqoo09FHvnPDp22DJ5L51_t9fjv7A/viewform?embedded=true\" \n",
       "\twidth=\"100%\" \n",
       "\theight=\"1200px\" \n",
       "\tframeborder=\"0\" \n",
       "\tmarginheight=\"0\" \n",
       "\tmarginwidth=\"0\">\n",
       "\tLoading...\n",
       "</iframe>\n"
      ],
      "text/plain": [
       "<IPython.core.display.HTML object>"
      ]
     },
     "execution_count": 6,
     "metadata": {},
     "output_type": "execute_result"
    }
   ],
   "source": [
    "from IPython.display import HTML\n",
    "HTML(\n",
    "\"\"\"\n",
    "<iframe \n",
    "\tsrc=\"https://docs.google.com/forms/d/e/1FAIpQLSfmyCQVDqz3p8j7EIS4sIqoo09FHvnPDp22DJ5L51_t9fjv7A/viewform?embedded=true\" \n",
    "\twidth=\"100%\" \n",
    "\theight=\"1200px\" \n",
    "\tframeborder=\"0\" \n",
    "\tmarginheight=\"0\" \n",
    "\tmarginwidth=\"0\">\n",
    "\tLoading...\n",
    "</iframe>\n",
    "\"\"\"\n",
    ")"
   ]
  },
  {
   "cell_type": "markdown",
   "metadata": {},
   "source": [
    "---------\n",
    "### Congratulations, we're almost done!\n",
    "\n",
    "To get credit for this assignment you must fill out and submit the above Google form on or before the assignment due date."
   ]
  },
  {
   "cell_type": "markdown",
   "metadata": {},
   "source": [
    "&#169; Copyright 2018,  Michigan State University Board of Trustees"
   ]
  }
 ],
 "metadata": {
  "anaconda-cloud": {},
  "kernelspec": {
   "display_name": "Python 3",
   "language": "python",
   "name": "python3"
  },
  "language_info": {
   "codemirror_mode": {
    "name": "ipython",
    "version": 3
   },
   "file_extension": ".py",
   "mimetype": "text/x-python",
   "name": "python",
   "nbconvert_exporter": "python",
   "pygments_lexer": "ipython3",
   "version": "3.7.1"
  }
 },
 "nbformat": 4,
 "nbformat_minor": 2
}
