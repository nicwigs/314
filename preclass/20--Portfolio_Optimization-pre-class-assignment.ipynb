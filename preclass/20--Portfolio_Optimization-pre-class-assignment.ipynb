{
 "cells": [
  {
   "cell_type": "markdown",
   "metadata": {},
   "source": [
    "In order to successfully complete this assignment you must do the required reading, watch the provided videos and complete all instructions.  The embedded Google form must be entirely filled out and submitted on or before **11:59pm on Wednesday April 10th**.  Students must come to class the next day prepared to discuss the material covered in this assignment. "
   ]
  },
  {
   "cell_type": "markdown",
   "metadata": {},
   "source": [
    "# Pre-Class Assignment: Lagrangian Multiplier"
   ]
  },
  {
   "cell_type": "markdown",
   "metadata": {},
   "source": [
    "\n",
    "# Goals for today's pre-class assignment \n",
    "\n",
    "**Read Section 5.5 of the textbook.**\n",
    "</p>\n",
    "\n",
    "1. Simple Constrained Least Squares\n",
    "1. General Constrainted Least Squares\n",
    "1. Assignment Wrap-up"
   ]
  },
  {
   "cell_type": "markdown",
   "metadata": {},
   "source": [
    "# 1. Simple Constrained Least Squares\n",
    "\n",
    "In this section, we solve the following simple constrainted optimization problem\n",
    "\n",
    "$$\\min_x \\|Ax-b\\|^2 \\mbox{ subject to }x_1+x_2  = 1$$\n",
    "with $$A= \\begin{bmatrix}1 & 2 \\\\ 2& 3\\end{bmatrix},\\qquad b=\\begin{bmatrix}2 \\\\ 4\\end{bmatrix}.$$\n",
    "\n",
    "Without the constraint $x_1+x_2=1$, it is a least squares problem, and we know how to solve it. \n",
    "This class, we find a way to solve the problem with linear constraints.\n",
    "\n",
    "Let's focus on the contraint $x_1+x_2=1$, we can say that $x_2$ is a free variable, and we have $x_1=1-x_2$. \n",
    "Then we plug this general solution into the objective function $\\|Ax-b\\|^2$ and obtain a function of $x_2$ only. \n",
    "\n",
    "$$\\|Ax-b\\|^2 = \\sum_{i=1}^2 \\big(\\sum_{j=1}^2A_{ij}x_j-b_i\\big )^2 = (A_{11}x_1+A_{12}x_2-b_1)^2 +(A_{21}x_1+A_{22}x_2-b_2)^2 \\\\\n",
    "= (x_1 + 2 x_2 -2)^2 + (2x_1+3x_2-4)^2\\qquad \\qquad \\\\ = (1-x_2+2x_2-2)^2 + (2(1-x_2)+3x_2-4)^2 \\ \\ \\\\\n",
    "= (x_2-1)^2 + (x_2-2)^2\\qquad \\qquad \\qquad \\qquad \\quad $$\n",
    "\n",
    "Therefore, the problem is reduced to \n",
    "$$\\min_{x_2}~(x_2-1)^2+(x_2-2)^2.$$\n",
    "After finding the optimal $x_2$, we can find the corresponding $x_1$ by $x_1=1-x_2$."
   ]
  },
  {
   "cell_type": "markdown",
   "metadata": {},
   "source": [
    "<font color=red>**QUESTION 1:**</font> What is the optimal $x^*$ such that $\\|Ax-b\\|^2$ is the smallest with the constraint $x_1+x_2=1$."
   ]
  },
  {
   "cell_type": "markdown",
   "metadata": {},
   "source": [
    "$$(x_2-1)^2 + (x_2-2)^2 $$\n",
    "$$2*(x_2-1) + 2*(x_2-2) = 0 $$\n",
    "$$4* x_2-6 = 0 $$\n",
    "$$x_2 = 3/2 $$\n",
    "$$x_1 = -1/2 $$"
   ]
  },
  {
   "cell_type": "code",
   "execution_count": null,
   "metadata": {},
   "outputs": [],
   "source": []
  },
  {
   "cell_type": "markdown",
   "metadata": {},
   "source": [
    "<font color=red>**QUESTION 2:**</font> What is $A^\\top (Ax-b)$ with the optimal $x^*$ you found in QUESTION 1? Is it in the rowspace of $[1, 1]$?"
   ]
  },
  {
   "cell_type": "code",
   "execution_count": 1,
   "metadata": {},
   "outputs": [],
   "source": [
    "import numpy as np"
   ]
  },
  {
   "cell_type": "code",
   "execution_count": 7,
   "metadata": {},
   "outputs": [
    {
     "data": {
      "text/plain": [
       "matrix([[-0.5],\n",
       "        [-0.5]])"
      ]
     },
     "execution_count": 7,
     "metadata": {},
     "output_type": "execute_result"
    }
   ],
   "source": [
    "A = np.matrix([[1,2],[2,3]])\n",
    "x = np.matrix([[-1/2],[3/2]])\n",
    "b = np.matrix([[2],[4]])\n",
    "A.T*(A*x-b)"
   ]
  },
  {
   "cell_type": "markdown",
   "metadata": {},
   "source": [
    "No\n",
    "the right answer should be (-1/2 -1/2) -> then yes\n",
    "# accidentily put x2,x1"
   ]
  },
  {
   "cell_type": "markdown",
   "metadata": {},
   "source": [
    "# 2. General Constrainted Least Squares\n",
    "\n",
    "\n",
    "We would like to solve the following general optimization problem \n",
    "$$\\min_x \\|Ax-b\\|^2 \\mbox{ subject to }Cx = d$$"
   ]
  },
  {
   "cell_type": "markdown",
   "metadata": {},
   "source": [
    "+ If $Cx=d$ has no solution, there is no solution for the optimization problem. Therefore, we assume that $Cx=d$ has at least one solution. \n",
    "+ If $Cx=d$ has an unique solution, then the solution of the optimization problem is the unique solution to $Cx=d$. It is a trivial solution. \n",
    "+ In this class, we will consider the case where $Cx=d$ has infinite many solution, and we want to find a solution such that $\\|Ax-b\\|^2$ is smallest."
   ]
  },
  {
   "cell_type": "markdown",
   "metadata": {},
   "source": [
    "We solve the constrained least squares problem with Lagrange multipliers. We introduce a Lagrangian multiplier $z$ for the constraint $$Cx=d.$$\n",
    "Then the *Lagrangian function* is \n",
    "$$L(x,z) = \\|Ax-b\\|^2 + z^\\top (Cx-d)=\\|Ax-b\\|^2+z^\\top Cx - z^\\top d.$$"
   ]
  },
  {
   "cell_type": "markdown",
   "metadata": {},
   "source": [
    "<font color=red>**QUESTION 3:**</font> Assume that $C$ is a matrix of size $m\\times n$, what is the size for $z$? "
   ]
  },
  {
   "cell_type": "markdown",
   "metadata": {},
   "source": [
    "m X 1"
   ]
  },
  {
   "cell_type": "markdown",
   "metadata": {},
   "source": [
    "Then the optimal solution for $x$ can be found by letting the first derivatives of $L$ be $0$. That is \n",
    "$$\\partial_{x_i} L(x,z) = 0\\qquad \\partial_{z_i} L(x,z) = 0$$"
   ]
  },
  {
   "cell_type": "markdown",
   "metadata": {},
   "source": [
    "<font color=red>**QUESTION 4:**</font> What is $\\partial_{x_1}L(x,z)$?  For simplicity, we let $A$ be $2\\times 2$, $C$ be $1\\times 2$.\n",
    "\n",
    "(Hint: you can expand $\\|Ax-b\\|^2+z^\\top C x-z^\\top d$ as \n",
    "$$\\sum_{i=1}^2\\big(\\sum_{j=1}^2{A_{ij}x_j-b_i}\\big)^2+z^\\top C x-z^\\top d= \\sum_{i=1}^2\\sum_{j=1}^2 (A^\\top A)_{ij}x_ix_j-2\\sum_{i=1}^2 \\sum_{j=1}^2A_{ij}x_jb_i +\\sum_{i=1}^2 b_i^2 +\\sum_{i=1}^2\\sum_{j=1}^2z_iC_{ij}x_j - \\sum_{i=1}^2 z_id_i \\\\\n",
    "\\qquad\\qquad = \\sum_{i=1}^2\\sum_{j=1}^2 (A^\\top A)_{ij}x_ix_j-2\\sum_{j=1}^2(A^\\top b)_{j}x_j +\\sum_{i=1}^2 b_i^2 +\\sum_{i=1}^2\\sum_{j=1}^2C_{ij}z_ix_j - \\sum_{i=1}^2 z_id_i.$$\n",
    "\n",
    "Then the part with $x_1$ is $$ (A^\\top A)_{11}x_1x_1+(A^\\top A)_{12}x_1x_2+(A^\\top A)_{21}x_2x_1-2(A^\\top b)_{1}x_1  +\\sum_{i=1}^2C_{i1}z_ix_1.$$\n",
    "You can verify your answer with the example in the previous section.)"
   ]
  },
  {
   "cell_type": "markdown",
   "metadata": {},
   "source": [
    "$$ 2*(A^\\top A)_{11}x_1+(A^\\top A)_{12}x_2+(A^\\top A)_{21}x_2-2(A^\\top b)_{1} +\\sum_{i=1}^2C_{i1}z_i$$"
   ]
  },
  {
   "cell_type": "markdown",
   "metadata": {},
   "source": [
    "<font color=red>**QUESTION 5:**</font> What is $\\partial_{z_1}L(x,z)$?  For simplicity, we let $A$ be $2\\times 2$, $C$ be $1\\times 2$."
   ]
  },
  {
   "cell_type": "markdown",
   "metadata": {},
   "source": [
    "Then the part with $z_1$ is $$ \\sum_{j=1}^2C_{1j}z_1x_j - z_1d_1$$\n",
    "Then $\\partial_{z_1}L(x,z)$ is $$ \\sum_{j=1}^2C_{1j}x_j - d_1$$"
   ]
  },
  {
   "cell_type": "markdown",
   "metadata": {},
   "source": [
    "If you did this correctly, you may obtain the following system of linear equations \n",
    "$$\\begin{bmatrix}2A^\\top A & C^\\top \\\\C & 0\\end{bmatrix}\\begin{bmatrix}x \\\\z\\end{bmatrix}=\\begin{bmatrix}2A^\\top b\\\\d\\end{bmatrix}$$\n",
    "The first equation is \n",
    "$$2A^\\top A x +C^\\top z = 2A^\\top b \\\\\n",
    "\\Leftrightarrow 2A^\\top A x -2A^\\top b =C^\\top z  \\\\\n",
    "\\Leftrightarrow A^\\top(A x - b) = C^\\top ({1\\over 2}z)$$\n",
    "That is $A^\\top(Ax-b)$ is in the rowspace of $C$. \n",
    "\n",
    "\n",
    "If you are interested in how to get this, you can find at https://en.wikipedia.org/wiki/Lagrange_multiplier"
   ]
  },
  {
   "cell_type": "markdown",
   "metadata": {},
   "source": [
    "### Least Squares Solution \n",
    "\n",
    "When $A$ is the identity matrix, and $b=0$, we have \n",
    "$$\\min_x \\|x\\|^2 \\mbox{ subject to }Cx = d.$$\n",
    "\n",
    "Then the corresponding optimal contion is \n",
    "$$\\begin{bmatrix}2I& C^\\top \\\\C & 0\\end{bmatrix}\\begin{bmatrix}x \\\\z\\end{bmatrix}=\\begin{bmatrix}0\\\\d\\end{bmatrix}$$\n",
    "\n",
    "We can expand it as \n",
    "$$2x + C^\\top z = 0 \\\\\n",
    "Cx = d$$\n",
    "The second equation is the contraint, and the first equation shows that $x$ is in the rowspace of $C$. \n",
    "(Recall the pseudoinverse we mentioned in the previoous class, we want to find $x$ in the rowspace of $C$. So the pseudoinverse tries to find the solution to $Cx=d$ with the smallest norm.)\n"
   ]
  },
  {
   "cell_type": "markdown",
   "metadata": {},
   "source": [
    "----\n",
    "# 3. Assignment wrap-up\n",
    "\n",
    "Please fill out the form that appears when you run the code below.  **You must completely fill this out in order to receive credit for the assignment!**\n",
    "\n",
    "[Direct Link](https://docs.google.com/forms/d/e/1FAIpQLScj6gP3IaAZNsnTHvydO_EGEjq88L8wKhC9i5qibChyt3nmpQ/viewform)"
   ]
  },
  {
   "cell_type": "markdown",
   "metadata": {},
   "source": [
    "Put your answer to the above question here"
   ]
  },
  {
   "cell_type": "code",
   "execution_count": 2,
   "metadata": {},
   "outputs": [
    {
     "data": {
      "text/html": [
       "\n",
       "<iframe \n",
       "\tsrc=\"https://docs.google.com/forms/d/e/1FAIpQLScj6gP3IaAZNsnTHvydO_EGEjq88L8wKhC9i5qibChyt3nmpQ/viewform?embedded=true\" \n",
       "\twidth=\"100%\" \n",
       "\theight=\"1200px\" \n",
       "\tframeborder=\"0\" \n",
       "\tmarginheight=\"0\" \n",
       "\tmarginwidth=\"0\">\n",
       "\tLoading...\n",
       "</iframe>\n"
      ],
      "text/plain": [
       "<IPython.core.display.HTML object>"
      ]
     },
     "execution_count": 2,
     "metadata": {},
     "output_type": "execute_result"
    }
   ],
   "source": [
    "from IPython.display import HTML\n",
    "HTML(\n",
    "\"\"\"\n",
    "<iframe \n",
    "\tsrc=\"https://docs.google.com/forms/d/e/1FAIpQLScj6gP3IaAZNsnTHvydO_EGEjq88L8wKhC9i5qibChyt3nmpQ/viewform?embedded=true\" \n",
    "\twidth=\"100%\" \n",
    "\theight=\"1200px\" \n",
    "\tframeborder=\"0\" \n",
    "\tmarginheight=\"0\" \n",
    "\tmarginwidth=\"0\">\n",
    "\tLoading...\n",
    "</iframe>\n",
    "\"\"\"\n",
    ")"
   ]
  },
  {
   "cell_type": "markdown",
   "metadata": {},
   "source": [
    "---------\n",
    "### Congratulations, we're almost done!\n",
    "\n",
    "To get credit for this assignment you must fill out and submit the above Google From on or before the assignment due date."
   ]
  },
  {
   "cell_type": "markdown",
   "metadata": {},
   "source": [
    "&#169; Copyright 2018,  Michigan State University Board of Trustees"
   ]
  }
 ],
 "metadata": {
  "anaconda-cloud": {},
  "kernelspec": {
   "display_name": "Python 3",
   "language": "python",
   "name": "python3"
  },
  "language_info": {
   "codemirror_mode": {
    "name": "ipython",
    "version": 3
   },
   "file_extension": ".py",
   "mimetype": "text/x-python",
   "name": "python",
   "nbconvert_exporter": "python",
   "pygments_lexer": "ipython3",
   "version": "3.7.1"
  }
 },
 "nbformat": 4,
 "nbformat_minor": 1
}
