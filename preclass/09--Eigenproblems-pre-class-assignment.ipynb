{
 "cells": [
  {
   "cell_type": "markdown",
   "metadata": {},
   "source": [
    "In order to successfully complete this assignment, you must do the required reading, watch the provided videos and complete all instructions. \n",
    "The embedded Google form must be entirely filled out and submitted on or before **11:59pm on Monday Feb. 18th**. \n",
    "Students must come to class the next day prepared to discuss the material covered in this assignment. "
   ]
  },
  {
   "cell_type": "markdown",
   "metadata": {},
   "source": [
    "# Pre-Class Assignment: Eigenvectors and Eigenvalues"
   ]
  },
  {
   "cell_type": "markdown",
   "metadata": {},
   "source": [
    "# Goals for today's pre-class assignment \n",
    "\n",
    "</p>\n",
    "1. Project inteview questions\n",
    "1. Eigenvectors and Eigenvalues"
   ]
  },
  {
   "cell_type": "markdown",
   "metadata": {},
   "source": [
    "# 1. Project Interview Questions and People\n",
    "\n",
    "We have collected a list of questions for prejct interview at the following link.\n",
    "\n",
    "[Project Questions](https://docs.google.com/document/d/1tptSgtwAWiOHuNSTkucMFrinRoD0oTYTQfPHtBKUzwE/edit?usp=sharing)\n",
    "You can also run the following cell to edit it.\n",
    "\n",
    "Please read the question and make changes if you want. "
   ]
  },
  {
   "cell_type": "code",
   "execution_count": 1,
   "metadata": {},
   "outputs": [
    {
     "data": {
      "text/html": [
       "\n",
       "<iframe \n",
       "\tsrc=\"https://docs.google.com/document/d/1tptSgtwAWiOHuNSTkucMFrinRoD0oTYTQfPHtBKUzwE/edit?usp=sharing?embedded=true\" \n",
       "\twidth=\"80%\" \n",
       "\theight=\"600px\" \n",
       "\tframeborder=\"0\" \n",
       "\tmarginheight=\"0\" \n",
       "\tmarginwidth=\"0\">\n",
       "\tLoading...\n",
       "</iframe>\n"
      ],
      "text/plain": [
       "<IPython.core.display.HTML object>"
      ]
     },
     "execution_count": 1,
     "metadata": {},
     "output_type": "execute_result"
    }
   ],
   "source": [
    "from IPython.display import HTML\n",
    "HTML(\n",
    "\"\"\"\n",
    "<iframe \n",
    "\tsrc=\"https://docs.google.com/document/d/1tptSgtwAWiOHuNSTkucMFrinRoD0oTYTQfPHtBKUzwE/edit?usp=sharing?embedded=true\" \n",
    "\twidth=\"80%\" \n",
    "\theight=\"600px\" \n",
    "\tframeborder=\"0\" \n",
    "\tmarginheight=\"0\" \n",
    "\tmarginwidth=\"0\">\n",
    "\tLoading...\n",
    "</iframe>\n",
    "\"\"\"\n",
    ")"
   ]
  },
  {
   "cell_type": "markdown",
   "metadata": {},
   "source": [
    "Find out your name and the three interviewees? I made some changes to make sure that there is no duplicate names in the first choice column. \n",
    "If you change the interviewee, you can comment on your row, and we will update this list. \n",
    "\n",
    "If you can not run it, you can also click [here](https://docs.google.com/spreadsheets/d/1n47UZCrItSbTDQ2-Y4uwVf9QmmezdgX14yRNrtUx1rU/edit?usp=sharing)."
   ]
  },
  {
   "cell_type": "code",
   "execution_count": 2,
   "metadata": {},
   "outputs": [
    {
     "data": {
      "text/html": [
       "\n",
       "<iframe \n",
       "\tsrc=\"https://docs.google.com/spreadsheets/d/1n47UZCrItSbTDQ2-Y4uwVf9QmmezdgX14yRNrtUx1rU/edit?usp=sharing?embedded=true\" \n",
       "\twidth=\"80%\" \n",
       "\theight=\"600px\" \n",
       "\tframeborder=\"0\" \n",
       "\tmarginheight=\"0\" \n",
       "\tmarginwidth=\"0\">\n",
       "\tLoading...\n",
       "</iframe>\n"
      ],
      "text/plain": [
       "<IPython.core.display.HTML object>"
      ]
     },
     "execution_count": 2,
     "metadata": {},
     "output_type": "execute_result"
    }
   ],
   "source": [
    "\n",
    "from IPython.display import HTML\n",
    "HTML(\n",
    "\"\"\"\n",
    "<iframe \n",
    "\tsrc=\"https://docs.google.com/spreadsheets/d/1n47UZCrItSbTDQ2-Y4uwVf9QmmezdgX14yRNrtUx1rU/edit?usp=sharing?embedded=true\" \n",
    "\twidth=\"80%\" \n",
    "\theight=\"600px\" \n",
    "\tframeborder=\"0\" \n",
    "\tmarginheight=\"0\" \n",
    "\tmarginwidth=\"0\">\n",
    "\tLoading...\n",
    "</iframe>\n",
    "\"\"\"\n",
    ")"
   ]
  },
  {
   "cell_type": "markdown",
   "metadata": {},
   "source": [
    "# 2. Eigenvectors and Eigenvalues\n",
    "\n",
    "\n",
    "Finish Chapter 3 in the textbook (Sections 3.4 and 3.5)"
   ]
  },
  {
   "cell_type": "markdown",
   "metadata": {},
   "source": [
    "> Eigenvalues are a special set of scalars associated with a square matrix that are sometimes also known as characteristic roots, characteristic values (Hoffman and Kunze 1971), proper values, or latent roots (Marcus and Minc 1988, p. 144).\n",
    "\n",
    "> The determination of the eigenvalues and eigenvectors of a matrix is extremely important in physics and engineering, where it is equivalent to matrix diagonalization and arises in such common applications as [stability analysis](https://en.wikipedia.org/wiki/Von_Neumann_stability_analysis), the [physics of rotating bodies](http://www.physics.princeton.edu/~mcdonald/examples/ph101_1996/ph101lab5_96.pdf), and [small oscillations of vibrating systems](http://lpsa.swarthmore.edu/MtrxVibe/MatrixAll.html), to name only a few.\n",
    "\n",
    "> The decomposition of a square matrix $A$ into eigenvalues and eigenvectors is known in this work as eigen decomposition, and the fact that this decomposition is always possible as long as the matrix consisting of the eigenvectors of $A$ is square. This is known as the eigen decomposition theorem.\n",
    "\n",
    "\n",
    "<p style=\"text-align: right;\">From: http://mathworld.wolfram.com/Eigenvalue.html</p>"
   ]
  },
  {
   "cell_type": "code",
   "execution_count": 3,
   "metadata": {},
   "outputs": [
    {
     "data": {
      "image/jpeg": "[encoded data removed]",
      "text/html": [
       "\n",
       "        <iframe\n",
       "            width=\"640\"\n",
       "            height=\"360\"\n",
       "            src=\"https://www.youtube.com/embed/ue3yoeZvt8E\"\n",
       "            frameborder=\"0\"\n",
       "            allowfullscreen\n",
       "        ></iframe>\n",
       "        "
      ],
      "text/plain": [
       "<IPython.lib.display.YouTubeVideo at 0x10e1395c0>"
      ]
     },
     "execution_count": 3,
     "metadata": {},
     "output_type": "execute_result"
    }
   ],
   "source": [
    "from IPython.display import YouTubeVideo\n",
    "YouTubeVideo(\"ue3yoeZvt8E\",width=640,height=360)"
   ]
  },
  {
   "cell_type": "markdown",
   "metadata": {},
   "source": [
    "### Definition\n",
    "\n",
    "Let $A$ be an $n\\times n$ matrix.  Find a vector $x$ in $R^n$ such that:\n",
    "\n",
    "$$Ax=\\lambda x$$\n",
    "\n",
    "The above can be rewritten as the following homogeneous equation:\n",
    "\n",
    "$$(A-\\lambda I)x = 0$$\n",
    "\n",
    "The trivial solution is $x=0$. \n",
    "However, if we define eigenvectors to be nonzero vectors then $|A-\\lambda I| = 0$. \n",
    "Nonzero (i.e. non-trivial) solutions to this system of equations can only exist if the matrix of coefficients is singular, i.e. the determinant of $|A - \\lambda I_n| = 0$. \n",
    "Therefore, solving the equation $|A - \\lambda I_n| = 0$ for $\\lambda$ leads to all the eigenvalues of $A$.\n",
    "\n",
    "**Note:** the above logic is key.  Make sure you understand. If not, ask questions. "
   ]
  },
  {
   "cell_type": "markdown",
   "metadata": {},
   "source": [
    "&#9989; <font color=red>**QUESTION 1:**</font> Explain why nonzero solutions to a system of homogeneous systems require the matrix to be singular."
   ]
  },
  {
   "cell_type": "markdown",
   "metadata": {},
   "source": [
    "Since a singular matrix will always have a determinate of 0, if not then can find the inverse, and there would be unique solutions"
   ]
  },
  {
   "cell_type": "code",
   "execution_count": 4,
   "metadata": {},
   "outputs": [
    {
     "data": {
      "image/jpeg": "[encoded data removed]",
      "text/html": [
       "\n",
       "        <iframe\n",
       "            width=\"640\"\n",
       "            height=\"360\"\n",
       "            src=\"https://www.youtube.com/embed/PFDu9oVAE-g\"\n",
       "            frameborder=\"0\"\n",
       "            allowfullscreen\n",
       "        ></iframe>\n",
       "        "
      ],
      "text/plain": [
       "<IPython.lib.display.YouTubeVideo at 0x10e139c88>"
      ]
     },
     "execution_count": 4,
     "metadata": {},
     "output_type": "execute_result"
    }
   ],
   "source": [
    "from IPython.display import YouTubeVideo\n",
    "YouTubeVideo(\"PFDu9oVAE-g\",width=640,height=360)"
   ]
  },
  {
   "cell_type": "markdown",
   "metadata": {},
   "source": [
    "### Examples:\n",
    "Here are a few more examples of how eigenvalues and eigenvectors are used (You are not required to understand all):\n",
    "\n",
    "> [Using singular value decomposition for image compression](https://docs.google.com/viewer?a=v&pid=sites&srcid=ZGVmYXVsdGRvbWFpbnxuYXNsdW5kZXJpY3xneDpkMTI4OTI1NTc4YjRlOGE). \n",
    "This is a note explaining how you can compress an image by throwing away the small eigenvalues of $A^TA$. \n",
    "It takes an 88 megapixel image of an Allosaurus and shows how the image looks after compressing by selecting the largest singular values.\n",
    "\n",
    "> [Deriving Special Relativity]((https://docs.google.com/viewer?a=v&pid=sites&srcid=ZGVmYXVsdGRvbWFpbnxuYXNsdW5kZXJpY3xneDo2ZTAyNzA4NTZmOGZmNmU4) is more natural in the language of linear algebra. \n",
    "In fact, Einstein's second postulate really states that \"Light is an eigenvector of the Lorentz transform.\" \n",
    "This document goes over the full derivation in detail.\n",
    "\n",
    "> [Spectral Clustering](https://en.wikipedia.org/wiki/Spectral_clustering). \n",
    "Whether it's in plants and biology, medical imaging, buisness and marketing, understanding the connections between fields on Facebook, or even criminology, clustering is an extremely important part of modern data analysis. \n",
    "It allows people to find important subsystems or patterns inside noisy data sets. \n",
    "One such method is spectral clustering, which uses the eigenvalues of the graph of a network. \n",
    "Even the eigenvector of the second smallest eigenvalue of the Laplacian matrix allows us to find the two largest clusters in a network.\n",
    "\n",
    "> [Dimensionality Reduction/PCA](https://en.wikipedia.org/wiki/Principal_component_analysis). \n",
    "The principal components correspond to the largest eigenvalues of $A^\\top A$, and this yields the least squared projection onto a smaller dimensional hyperplane, and the eigenvectors become the axes of the hyperplane. \n",
    "Dimensionality reduction is extremely useful in machine learning and data analysis as it allows one to understand where most of the variation in the data comes from.\n",
    "\n",
    "> [Low rank factorization for collaborative prediction](http://cs229.stanford.edu/proj2006/KleemanDenuitHenderson-MatrixFactorizationForCollaborativePrediction.pdf). \n",
    "This is what Netflix does (or once did) to predict what rating you'll have for a movie you have not yet watched. \n",
    "It uses the singular value decomposition and throws away the smallest eigenvalues of $A^\\top A$.\n",
    "\n",
    "> [The Google Page Rank algorithm](https://en.wikipedia.org/wiki/PageRank). \n",
    "The largest eigenvector of the graph of the internet is how the pages are ranked.\n",
    "\n",
    "<p style=\"text-align: right;\">From: https://math.stackexchange.com/questions/1520832/real-life-examples-for-eigenvalues-eigenvectors</p>"
   ]
  },
  {
   "cell_type": "markdown",
   "metadata": {},
   "source": [
    "# Solving Eigenproblems - A 2x2 Example\n"
   ]
  },
  {
   "cell_type": "code",
   "execution_count": 5,
   "metadata": {},
   "outputs": [
    {
     "data": {
      "image/jpeg": "[encoded data removed]",
      "text/html": [
       "\n",
       "        <iframe\n",
       "            width=\"640\"\n",
       "            height=\"360\"\n",
       "            src=\"https://www.youtube.com/embed/0UbkMlTu1vo\"\n",
       "            frameborder=\"0\"\n",
       "            allowfullscreen\n",
       "        ></iframe>\n",
       "        "
      ],
      "text/plain": [
       "<IPython.lib.display.YouTubeVideo at 0x10e139fd0>"
      ]
     },
     "execution_count": 5,
     "metadata": {},
     "output_type": "execute_result"
    }
   ],
   "source": [
    "from IPython.display import YouTubeVideo\n",
    "YouTubeVideo(\"0UbkMlTu1vo\",width=640,height=360)"
   ]
  },
  {
   "cell_type": "markdown",
   "metadata": {},
   "source": [
    "Consider calculating eigenvalues for any $2\\times 2$ matrix. \n",
    "We want to solve:\n",
    "\n",
    "$$|A - \\lambda I_2 | = 0$$\n",
    "\n",
    "$$ \n",
    "\\left|\n",
    "\\left[\n",
    "\\begin{matrix}\n",
    "    a_{11} & a_{12} \\\\\n",
    "    a_{21} & a_{22}\n",
    "\\end{matrix}\n",
    "\\right] \n",
    "- \\lambda \\left[\n",
    "\\begin{matrix}\n",
    "    1 & 0 \\\\\n",
    "    0 & 1\n",
    "\\end{matrix}\n",
    "\\right] \n",
    "\\right|\n",
    "=\n",
    "\\left|\n",
    "\\left[\n",
    "\\begin{matrix}\n",
    "    a_{11}-\\lambda & a_{12} \\\\\n",
    "    a_{21} & a_{22}-\\lambda\n",
    "\\end{matrix}\n",
    "\\right]\n",
    "\\right|\n",
    "=0\n",
    "$$\n",
    "\n",
    "We know this determinant:\n",
    "\n",
    "$$(a_{11}-\\lambda)(a_{22}-\\lambda) - a_{12} a_{21}  = 0 $$\n",
    "\n",
    "If we expand the above, we get:\n",
    "\n",
    "$$a_{11}a_{22}+\\lambda^2-a_{11}\\lambda-a_{22}\\lambda - a_{12} a_{21} = 0$$\n",
    "\n",
    "and\n",
    "\n",
    "$$\\lambda^2-(a_{11}+a_{22})\\lambda+a_{11}a_{22} - a_{12} a_{21} = 0$$\n",
    "\n",
    "\n",
    "This is a simple quadratic equation. \n",
    "The roots pf $A\\lambda^2+B\\lambda+C = 0$ can be solved using the quadratic formula:\n",
    "\n",
    "$$ \\frac{-B \\pm \\sqrt{B^2 - 4AC}}{2A}$$"
   ]
  },
  {
   "cell_type": "markdown",
   "metadata": {},
   "source": [
    "&#9989; <font color=red>**QUESTION 2:**</font> Using the above equation.  What are the eigenvalues for the following $2\\times 2$ matrix:\n",
    "\n",
    "$$A =\n",
    "\\left[\n",
    "\\begin{matrix}\n",
    "    -4 & -6  \\\\\n",
    "    3 & 5\n",
    " \\end{matrix}\n",
    "\\right] \n",
    "$$"
   ]
  },
  {
   "cell_type": "code",
   "execution_count": 13,
   "metadata": {},
   "outputs": [],
   "source": [
    "import math\n",
    "import numpy as np\n",
    "# lambda^2 - lambda*trace + det = 0"
   ]
  },
  {
   "cell_type": "code",
   "execution_count": 11,
   "metadata": {},
   "outputs": [
    {
     "data": {
      "text/plain": [
       "2.0"
      ]
     },
     "execution_count": 11,
     "metadata": {},
     "output_type": "execute_result"
    }
   ],
   "source": [
    "((-4+5)+math.sqrt((-4+5)**2 - 4*1*(-4*5--6*3)))/(2*1)"
   ]
  },
  {
   "cell_type": "code",
   "execution_count": 12,
   "metadata": {},
   "outputs": [
    {
     "data": {
      "text/plain": [
       "-1.0"
      ]
     },
     "execution_count": 12,
     "metadata": {},
     "output_type": "execute_result"
    }
   ],
   "source": [
    "((-4+5)-math.sqrt((-4+5)**2 - 4*1*(-4*5--6*3)))/(2*1)"
   ]
  },
  {
   "cell_type": "markdown",
   "metadata": {},
   "source": [
    "&#9989; <font color=red>**DO THIS**</font> Find a ```numpy``` function that will calculate eigenvalues and verify the answers from above."
   ]
  },
  {
   "cell_type": "code",
   "execution_count": 23,
   "metadata": {},
   "outputs": [
    {
     "data": {
      "text/plain": [
       "matrix([[-0.89442719,  0.70710678],\n",
       "        [ 0.4472136 , -0.70710678]])"
      ]
     },
     "execution_count": 23,
     "metadata": {},
     "output_type": "execute_result"
    }
   ],
   "source": [
    "np.linalg.eig(np.matrix([[-4,-6],[3,5]]))[1]"
   ]
  },
  {
   "cell_type": "markdown",
   "metadata": {},
   "source": [
    "&#9989; <font color=red>**QUESTION 3:**</font> What are the corresponding eigenvectors to the matrix $A$?"
   ]
  },
  {
   "cell_type": "markdown",
   "metadata": {},
   "source": [
    "[-0.89442719, 0.4472136], [ 0.70710678,-0.70710678]"
   ]
  },
  {
   "cell_type": "markdown",
   "metadata": {},
   "source": [
    "&#9989; <font color=red>**QUESTION 4:**</font>  Both **sympy** and **numpy** can calculate eigenvalues and eigenvectors. What is the fundamental difference between these two approaches?"
   ]
  },
  {
   "cell_type": "markdown",
   "metadata": {},
   "source": [
    "sympy use symbolic computation, closer to precision of the analytic derivation, where numpy uses numerical computation which is inherently subject to small errors. "
   ]
  },
  {
   "cell_type": "markdown",
   "metadata": {},
   "source": [
    "&#9989; <font color=red>**QUESTION 5:**</font>  \n",
    "A psychologist conducts an experiment, in which $N$ rats are placed at random in a compartment that has been divided into rooms labeled 1, 2, 3 as shown in the following figure.\n",
    "There are three possible states for the rats: they can be in room 1, 2, or 3. \n",
    "Let us assume that rats always move across one of the four doors during each time step and are equally likely to use any of the available doors. \n",
    "What modeling approach would you use to determine the probability that a given marked rat is in room 2?\n",
    "\n",
    "![ratinamaze](https://lh6.googleusercontent.com/pWDxh9vH9LQFJ4CZ1-olzqwhKuv2ywcwSLurIrYZb7dHiYHUuLz2gLowpR01RXmiUTUd6SSdzg=w346)"
   ]
  },
  {
   "cell_type": "markdown",
   "metadata": {},
   "source": [
    "Create probability matrix based of size of rooms and number of doors, and then calculate the eigenvalues and eigenvectors. "
   ]
  },
  {
   "cell_type": "markdown",
   "metadata": {},
   "source": [
    "----\n",
    "# 3. Assignment wrap-up\n",
    "\n",
    "Please fill out the form that appears when you run the code below.  **You must completely fill this out in order to receive credit for the assignment!**\n",
    "\n",
    "[Direct Link](https://docs.google.com/forms/d/e/1FAIpQLScCop6gXhFp1T7XWgHuO8qNRTP9WUYLPgRd58PlbwSKDS6_IQ/viewform)"
   ]
  },
  {
   "cell_type": "code",
   "execution_count": 4,
   "metadata": {},
   "outputs": [
    {
     "data": {
      "text/html": [
       "\n",
       "<iframe \n",
       "\tsrc=\"https://docs.google.com/forms/d/e/1FAIpQLScCop6gXhFp1T7XWgHuO8qNRTP9WUYLPgRd58PlbwSKDS6_IQ/viewform?embedded=true\" \n",
       "\twidth=\"80%\" \n",
       "\theight=\"1200px\" \n",
       "\tframeborder=\"0\" \n",
       "\tmarginheight=\"0\" \n",
       "\tmarginwidth=\"0\">\n",
       "\tLoading...\n",
       "</iframe>\n"
      ],
      "text/plain": [
       "<IPython.core.display.HTML object>"
      ]
     },
     "execution_count": 4,
     "metadata": {},
     "output_type": "execute_result"
    }
   ],
   "source": [
    "from IPython.display import HTML\n",
    "HTML(\n",
    "\"\"\"\n",
    "<iframe \n",
    "\tsrc=\"https://docs.google.com/forms/d/e/1FAIpQLScCop6gXhFp1T7XWgHuO8qNRTP9WUYLPgRd58PlbwSKDS6_IQ/viewform?embedded=true\" \n",
    "\twidth=\"80%\" \n",
    "\theight=\"1200px\" \n",
    "\tframeborder=\"0\" \n",
    "\tmarginheight=\"0\" \n",
    "\tmarginwidth=\"0\">\n",
    "\tLoading...\n",
    "</iframe>\n",
    "\"\"\"\n",
    ")"
   ]
  },
  {
   "cell_type": "markdown",
   "metadata": {},
   "source": [
    "---------\n",
    "### Congratulations, we're almost done!\n",
    "\n",
    "To get credit for this assignment you must fill out and submit the above Google From on or before the assignment due date."
   ]
  },
  {
   "cell_type": "markdown",
   "metadata": {},
   "source": [
    "&#169; Copyright 2018,  Michigan State University Board of Trustees"
   ]
  }
 ],
 "metadata": {
  "anaconda-cloud": {},
  "kernelspec": {
   "display_name": "Python 3",
   "language": "python",
   "name": "python3"
  },
  "language_info": {
   "codemirror_mode": {
    "name": "ipython",
    "version": 3
   },
   "file_extension": ".py",
   "mimetype": "text/x-python",
   "name": "python",
   "nbconvert_exporter": "python",
   "pygments_lexer": "ipython3",
   "version": "3.7.1"
  }
 },
 "nbformat": 4,
 "nbformat_minor": 1
}
