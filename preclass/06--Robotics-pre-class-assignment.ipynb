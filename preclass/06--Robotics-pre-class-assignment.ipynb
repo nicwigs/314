{
 "cells": [
  {
   "cell_type": "markdown",
   "metadata": {},
   "source": [
    "\n",
    "In order to successfully complete this assignment you must do the required reading, watch the provided videos and complete all instructions.  The embedded Google form must be entirely filled out and submitted on or before **11:59pm on Wednesday Jan 30th**.  Students must come to class the next day prepared to discuss the material covered in this assignment. "
   ]
  },
  {
   "cell_type": "markdown",
   "metadata": {},
   "source": [
    "# Pre-Class Assignment: Robotics and Reference Frames\n",
    "\n",
    "\n",
    "</p>\n",
    "\n",
    "\n",
    "<img src=\"http://www.fanuc.com/product/image/m2000ia.jpg\" width=\"25%\">\n",
    "<p style=\"text-align: right;\">Image from: http://www.fanuc.com/</p>\n",
    "\n",
    "\n",
    "\n",
    "\n",
    "# Goals for today's pre-class assignment \n",
    "\n",
    "1. Review\n",
    "1. 2D Forward Kinematics\n",
    "1. Assignment Wrap-up\n",
    "\n",
    "Reference: https://studywolf.wordpress.com/2013/08/21/robot-control-forward-transformation-matrices/\n"
   ]
  },
  {
   "cell_type": "markdown",
   "metadata": {},
   "source": [
    "# 1. Review"
   ]
  },
  {
   "cell_type": "markdown",
   "metadata": {},
   "source": [
    " <font color=red>**QUESTION 1:**</font>  Matrix $A$ is of size ($n_1 \\times m_1$) and matrix B is of size ($n_2 \\times m_2$).  What must be true about the dimensions in order to multiply $A \\times B$?  "
   ]
  },
  {
   "cell_type": "markdown",
   "metadata": {},
   "source": [
    "$ m_1$ = $n_2$"
   ]
  },
  {
   "cell_type": "markdown",
   "metadata": {},
   "source": [
    "<font color=red>**QUESTION 2:**</font> The following transformation matrix will move points in $R^n$ dimensional space. What is $n$?\n",
    "\n",
    "$$\n",
    "\\left[\n",
    "\\begin{matrix}\n",
    "    \\sin{(\\theta)} & -\\cos{(\\theta)} & 0 & d_x \\\\ \n",
    "    \\cos{(\\theta)} & \\sin{(\\theta)}  & 0 & d_y \\\\ \n",
    "    0 & 0  & 1 & d_z \\\\ \n",
    "    0 & 0  & 0 & 1 \n",
    "\\end{matrix}\n",
    "\\right] \n",
    "$$"
   ]
  },
  {
   "cell_type": "markdown",
   "metadata": {},
   "source": [
    "n = 3"
   ]
  },
  {
   "cell_type": "markdown",
   "metadata": {},
   "source": [
    "&#9989; <font color=red>**QUESTION 3:**</font>  The above matrix rotates around which axis?"
   ]
  },
  {
   "cell_type": "markdown",
   "metadata": {},
   "source": [
    "About the origin clockwise"
   ]
  },
  {
   "cell_type": "markdown",
   "metadata": {},
   "source": [
    "<font color=red>**QUESTION 4:**</font> In the above matrix, how do the scalar values $d_x, d_y, d_z$ influence the transformation? "
   ]
  },
  {
   "cell_type": "markdown",
   "metadata": {},
   "source": [
    "translation in each axis x,y,z"
   ]
  },
  {
   "cell_type": "markdown",
   "metadata": {},
   "source": [
    "<font color=red>**QUESTION 5:**</font>  Compute $2u+3v$ for vectors $u = (1,2, 6)$ and $v = (4, -1, 3)$."
   ]
  },
  {
   "cell_type": "code",
   "execution_count": 1,
   "metadata": {},
   "outputs": [
    {
     "data": {
      "text/plain": [
       "array([14,  1, 21])"
      ]
     },
     "execution_count": 1,
     "metadata": {},
     "output_type": "execute_result"
    }
   ],
   "source": [
    "import numpy as np\n",
    "\n",
    "u = np.array([1,2,6])\n",
    "v = np.array([4,-1,3])\n",
    "\n",
    "2*u+3*v"
   ]
  },
  {
   "cell_type": "markdown",
   "metadata": {},
   "source": [
    "<font color=red>**QUESTION 6:**</font>  What is a homogeneous system of linear equations?"
   ]
  },
  {
   "cell_type": "markdown",
   "metadata": {},
   "source": [
    "If all of the constant terms are zero"
   ]
  },
  {
   "cell_type": "markdown",
   "metadata": {},
   "source": [
    "----\n",
    "# 2. 2D Forward Kinematics\n",
    "\n",
    "\n",
    "Read the Reference: https://studywolf.wordpress.com/2013/08/21/robot-control-forward-transformation-matrices/\n",
    "\n",
    "\n",
    "Consider the following example robot with two joints ($q_1$ and $q_2$):\n",
    "\n",
    "\n",
    "<img src=\"https://studywolf.files.wordpress.com/2013/08/robot-arm12.png\" width=\"25%\">\n",
    "\n",
    "This robot can move in the $xy$ plane.  We can represent the configuration of the robot in it's \"*Joint Space*\" by knowing the two joint angles or $q = [q_1,q_2]$.  However what we would like is to represent the location of the end of the robot (often called the \"end effector\" or \"hand\") in \"world\" coordinates (i.e. $x,y$ coordinate system). \n",
    "\n",
    "In this pre-class assignment we will use Linear Algebra and simple transformation matrices to try and calculate how to go from \"joint\" coordinates to \"world\" coordinates.  "
   ]
  },
  {
   "cell_type": "markdown",
   "metadata": {},
   "source": [
    "## Single axis Robot\n",
    "\n",
    "The following code draws a simple single axis (single joint) robot with its joint centered at the origin and its initial angle of zero with an robot arm length of 4 \"units\" long."
   ]
  },
  {
   "cell_type": "code",
   "execution_count": 2,
   "metadata": {},
   "outputs": [],
   "source": [
    "%matplotlib inline\n",
    "import matplotlib.pylab as plt\n",
    "import numpy as np\n",
    "from ipywidgets import interact"
   ]
  },
  {
   "cell_type": "code",
   "execution_count": 3,
   "metadata": {},
   "outputs": [
    {
     "data": {
      "text/plain": [
       "(-5.5, 5.5)"
      ]
     },
     "execution_count": 3,
     "metadata": {},
     "output_type": "execute_result"
    },
    {
     "data": {
      "image/png": "[encoded data removed]",
      "text/plain": [
       "<Figure size 432x288 with 1 Axes>"
      ]
     },
     "metadata": {
      "needs_background": "light"
     },
     "output_type": "display_data"
    }
   ],
   "source": [
    "plt.scatter(4,0, s=200, facecolors='none', edgecolors='r') #plot end effector\n",
    "plt.scatter(0,0, s=200, facecolors='r', edgecolors='r') # plot origin\n",
    "plt.plot([0,4],[0,0]) #plot blue line for arm\n",
    "plt.axis('square')\n",
    "plt.xlim([-5.5,5.5])\n",
    "plt.ylim([-5.5,5.5])\n",
    "    "
   ]
  },
  {
   "cell_type": "markdown",
   "metadata": {},
   "source": [
    "Now what happens when we want to rotate the joint? In this case we use the rotation matrix described in the Willam's book on page2 119-120. This matrix looks like the following:\n",
    "\n",
    "\n",
    "$$ \n",
    "\\left[ \\begin{matrix}\n",
    "    x_{end} \\\\\n",
    "    y_{end} \n",
    " \\end{matrix}\n",
    "\\right] \n",
    "=\n",
    "\\left[ \\begin{matrix}\n",
    "    \\cos(q) & -\\sin(q) \\\\\n",
    "    \\sin(q) & \\cos(q) \n",
    " \\end{matrix}\n",
    "\\right] \n",
    "\\left[ \\begin{matrix}\n",
    "    x_{start} \\\\\n",
    "    y_{start} \n",
    " \\end{matrix}\n",
    "\\right] \n",
    "$$ \n",
    "\n",
    "The following rotation matrix will rotate the point $45^o$ around the origin:"
   ]
  },
  {
   "cell_type": "code",
   "execution_count": 4,
   "metadata": {},
   "outputs": [
    {
     "data": {
      "text/plain": [
       "(-5.5, 5.5)"
      ]
     },
     "execution_count": 4,
     "metadata": {},
     "output_type": "execute_result"
    },
    {
     "data": {
      "image/png": "[encoded data removed]",
      "text/plain": [
       "<Figure size 432x288 with 1 Axes>"
      ]
     },
     "metadata": {
      "needs_background": "light"
     },
     "output_type": "display_data"
    }
   ],
   "source": [
    "x = 4\n",
    "y = 0\n",
    "\n",
    "q1=np.pi/4\n",
    "\n",
    "x1 = x * np.cos(q1) - y * np.sin(q1)\n",
    "y1 = x * np.sin(q1) + y * np.cos(q1)\n",
    "\n",
    "plt.scatter(x1,y1, s=200, facecolors='none', edgecolors='r') #plot end effector\n",
    "plt.scatter(0,0, s=200, facecolors='r', edgecolors='r') # plot origin\n",
    "plt.plot([0,x1],[0,y1]) #plot blue line for arm\n",
    "plt.axis('square')\n",
    "plt.xlim([-5.5,5.5])\n",
    "plt.ylim([-5.5,5.5])"
   ]
  },
  {
   "cell_type": "markdown",
   "metadata": {},
   "source": [
    "The following code uses the Jupyter ```interact``` function and ```numpy``` to make an interactive view of the above.  This lets us change the value of the rotation motors and see how it changes the robot. The input to the function is the axis angle and the output is the $x$ and $y$ coordinates.\n",
    "\n",
    "**Note:** it can take some time for the interaction to catch up.  Try moving the slider slowly..."
   ]
  },
  {
   "cell_type": "code",
   "execution_count": 5,
   "metadata": {},
   "outputs": [
    {
     "data": {
      "application/vnd.jupyter.widget-view+json": {
       "model_id": "e74034e45e834b0ca66a015cbc6fb4c2",
       "version_major": 2,
       "version_minor": 0
      },
      "text/plain": [
       "interactive(children=(IntSlider(value=0, description='q1', max=180, min=-180, step=2), Output()), _dom_classes…"
      ]
     },
     "metadata": {},
     "output_type": "display_data"
    }
   ],
   "source": [
    "def Robot_Simulator(q1=0):\n",
    "    a1 = q1/180  * np.pi\n",
    "    p0 = np.matrix([4,0]).T\n",
    "    p = p0\n",
    "    J1 = np.matrix([[np.cos(a1), -np.sin(a1)], [np.sin(a1), np.cos(a1)]]) \n",
    "    p = np.concatenate( ( J1*p, np.matrix([0,0]).T), axis=1 )\n",
    "    \n",
    "    plt.scatter(p[0,:].tolist()[0],p[1,:].tolist()[0], s=200, facecolors='none', edgecolors='r')\n",
    "    plt.scatter(0,0, s=200, facecolors='r', edgecolors='r')\n",
    "    plt.plot(p[0,:].tolist()[0],p[1,:].tolist()[0])\n",
    "    plt.axis('square')\n",
    "    plt.xlim([-5.5,5.5])\n",
    "    plt.ylim([-5.5,5.5])\n",
    "    ax = plt.gca()\n",
    "    plt.show()\n",
    "    return([ p[0,0], p[1,0] ])\n",
    "    \n",
    "p = interact(Robot_Simulator, q1=(-180,180,2));"
   ]
  },
  {
   "cell_type": "markdown",
   "metadata": {},
   "source": [
    "&#9989; <font color=red>**QUESTION 7:**</font>  Inspect the above code. \n",
    "Which line of the code defines the transformation matrix for the robot joint?  \n",
    "Which line of code defines the length of the arm? \n",
    "(Note you can turn line numbers on and off in jupyterhub. \n",
    "Use the menu at the top to figure out how.)"
   ]
  },
  {
   "cell_type": "markdown",
   "metadata": {},
   "source": [
    "Line 5 - J1 = np.matrix([[np.cos(a1), -np.sin(a1)], [np.sin(a1), np.cos(a1)]]) \n",
    "\n",
    "Line 3 -  p0 = np.matrix([4,0]).T"
   ]
  },
  {
   "cell_type": "markdown",
   "metadata": {},
   "source": [
    "## Multi axis robot\n",
    "\n",
    "Now, let's make our robot a little more complex. \n",
    "Consider the following model for our robot:\n",
    "\n",
    "<img src=\"https://studywolf.files.wordpress.com/2013/08/robot_coordinate_frames1.png\" width=\"25%\">"
   ]
  },
  {
   "cell_type": "markdown",
   "metadata": {},
   "source": [
    "Notice it has two joints $q_1$ and $q_2$ and arm lengths of $d_1$ and $d_2$\n",
    "Also notice that the first axis is no longer centered at the origin but shifted up a distance of $d_0$ and rotated 90 degrees. \n",
    "The joint space for this robot is still just its angles $q=[q_1, q_2]$. \n",
    "However, what we want is to know the location of point $p$ in the \"world\" reference frame, which is shown at the origin in blue.  \n",
    "\n",
    "At each joint, we can define a reference frame that moves with that joint. \n",
    "The forward transformation matrices capture the relationship between the reference frames of different links of the robot. \n",
    "\n",
    "For example, We can move from the origin reference frame to the $q_1$ reference frame using the following equations:\n",
    "\n",
    "$$ \n",
    "p_0\n",
    "=\n",
    "\\left[ \\begin{matrix}\n",
    "    \\cos(q_1) & -\\sin(q_1) \\\\\n",
    "    \\sin(q_1) & \\cos(q_1) \n",
    " \\end{matrix}\n",
    "\\right] \n",
    "p_1\n",
    "+ \n",
    "\\left[ \\begin{matrix}\n",
    "    0 \\\\\n",
    "    d_0 \n",
    " \\end{matrix}\n",
    "\\right].\n",
    "$$ \n",
    "\n",
    "If we set $q = 90^o$, we would get the configuration for the joint shown above. "
   ]
  },
  {
   "cell_type": "markdown",
   "metadata": {},
   "source": [
    "The equation shown  above are a little tricky to work with because the$ \\left[ \\begin{matrix}\n",
    "    0 \\\\\n",
    "    d_0 \n",
    " \\end{matrix}\n",
    "\\right] $ part makes the equation non-linear \n",
    "(if you don't believe me? \n",
    "Remember the rules for making a function linear and apply them and see for yourself). \n",
    "However, there is an easy trick in Linear Algebra to convert the above to one big linear matrix. \n",
    "This trick  requires us to keep around an extra 1 (one) for each point but makes the math work out nicely. \n",
    "Basically the trick works as follows:\n",
    "\n",
    "$$ \n",
    "\\left[ \\begin{matrix}\n",
    "    x' \\\\\n",
    "    y' \\\\\n",
    "    1 \n",
    " \\end{matrix}\n",
    "\\right] \n",
    "=\n",
    "\\left[ \\begin{matrix}\n",
    "    cos(q) & -sin(q) & dx \\\\\n",
    "    sin(q) & cos(q) & dy \\\\\n",
    "    0 & 0 & 1\n",
    " \\end{matrix}\n",
    "\\right] \n",
    "\\left[ \\begin{matrix}\n",
    "    x \\\\\n",
    "    y \\\\\n",
    "    1 \n",
    " \\end{matrix}\n",
    "\\right] \n",
    "$$ \n",
    "\n",
    "So we can rewrite the above equation as follows:\n",
    "\n",
    "$$ \n",
    "\\left[ \\begin{matrix}\n",
    "    x_0 \\\\\n",
    "    y_0 \\\\\n",
    "    1 \n",
    " \\end{matrix}\n",
    "\\right] \n",
    "=\n",
    "\\left[ \\begin{matrix}\n",
    "    cos(q_1) & -sin(q_1) & 0 \\\\\n",
    "    sin(q_1) & cos(q_1) & d_0 \\\\\n",
    "    0 & 0 & 1\n",
    " \\end{matrix}\n",
    "\\right] \n",
    "\\left[ \\begin{matrix}\n",
    "    x_1 \\\\\n",
    "    y_1 \\\\\n",
    "    1 \n",
    " \\end{matrix}\n",
    "\\right] \n",
    "$$ \n",
    "\n",
    "Let's call the transformation matrix for Joint 1, $J_1$, and we can rewrite the equations as follows:\n",
    "\n",
    "$$p_0 = J_1p_1$$"
   ]
  },
  {
   "cell_type": "markdown",
   "metadata": {},
   "source": [
    "<font color=red>**DO THIS**</font> On your own, write out the above matrix multiplication and convince yourself that it is the same as the one above. You do not need to record your answer."
   ]
  },
  {
   "cell_type": "markdown",
   "metadata": {},
   "source": [
    "Now, we can move from the $q_1$ reference frame to the $q2$ joint reference frame using a similar equation. This time we are moving relative to the $q_1$ angle so our offset is in the $x_1$ direction of the $q_1$ reference frame or along the first robot arm link:\n",
    "\n",
    "$$ \n",
    "\\left[ \\begin{matrix}\n",
    "    x_2 \\\\\n",
    "    y_2 \\\\\n",
    "    1 \n",
    " \\end{matrix}\n",
    "\\right] \n",
    "=\n",
    "\\left[ \\begin{matrix}\n",
    "    cos(q_2) & -sin(q_2) & d_1 \\\\\n",
    "    sin(q_2) & cos(q_2) & 0 \\\\\n",
    "    0 & 0 & 1\n",
    " \\end{matrix}\n",
    "\\right] \n",
    "\\left[ \\begin{matrix}\n",
    "    x_1 \\\\\n",
    "    y_1 \\\\\n",
    "    1 \n",
    " \\end{matrix}\n",
    "\\right] \n",
    "$$ \n"
   ]
  },
  {
   "cell_type": "markdown",
   "metadata": {},
   "source": [
    "Hopefully you can see that we can string these transformation matrices together such that:\n",
    "\n",
    "$$p_0 = J_1J_2p_2$$\n",
    "\n",
    "\n",
    "\n",
    "Let's see what this looks like in python.  I am going to use ```numpy```. The plotting gets a little ackward but hopefully it makes sense:\n"
   ]
  },
  {
   "cell_type": "code",
   "execution_count": 7,
   "metadata": {},
   "outputs": [
    {
     "data": {
      "text/plain": [
       "(-5.5, 5.5)"
      ]
     },
     "execution_count": 7,
     "metadata": {},
     "output_type": "execute_result"
    },
    {
     "data": {
      "image/png": "[encoded data removed]",
      "text/plain": [
       "<Figure size 432x288 with 1 Axes>"
      ]
     },
     "metadata": {
      "needs_background": "light"
     },
     "output_type": "display_data"
    }
   ],
   "source": [
    "#inicial state\n",
    "\n",
    "q1 = 0\n",
    "q2 = 0\n",
    "\n",
    "#pictured state\n",
    "q1 = np.pi/2\n",
    "q2 = -np.pi/2\n",
    "\n",
    "d0 = 1\n",
    "d1 = 3\n",
    "d2 = 3\n",
    "\n",
    "p = np.matrix([[d2, 0, 1],[0,0,1]]).T\n",
    "\n",
    "J2 = np.matrix([[np.cos(q2), -np.sin(q2), d1], [np.sin(q2), np.cos(q2), 0], [0,0,1]]) \n",
    "p = np.concatenate( ( J2*p, np.matrix([0,0,1]).T), axis=1 )\n",
    "\n",
    "J1 = np.matrix([[np.cos(q1), -np.sin(q1), 0], [np.sin(q1), np.cos(q1), d0], [0,0,1]]) \n",
    "p = np.concatenate( ( J1*p, np.matrix([0,0,1]).T), axis=1 )\n",
    "\n",
    "plt.scatter(p[0,:].tolist()[0],p[1,:].tolist()[0], s=200, facecolors='none', edgecolors='r')\n",
    "plt.scatter(0,0, s=200, facecolors='r', edgecolors='r')\n",
    "plt.plot(p[0,:].tolist()[0],p[1,:].tolist()[0])\n",
    "plt.axis('scaled')\n",
    "plt.xlim([-5.5,5.5])\n",
    "plt.ylim([-5.5,5.5])"
   ]
  },
  {
   "cell_type": "markdown",
   "metadata": {},
   "source": [
    "And here is the robot simulator for the 2 joint robot:"
   ]
  },
  {
   "cell_type": "code",
   "execution_count": 13,
   "metadata": {},
   "outputs": [
    {
     "data": {
      "application/vnd.jupyter.widget-view+json": {
       "model_id": "067464e2199f4439bd7c7713317d58fd",
       "version_major": 2,
       "version_minor": 0
      },
      "text/plain": [
       "interactive(children=(IntSlider(value=90, description='a1', max=180, min=-180), IntSlider(value=-90, descripti…"
      ]
     },
     "metadata": {},
     "output_type": "display_data"
    }
   ],
   "source": [
    "from ipywidgets import interact\n",
    "\n",
    "def Robot_Simulator(a1=90,a2=-90):\n",
    "    q1 = a1/180  * np.pi\n",
    "    q2 = a2/180  * np.pi\n",
    "\n",
    "    d0 = 1\n",
    "    d1 = 3\n",
    "    d2 = 3\n",
    "    target = np.matrix([-3,2, 1])\n",
    "    print(target)\n",
    "\n",
    "    p = np.matrix([[d2, 0, 1],[0,0,1]]).T\n",
    "\n",
    "    J2 = np.matrix([[np.cos(q2), -np.sin(q2), d1], [np.sin(q2), np.cos(q2), 0], [0,0,1]]) \n",
    "    p = np.concatenate( ( J2*p, np.matrix([0,0,1]).T), axis=1 )\n",
    "\n",
    "    J1 = np.matrix([[np.cos(q1), -np.sin(q1), 0], [np.sin(q1), np.cos(q1), d0], [0,0,1]]) \n",
    "    p = np.concatenate( ( J1*p, np.matrix([0,0,1]).T), axis=1 )\n",
    "\n",
    "\n",
    "    plt.scatter(p[0,:].tolist()[0],p[1,:].tolist()[0], s=200, facecolors='none', edgecolors='r')\n",
    "    plt.scatter(0,0, s=200, facecolors='r', edgecolors='r')\n",
    "    plt.plot(p[0,:].tolist()[0],p[1,:].tolist()[0])\n",
    "    plt.plot(target[0,0], target[0,1],'*')\n",
    "    plt.axis('scaled')\n",
    "    plt.xlim([-5.5,5.5])\n",
    "    plt.ylim([-5.5,5.5])\n",
    "\n",
    "    plt.show()\n",
    "    \n",
    "target = interact(Robot_Simulator, a1=(-180,180), a2=(-180,180));"
   ]
  },
  {
   "cell_type": "markdown",
   "metadata": {},
   "source": [
    "**Question:** Move the above robot so that the end effector is \"gripping\" the target (yellow/orangeish star). \n",
    "Notice that there is more than one point in the \"joint space\" that gives the same answer. \n",
    "This is the reverse Kinematic problem (which is harder). \n",
    "We know the point we want but we need to find the joints that put the robot at that point. "
   ]
  },
  {
   "cell_type": "markdown",
   "metadata": {},
   "source": [
    "$$ a1 = 102 $$\n",
    "$$ a2 = 117 $$"
   ]
  },
  {
   "cell_type": "markdown",
   "metadata": {},
   "source": [
    "** &#9989; Do This:** The code in the following cell is cut and pasted from above. Modify the code to add a third Joint to the robot."
   ]
  },
  {
   "cell_type": "code",
   "execution_count": 11,
   "metadata": {},
   "outputs": [
    {
     "data": {
      "application/vnd.jupyter.widget-view+json": {
       "model_id": "6328e6b8d297417ca96b1963c92b8f7d",
       "version_major": 2,
       "version_minor": 0
      },
      "text/plain": [
       "interactive(children=(IntSlider(value=90, description='a1', max=180, min=-180), IntSlider(value=-90, descripti…"
      ]
     },
     "metadata": {},
     "output_type": "display_data"
    }
   ],
   "source": [
    "def Robot_Simulator(a1=90,a2=-90, a3=90):\n",
    "    q1 = a1/180  * np.pi\n",
    "    q2 = a2/180  * np.pi\n",
    "    q3 = a3/180  * np.pi\n",
    "    \n",
    "    d1 = 1\n",
    "    d2 = 3\n",
    "    d3 = 1\n",
    "    \n",
    "    target = np.matrix([-3,2, 1])\n",
    "    print(target)\n",
    "\n",
    "    p = np.matrix([[d2, 0, 1],[0,0,1]]).T\n",
    "\n",
    "    J3 = np.matrix([[np.cos(q3), -np.sin(q3), 0], [np.sin(q3), np.cos(q3), d3], [0,0,1]]) \n",
    "    p = np.concatenate( ( J3*p, np.matrix([0,0,1]).T), axis=1 )\n",
    "    \n",
    "    J2 = np.matrix([[np.cos(q2), -np.sin(q2), d2], [np.sin(q2), np.cos(q2), 0], [0,0,1]]) \n",
    "    p = np.concatenate( ( J2*p, np.matrix([0,0,1]).T), axis=1 )\n",
    "\n",
    "    J1 = np.matrix([[np.cos(q1), -np.sin(q1), 0], [np.sin(q1), np.cos(q1), d1], [0,0,1]]) \n",
    "    p = np.concatenate( ( J1*p, np.matrix([0,0,1]).T), axis=1 )\n",
    "\n",
    "    plt.scatter(p[0,:].tolist()[0],p[1,:].tolist()[0], s=200, facecolors='none', edgecolors='r')\n",
    "    plt.scatter(0,0, s=200, facecolors='r', edgecolors='r')\n",
    "    plt.plot(p[0,:].tolist()[0],p[1,:].tolist()[0])\n",
    "    plt.plot(target[0,0], target[0,1],'*')\n",
    "    plt.axis('square')\n",
    "    plt.xlim([-5.5,5.5])\n",
    "    plt.ylim([-5.5,5.5])\n",
    "\n",
    "    plt.show()\n",
    "    \n",
    "target = interact(Robot_Simulator, a1=(-180,180), a2=(-180,180), a3=(-180,180)); ##TODO: Modify this line of code"
   ]
  },
  {
   "cell_type": "markdown",
   "metadata": {},
   "source": [
    "<font color=red>**QUESTION 8:**</font>   Do the reverse Kinematics again, and find three angles that place the robot on the star. "
   ]
  },
  {
   "cell_type": "markdown",
   "metadata": {},
   "source": [
    "$$ a1 = 94 $$\n",
    "$$ a2 = -27 $$\n",
    "$$ a3 = 161 $$\n"
   ]
  },
  {
   "cell_type": "markdown",
   "metadata": {},
   "source": [
    "----\n",
    "# 3. Assignment wrap-up\n",
    "\n",
    "Please fill out the form that appears when you run the code below.  **You must completely fill this out in order to receive credit for the assignment!**\n",
    "\n",
    "\n",
    "[Direct Link](https://docs.google.com/forms/d/e/1FAIpQLScz6v7GDWkQzfyC-Gvy52HA3wMU0rtFj3ru34AwFWp254OmVQ/viewform)"
   ]
  },
  {
   "cell_type": "code",
   "execution_count": null,
   "metadata": {},
   "outputs": [],
   "source": [
    "from IPython.display import HTML\n",
    "HTML(\n",
    "\"\"\"\n",
    "<iframe \n",
    "\tsrc=\"https://docs.google.com/forms/d/e/1FAIpQLScz6v7GDWkQzfyC-Gvy52HA3wMU0rtFj3ru34AwFWp254OmVQ/viewform?embedded=true\" \n",
    "\twidth=\"100%\" \n",
    "\theight=\"1200px\" \n",
    "\tframeborder=\"0\" \n",
    "\tmarginheight=\"0\" \n",
    "\tmarginwidth=\"0\">\n",
    "\tLoading...\n",
    "</iframe>\n",
    "\"\"\"\n",
    ")"
   ]
  },
  {
   "cell_type": "markdown",
   "metadata": {},
   "source": [
    "-----\n",
    "### Congratulations, we're done!\n",
    "\n",
    "To get credit for this assignment you must fill out and submit the above Google From on or before the assignment due date.\n"
   ]
  },
  {
   "cell_type": "markdown",
   "metadata": {},
   "source": [
    "&#169; Copyright 2017,  Michigan State University Board of Trustees"
   ]
  }
 ],
 "metadata": {
  "anaconda-cloud": {},
  "kernelspec": {
   "display_name": "Python 3",
   "language": "python",
   "name": "python3"
  },
  "language_info": {
   "codemirror_mode": {
    "name": "ipython",
    "version": 3
   },
   "file_extension": ".py",
   "mimetype": "text/x-python",
   "name": "python",
   "nbconvert_exporter": "python",
   "pygments_lexer": "ipython3",
   "version": "3.7.1"
  }
 },
 "nbformat": 4,
 "nbformat_minor": 2
}
