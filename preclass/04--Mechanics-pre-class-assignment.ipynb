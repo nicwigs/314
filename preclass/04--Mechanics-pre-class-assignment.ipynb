{
 "cells": [
  {
   "cell_type": "markdown",
   "metadata": {},
   "source": [
    "\n",
    "In order to successfully complete this assignment you must do the required reading, watch the provided videos and complete all instructions.  The embedded Google form must be entirely filled out and submitted on or before **11:59pm on Wednesday Jan. 23rd**.  Students must come to class the next day prepared to discuss the material covered in this assignment. \n",
    "\n",
    " "
   ]
  },
  {
   "cell_type": "markdown",
   "metadata": {},
   "source": [
    "# Pre-Class Assignment: Matrix Mechanics\n",
    "\n",
    "In this assignment, we will explore the mechanics of vectors and matrices.\n",
    "These mechanics will be needed in future assignments in this class. \n",
    "Make sure you understand and come to class with any questions. "
   ]
  },
  {
   "cell_type": "markdown",
   "metadata": {},
   "source": [
    "# Goals for today's pre-class assignment \n",
    "\n",
    "</p>\n",
    "\n",
    "1. Dot Products\n",
    "1. Matrix Multiply\n",
    "1. Identity Matrix\n",
    "1. Vector spaces in $R^n$\n",
    "1. Assignment Wrap-up"
   ]
  },
  {
   "cell_type": "markdown",
   "metadata": {},
   "source": [
    "----\n",
    "# 1. Dot Product Review\n",
    "Read Section 1.6 if you have questions on \"dot product\"."
   ]
  },
  {
   "cell_type": "code",
   "execution_count": null,
   "metadata": {},
   "outputs": [],
   "source": [
    "from IPython.display import YouTubeVideo\n",
    "YouTubeVideo(\"ZZjWqxKqJwQ\",width=640,height=360)"
   ]
  },
  {
   "cell_type": "markdown",
   "metadata": {},
   "source": [
    "Given two vectors $u$ and $v$ in $R^n$ (i.e. they have the same length), the \"dot\" product operation multiplies all of the corresponding elements together and then adds them together. Ex:\n",
    "\n",
    "$$u = [u_1, u_2, \\dots, u_n]$$\n",
    "$$v = [v_1, v_2, \\dots, v_n]$$\n",
    "\n",
    "$$u \\cdot v = u_1 v_1 + u_2  v_2 + \\dots + u_nv_n$$\n",
    "\n",
    "or:\n",
    "\n",
    "$$ u \\cdot v = \\sum^n_{i=1} u_i v_i$$\n",
    "\n",
    "This can easily be written as python code as follows:"
   ]
  },
  {
   "cell_type": "code",
   "execution_count": null,
   "metadata": {},
   "outputs": [],
   "source": [
    "u = [1,2,3]\n",
    "v = [3,2,1]\n",
    "solution = 0\n",
    "for i in range(len(u)):\n",
    "    solution += u[i]*v[i]\n",
    "    \n",
    "solution"
   ]
  },
  {
   "cell_type": "markdown",
   "metadata": {},
   "source": [
    "In ```Numpy``` the dot product between two vectors can be calculated using the following:"
   ]
  },
  {
   "cell_type": "code",
   "execution_count": null,
   "metadata": {},
   "outputs": [],
   "source": [
    "import numpy as np\n",
    "\n",
    "np.dot([1,2,3], [3,2,1])"
   ]
  },
  {
   "cell_type": "markdown",
   "metadata": {},
   "source": [
    "&#9989; <font color=red>**QUESTION 1:**</font> What is the dot product between u = [ 1, 7, 9, 11] and v = [ 7, 1, 2, 2]?"
   ]
  },
  {
   "cell_type": "markdown",
   "metadata": {},
   "source": [
    "Put your answer here"
   ]
  },
  {
   "cell_type": "markdown",
   "metadata": {},
   "source": [
    "&#9989; <font color=red>**QUESTION 2:**</font> What is the dot product of any vector and the zero vector? "
   ]
  },
  {
   "cell_type": "markdown",
   "metadata": {},
   "source": [
    "Put your answer here"
   ]
  },
  {
   "cell_type": "markdown",
   "metadata": {},
   "source": [
    "&#9989; <font color=red>**QUESTION 3:**</font> What happens to the ```np.dot``` function if the two input vectors are not the same size?  "
   ]
  },
  {
   "cell_type": "markdown",
   "metadata": {},
   "source": [
    "Put your answer here"
   ]
  },
  {
   "cell_type": "markdown",
   "metadata": {},
   "source": [
    "----\n",
    "# 2. Matrix Multiply\n",
    "\n",
    "Read Section 2.1 of the textbook.\n",
    "\n",
    "Two matrices $A$ and $B$ can be multiplied together if only if their \"inner dimension\" is the same, i.e. $A$ is $n\\times d$ and $B$ is $d\\times m$. \n",
    "Multiplication of these two matrices results in a third matrix $C$ with the dimension of $n\\times m$.\n",
    "Note that $C$ has the same first dimension as $A$ and the same second dimension as $B$. i.e $n\\times m$.  \n",
    "\n",
    "The $(i,j)$ element in $C$ is the dot product of the $i$th row of $A$ and the $j$th column of $B$.  \n",
    "\n",
    "The $i$th row of $A$ is:\n",
    "\n",
    "$$ [ a_{i1},  a_{i2},  \\dots , a_{id} ],$$\n",
    "\n",
    "and the $j$th column of $B$ is:\n",
    "\n",
    "$$\n",
    "\\left[\n",
    "\\begin{matrix}\n",
    "    b_{1j}\\\\ \n",
    "    b_{2j}\\\\\n",
    "    \\vdots \\\\\n",
    "    b_{dj}\n",
    "\\end{matrix}\n",
    "\\right] \n",
    "$$\n",
    "\n",
    "So, the dot product of these two vectors is:\n",
    "\n",
    "$$c_{ij} = a_{i1}b_{1j} + a_{i2}b_{2j} + \\dots + a_{id}b_{dj}$$\n",
    "\n",
    "Consider the simple $2\\times 2$ example below:\n",
    "\n",
    "\n",
    "$$ \n",
    "\\left[\n",
    "\\begin{matrix}\n",
    "    a & b\\\\ \n",
    "    c & d   \n",
    "\\end{matrix}\n",
    "\\right] \n",
    "\\left[\n",
    "\\begin{matrix}\n",
    "    w & x\\\\ \n",
    "    y & z   \n",
    "\\end{matrix}\n",
    "\\right] \n",
    "=\n",
    "\\left[\n",
    "\\begin{matrix}\n",
    "    aw+by & ax+bz\\\\ \n",
    "    cw + dy & cx + dz   \n",
    "\\end{matrix}\n",
    "\\right] \n",
    "$$"
   ]
  },
  {
   "cell_type": "markdown",
   "metadata": {},
   "source": [
    "Let's do an example using ```numpy``` and show the results using ```sympy```:"
   ]
  },
  {
   "cell_type": "code",
   "execution_count": null,
   "metadata": {},
   "outputs": [],
   "source": [
    "import numpy as np\n",
    "import sympy as sym\n",
    "sym.init_printing(use_unicode=True) # Trick to make matrixes look nice in jupyter"
   ]
  },
  {
   "cell_type": "code",
   "execution_count": null,
   "metadata": {},
   "outputs": [],
   "source": [
    "A = np.matrix([[1,1], [2,2]])\n",
    "sym.Matrix(A)"
   ]
  },
  {
   "cell_type": "code",
   "execution_count": null,
   "metadata": {},
   "outputs": [],
   "source": [
    "B = np.matrix([[3,4], [3,4]])\n",
    "sym.Matrix(B)"
   ]
  },
  {
   "cell_type": "code",
   "execution_count": null,
   "metadata": {},
   "outputs": [],
   "source": [
    "sym.Matrix(A*B)"
   ]
  },
  {
   "cell_type": "markdown",
   "metadata": {},
   "source": [
    "&#9989; <font color=red>**DO THIS:**</font> Given two matrices; $A$ and $B$, show that order matters when doing a matrix multiply. That is, in general, $AB \\neq BA$. \n",
    "Show this with an example using two $3\\times 3$ matrices and ```Numpy```."
   ]
  },
  {
   "cell_type": "code",
   "execution_count": null,
   "metadata": {},
   "outputs": [],
   "source": [
    "# Put your code here."
   ]
  },
  {
   "cell_type": "markdown",
   "metadata": {},
   "source": [
    "Now consider the following set of linear equations:\n",
    "\n",
    "$$ 3x_1-3x_2+9x_3 = 24$$\n",
    "$$ 2x_1-2x_2+7x_3 = 17$$\n",
    "$$ -x_1+2x_2-4x_3 = -11$$\n",
    "\n",
    "We typically write this in the following form:\n",
    "\n",
    "$$ \n",
    "\\left[\n",
    "\\begin{matrix}\n",
    "    3 & -3 & 9\\\\ \n",
    "    2 & -2 & 7 \\\\\n",
    "    -1 & 2 & -4\n",
    "\\end{matrix}\n",
    "\\right] \n",
    "\\left[\n",
    "\\begin{matrix}\n",
    "    x_1 \\\\ \n",
    "    x_2 \\\\\n",
    "    x_3\n",
    "\\end{matrix}\n",
    "\\right] \n",
    "=\n",
    "\\left[\n",
    "\\begin{matrix}\n",
    "    24\\\\ \n",
    "    17 \\\\\n",
    "    -11\n",
    "\\end{matrix}\n",
    "\\right] \n",
    "$$\n",
    "\n",
    "Notice how doing the matrix multiple results back into the original system of equations. If we rename the three matrices from above to $A$, $x$, and $b$ (note $x$ and $b$ are lowercase because they are column vectors) then we get the main equation for this class. Which is:\n",
    "\n",
    "$$Ax=b$$"
   ]
  },
  {
   "cell_type": "code",
   "execution_count": null,
   "metadata": {},
   "outputs": [],
   "source": [
    "A = np.matrix([[3, -3,9], [2, -2, 7], [-1, 2, -4]])\n",
    "sym.Matrix(A)"
   ]
  },
  {
   "cell_type": "code",
   "execution_count": null,
   "metadata": {},
   "outputs": [],
   "source": [
    "b = np.matrix([[24], [17], [-11]])\n",
    "sym.Matrix(b)"
   ]
  },
  {
   "cell_type": "code",
   "execution_count": null,
   "metadata": {},
   "outputs": [],
   "source": [
    "#Calculate answer to x using numpy\n",
    "x = np.linalg.solve(A,b)\n",
    "sym.Matrix(x)"
   ]
  },
  {
   "cell_type": "markdown",
   "metadata": {},
   "source": [
    "&#9989; <font color=red>**QUESTION 4:**</font> What is the size of the matrix resulting from multiplying a $10 \\times 40$ matrix with a $40 \\times 3$ matrix?"
   ]
  },
  {
   "cell_type": "markdown",
   "metadata": {},
   "source": [
    "Put your answer here"
   ]
  },
  {
   "cell_type": "markdown",
   "metadata": {},
   "source": [
    "# 3. Identity Matrix\n",
    "\n",
    "An identity matrix is a special square matrix (i.e. $n=m$) that has ones in the diagonal and zeros every place else. For example the following is a $3\\times 3$ identity matrix:\n",
    "\n",
    "$$\n",
    "I_3 = \n",
    "\\left[\n",
    "\\begin{matrix}\n",
    "    1 & 0 & 0\\\\ \n",
    "    0 & 1 & 0 \\\\\n",
    "    0 & 0 & 1\n",
    "\\end{matrix}\n",
    "\\right] \n",
    "$$\n",
    "\n",
    "We always denote the identity matrix with a capital $I$. Often a subscript is used to denote the value of $n$. The notations $I_{nxn}$ and $I_n$ are both acceptable.\n",
    "\n",
    "An identity matrix is similar to the number 1 for scalar values.  I.e. multiplying a square matrix $A_{nxn}$ by its corresponding identity matrix $I_{nxn}$ results in itself $A_{nxn}$.\n",
    "\n",
    "&#9989; <font color=red>**DO THIS:**</font> Pick a random $3\\times 3$ matrix and multiply it by the $3\\times 3$ Identity matrix and show you get the same answer. "
   ]
  },
  {
   "cell_type": "code",
   "execution_count": null,
   "metadata": {},
   "outputs": [],
   "source": [
    "#Put your code here"
   ]
  },
  {
   "cell_type": "markdown",
   "metadata": {},
   "source": [
    "&#9989; <font color=red>**QUESTION 5:**</font> Consider two square matrices $A$ and $B$ of size $n \\times n$.  $AB = BA$ is **NOT** true for many $A$ and $B$.  Describe an example where $AB = BA$ is true? Explain why the equality works for your example."
   ]
  },
  {
   "cell_type": "markdown",
   "metadata": {},
   "source": [
    "Put your answer here"
   ]
  },
  {
   "cell_type": "markdown",
   "metadata": {},
   "source": [
    "&#9989; <font color=red>**QUESTION 6:**</font> The following matrix is symmetric. What are the values for $a$, $b$, and $c$?\n",
    "\n",
    "$$\n",
    "\\left[\n",
    "\\begin{matrix}\n",
    "    3 & 5 & a\\\\ \n",
    "    b & 8 & 4 \\\\\n",
    "    -3 & c & 3\n",
    "\\end{matrix}\n",
    "\\right] \n",
    "$$"
   ]
  },
  {
   "cell_type": "markdown",
   "metadata": {},
   "source": [
    "Put your answer here:\n",
    "\n",
    "a = \n",
    "\n",
    "b = \n",
    "\n",
    "c = "
   ]
  },
  {
   "cell_type": "markdown",
   "metadata": {},
   "source": [
    "# 4. Vector spaces in $R^n$\n",
    "Make sure you have read Sections 1.3, 1.4, and 1.5 of the textbook before answering the following questions.\n",
    "\n",
    "The following are properties of vector addition and multiplication for vectors $u$ and $v$:\n",
    "\n",
    "1. $u + v = v + u$ Commutative property\n",
    "2. $u + (v + w) = (u + v) + w$ Associative property\n",
    "3. $u+0 = 0 + u = u$ Property of zero vector\n",
    "4. $u + (-u) = 0$ Property of the negative vector\n",
    "5. $c(u+v) = cu + cv$ Distributive properties\n",
    "6. $(c+d)u = cu+du$ Distributive Properties\n",
    "7. $c(du) = (cd)u$ Distributed Properties\n",
    "8. $1u = u$ Scalar multiplication by 1"
   ]
  },
  {
   "cell_type": "markdown",
   "metadata": {},
   "source": [
    "<font color=red>**QUESTION 7:**</font> Compute the following linear combinations for $u = (1,2), v = (4,-1)$, and $w = (-3,5)$. (From Section 1.3 problem 7 of the textbook)\n",
    "\n",
    "&#9989; <font color=red>**(a)**</font> $u+w$        "
   ]
  },
  {
   "cell_type": "markdown",
   "metadata": {},
   "source": [
    "Put your answer here"
   ]
  },
  {
   "cell_type": "markdown",
   "metadata": {},
   "source": [
    "&#9989; <font color=red>**(b)**</font> $2u+v$        "
   ]
  },
  {
   "cell_type": "markdown",
   "metadata": {},
   "source": [
    "Put your answer here"
   ]
  },
  {
   "cell_type": "markdown",
   "metadata": {},
   "source": [
    "&#9989; <font color=red>**(c)**</font> $u+3w$        "
   ]
  },
  {
   "cell_type": "markdown",
   "metadata": {},
   "source": [
    "Put your answer here"
   ]
  },
  {
   "cell_type": "markdown",
   "metadata": {},
   "source": [
    "&#9989; <font color=red>**QUESTION 8:**</font>  (From section 1.4 in the book): A subspace of $R^n$ has all the algebraic properties of $R^n$. The sum of any two vectors in the subspace is also in the subspace.  The multiplication of any two vectors in the subspace is also in the subspace.  Explain in your own words why the zero vector must be included in the subspace."
   ]
  },
  {
   "cell_type": "markdown",
   "metadata": {},
   "source": [
    "Put your answer here"
   ]
  },
  {
   "cell_type": "markdown",
   "metadata": {},
   "source": [
    "&#9989; <font color=red>**QUESTION 9:**</font> (From section 1.5 in the book): A basis is a set of vectors that represent an entire subspace.  What is the standard Bases of $R^4$?"
   ]
  },
  {
   "cell_type": "markdown",
   "metadata": {},
   "source": [
    "Put your answer here"
   ]
  },
  {
   "cell_type": "markdown",
   "metadata": {},
   "source": [
    "----\n",
    "# 5. Assignment wrap-up\n",
    "\n",
    "Please fill out the form that appears when you run the code below.  **You must completely fill this out in order to receive credit for the assignment!**\n",
    "\n",
    "[Direct Link](https://docs.google.com/forms/d/e/1FAIpQLSf9clOXB9R_GXSm7ZuI44r_HqjpT9ZUEDgwFSahLK9eug3RTA/viewform?)\n"
   ]
  },
  {
   "cell_type": "code",
   "execution_count": null,
   "metadata": {},
   "outputs": [],
   "source": [
    "from IPython.display import HTML\n",
    "HTML(\n",
    "\"\"\"\n",
    "<iframe \n",
    "\tsrc=\"https://docs.google.com/forms/d/e/1FAIpQLSf9clOXB9R_GXSm7ZuI44r_HqjpT9ZUEDgwFSahLK9eug3RTA/viewform?embedded=true\" \n",
    "\twidth=\"80%\" \n",
    "\theight=\"1200px\" \n",
    "\tframeborder=\"0\" \n",
    "\tmarginheight=\"0\" \n",
    "\tmarginwidth=\"0\">\n",
    "\tLoading...\n",
    "</iframe>\n",
    "\"\"\"\n",
    ")"
   ]
  },
  {
   "cell_type": "markdown",
   "metadata": {},
   "source": [
    "-----\n",
    "### Congratulations, we're done!\n",
    "\n",
    "To get credit for this assignment you must fill out and submit the above Google From on or before the assignment due date.\n"
   ]
  },
  {
   "cell_type": "markdown",
   "metadata": {},
   "source": [
    "&#169; Copyright 2018,  Michigan State University Board of Trustees"
   ]
  }
 ],
 "metadata": {
  "anaconda-cloud": {},
  "kernelspec": {
   "display_name": "Python 3",
   "language": "python",
   "name": "python3"
  },
  "language_info": {
   "codemirror_mode": {
    "name": "ipython",
    "version": 3
   },
   "file_extension": ".py",
   "mimetype": "text/x-python",
   "name": "python",
   "nbconvert_exporter": "python",
   "pygments_lexer": "ipython3",
   "version": "3.6.5"
  }
 },
 "nbformat": 4,
 "nbformat_minor": 2
}
