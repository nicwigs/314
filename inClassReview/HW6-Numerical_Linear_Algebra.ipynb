{
 "cells": [
  {
   "cell_type": "markdown",
   "metadata": {},
   "source": [
    "## <p style=\"text-align: right;\"> Nic Wiggins </p>"
   ]
  },
  {
   "cell_type": "markdown",
   "metadata": {},
   "source": [
    "In order to successfully complete this assignment, you must follow all instructions in this notebook and upload your edited ipynb file with your answers on or before **11:59pm on Friday Apr. 19th**.\n",
    "\n"
   ]
  },
  {
   "cell_type": "markdown",
   "metadata": {},
   "source": [
    "# Homework 6: Numerical Linear Algebra\n",
    "\n",
    "This homework is a review of the entire course and designed to help you prepare for the final exam.  \n",
    "\n",
    "For this homework you will be retaking Midterm Exam 1, Midterm Exam 2, and Last year's final exam (titled Example-final-Exam.ipynb in D2L).  Your exam grades will not change.  Grading for this homework will be made as follows:\n",
    "\n",
    "- (25 points) Full completion of all questions on all three exams and this notebook (no partial credit)\n",
    "- (25 points) Question #4 from Midterm Exam 1 \"Data Science - Principal Component Analysis\"\n",
    "- (25 points) Question #2 from Midterm Exam 2 \"Singular Value Decomposition -- Image Denoising\"\n",
    "- (25 points) Question #4 from Final-Exam-F18.ipynb. \"Cryptography\"\n",
    "\n",
    "Although it is possible (and acceptable) to leverage prior work, the instructors highly recommend following the steps below and at least attempting to retake the exam.  \n",
    "\n",
    "**HINT** Do note wait until the last minute!!!  You only have 1 week to complete this homework.  Instructors recommend setting time aside early or you will not be able to finish and get the full benefit of this practice.   "
   ]
  },
  {
   "cell_type": "markdown",
   "metadata": {},
   "source": [
    "----\n",
    "# Part 1: Re-take Midterm Exam 1\n",
    "\n",
    "- **Step 1:** Rename your Midterm-Exam1.ipynb file to something new so you do not overwrite your exam. Download a fresh (empty) copy of [Midterm-Exam1_SS19.ipynb](Midterm-Exam1_SS19.ipynb).\n",
    "- **Step 2:** Give yourself 60 minutes and sit down to retake Midterm Exam 1.  This is meant to be practice, so try to retake the exam as if you are in class.\n",
    "- **Step 3:** Go back and review the questions you did not understand.  Make sure all answers are provided.\n",
    "- **Step 4:** Triple check question **#4 Data Science - Principal Component Analysis** as this one will be graded by the instructors. \n",
    "- **Step 5:** Answer the following questions."
   ]
  },
  {
   "cell_type": "markdown",
   "metadata": {},
   "source": [
    "<font color=red>**Question:**</font> Were you able to complete the exam in the given time?  If not, where did you spend too much time? "
   ]
  },
  {
   "cell_type": "markdown",
   "metadata": {},
   "source": [
    "I went over by 15 minutes. Question 1 got me hung up a little, plus not as quick as I thought through the \"quick questions\""
   ]
  },
  {
   "cell_type": "markdown",
   "metadata": {},
   "source": [
    "<font color=red>**Question:**</font> Which problem did you feel most confident completing and why?"
   ]
  },
  {
   "cell_type": "markdown",
   "metadata": {},
   "source": [
    "3, I understand matrix multiplication better"
   ]
  },
  {
   "cell_type": "markdown",
   "metadata": {},
   "source": [
    "<font color=red>**Question:**</font> Which problem did you feel least confident completing and why?"
   ]
  },
  {
   "cell_type": "markdown",
   "metadata": {},
   "source": [
    "Question 1 is not right for sure. "
   ]
  },
  {
   "cell_type": "markdown",
   "metadata": {},
   "source": [
    "<font color=red>**Question:**</font> Which problem do you feel did the best job testing your comprehension of the topics covered in class and why?"
   ]
  },
  {
   "cell_type": "markdown",
   "metadata": {},
   "source": [
    "PCA was good, lots of concepts, make you think."
   ]
  },
  {
   "cell_type": "markdown",
   "metadata": {},
   "source": [
    "<font color=red>**Question:**</font> Which problem do you feel did the worst job testing your comprehension of the topics covered in class and why?"
   ]
  },
  {
   "cell_type": "markdown",
   "metadata": {},
   "source": [
    "The quick questions sort of felt random, and took too long to just be \"quick\""
   ]
  },
  {
   "cell_type": "markdown",
   "metadata": {},
   "source": [
    "----\n",
    "# Part 2: Re-take Midterm Exam 2\n",
    "\n",
    "- **Step 1:** Rename your Midterm-Exam2.ipynb file to something new so you do not overwrite your exam. Download a fresh (empty) copy of [Midterm-Exam2_SS19.ipynb](Midterm-Exam2_SS19.ipynb).\n",
    "- **Step 2:** Give yourself 60 minutes and sit down to retake Midterm Exam 2. This is meant to be practice so try to retake the exam as if you are in class.\n",
    "- **Step 3:** Go back and review the questions you did not understand.  Make sure all answers are provided.\n",
    "- **Step 4:** Triple check question ** #2 Singular Value Decomposition -- Image Denoising** as this one will be graded by the instructors. \n",
    "- **Step 5:** Answer the following questions."
   ]
  },
  {
   "cell_type": "markdown",
   "metadata": {},
   "source": [
    "<font color=red>**Question:**</font> Were you able to complete the exam in the given time?  If not, where did you spend too much time? "
   ]
  },
  {
   "cell_type": "markdown",
   "metadata": {},
   "source": [
    "5 minutes over, too long on 3 and 4"
   ]
  },
  {
   "cell_type": "markdown",
   "metadata": {},
   "source": [
    "<font color=red>**Question:**</font> Which problem did you feel most confident completing and why?"
   ]
  },
  {
   "cell_type": "markdown",
   "metadata": {},
   "source": [
    "1 and 2 - we had a lot of practice with these types of questions"
   ]
  },
  {
   "cell_type": "markdown",
   "metadata": {},
   "source": [
    "<font color=red>**Question:**</font> Which problem did you feel least confident completing and why?"
   ]
  },
  {
   "cell_type": "markdown",
   "metadata": {},
   "source": [
    "3 and 4, we never went over the answers and im still unsure. Do not know how to optimize. "
   ]
  },
  {
   "cell_type": "markdown",
   "metadata": {},
   "source": [
    "<font color=red>**Question:**</font> Which problem do you feel did the best job testing your comprehension of the topics covered in class and why?"
   ]
  },
  {
   "cell_type": "markdown",
   "metadata": {},
   "source": [
    "Question 1 covered a few topics"
   ]
  },
  {
   "cell_type": "markdown",
   "metadata": {},
   "source": [
    "<font color=red>**Question:**</font> Which problem do you feel did the worst job testing your comprehension of the topics covered in class and why?"
   ]
  },
  {
   "cell_type": "markdown",
   "metadata": {},
   "source": [
    "Question 4, just a lot of side ideas"
   ]
  },
  {
   "cell_type": "markdown",
   "metadata": {},
   "source": [
    "----\n",
    "# Part 3: Take Example Final\n",
    "\n",
    "- **Step 1:** Download a fresh (empty) copy of [Final-Exam-F18.ipynb](Final-Exam-F18.ipynb).\n",
    "- **Step 2:** Give yourself 60 minutes and sit down to take the fianl example from F18.  This is meant to be practice, so try to retake the exam as if you are in class.\n",
    "- **Step 3:** Go back and review the questions you did not understand.  Make sure all answers are provided.\n",
    "- **Step 4:** Triple check question ** #4 Cryptography** as this one will be graded by the instructors. \n",
    "- **Step 5:** Answer the following questions."
   ]
  },
  {
   "cell_type": "markdown",
   "metadata": {},
   "source": [
    "<font color=red>**Question:**</font> Were you able to complete the exam in the given time?  If not, where did you spend too much time? "
   ]
  },
  {
   "cell_type": "markdown",
   "metadata": {},
   "source": [
    "Yes"
   ]
  },
  {
   "cell_type": "markdown",
   "metadata": {},
   "source": [
    "<font color=red>**Question:**</font> Which problem did you feel most confident completing and why?"
   ]
  },
  {
   "cell_type": "markdown",
   "metadata": {},
   "source": [
    "4, change of basis we did a lot of examples"
   ]
  },
  {
   "cell_type": "markdown",
   "metadata": {},
   "source": [
    "<font color=red>**Question:**</font> Which problem did you feel least confident completing and why?"
   ]
  },
  {
   "cell_type": "markdown",
   "metadata": {},
   "source": [
    "3, showing positive definite - not confident in proving."
   ]
  },
  {
   "cell_type": "markdown",
   "metadata": {},
   "source": [
    "<font color=red>**Question:**</font> Which problem do you feel did the best job testing your comprehension of the topics covered in class and why?"
   ]
  },
  {
   "cell_type": "markdown",
   "metadata": {},
   "source": [
    "4, overall idea"
   ]
  },
  {
   "cell_type": "markdown",
   "metadata": {},
   "source": [
    "<font color=red>**Question:**</font> Which problem do you feel did the worst job testing your comprehension of the topics covered in class and why?"
   ]
  },
  {
   "cell_type": "markdown",
   "metadata": {},
   "source": [
    "3, talked about positive definite only a few times"
   ]
  },
  {
   "cell_type": "markdown",
   "metadata": {},
   "source": [
    "----\n",
    "\n",
    "### &#9989; <font color=red>**DO THIS:**</font>  Before turning in your notebooks, verify you have answered all the questions on all four notebooks (three exams and this notebook):\n",
    "- Use the Red/Bold (<font color=red>**QUESTION**</font> and <font color=red>**DO THIS**</font> )  text as a guild to where you will be evaluated. \n",
    "- Before submitting your documents, clear and restart the Kernel and rerun the entire notebook.\n"
   ]
  },
  {
   "cell_type": "markdown",
   "metadata": {},
   "source": [
    "-----\n",
    "### Congratulations, we're almost done!\n",
    "\n",
    "Now, you just need to submit this assignment by uploading it to the course <a href=\"https://d2l.msu.edu/\">Desire2Learn</a> web page for the homework's dropbox (Don't forget to add your names in the first cell).\n"
   ]
  },
  {
   "cell_type": "markdown",
   "metadata": {},
   "source": [
    "&#169; Copyright 2018,  Michigan State University Board of Trustees"
   ]
  }
 ],
 "metadata": {
  "kernelspec": {
   "display_name": "Python 3",
   "language": "python",
   "name": "python3"
  },
  "language_info": {
   "codemirror_mode": {
    "name": "ipython",
    "version": 3
   },
   "file_extension": ".py",
   "mimetype": "text/x-python",
   "name": "python",
   "nbconvert_exporter": "python",
   "pygments_lexer": "ipython3",
   "version": "3.7.1"
  }
 },
 "nbformat": 4,
 "nbformat_minor": 2
}
