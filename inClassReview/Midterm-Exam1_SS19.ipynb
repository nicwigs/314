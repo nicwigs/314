{
 "cells": [
  {
   "cell_type": "markdown",
   "metadata": {},
   "source": [
    "## <p style=\"text-align: right;\"> Nic Wiggins </p>"
   ]
  },
  {
   "cell_type": "markdown",
   "metadata": {},
   "source": [
    "# MTH 314 - Midterm Exam 1\n",
    "This is an open internet exam.  Feel free to use anything on the internet with one important exception...\n",
    "\n",
    "- **DO NOT** communicate live with other people during the exam (either verbally or on-line).  The goal here is to find answers to problems as you would in the real world.  \n",
    "\n",
    "Please use paper provided at the front of the room to show your work.  Add your name to the upper right corner of **each page** and put the problem number on the upper left. \n",
    "\n",
    "You will be given **70 minutes** to complete this test.  Use your time wisely. \n",
    "\n",
    "**HINTS:**\n",
    "- Neatness is important.  we will ignore all notes or code we can not read.\n",
    "- Read the entire exam from beginning to end before starting.  Not all questions are equal in points vs. time, so plan your time accordingly.   \n",
    "- Skip questions you can not answer. \n",
    "- Some of the information provided my be a distraction. Do not assume you need to understand everything written to answer the questions. \n",
    "- Spaces for answers are provided. However, do not assume that the answer must be in the same format of the cell provided. Feel free to change the cell formatting (ex. markdown to code) or add additional cells as needed to provide your answer.\n",
    "- When we say \"in your own words\", it is still okay to Google the answer as a reminder. However, we would like you to do more than copy and paste. Make your own answer. \n",
    "- If you get stuck, try not to leave an blank answer. It is better to include some notes or stub functions, so we have an idea about your thinking process to give you partial credit.   \n",
    "- When you are done, restart the entire notebook and run from beginning to end and make sure your answers still match what you expect. This will ensure you didn't do anything out of order by mistake. "
   ]
  },
  {
   "cell_type": "markdown",
   "metadata": {},
   "source": [
    "### Exam Summary\n",
    "1. (25 points) Traffic Flow Problem\n",
    "2. (25 points) Quick Questions\n",
    "2. (25 points) Student Course Matrix \n",
    "3. (25 points) Data Science - Principal Component Analysis"
   ]
  },
  {
   "cell_type": "code",
   "execution_count": 1,
   "metadata": {},
   "outputs": [],
   "source": [
    "# Here are some libraries you may need to use\n",
    "%matplotlib inline\n",
    "import numpy as np\n",
    "import sympy as sym\n",
    "\n",
    "import matplotlib.pyplot as plt\n",
    "sym.init_printing(use_unicode=True)"
   ]
  },
  {
   "cell_type": "markdown",
   "metadata": {},
   "source": [
    "# below was wrong"
   ]
  },
  {
   "cell_type": "markdown",
   "metadata": {},
   "source": [
    "----\n",
    "# Question 1 - Traffic Flow Problem\n",
    "\n",
    "We will consider the traffic flow problem through W. Circle Dr. \n",
    "Note that the circle only allows \"one way\" traffic except the short section connecting Beal St. and Kalamazoo St. (which is two way). \n",
    "Also note that the roads connecting to the circle (Abbot Rd, Beal St., Kalamazoo St., Auditorium Rd, and E. Circle Dr.) are all two way streets with traffic flowing both in and out of the circle. \n",
    "\n",
    "<img src=\"https://lh3.googleusercontent.com/dvIKmPMY4LqqDEA423alAymW05j12UUhdyWUbraPqRMM0IdjY96oDlBUfj0sKbGIEwsJChwyqw=w740\" width=\"100%\">\n",
    " \n"
   ]
  },
  {
   "cell_type": "markdown",
   "metadata": {},
   "source": [
    "\n",
    "The flow into and out of the circle at each of the intersections are given the following values (units are vehicles per minute):\n",
    "   "
   ]
  },
  {
   "cell_type": "code",
   "execution_count": 2,
   "metadata": {},
   "outputs": [],
   "source": [
    "Bout = 30\n",
    "Bin = 19\n",
    "Kout = 18\n",
    "Kin = 30\n",
    "Aout = 55\n",
    "Ain = 32\n",
    "Eout = 7\n",
    "Ein = 33\n",
    "Uout = 25\n",
    "Uin = 21"
   ]
  },
  {
   "cell_type": "markdown",
   "metadata": {},
   "source": [
    "<font color=red>**Question a:**</font> Construct a system of equations that describes the flow of traffic around W Circle Dr. \n",
    "Note there are six unknowns ($x_1$, $x_{2a}$, $x_{2b}$, $x_3$, $x_4$, and $x_5$), which are also in vehicles per minute. \n",
    "We only consider the moving cars, and the cars parked around the circle  are not considered. \n",
    "(Hint: the vehicles leaving and entering one section has to be the same)"
   ]
  },
  {
   "cell_type": "markdown",
   "metadata": {},
   "source": [
    "$$ x_3 + A_{in} = A_{out} + x_4$$\n",
    "$$ x_4 + E_{in} = E_{out} + x_5 $$\n",
    "$$ x_5 + U_{in} = U_{out} + x_1 $$\n",
    "$$ x_1 + B_{in} + x_{2a} = B_{out} + x_{2b} $$\n",
    "$$ x_{2b} + K_{in} = K_{out} + x_3 + x_{2a} $$"
   ]
  },
  {
   "cell_type": "markdown",
   "metadata": {},
   "source": [
    "<font color=red>**Question b:**</font> Transform your above equations into a linear system of the form $Ax=b$ and represent that system using an augmented matrix.  "
   ]
  },
  {
   "cell_type": "code",
   "execution_count": 3,
   "metadata": {},
   "outputs": [],
   "source": [
    "A = np.matrix([[0,0,0,1,-1,0],[0,0,0,0,1,-1],[-1,0,0,0,0,1],[1,1,-1,0,0,0],[0,-1,1,-1,0,0]])\n",
    "b = np.matrix([[Aout-Ain],[Eout-Ein],[Uout-Uin],[Bout-Bin],[Kout-Kin]])"
   ]
  },
  {
   "cell_type": "markdown",
   "metadata": {},
   "source": [
    "<font color=red>**Question c:**</font> Calculate the reduced row echelon form of your equation and show the result below."
   ]
  },
  {
   "cell_type": "code",
   "execution_count": 4,
   "metadata": {},
   "outputs": [
    {
     "data": {
      "text/plain": [
       "matrix([[  0,   0,   0,   1,  -1,   0,  23],\n",
       "        [  0,   0,   0,   0,   1,  -1, -26],\n",
       "        [ -1,   0,   0,   0,   0,   1,   4],\n",
       "        [  1,   1,  -1,   0,   0,   0,  11],\n",
       "        [  0,  -1,   1,  -1,   0,   0, -12]])"
      ]
     },
     "execution_count": 4,
     "metadata": {},
     "output_type": "execute_result"
    }
   ],
   "source": [
    "E = np.concatenate((A,b), axis = 1)\n",
    "E"
   ]
  },
  {
   "cell_type": "code",
   "execution_count": 5,
   "metadata": {},
   "outputs": [
    {
     "data": {
      "text/latex": [
       "$$\\left ( \\left[\\begin{matrix}1 & 0 & 0 & 0 & 0 & -1 & -4\\\\0 & 1 & -1 & 0 & 0 & 1 & 15\\\\0 & 0 & 0 & 1 & 0 & -1 & -3\\\\0 & 0 & 0 & 0 & 1 & -1 & -26\\\\0 & 0 & 0 & 0 & 0 & 0 & 0\\end{matrix}\\right], \\quad \\left ( 0, \\quad 1, \\quad 3, \\quad 4\\right )\\right )$$"
      ],
      "text/plain": [
       "⎛⎡1  0  0   0  0  -1  -4 ⎤              ⎞\n",
       "⎜⎢                       ⎥              ⎟\n",
       "⎜⎢0  1  -1  0  0  1   15 ⎥              ⎟\n",
       "⎜⎢                       ⎥              ⎟\n",
       "⎜⎢0  0  0   1  0  -1  -3 ⎥, (0, 1, 3, 4)⎟\n",
       "⎜⎢                       ⎥              ⎟\n",
       "⎜⎢0  0  0   0  1  -1  -26⎥              ⎟\n",
       "⎜⎢                       ⎥              ⎟\n",
       "⎝⎣0  0  0   0  0  0    0 ⎦              ⎠"
      ]
     },
     "execution_count": 5,
     "metadata": {},
     "output_type": "execute_result"
    }
   ],
   "source": [
    "sym.Matrix(E).rref()"
   ]
  },
  {
   "cell_type": "code",
   "execution_count": 6,
   "metadata": {},
   "outputs": [
    {
     "data": {
      "text/latex": [
       "$$\\left[\\begin{matrix}1 & 0 & 0 & 0 & 0 & -1 & -4\\\\0 & 1 & -1 & 0 & 0 & 1 & 15\\\\0 & 0 & 0 & 0 & 0 & 0 & 0\\\\0 & 0 & 0 & 1 & 0 & -1 & -3\\\\0 & 0 & 0 & 0 & 1 & -1 & -26\\\\0 & 0 & 0 & 0 & 0 & 0 & 0\\end{matrix}\\right]$$"
      ],
      "text/plain": [
       "⎡1  0  0   0  0  -1  -4 ⎤\n",
       "⎢                       ⎥\n",
       "⎢0  1  -1  0  0  1   15 ⎥\n",
       "⎢                       ⎥\n",
       "⎢0  0  0   0  0  0    0 ⎥\n",
       "⎢                       ⎥\n",
       "⎢0  0  0   1  0  -1  -3 ⎥\n",
       "⎢                       ⎥\n",
       "⎢0  0  0   0  1  -1  -26⎥\n",
       "⎢                       ⎥\n",
       "⎣0  0  0   0  0  0    0 ⎦"
      ]
     },
     "execution_count": 6,
     "metadata": {},
     "output_type": "execute_result"
    }
   ],
   "source": [
    "#right answer from class\n",
    "check = sym.Matrix([[1,0,0,0,0,-1,-4],[0,1,-1,0,0,1,15],[0,0,0,0,0,0,0],[0,0,0,1,0,-1,-3],[0,0,0,0,1,-1,-26],[0,0,0,0,0,0,0]])\n",
    "check"
   ]
  },
  {
   "cell_type": "markdown",
   "metadata": {},
   "source": [
    "<font color=red>**Question d:**</font> How many solutions does this system has? If there are multiple solutions, write down all the solutions with the free variables. "
   ]
  },
  {
   "cell_type": "markdown",
   "metadata": {},
   "source": [
    "Infinite \n",
    "$$ x_1 = x_5 $$\n",
    "$$ x_{2a} = x_{2b} - x_5 $$\n",
    "$$ x_3 = x_5 $$\n",
    "$$ x_4 = x_5 $$\n"
   ]
  },
  {
   "cell_type": "markdown",
   "metadata": {},
   "source": [
    "<font color=red>**Question e:**</font> Given the above inputs, what is the minimum value of flow across $x_5$ (NOTE there can not be negative flow on a one way street). Explain how you got to your answer."
   ]
  },
  {
   "cell_type": "markdown",
   "metadata": {},
   "source": [
    "26"
   ]
  },
  {
   "cell_type": "markdown",
   "metadata": {},
   "source": [
    "----\n",
    "# Question 2 - (25 points) Quick Question\n",
    "\n",
    "   "
   ]
  },
  {
   "cell_type": "markdown",
   "metadata": {},
   "source": [
    "<font color=red>**Question a (5 points):**</font> Block matrix. We have a matrix \n",
    "$$K=\\left[\\begin{matrix}I & A^\\top\\\\A & 0\\end{matrix}\\right],$$\n",
    "where $I$ is the identity matrix in $R^{n\\times n}$. \n",
    "We assume that it makes sense (that means $I$ has the same number of rows as $A^\\top$ and the same number of columns of $A$.)\n",
    "Answer the following questions. "
   ]
  },
  {
   "cell_type": "markdown",
   "metadata": {},
   "source": [
    "<font color=red>**Question a.1:**</font> Is $K$ a square matrix? "
   ]
  },
  {
   "cell_type": "markdown",
   "metadata": {},
   "source": [
    "Yes"
   ]
  },
  {
   "cell_type": "markdown",
   "metadata": {},
   "source": [
    "<font color=red>**Question a.2:**</font> Is $A$ a square matrix? "
   ]
  },
  {
   "cell_type": "markdown",
   "metadata": {},
   "source": [
    "Does not have to be"
   ]
  },
  {
   "cell_type": "markdown",
   "metadata": {},
   "source": [
    "<font color=red>**Question a.3:**</font> The determinant of $A$ must be zero?"
   ]
  },
  {
   "cell_type": "markdown",
   "metadata": {},
   "source": [
    "No"
   ]
  },
  {
   "cell_type": "markdown",
   "metadata": {},
   "source": [
    "<font color=red>**Question a.4:**</font> Is $K$ symmetric? "
   ]
  },
  {
   "cell_type": "markdown",
   "metadata": {},
   "source": [
    "Yes"
   ]
  },
  {
   "cell_type": "markdown",
   "metadata": {},
   "source": [
    "<font color=red>**Question a.5:**</font> Is zero submatrix is a square matrix? "
   ]
  },
  {
   "cell_type": "markdown",
   "metadata": {},
   "source": [
    "Yes"
   ]
  },
  {
   "cell_type": "markdown",
   "metadata": {},
   "source": [
    "<font color=red>**Question b (5 points):**</font> A computer takes about 0.1 second to multiply two $1000\\times 1000$ matrices. How long does it take to multiply two $5000\\times 5000$ matrices? Provide your brief reasoning for your answer."
   ]
  },
  {
   "cell_type": "code",
   "execution_count": 7,
   "metadata": {},
   "outputs": [
    {
     "data": {
      "image/png": "[encoded data removed]",
      "text/latex": [
       "$$12.5$$"
      ],
      "text/plain": [
       "12.5"
      ]
     },
     "execution_count": 7,
     "metadata": {},
     "output_type": "execute_result"
    }
   ],
   "source": [
    "# multiply is O(n**3)\n",
    "k = 0.1/1000**3\n",
    "k*5000**3"
   ]
  },
  {
   "cell_type": "markdown",
   "metadata": {},
   "source": [
    "<font color=red>**Question c (5 points):**</font> Suppose that $A$ is a $5\\times 10$ matrix, $B$ is a $20\\times 10$ matrix, and $C$ is a $10\\times 10$ matrix. Determine whether each of the following expressions make sense. \n",
    "If it makes sense, what is the dimension of the resulting matrix."
   ]
  },
  {
   "cell_type": "markdown",
   "metadata": {},
   "source": [
    "<font color=red>**Question c.1:**</font> $A^\\top A+C$"
   ]
  },
  {
   "cell_type": "markdown",
   "metadata": {},
   "source": [
    "10 x 10\n"
   ]
  },
  {
   "cell_type": "markdown",
   "metadata": {},
   "source": [
    "<font color=red>**Question c.2:**</font> $BC^3$"
   ]
  },
  {
   "cell_type": "markdown",
   "metadata": {},
   "source": [
    "20 x 10"
   ]
  },
  {
   "cell_type": "markdown",
   "metadata": {},
   "source": [
    "<font color=red>**Question c.3:**</font> $I+BC^\\top$"
   ]
  },
  {
   "cell_type": "markdown",
   "metadata": {},
   "source": [
    "20 x 10\n"
   ]
  },
  {
   "cell_type": "markdown",
   "metadata": {},
   "source": [
    "<font color=red>**Question c.4:**</font> $B^\\top - [C~I]$"
   ]
  },
  {
   "cell_type": "markdown",
   "metadata": {},
   "source": [
    "10 x 20"
   ]
  },
  {
   "cell_type": "markdown",
   "metadata": {},
   "source": [
    "<font color=red>**Question c.5:**</font> $B \\left[\\begin{matrix}A\\\\A\\end{matrix}\\right] C$"
   ]
  },
  {
   "cell_type": "markdown",
   "metadata": {},
   "source": [
    "20 x 10"
   ]
  },
  {
   "cell_type": "markdown",
   "metadata": {},
   "source": [
    "<font color=red>**Question d (5 points):**</font> Multiplication Orders. Provide examples for the following cases. HINT, you can choose row or columns to be 1 for some examples for simplicity."
   ]
  },
  {
   "cell_type": "markdown",
   "metadata": {},
   "source": [
    "<font color=red>**Question d.1 (1 point):**</font> Provide two matrices $A$ and $B$ such that $AB$ makes sense but $BA$ does not."
   ]
  },
  {
   "cell_type": "code",
   "execution_count": 25,
   "metadata": {},
   "outputs": [
    {
     "data": {
      "text/plain": [
       "matrix([[ 2,  1,  5],\n",
       "        [ 4,  2, 10]])"
      ]
     },
     "execution_count": 25,
     "metadata": {},
     "output_type": "execute_result"
    }
   ],
   "source": [
    "A = np.matrix([[1],[2]])\n",
    "B = np.matrix([[2,1,5]])\n",
    "A*B\n",
    "#B*A"
   ]
  },
  {
   "cell_type": "markdown",
   "metadata": {},
   "source": [
    "<font color=red>**Question d.2 (2 points):**</font> Provide two matrices $A$ and $B$ such that both $AB$ and $BA$ make sense but they have different sizes."
   ]
  },
  {
   "cell_type": "code",
   "execution_count": 9,
   "metadata": {},
   "outputs": [
    {
     "data": {
      "text/plain": [
       "matrix([[12]])"
      ]
     },
     "execution_count": 9,
     "metadata": {},
     "output_type": "execute_result"
    }
   ],
   "source": [
    "A = np.matrix([[1],[2]])\n",
    "B = np.matrix([[2,5]])\n",
    "A*B\n",
    "B*A"
   ]
  },
  {
   "cell_type": "markdown",
   "metadata": {},
   "source": [
    "<font color=red>**Question d.3 (2 ponits):**</font> Provide two matrices $A$ and $B$ such that both $AB$ and $BA$ make sense and they have the same size, but $AB\\neq BA$."
   ]
  },
  {
   "cell_type": "code",
   "execution_count": 10,
   "metadata": {},
   "outputs": [
    {
     "name": "stdout",
     "output_type": "stream",
     "text": [
      "[[ 7 10]\n",
      " [12 18]]\n",
      "[[12 50]\n",
      " [ 3 13]]\n"
     ]
    }
   ],
   "source": [
    "A = np.matrix([[1,5],[2,8]])\n",
    "B = np.matrix([[2,5],[1,1]])\n",
    "print(A*B)\n",
    "print(B*A)"
   ]
  },
  {
   "cell_type": "markdown",
   "metadata": {},
   "source": [
    "<font color=red>**Question e:**</font> Determinant and Inverse. True of false questions. Just put down True or False."
   ]
  },
  {
   "cell_type": "markdown",
   "metadata": {},
   "source": [
    "<font color=red>**Question e.1:**</font> If $A$ is invertible, then $A^2$ is also invertible."
   ]
  },
  {
   "cell_type": "markdown",
   "metadata": {},
   "source": [
    "True"
   ]
  },
  {
   "cell_type": "markdown",
   "metadata": {},
   "source": [
    "<font color=red>**Question e.2:**</font> If $A$ is a square matrix such that $\\det(A)=7$, then $\\det(2A^\\top A^{-1})=7$."
   ]
  },
  {
   "cell_type": "markdown",
   "metadata": {},
   "source": [
    "2*7*1/7 = 2 False"
   ]
  },
  {
   "cell_type": "markdown",
   "metadata": {},
   "source": [
    "<font color=red>**Question e.3:**</font> If there is matrix $D$ of size $n\\times n$ such taht $AD=I$, then we also have $DA=I$."
   ]
  },
  {
   "cell_type": "markdown",
   "metadata": {},
   "source": [
    "True"
   ]
  },
  {
   "cell_type": "markdown",
   "metadata": {},
   "source": [
    "<font color=red>**Question e.4:**</font> If $A$ is a square matrix and $Ax=0$ has only the trivial solution $0$, then $\\det(A)\\neq 0$."
   ]
  },
  {
   "cell_type": "markdown",
   "metadata": {},
   "source": [
    "False"
   ]
  },
  {
   "cell_type": "markdown",
   "metadata": {},
   "source": [
    "<font color=red>**Question e.5:**</font> If $A=\\left[\\begin{matrix}a & b\\\\c & d\\end{matrix}\\right]$ and $ad=bc$, then $A$ is not invertible."
   ]
  },
  {
   "cell_type": "markdown",
   "metadata": {},
   "source": [
    "True"
   ]
  },
  {
   "cell_type": "markdown",
   "metadata": {},
   "source": [
    "----\n",
    "# Question 3 - (25 points) Student-Course Matrix \n",
    "\n",
    "The Office of the Registrar at MSU has a complete list of courses taken by each student over several graduating classes. \n",
    "This data is represented as an $m\\times n$ matrix $C$, with $c_{ij}=1$ if student $i$ took course $j$, and $c_{ij}=0$ otherwise, for $i=1,\\dots,m$ and $j=1,\\dots, n$. \n",
    "There are $m$ students and $n$ different courses in total in the data set. \n",
    "A same course offered in different semester are considered as different courses. \n",
    "Therefore, the elements in the matrix can only have $0$ and $1$, because one student can not take exactly the same course in the same semester for twice. \n",
    "\n",
    "In this exam, we use a small matrix for 400 students and 200 courses (The real matrix is too big to run in the clas).\n",
    "The following code will provide a random $400\\times 200$ matrix. \n",
    "Note that the values will change for each run, but the codes for the problems are the same."
   ]
  },
  {
   "cell_type": "code",
   "execution_count": 11,
   "metadata": {},
   "outputs": [
    {
     "data": {
      "text/plain": [
       "matrix([[1., 0., 1., ..., 0., 0., 0.],\n",
       "        [0., 0., 0., ..., 0., 0., 0.],\n",
       "        [0., 0., 1., ..., 0., 0., 0.],\n",
       "        ...,\n",
       "        [1., 0., 1., ..., 0., 0., 0.],\n",
       "        [0., 1., 0., ..., 0., 0., 0.],\n",
       "        [1., 0., 0., ..., 0., 0., 0.]])"
      ]
     },
     "execution_count": 11,
     "metadata": {},
     "output_type": "execute_result"
    }
   ],
   "source": [
    "C = (np.random.random((400,200)) < 0.1).astype(float)\n",
    "C = np.matrix(C)\n",
    "C"
   ]
  },
  {
   "cell_type": "markdown",
   "metadata": {},
   "source": [
    "&#9989; <font color=red>**Question a:**</font>  How to computer the number of students in each course for all courses. Use only the operations for the matrices."
   ]
  },
  {
   "cell_type": "code",
   "execution_count": 12,
   "metadata": {
    "scrolled": true
   },
   "outputs": [
    {
     "data": {
      "text/plain": [
       "matrix([[45.],\n",
       "        [46.],\n",
       "        [40.],\n",
       "        [44.],\n",
       "        [51.],\n",
       "        [43.],\n",
       "        [30.],\n",
       "        [38.],\n",
       "        [36.],\n",
       "        [41.],\n",
       "        [34.],\n",
       "        [44.],\n",
       "        [44.],\n",
       "        [33.],\n",
       "        [33.],\n",
       "        [46.],\n",
       "        [44.],\n",
       "        [41.],\n",
       "        [32.],\n",
       "        [43.],\n",
       "        [33.],\n",
       "        [32.],\n",
       "        [48.],\n",
       "        [45.],\n",
       "        [48.],\n",
       "        [39.],\n",
       "        [44.],\n",
       "        [44.],\n",
       "        [28.],\n",
       "        [39.],\n",
       "        [40.],\n",
       "        [48.],\n",
       "        [44.],\n",
       "        [32.],\n",
       "        [42.],\n",
       "        [37.],\n",
       "        [46.],\n",
       "        [30.],\n",
       "        [32.],\n",
       "        [33.],\n",
       "        [40.],\n",
       "        [41.],\n",
       "        [36.],\n",
       "        [36.],\n",
       "        [33.],\n",
       "        [43.],\n",
       "        [46.],\n",
       "        [40.],\n",
       "        [45.],\n",
       "        [55.],\n",
       "        [37.],\n",
       "        [37.],\n",
       "        [41.],\n",
       "        [28.],\n",
       "        [40.],\n",
       "        [35.],\n",
       "        [38.],\n",
       "        [43.],\n",
       "        [48.],\n",
       "        [52.],\n",
       "        [37.],\n",
       "        [31.],\n",
       "        [32.],\n",
       "        [43.],\n",
       "        [42.],\n",
       "        [41.],\n",
       "        [46.],\n",
       "        [41.],\n",
       "        [39.],\n",
       "        [38.],\n",
       "        [40.],\n",
       "        [40.],\n",
       "        [32.],\n",
       "        [46.],\n",
       "        [43.],\n",
       "        [39.],\n",
       "        [50.],\n",
       "        [30.],\n",
       "        [43.],\n",
       "        [33.],\n",
       "        [43.],\n",
       "        [44.],\n",
       "        [35.],\n",
       "        [48.],\n",
       "        [39.],\n",
       "        [33.],\n",
       "        [38.],\n",
       "        [41.],\n",
       "        [37.],\n",
       "        [32.],\n",
       "        [47.],\n",
       "        [40.],\n",
       "        [32.],\n",
       "        [38.],\n",
       "        [37.],\n",
       "        [38.],\n",
       "        [40.],\n",
       "        [50.],\n",
       "        [40.],\n",
       "        [33.],\n",
       "        [37.],\n",
       "        [44.],\n",
       "        [46.],\n",
       "        [40.],\n",
       "        [39.],\n",
       "        [47.],\n",
       "        [42.],\n",
       "        [38.],\n",
       "        [38.],\n",
       "        [34.],\n",
       "        [34.],\n",
       "        [37.],\n",
       "        [39.],\n",
       "        [41.],\n",
       "        [36.],\n",
       "        [35.],\n",
       "        [41.],\n",
       "        [50.],\n",
       "        [37.],\n",
       "        [33.],\n",
       "        [37.],\n",
       "        [33.],\n",
       "        [43.],\n",
       "        [44.],\n",
       "        [38.],\n",
       "        [48.],\n",
       "        [41.],\n",
       "        [44.],\n",
       "        [51.],\n",
       "        [35.],\n",
       "        [42.],\n",
       "        [41.],\n",
       "        [38.],\n",
       "        [44.],\n",
       "        [34.],\n",
       "        [45.],\n",
       "        [34.],\n",
       "        [42.],\n",
       "        [42.],\n",
       "        [41.],\n",
       "        [42.],\n",
       "        [46.],\n",
       "        [54.],\n",
       "        [39.],\n",
       "        [38.],\n",
       "        [32.],\n",
       "        [34.],\n",
       "        [35.],\n",
       "        [50.],\n",
       "        [38.],\n",
       "        [33.],\n",
       "        [41.],\n",
       "        [47.],\n",
       "        [31.],\n",
       "        [39.],\n",
       "        [30.],\n",
       "        [40.],\n",
       "        [33.],\n",
       "        [44.],\n",
       "        [38.],\n",
       "        [39.],\n",
       "        [46.],\n",
       "        [37.],\n",
       "        [42.],\n",
       "        [48.],\n",
       "        [45.],\n",
       "        [40.],\n",
       "        [39.],\n",
       "        [43.],\n",
       "        [40.],\n",
       "        [46.],\n",
       "        [34.],\n",
       "        [37.],\n",
       "        [35.],\n",
       "        [34.],\n",
       "        [42.],\n",
       "        [30.],\n",
       "        [54.],\n",
       "        [37.],\n",
       "        [46.],\n",
       "        [43.],\n",
       "        [40.],\n",
       "        [32.],\n",
       "        [43.],\n",
       "        [37.],\n",
       "        [35.],\n",
       "        [39.],\n",
       "        [39.],\n",
       "        [28.],\n",
       "        [44.],\n",
       "        [42.],\n",
       "        [35.],\n",
       "        [24.],\n",
       "        [33.],\n",
       "        [41.],\n",
       "        [33.],\n",
       "        [36.],\n",
       "        [40.],\n",
       "        [50.],\n",
       "        [39.]])"
      ]
     },
     "execution_count": 12,
     "metadata": {},
     "output_type": "execute_result"
    }
   ],
   "source": [
    "C.T*np.ones((400,1))"
   ]
  },
  {
   "cell_type": "markdown",
   "metadata": {},
   "source": [
    "&#9989; <font color=red>**Question b:**</font>  How to computer the total number of courses token by each student for all students. Use only the operations for the matrices."
   ]
  },
  {
   "cell_type": "code",
   "execution_count": 13,
   "metadata": {
    "scrolled": true
   },
   "outputs": [
    {
     "data": {
      "text/plain": [
       "matrix([[23.],\n",
       "        [13.],\n",
       "        [14.],\n",
       "        [17.],\n",
       "        [14.],\n",
       "        [18.],\n",
       "        [14.],\n",
       "        [11.],\n",
       "        [14.],\n",
       "        [17.],\n",
       "        [15.],\n",
       "        [12.],\n",
       "        [25.],\n",
       "        [26.],\n",
       "        [17.],\n",
       "        [15.],\n",
       "        [25.],\n",
       "        [12.],\n",
       "        [25.],\n",
       "        [20.],\n",
       "        [26.],\n",
       "        [19.],\n",
       "        [11.],\n",
       "        [26.],\n",
       "        [18.],\n",
       "        [26.],\n",
       "        [23.],\n",
       "        [21.],\n",
       "        [20.],\n",
       "        [19.],\n",
       "        [22.],\n",
       "        [20.],\n",
       "        [22.],\n",
       "        [21.],\n",
       "        [24.],\n",
       "        [14.],\n",
       "        [17.],\n",
       "        [24.],\n",
       "        [19.],\n",
       "        [22.],\n",
       "        [19.],\n",
       "        [16.],\n",
       "        [20.],\n",
       "        [21.],\n",
       "        [17.],\n",
       "        [15.],\n",
       "        [20.],\n",
       "        [31.],\n",
       "        [17.],\n",
       "        [20.],\n",
       "        [15.],\n",
       "        [27.],\n",
       "        [17.],\n",
       "        [17.],\n",
       "        [23.],\n",
       "        [14.],\n",
       "        [20.],\n",
       "        [23.],\n",
       "        [21.],\n",
       "        [17.],\n",
       "        [22.],\n",
       "        [21.],\n",
       "        [22.],\n",
       "        [15.],\n",
       "        [22.],\n",
       "        [18.],\n",
       "        [23.],\n",
       "        [15.],\n",
       "        [20.],\n",
       "        [19.],\n",
       "        [18.],\n",
       "        [23.],\n",
       "        [19.],\n",
       "        [23.],\n",
       "        [17.],\n",
       "        [19.],\n",
       "        [23.],\n",
       "        [17.],\n",
       "        [15.],\n",
       "        [10.],\n",
       "        [10.],\n",
       "        [18.],\n",
       "        [18.],\n",
       "        [21.],\n",
       "        [19.],\n",
       "        [17.],\n",
       "        [15.],\n",
       "        [21.],\n",
       "        [15.],\n",
       "        [23.],\n",
       "        [17.],\n",
       "        [23.],\n",
       "        [17.],\n",
       "        [18.],\n",
       "        [23.],\n",
       "        [23.],\n",
       "        [29.],\n",
       "        [14.],\n",
       "        [16.],\n",
       "        [22.],\n",
       "        [23.],\n",
       "        [11.],\n",
       "        [21.],\n",
       "        [12.],\n",
       "        [23.],\n",
       "        [18.],\n",
       "        [18.],\n",
       "        [23.],\n",
       "        [19.],\n",
       "        [21.],\n",
       "        [26.],\n",
       "        [19.],\n",
       "        [24.],\n",
       "        [16.],\n",
       "        [17.],\n",
       "        [28.],\n",
       "        [19.],\n",
       "        [29.],\n",
       "        [24.],\n",
       "        [24.],\n",
       "        [25.],\n",
       "        [18.],\n",
       "        [33.],\n",
       "        [25.],\n",
       "        [17.],\n",
       "        [19.],\n",
       "        [12.],\n",
       "        [18.],\n",
       "        [27.],\n",
       "        [17.],\n",
       "        [17.],\n",
       "        [17.],\n",
       "        [19.],\n",
       "        [25.],\n",
       "        [22.],\n",
       "        [13.],\n",
       "        [23.],\n",
       "        [15.],\n",
       "        [19.],\n",
       "        [24.],\n",
       "        [15.],\n",
       "        [14.],\n",
       "        [18.],\n",
       "        [10.],\n",
       "        [26.],\n",
       "        [20.],\n",
       "        [18.],\n",
       "        [23.],\n",
       "        [24.],\n",
       "        [24.],\n",
       "        [15.],\n",
       "        [22.],\n",
       "        [21.],\n",
       "        [13.],\n",
       "        [20.],\n",
       "        [21.],\n",
       "        [19.],\n",
       "        [17.],\n",
       "        [21.],\n",
       "        [18.],\n",
       "        [18.],\n",
       "        [18.],\n",
       "        [21.],\n",
       "        [21.],\n",
       "        [20.],\n",
       "        [24.],\n",
       "        [18.],\n",
       "        [18.],\n",
       "        [21.],\n",
       "        [26.],\n",
       "        [19.],\n",
       "        [21.],\n",
       "        [20.],\n",
       "        [23.],\n",
       "        [14.],\n",
       "        [20.],\n",
       "        [24.],\n",
       "        [16.],\n",
       "        [14.],\n",
       "        [25.],\n",
       "        [13.],\n",
       "        [17.],\n",
       "        [18.],\n",
       "        [18.],\n",
       "        [16.],\n",
       "        [24.],\n",
       "        [26.],\n",
       "        [16.],\n",
       "        [17.],\n",
       "        [18.],\n",
       "        [15.],\n",
       "        [19.],\n",
       "        [26.],\n",
       "        [19.],\n",
       "        [18.],\n",
       "        [20.],\n",
       "        [26.],\n",
       "        [20.],\n",
       "        [21.],\n",
       "        [22.],\n",
       "        [22.],\n",
       "        [22.],\n",
       "        [27.],\n",
       "        [21.],\n",
       "        [22.],\n",
       "        [28.],\n",
       "        [19.],\n",
       "        [27.],\n",
       "        [20.],\n",
       "        [23.],\n",
       "        [27.],\n",
       "        [18.],\n",
       "        [24.],\n",
       "        [16.],\n",
       "        [16.],\n",
       "        [19.],\n",
       "        [23.],\n",
       "        [15.],\n",
       "        [16.],\n",
       "        [24.],\n",
       "        [15.],\n",
       "        [17.],\n",
       "        [27.],\n",
       "        [23.],\n",
       "        [18.],\n",
       "        [20.],\n",
       "        [22.],\n",
       "        [21.],\n",
       "        [11.],\n",
       "        [26.],\n",
       "        [18.],\n",
       "        [18.],\n",
       "        [16.],\n",
       "        [28.],\n",
       "        [21.],\n",
       "        [31.],\n",
       "        [18.],\n",
       "        [19.],\n",
       "        [16.],\n",
       "        [18.],\n",
       "        [21.],\n",
       "        [19.],\n",
       "        [20.],\n",
       "        [18.],\n",
       "        [19.],\n",
       "        [16.],\n",
       "        [25.],\n",
       "        [19.],\n",
       "        [24.],\n",
       "        [24.],\n",
       "        [25.],\n",
       "        [27.],\n",
       "        [17.],\n",
       "        [20.],\n",
       "        [19.],\n",
       "        [15.],\n",
       "        [26.],\n",
       "        [22.],\n",
       "        [26.],\n",
       "        [19.],\n",
       "        [22.],\n",
       "        [12.],\n",
       "        [14.],\n",
       "        [16.],\n",
       "        [18.],\n",
       "        [26.],\n",
       "        [24.],\n",
       "        [19.],\n",
       "        [22.],\n",
       "        [15.],\n",
       "        [20.],\n",
       "        [16.],\n",
       "        [21.],\n",
       "        [21.],\n",
       "        [16.],\n",
       "        [27.],\n",
       "        [24.],\n",
       "        [16.],\n",
       "        [16.],\n",
       "        [21.],\n",
       "        [21.],\n",
       "        [23.],\n",
       "        [19.],\n",
       "        [18.],\n",
       "        [21.],\n",
       "        [18.],\n",
       "        [24.],\n",
       "        [16.],\n",
       "        [23.],\n",
       "        [21.],\n",
       "        [22.],\n",
       "        [21.],\n",
       "        [23.],\n",
       "        [30.],\n",
       "        [19.],\n",
       "        [19.],\n",
       "        [18.],\n",
       "        [20.],\n",
       "        [14.],\n",
       "        [14.],\n",
       "        [20.],\n",
       "        [21.],\n",
       "        [17.],\n",
       "        [19.],\n",
       "        [26.],\n",
       "        [17.],\n",
       "        [23.],\n",
       "        [23.],\n",
       "        [12.],\n",
       "        [22.],\n",
       "        [22.],\n",
       "        [19.],\n",
       "        [20.],\n",
       "        [15.],\n",
       "        [18.],\n",
       "        [21.],\n",
       "        [18.],\n",
       "        [16.],\n",
       "        [22.],\n",
       "        [29.],\n",
       "        [14.],\n",
       "        [14.],\n",
       "        [27.],\n",
       "        [13.],\n",
       "        [17.],\n",
       "        [18.],\n",
       "        [22.],\n",
       "        [18.],\n",
       "        [19.],\n",
       "        [20.],\n",
       "        [28.],\n",
       "        [16.],\n",
       "        [26.],\n",
       "        [14.],\n",
       "        [22.],\n",
       "        [20.],\n",
       "        [17.],\n",
       "        [17.],\n",
       "        [18.],\n",
       "        [25.],\n",
       "        [16.],\n",
       "        [19.],\n",
       "        [26.],\n",
       "        [15.],\n",
       "        [17.],\n",
       "        [24.],\n",
       "        [22.],\n",
       "        [17.],\n",
       "        [27.],\n",
       "        [26.],\n",
       "        [24.],\n",
       "        [18.],\n",
       "        [17.],\n",
       "        [12.],\n",
       "        [24.],\n",
       "        [19.],\n",
       "        [23.],\n",
       "        [22.],\n",
       "        [23.],\n",
       "        [28.],\n",
       "        [26.],\n",
       "        [25.],\n",
       "        [22.],\n",
       "        [19.],\n",
       "        [32.],\n",
       "        [16.],\n",
       "        [23.],\n",
       "        [23.],\n",
       "        [23.],\n",
       "        [18.],\n",
       "        [19.],\n",
       "        [18.],\n",
       "        [12.],\n",
       "        [21.],\n",
       "        [29.],\n",
       "        [16.],\n",
       "        [21.],\n",
       "        [25.],\n",
       "        [18.],\n",
       "        [10.],\n",
       "        [17.],\n",
       "        [18.],\n",
       "        [15.],\n",
       "        [22.],\n",
       "        [28.],\n",
       "        [20.],\n",
       "        [16.],\n",
       "        [22.],\n",
       "        [17.],\n",
       "        [20.],\n",
       "        [12.],\n",
       "        [17.],\n",
       "        [23.],\n",
       "        [21.],\n",
       "        [ 9.],\n",
       "        [18.],\n",
       "        [13.],\n",
       "        [23.],\n",
       "        [20.],\n",
       "        [19.]])"
      ]
     },
     "execution_count": 13,
     "metadata": {},
     "output_type": "execute_result"
    }
   ],
   "source": [
    "C*np.ones((200,1))"
   ]
  },
  {
   "cell_type": "markdown",
   "metadata": {},
   "source": [
    "&#9989; <font color=red>**Question c:**</font> What is the size of $C C^\\top$? What does $(CC^\\top)_{ij}$ (i.e., the $i$-th row and $j$-th column of $CC^\\top$) mean?"
   ]
  },
  {
   "cell_type": "markdown",
   "metadata": {},
   "source": [
    "400 x 400\n",
    "\n",
    "Number of classes i had in common with j"
   ]
  },
  {
   "cell_type": "markdown",
   "metadata": {},
   "source": [
    "&#9989; <font color=red>**Question d:**</font> For any two courses, how to find the number of students took both courses. Again, we need to do this for all course pairs."
   ]
  },
  {
   "cell_type": "code",
   "execution_count": 14,
   "metadata": {
    "scrolled": true
   },
   "outputs": [
    {
     "data": {
      "text/plain": [
       "matrix([[45.,  7.,  5., ...,  4.,  8.,  5.],\n",
       "        [ 7., 46.,  1., ...,  0.,  1.,  2.],\n",
       "        [ 5.,  1., 40., ...,  2.,  6.,  7.],\n",
       "        ...,\n",
       "        [ 4.,  0.,  2., ..., 40.,  6.,  5.],\n",
       "        [ 8.,  1.,  6., ...,  6., 50.,  9.],\n",
       "        [ 5.,  2.,  7., ...,  5.,  9., 39.]])"
      ]
     },
     "execution_count": 14,
     "metadata": {},
     "output_type": "execute_result"
    }
   ],
   "source": [
    "C.T*C"
   ]
  },
  {
   "cell_type": "markdown",
   "metadata": {},
   "source": [
    "&#9989; <font color=red>**Question e:**</font> Write a small program to test whether or not a matrix $A$ is symmetric, and then apply this on the matrix <font color=blue>$C^\\top C$</font> to determine whether it is symmetric or not."
   ]
  },
  {
   "cell_type": "code",
   "execution_count": 15,
   "metadata": {},
   "outputs": [
    {
     "name": "stdout",
     "output_type": "stream",
     "text": [
      "Symmetric\n"
     ]
    }
   ],
   "source": [
    "def  check_symmetric(A):\n",
    "    \n",
    "    if np.equal(A.all(),A.T.all()):\n",
    "        print(\"Symmetric\")\n",
    "    else:\n",
    "        print(\"Not symmetric\")\n",
    "\n",
    "check_symmetric(C.transpose()*C)\n"
   ]
  },
  {
   "cell_type": "markdown",
   "metadata": {},
   "source": [
    "----\n",
    "# Question 4 - (25 points) Data Science - Principal Component Analysis\n",
    "\n",
    "\n",
    "\n",
    "Principla component analysis (PCA) is a powerful tool used to analyze data sets and visulization. \n",
    "\n",
    "\n",
    "Suppose there are $m$ individuals. \n",
    "We measure the same $n$ variables for each individual. \n",
    "We can put the measurement into a $m\\times n$ matrix. \n",
    "Then PCA will create a low-dimensional representation of the high dimensional ($n$-dimensional) data. \n",
    "\n",
    "\n",
    "For the purpose of visualization in the exam, we are given a $100\\times 2$ matrix, that is we have $100$ individuals and each individual has two variables. \n",
    "We can plot these 100 points in the figure. \n",
    "In this example, we have 100 points in two dimensional, and we will find a one dimensional representation for the points. \n",
    "That is, we will find a line in the 2D space such that the data points are very close to the line.\n"
   ]
  },
  {
   "cell_type": "code",
   "execution_count": 16,
   "metadata": {},
   "outputs": [],
   "source": [
    "np.random.seed(123)\n",
    "m = 100;\n",
    "x = 5*np.random.rand(m)\n",
    "y = 2*x + 1 + 0.2*np.random.randn(m)\n",
    "\n",
    "x = x.reshape(m, 1)\n",
    "y = y.reshape(m, 1)\n",
    "\n",
    "X = np.hstack([x, y])"
   ]
  },
  {
   "cell_type": "code",
   "execution_count": 17,
   "metadata": {},
   "outputs": [
    {
     "data": {
      "image/png": "[encoded data removed]",
      "text/plain": [
       "<Figure size 432x288 with 1 Axes>"
      ]
     },
     "metadata": {
      "needs_background": "light"
     },
     "output_type": "display_data"
    }
   ],
   "source": [
    "plt.plot(X[:,0], X[:,1], '*')\n",
    "plt.axis('scaled');\n",
    "\n",
    "plt.show()"
   ]
  },
  {
   "cell_type": "markdown",
   "metadata": {},
   "source": [
    "From the plot, we see that all the points are along one line $y=2x+1$ in the $xy$-plane. \n",
    "Because this is in 2D, and we can see it. \n",
    "In real application, the dimension is very high, and we can not visualize it. \n",
    "The purpose of PCA for this given data set is to find the line in the $xy$-plane and project all data points onto this line. \n",
    "Next, we will do the following steps to find the line."
   ]
  },
  {
   "cell_type": "markdown",
   "metadata": {},
   "source": [
    "&#9989; <font color=red>**Question a:**</font> Find the center point $X_c$ of all the data points, and show it in the plot. \n",
    "The variable values for the center point is the average of the variable over all data points. "
   ]
  },
  {
   "cell_type": "code",
   "execution_count": 19,
   "metadata": {
    "scrolled": true
   },
   "outputs": [
    {
     "data": {
      "image/png": "[encoded data removed]",
      "text/plain": [
       "<Figure size 432x288 with 1 Axes>"
      ]
     },
     "metadata": {
      "needs_background": "light"
     },
     "output_type": "display_data"
    }
   ],
   "source": [
    "# Finish the following code to find the center point X_c \n",
    "X_c = np.array([[x.mean(), y.mean()]])\n",
    "\n",
    "plt.plot(X[:,0], X[:,1], '*')\n",
    "plt.plot(X_c[0,0],X_c[0,1],'ro')\n",
    "plt.axis('scaled');\n",
    "plt.show()"
   ]
  },
  {
   "cell_type": "markdown",
   "metadata": {},
   "source": [
    "Then we plot $(X-X_c)$ in the $xy$-plane. \n",
    "It moves all the data points such that the center point becomes the original $(0,0)$. \n",
    "This is the same as applying a transpose matrix. \n",
    "The step is a very important step in many method in data science."
   ]
  },
  {
   "cell_type": "code",
   "execution_count": 20,
   "metadata": {
    "scrolled": true
   },
   "outputs": [
    {
     "data": {
      "image/png": "[encoded data removed]",
      "text/plain": [
       "<Figure size 432x288 with 1 Axes>"
      ]
     },
     "metadata": {
      "needs_background": "light"
     },
     "output_type": "display_data"
    }
   ],
   "source": [
    "X_1 = X - np.matrix(np.ones((X.shape[0],1)))*X_c\n",
    "plt.plot(X_1[:,0], X_1[:,1], '*')\n",
    "plt.plot(X_1[0,0], X_1[0,1], 'rs')\n",
    "plt.axis('scaled');\n",
    "plt.show()"
   ]
  },
  {
   "cell_type": "markdown",
   "metadata": {},
   "source": [
    "&#9989; <font color=red>**Question b:**</font> Find the variance of the data points. The variance is calculated by \n",
    "$\\sum\\limits_i (x_1^i-x_1^c)^2+(x_2^i-x_2^c)^2$, where $x^c=(x_1^c,x_2^c)$ is the center point, and $(x_1^i,x_2^i)$ is the $i$-th data point.  \n",
    "\n",
    "\n",
    "Matrix operations can simplify your answer. \n",
    "You are encouraged to use matrix operations here, but you can use any method. "
   ]
  },
  {
   "cell_type": "code",
   "execution_count": 40,
   "metadata": {
    "scrolled": true
   },
   "outputs": [
    {
     "data": {
      "text/plain": [
       "array([[750.01337218]])"
      ]
     },
     "execution_count": 40,
     "metadata": {},
     "output_type": "execute_result"
    }
   ],
   "source": [
    "np.matmul(np.diag(X_1*X_1.T).reshape(1,-1), np.ones((100,1)))"
   ]
  },
  {
   "cell_type": "markdown",
   "metadata": {},
   "source": [
    "&#9989; <font color=red>**Question c:**</font>  This is an important step for PCA. \n",
    "It requires eigen decomposition, which will be covered after this midterm. \n",
    "Therefore, in this exam, we assume that we solved this step. \n",
    "When we look at the point in Question a, the slop of the line is not $0$. \n",
    "In this Question, we need to rotation it such that the slop is close to $0$ (Keep in mind, we want to find a line). \n",
    "\n",
    "Look at the figure and approximate the angle that you will need to rotate. \n",
    "After the rotation, you may notice that the $y$ values are very small, and the points are very close to the $x$-axis."
   ]
  },
  {
   "cell_type": "code",
   "execution_count": 58,
   "metadata": {
    "scrolled": true
   },
   "outputs": [
    {
     "data": {
      "image/png": "[encoded data removed]",
      "text/plain": [
       "<Figure size 432x288 with 1 Axes>"
      ]
     },
     "metadata": {
      "needs_background": "light"
     },
     "output_type": "display_data"
    }
   ],
   "source": [
    "# Finish the following code for the rotation. We put the first point in the plot so you can adjust your angle \n",
    "\n",
    "theta = np.radians(63)\n",
    "J1 = np.matrix([[np.cos(theta), -np.sin(theta)],[np.sin(theta),np.cos(theta)]]) # J1 is the rotation matrix \n",
    "X_2 = X_1*J1\n",
    "\n",
    "\n",
    "plt.plot(X_2[:,0], X_2[:,1], '*')\n",
    "plt.plot(X_2[0,0], X_2[0,1], 'rs')\n",
    "plt.axis('scaled');\n",
    "plt.show()"
   ]
  },
  {
   "cell_type": "markdown",
   "metadata": {},
   "source": [
    "&#9989; <font color=red>**Question d:**</font> Since we need to reduce the dimension from $2$ to $1$, we can remove the $y$ values because they are very small. \n",
    "So we keep the $x$ values for all data points, and transform them back to the original plot. \n",
    "That is, we first rotate all the data points back to have a slop and move the center point to be $X_c$."
   ]
  },
  {
   "cell_type": "code",
   "execution_count": 59,
   "metadata": {
    "scrolled": true
   },
   "outputs": [
    {
     "data": {
      "image/png": "[encoded data removed]",
      "text/plain": [
       "<Figure size 432x288 with 1 Axes>"
      ]
     },
     "metadata": {
      "needs_background": "light"
     },
     "output_type": "display_data"
    }
   ],
   "source": [
    "# Finish the following code to transform it back. You should see the new data points are close the orignal points. \n",
    "X_2[:,1] = 0\n",
    "J2 = np.linalg.inv(J1) \n",
    "X_3 = X_2*J2+X_c\n",
    "\n",
    "\n",
    "\n",
    "plt.plot(X_3[:,0], X_3[:,1], 'r*')\n",
    "plt.plot(X_3[0,0], X_3[0,1], 'bs')\n",
    "plt.plot(X[:,0], X[:,1], 'b*')\n",
    "plt.axis('scaled');\n",
    "plt.show()"
   ]
  },
  {
   "cell_type": "markdown",
   "metadata": {},
   "source": [
    "&#9989; <font color=red>**Question e:**</font>   Measure the variance for the new data points. Find the variance of the new data points in the same way as the original data points. Compare the new variance with the previous one. "
   ]
  },
  {
   "cell_type": "code",
   "execution_count": 60,
   "metadata": {},
   "outputs": [
    {
     "data": {
      "text/plain": [
       "array([[749.20226158]])"
      ]
     },
     "execution_count": 60,
     "metadata": {},
     "output_type": "execute_result"
    }
   ],
   "source": [
    "# Put your answer here. \n",
    "np.matmul(np.diag((X_3-X_3.mean(axis=0))*(X_3-X_3.mean(axis=0)).T).reshape(1,-1), np.ones((100,1)))\n"
   ]
  },
  {
   "cell_type": "markdown",
   "metadata": {},
   "source": [
    "&#9989; <font color=red>**Question f (bonus):**</font>   Change the angle *theta* in the previous code and compute the variance again. Did you get a larger variance or a smaller variance? Try to explain the reason why."
   ]
  },
  {
   "cell_type": "markdown",
   "metadata": {},
   "source": [
    "The closer the new variance is to the original variance means it is a better fit. The larger the difference in variance shows that the estimation is further from the original data. The smaller the difference means the model is capturing more and more of the total variance in the original data."
   ]
  },
  {
   "cell_type": "markdown",
   "metadata": {},
   "source": [
    "---------\n",
    "### Congratulations, you're done with your EXAM\n",
    "\n",
    "Now, you just need to submit this assignment by uploading it to the course <a href=\"https://d2l.msu.edu/\">Desire2Learn</a> web page for today's dropbox (Don't forget to add your names in the first cell and restart and check the notebook for errors)."
   ]
  },
  {
   "cell_type": "markdown",
   "metadata": {},
   "source": [
    "&#169; Copyright 2018,  Michigan State University Board of Trustees"
   ]
  }
 ],
 "metadata": {
  "kernelspec": {
   "display_name": "Python 3",
   "language": "python",
   "name": "python3"
  },
  "language_info": {
   "codemirror_mode": {
    "name": "ipython",
    "version": 3
   },
   "file_extension": ".py",
   "mimetype": "text/x-python",
   "name": "python",
   "nbconvert_exporter": "python",
   "pygments_lexer": "ipython3",
   "version": "3.7.1"
  }
 },
 "nbformat": 4,
 "nbformat_minor": 1
}
