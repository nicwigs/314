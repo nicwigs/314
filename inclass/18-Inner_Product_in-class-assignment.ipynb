{
 "cells": [
  {
   "cell_type": "markdown",
   "metadata": {},
   "source": [
    "## <p style=\"text-align: right;\"> &#9989; Nic Wiggins</p>"
   ]
  },
  {
   "cell_type": "markdown",
   "metadata": {},
   "source": [
    "You **NEED** to participate both individually and in groups in class to successfully complete this assignment and receive credits for it."
   ]
  },
  {
   "cell_type": "markdown",
   "metadata": {},
   "source": [
    "# In-Class Assignment: Inner Products\n",
    "\n",
    "<img src=\"https://upload.wikimedia.org/wikipedia/commons/thumb/4/4e/Pleiades_large.jpg/1200px-Pleiades_large.jpg\" width=\"50%\">\n",
    "\n",
    "\n",
    "<p style=\"text-align: right;\">Image from: https://www.wikipedia.org/</p>\n",
    "    "
   ]
  },
  {
   "cell_type": "markdown",
   "metadata": {},
   "source": [
    "### Agenda for today's class (80 minutes)\n",
    "\n",
    "</p>\n",
    "\n",
    "1. (10 minutes) Review Cautionary Example (Multiplication in numpy)\n",
    "1. (10 minutes) Pre-class Assignment Review\n",
    "1. (20 minutes) Relativity\n",
    "1. (20 minutes) Function Approximation\n",
    "1. (20 minutes) Fourier Transforms"
   ]
  },
  {
   "cell_type": "markdown",
   "metadata": {},
   "source": [
    "---\n",
    "\n",
    "# 1. Review Cautionary Example (Multiplication in numpy)\n",
    "\n",
    "Pay close attention to the \"type\" of data you are working with.  There are three types you may come across when working with 2D data:\n",
    "\n",
    "1. Lists of lists\n",
    "2. numpy arrays\n",
    "3. numpy matrices\n",
    "\n",
    "Multiplication on each of these three data types act differently.  "
   ]
  },
  {
   "cell_type": "code",
   "execution_count": 1,
   "metadata": {},
   "outputs": [],
   "source": [
    "import numpy as np\n",
    "\n",
    "# Here is a list of lists\n",
    "A =[[3.0,1.0],\n",
    "    [2.0,2.0]]    \n",
    "B =[[ 10, 1 ],\n",
    "   [-1,  10]]\n",
    "C =[[ 10, 1, 3 ],\n",
    "   [-1,  10, 5]]"
   ]
  },
  {
   "cell_type": "code",
   "execution_count": 2,
   "metadata": {},
   "outputs": [
    {
     "ename": "TypeError",
     "evalue": "can't multiply sequence by non-int of type 'list'",
     "output_type": "error",
     "traceback": [
      "\u001b[0;31m---------------------------------------------------------------------------\u001b[0m",
      "\u001b[0;31mTypeError\u001b[0m                                 Traceback (most recent call last)",
      "\u001b[0;32m<ipython-input-2-876a6ef24487>\u001b[0m in \u001b[0;36m<module>\u001b[0;34m\u001b[0m\n\u001b[1;32m      1\u001b[0m \u001b[0;31m#Can't Multiply lists of lists directly\u001b[0m\u001b[0;34m\u001b[0m\u001b[0;34m\u001b[0m\u001b[0;34m\u001b[0m\u001b[0m\n\u001b[0;32m----> 2\u001b[0;31m \u001b[0mA\u001b[0m\u001b[0;34m*\u001b[0m\u001b[0mB\u001b[0m\u001b[0;34m\u001b[0m\u001b[0;34m\u001b[0m\u001b[0m\n\u001b[0m",
      "\u001b[0;31mTypeError\u001b[0m: can't multiply sequence by non-int of type 'list'"
     ]
    }
   ],
   "source": [
    "#Can't Multiply lists of lists directly\n",
    "A*B"
   ]
  },
  {
   "cell_type": "code",
   "execution_count": 3,
   "metadata": {},
   "outputs": [
    {
     "data": {
      "text/plain": [
       "array([[30.,  1.],\n",
       "       [-2., 20.]])"
      ]
     },
     "execution_count": 3,
     "metadata": {},
     "output_type": "execute_result"
    }
   ],
   "source": [
    "#Here is the multiplication if we cast as numpy arrays\n",
    "C1 = np.array(A)*np.array(B)\n",
    "C1"
   ]
  },
  {
   "cell_type": "code",
   "execution_count": 4,
   "metadata": {},
   "outputs": [
    {
     "data": {
      "text/plain": [
       "matrix([[29., 13.],\n",
       "        [18., 22.]])"
      ]
     },
     "execution_count": 4,
     "metadata": {},
     "output_type": "execute_result"
    }
   ],
   "source": [
    "#Here is the same multiplication if we cast as numpy matrix\n",
    "C2 = np.matrix(A)*np.matrix(B)\n",
    "C2"
   ]
  },
  {
   "cell_type": "code",
   "execution_count": 5,
   "metadata": {},
   "outputs": [
    {
     "data": {
      "text/plain": [
       "False"
      ]
     },
     "execution_count": 5,
     "metadata": {},
     "output_type": "execute_result"
    }
   ],
   "source": [
    "#Notice that both multiplies return a 4x4 array but they are NOT the same!!!!\n",
    "np.allclose(C1,C2)"
   ]
  },
  {
   "cell_type": "code",
   "execution_count": 6,
   "metadata": {},
   "outputs": [
    {
     "name": "stdout",
     "output_type": "stream",
     "text": [
      "A is  <class 'list'>\n",
      "B is  <class 'list'>\n",
      "C1 is  <class 'numpy.ndarray'>\n",
      "C2 is  <class 'numpy.matrixlib.defmatrix.matrix'>\n"
     ]
    }
   ],
   "source": [
    "#You can use the \"type\" command to figure out what you are working with\n",
    "\n",
    "print(\"A is \",type(A))\n",
    "print(\"B is \",type(B))\n",
    "print(\"C1 is \",type(C1))\n",
    "print(\"C2 is \",type(C2))"
   ]
  },
  {
   "cell_type": "code",
   "execution_count": 7,
   "metadata": {},
   "outputs": [
    {
     "ename": "ValueError",
     "evalue": "operands could not be broadcast together with shapes (2,2) (2,3) ",
     "output_type": "error",
     "traceback": [
      "\u001b[0;31m---------------------------------------------------------------------------\u001b[0m",
      "\u001b[0;31mValueError\u001b[0m                                Traceback (most recent call last)",
      "\u001b[0;32m<ipython-input-7-baa3d5032c9b>\u001b[0m in \u001b[0;36m<module>\u001b[0;34m\u001b[0m\n\u001b[1;32m      1\u001b[0m \u001b[0;31m#Here is the multiplication if we cast as numpy arrays,\u001b[0m\u001b[0;34m\u001b[0m\u001b[0;34m\u001b[0m\u001b[0;34m\u001b[0m\u001b[0m\n\u001b[1;32m      2\u001b[0m \u001b[0;31m# it does not work if they have different sizes and can not be broadcasted.\u001b[0m\u001b[0;34m\u001b[0m\u001b[0;34m\u001b[0m\u001b[0;34m\u001b[0m\u001b[0m\n\u001b[0;32m----> 3\u001b[0;31m \u001b[0mC1\u001b[0m \u001b[0;34m=\u001b[0m \u001b[0mnp\u001b[0m\u001b[0;34m.\u001b[0m\u001b[0marray\u001b[0m\u001b[0;34m(\u001b[0m\u001b[0mA\u001b[0m\u001b[0;34m)\u001b[0m\u001b[0;34m*\u001b[0m\u001b[0mnp\u001b[0m\u001b[0;34m.\u001b[0m\u001b[0marray\u001b[0m\u001b[0;34m(\u001b[0m\u001b[0mC\u001b[0m\u001b[0;34m)\u001b[0m\u001b[0;34m\u001b[0m\u001b[0;34m\u001b[0m\u001b[0m\n\u001b[0m\u001b[1;32m      4\u001b[0m \u001b[0mC1\u001b[0m\u001b[0;34m\u001b[0m\u001b[0;34m\u001b[0m\u001b[0m\n",
      "\u001b[0;31mValueError\u001b[0m: operands could not be broadcast together with shapes (2,2) (2,3) "
     ]
    }
   ],
   "source": [
    "#Here is the multiplication if we cast as numpy arrays, \n",
    "# it does not work if they have different sizes and can not be broadcasted.\n",
    "C1 = np.array(A)*np.array(C)\n",
    "C1"
   ]
  },
  {
   "cell_type": "code",
   "execution_count": 8,
   "metadata": {},
   "outputs": [
    {
     "data": {
      "text/plain": [
       "matrix([[29., 13., 14.],\n",
       "        [18., 22., 16.]])"
      ]
     },
     "execution_count": 8,
     "metadata": {},
     "output_type": "execute_result"
    }
   ],
   "source": [
    "#Here is the same multiplication if we cast as numpy matrix\n",
    "C2 = np.matrix(A)*np.matrix(C)\n",
    "C2"
   ]
  },
  {
   "cell_type": "markdown",
   "metadata": {},
   "source": [
    "---\n",
    "# 2. Pre-class Assignment Review\n",
    "\n",
    "[18--Inner_Product](../preclass/18--Inner_Product-pre-class-assignment.ipynb)"
   ]
  },
  {
   "cell_type": "markdown",
   "metadata": {},
   "source": [
    "---\n",
    "# 3. Minkowski Geometry\n",
    "Consider the following pseudo inner-product which is used to model special relativity in $R^4$:\n",
    "\n",
    "$$\\langle X,Y \\rangle = -x_1y_1 - x_2y_2 -x_3y_3 + x_4y_4.$$\n",
    "\n",
    "It has the following norm and distance:\n",
    "\n",
    "$$\\| X \\| =  \\sqrt{|\\langle X,X \\rangle|}\\\\\n",
    "d(X,Y) =  \\| X - Y \\| = \\| ( x_1 - y_1, x_2-y_2, x_3 - y_3, x_4 - y_4) \\| \\\\\n",
    "\\qquad\\qquad\\quad  =  \\sqrt{-(x_1 - y_1)^2 - (x_2-y_2)^2 - (x_3 - y_3)^2 + (x_4 - y_4)^2}$$"
   ]
  },
  {
   "cell_type": "markdown",
   "metadata": {},
   "source": [
    "<font color=red>** QUESTION:**</font> The Minkowski Geometry is called pseudo because it violates one of the inner product axioms. Discuss the axioms in your group and decide which one it violates."
   ]
  },
  {
   "cell_type": "markdown",
   "metadata": {},
   "source": [
    "violates the positive definite axiom, if the last value is 0 then for sure negative"
   ]
  },
  {
   "cell_type": "markdown",
   "metadata": {},
   "source": [
    "## The Physical Interpretation of Minkowski Geometry\n",
    "\n",
    "> The distance between two points on the path of an observer, such as Twin 2, in Minkowski geometry corresponds to the time recorded by that observer in traveling between the two points\n",
    "\n",
    "Let $P=(0,0,0,0)$, $R=(4,0,0,5)$, and $Q=(0,0,0,10)$. \n",
    "\n",
    "- $d(P, Q) =10$ means that Twin 1 ages 10 years from $P$ to $Q$.\n",
    "- $d(P, R) =3$ means that Twin 2 ages 3 years in traveling from $P$ to $R$. \n",
    "- $d(R, Q) =3$ means taht Twin 2 ages 3 years in traveling from $R$ to $Q$.\n",
    "- The time from $P->R->Q$ is shorter than $P->Q$. \n",
    "\n",
    "<font color=red>** QUESTION:**</font> The star cluster Pleiades in the constellation Taurus is 410 light years from Earth. A traveler to the cluster traveling at constant speed ages 40 years on a round trip. By the time the traveler returns to Earth, how many centuries will have passed on Earth?  **Hint:** follow the example in the book on page 365 (section 6.2)."
   ]
  },
  {
   "cell_type": "markdown",
   "metadata": {},
   "source": [
    "Put your answer to the above quesiton here"
   ]
  },
  {
   "cell_type": "code",
   "execution_count": 9,
   "metadata": {},
   "outputs": [
    {
     "data": {
      "text/plain": [
       "820.9750300709517"
      ]
     },
     "execution_count": 9,
     "metadata": {},
     "output_type": "execute_result"
    }
   ],
   "source": [
    "##ANSWER##\n",
    "d = np.sqrt(20**2+410**2)\n",
    "d*2\n",
    "##ANSWER##"
   ]
  },
  {
   "cell_type": "markdown",
   "metadata": {},
   "source": [
    "<font color=red>** QUESTION:**</font> How fast was the traveler going?"
   ]
  },
  {
   "cell_type": "markdown",
   "metadata": {},
   "source": [
    "Speed of light"
   ]
  },
  {
   "cell_type": "markdown",
   "metadata": {},
   "source": [
    "---\n",
    "\n",
    "# 4. Function Approximation\n",
    "\n",
    "**Definition:** Let $C[a,b]$ be a vector space of all possible continuous functions over the interval $[a,b]$ with inner product:\n",
    "$$\\langle f,g \\rangle = \\int_a^b f(x)g(x) dx.$$\n",
    "\n",
    "Now let $f$ be an element of $C[a,b]$, and $W$ be a subspace of $C[a,b]$. The function $g \\in W$ such that $\\int_a^b \\left[ f(x) - g(x) \\right]^2 dx$ is a minimum is called the **least-squares approximation** to $f$.\n",
    "\n",
    "\n",
    " The least-squares approximation to $f$ in the subspace $W$ can be calculated as the projection of $f$ onto $W$:\n",
    " \n",
    " $$g = proj_Wf$$\n",
    " \n",
    " If $\\{g_1, \\ldots, g_n\\}$ is an orthonormal basis for $W$, we can replace the dot product of $R^n$ by an inner product of the function space and get:\n",
    " \n",
    " $$prog_Wf = \\langle f,g_1 \\rangle g_1 + \\ldots + \\langle f,g_n \\rangle g_n$$\n",
    " \n",
    " \n",
    "###  Polynomial Approximations\n",
    "\n",
    "An orthogonal bases for all polynomials of degree less than or equal to $n$ can be computed using Gram-schmidt orthogonalization process.  First we start with the following standard basis vectors in $W$\n",
    "\n",
    "$$ \\{ 1, x, \\ldots, x^n \\}$$\n",
    "\n",
    "The Gram-Schmidt process can be used to make these vectors orthogonal. The resulting polynomials on $[-1,1]$ are called  **Legendre polynomials**.  The first six Legendre polynomial basis are:\n",
    "\n",
    "$$1$$\n",
    "$$x$$\n",
    "$$x^2 -\\frac{1}{3}$$\n",
    "$$x^3 - \\frac{3}{5}x$$\n",
    "$$x^4 - \\frac{6}{7}x^2 + \\frac{3}{35}$$\n",
    "$$x^5 - \\frac{10}{9}x^3 + \\frac{5}{12}x$$"
   ]
  },
  {
   "cell_type": "markdown",
   "metadata": {},
   "source": [
    "<font color=red>** QUESTION:**</font> What are the least-squares linear approximations of $f(x) = e^x$ over the interval $[-1, 1]$. In other words  the projection of $f$ onto $W$ where $W$ is a first order polynomal with basis vectors $\\{1, x\\} (i.e. $n=1$)$. (Hint: You give the answer in integrals without computing the integrals. Note the Legendre polynomials are not normalized.)"
   ]
  },
  {
   "cell_type": "markdown",
   "metadata": {},
   "source": [
    "Put your answer to the above question here."
   ]
  },
  {
   "cell_type": "markdown",
   "metadata": {},
   "source": [
    "Here is a plot of the equation $f(x) = e^x$:"
   ]
  },
  {
   "cell_type": "code",
   "execution_count": 13,
   "metadata": {},
   "outputs": [
    {
     "data": {
      "image/png": "[encoded data removed]",
      "text/plain": [
       "<Figure size 432x288 with 1 Axes>"
      ]
     },
     "metadata": {
      "needs_background": "light"
     },
     "output_type": "display_data"
    },
    {
     "data": {
      "text/plain": [
       "<sympy.plotting.plot.Plot at 0x118edfc88>"
      ]
     },
     "execution_count": 13,
     "metadata": {},
     "output_type": "execute_result"
    }
   ],
   "source": [
    "%matplotlib inline\n",
    "import matplotlib.pylab as plt\n",
    "import numpy as np\n",
    "\n",
    "\n",
    "#px = np.linspace(-1,1,100)\n",
    "#py = np.exp(px)\n",
    "#plt.plot(px,py, color='red');\n",
    "import sympy as sym\n",
    "from sympy.plotting import plot\n",
    "x = sym.symbols('x')\n",
    "f = sym.exp(x)\n",
    "plot(f,(x,-1,1))"
   ]
  },
  {
   "cell_type": "markdown",
   "metadata": {},
   "source": [
    "We can use **sympy** to compute the integral. The following code compute the definite integral of \n",
    "$$\\int_{-1}^1 e^x dx.$$\n",
    "In fact, **sympy** can also compute the indefinite integral by removing the interval."
   ]
  },
  {
   "cell_type": "code",
   "execution_count": 12,
   "metadata": {},
   "outputs": [
    {
     "data": {
      "image/png": "[encoded data removed]",
      "text/latex": [
       "$$- \\frac{1}{e} + e$$"
      ],
      "text/plain": [
       "   -1    \n",
       "- ℯ   + ℯ"
      ]
     },
     "execution_count": 12,
     "metadata": {},
     "output_type": "execute_result"
    }
   ],
   "source": [
    "sym.init_printing()\n",
    "x = sym.symbols('x')\n",
    "sym.integrate('exp(x)',(x, -1, 1))\n",
    "# sym.integrate('exp(x)',(x))"
   ]
  },
  {
   "cell_type": "markdown",
   "metadata": {},
   "source": [
    "<font color=red>**DO THIS:**</font> Use **sympy** to compute the first order polynomial that approximates the function $e^x$.\n",
    "The following calculates the above approximation written in ```Sympy```:"
   ]
  },
  {
   "cell_type": "code",
   "execution_count": 25,
   "metadata": {},
   "outputs": [],
   "source": [
    "import mpmath as mp"
   ]
  },
  {
   "cell_type": "code",
   "execution_count": 79,
   "metadata": {},
   "outputs": [
    {
     "data": {
      "image/png": "[encoded data removed]",
      "text/latex": [
       "$$2$$"
      ],
      "text/plain": [
       "2"
      ]
     },
     "execution_count": 79,
     "metadata": {},
     "output_type": "execute_result"
    }
   ],
   "source": [
    "# basis above is orthoginal but not normalized\n",
    "# g1 integrate 1 from -1 to 1 is 2, to normalize 1/2 \n",
    "sym.integrate('1**2',(x, -1, 1))"
   ]
  },
  {
   "cell_type": "code",
   "execution_count": 83,
   "metadata": {},
   "outputs": [
    {
     "data": {
      "image/png": "[encoded data removed]",
      "text/latex": [
       "$$- \\frac{1}{2 e} + \\frac{e}{2}$$"
      ],
      "text/plain": [
       "   -1    \n",
       "  ℯ     ℯ\n",
       "- ─── + ─\n",
       "   2    2"
      ]
     },
     "execution_count": 83,
     "metadata": {},
     "output_type": "execute_result"
    }
   ],
   "source": [
    "# for g1 = 1/2\n",
    "f1 = sym.integrate('1*exp(x)',(x, -1, 1))*1/2\n",
    "f1"
   ]
  },
  {
   "cell_type": "code",
   "execution_count": 74,
   "metadata": {},
   "outputs": [
    {
     "data": {
      "image/png": "[encoded data removed]",
      "text/latex": [
       "$$\\frac{2}{3}$$"
      ],
      "text/plain": [
       "2/3"
      ]
     },
     "execution_count": 74,
     "metadata": {},
     "output_type": "execute_result"
    }
   ],
   "source": [
    "# g2 is x, but we need to normalize - to normalize multiply with 3/2 -> 3/2x\n",
    "sym.integrate('x**2',(x, -1, 1))"
   ]
  },
  {
   "cell_type": "code",
   "execution_count": 81,
   "metadata": {},
   "outputs": [
    {
     "data": {
      "image/png": "[encoded data removed]",
      "text/latex": [
       "$$\\frac{3 x}{e}$$"
      ],
      "text/plain": [
       "     -1\n",
       "3⋅x⋅ℯ  "
      ]
     },
     "execution_count": 81,
     "metadata": {},
     "output_type": "execute_result"
    }
   ],
   "source": [
    "# <f,g2>*g2\n",
    "f2 = sym.integrate('x*exp(x)',(x, -1, 1))*3/2*x\n",
    "f2"
   ]
  },
  {
   "cell_type": "markdown",
   "metadata": {},
   "source": [
    "<font color=red>** QUESTION:**</font> Plot the original function $f(x)=e^x$ and it's approximation."
   ]
  },
  {
   "cell_type": "code",
   "execution_count": 82,
   "metadata": {},
   "outputs": [
    {
     "data": {
      "image/png": "[encoded data removed]",
      "text/plain": [
       "<Figure size 432x288 with 1 Axes>"
      ]
     },
     "metadata": {
      "needs_background": "light"
     },
     "output_type": "display_data"
    },
    {
     "data": {
      "image/png": "[encoded data removed]",
      "text/plain": [
       "<Figure size 432x288 with 1 Axes>"
      ]
     },
     "metadata": {
      "needs_background": "light"
     },
     "output_type": "display_data"
    },
    {
     "data": {
      "image/png": "[encoded data removed]",
      "text/plain": [
       "<Figure size 432x288 with 1 Axes>"
      ]
     },
     "metadata": {
      "needs_background": "light"
     },
     "output_type": "display_data"
    }
   ],
   "source": [
    "p1 = plot(f,(x,-1,1))\n",
    "#####Start your code here #####\n",
    "p2 = plot(f1+f2,(x,-1,1))\n",
    "p1.append(p2[0])\n",
    "p1.show()\n",
    "#####End of your code here#####"
   ]
  },
  {
   "cell_type": "code",
   "execution_count": 64,
   "metadata": {},
   "outputs": [
    {
     "data": {
      "image/png": "[encoded data removed]",
      "text/latex": [
       "$$\\frac{3 x}{e} - \\frac{1}{2 e} + \\frac{e}{2}$$"
      ],
      "text/plain": [
       "           -1    \n",
       "     -1   ℯ     ℯ\n",
       "3⋅x⋅ℯ   - ─── + ─\n",
       "           2    2"
      ]
     },
     "execution_count": 64,
     "metadata": {},
     "output_type": "execute_result"
    }
   ],
   "source": [
    "#For fun, I turned this into a function:\n",
    "x = sym.symbols('x')\n",
    "\n",
    "def lsf_poly(f, gb = [1,  x], a =-1, b=1):\n",
    "    proj = 0\n",
    "    for g in gb:\n",
    "#        print(sym.integrate(g*f,(x,a,b)))\n",
    "        proj = proj + sym.integrate(g*f,(x,a,b))/sym.integrate(g*g,(x,a,b))*g\n",
    "    return proj\n",
    "\n",
    "lsf_poly(sym.exp(x))"
   ]
  },
  {
   "cell_type": "markdown",
   "metadata": {},
   "source": [
    "<font color=red>** QUESTION:**</font> What would a second order approximation look like for this function?"
   ]
  },
  {
   "cell_type": "markdown",
   "metadata": {},
   "source": [
    "Put your answer to the above question here"
   ]
  },
  {
   "cell_type": "markdown",
   "metadata": {},
   "source": [
    "### Fourier Approximations\n",
    "\n",
    "Now, we consider the trigonometric polynomials spanned by the set $\\{ 1, \\cos x, \\sin x, \\ldots \\cos nx, \\sin nx\\}$ over $[-\\pi,\\pi]$, where $n$ is a positive integer. \n",
    "It can be shown that these vectors are already orthogonal and thus form a basis. \n",
    "If we divide the vectors by their magnitudes, we get the following orthonormal basis:\n",
    "\n",
    "$$\\{g_0, \\ldots, g_2n\\} = \\left\\{ \\frac{1}{\\sqrt{2\\pi}}, \\frac{1}{\\sqrt{\\pi}} \\cos{x}, \\ldots, \\frac{1}{\\sqrt{\\pi}} \\sin{x}, \\frac{1}{\\sqrt{\\pi}}\\cos{nx}, \\frac{1}{\\sqrt{\\pi}} \\sin{nx} \\right\\}$$"
   ]
  },
  {
   "cell_type": "markdown",
   "metadata": {},
   "source": [
    "If we project function $f$ onto this basis, we get the following trigonometric approximation:\n",
    "\n",
    "$$g(x) = a_0 + \\sum_{k=1}^n \\left( a_k \\cos{kx} + b_k \\sin{kx} \\right) $$\n",
    "\n",
    "where the coefficients $a_0,a_1,b_1, \\ldots, a_n,b_n$ are defined as:\n",
    "\n",
    "$$a_0 = \\langle {f, \\frac{1}{\\sqrt{2\\pi}}} \\rangle \\frac{1}{\\sqrt{2\\pi}} = \\frac{1}{{2\\pi}} \\int_{-\\pi}^{\\pi} f(x) dx$$\n",
    "\n",
    "$$a_k = \\frac{1}{\\pi} \\int_{-\\pi}^{\\pi} f(x) \\cos{kx} dx$$\n",
    "\n",
    "$$b_k = \\frac{1}{\\pi} \\int_{-\\pi}^{\\pi} f(x) \\sin{kx} dx$$\n",
    "\n",
    "The above set of equations is know as the Fourier series. Using the Fourier series we can approximate any functions with sin's and cos's."
   ]
  },
  {
   "cell_type": "markdown",
   "metadata": {},
   "source": [
    "In **Example 2** of section 6.3 of the textbook, we see that the Fourier approximation to $f(x) = x$ over the interval $\\left[ -\\pi, \\pi \\right]$ is:\n",
    "\n",
    "$$ g(x) = \\sum_{k=1}^{n} \\frac{2(-1)^{k+1}}{k} \\sin{kx}$$\n",
    "\n",
    "Taking $n = 4$ we get the forth-order approximation:\n",
    "\n",
    "$$g(x) = 2\\left(\\sin x - \\frac{1}{2} \\sin{2x} + \\frac{1}{3} \\sin{3x} - \\frac{1}{4} \\sin{4x}\\right)$$"
   ]
  },
  {
   "cell_type": "markdown",
   "metadata": {},
   "source": [
    "<font color=red>**QUESTION:**</font> Find the fourth-order Fourier approximations to $f(x) = 1+x$ over $[-\\pi,\\pi]$.\n"
   ]
  },
  {
   "cell_type": "markdown",
   "metadata": {},
   "source": [
    "Put your answer to the above question here"
   ]
  },
  {
   "cell_type": "markdown",
   "metadata": {},
   "source": [
    "<font color=red>**DO THIS:**</font> Visualize the fourth order approximation of $f(x)=x$. Then **modify the order** to visualize the fourth-order approximation of $f(x)=1+x$."
   ]
  },
  {
   "cell_type": "code",
   "execution_count": 50,
   "metadata": {},
   "outputs": [
    {
     "data": {
      "text/plain": [
       "[<matplotlib.lines.Line2D at 0x7f503797b550>]"
      ]
     },
     "execution_count": 50,
     "metadata": {},
     "output_type": "execute_result"
    },
    {
     "data": {
      "image/png": "[encoded data removed]",
      "text/plain": [
       "<Figure size 432x288 with 1 Axes>"
      ]
     },
     "metadata": {},
     "output_type": "display_data"
    }
   ],
   "source": [
    "x = np.linspace(-np.pi,np.pi,100)\n",
    "y = x\n",
    "g1 = 2*np.sin(x)\n",
    "g2 = -np.sin(2*x)\n",
    "g3 = 2*np.sin(3*x)/3\n",
    "g4 = -2*np.sin(4*x)/4\n",
    "gg = g1+g2+g3+g4\n",
    "plt.plot(x,y, color='black')\n",
    "plt.plot(x,g1, color='red')\n",
    "plt.plot(x,g2, color='red')\n",
    "plt.plot(x,g3, color='red')\n",
    "plt.plot(x,g4, color='red')\n",
    "plt.plot(x,gg, color='green')"
   ]
  },
  {
   "cell_type": "markdown",
   "metadata": {},
   "source": [
    "Let's look at the approximation with different orders from 1 to 4."
   ]
  },
  {
   "cell_type": "code",
   "execution_count": 51,
   "metadata": {
    "scrolled": false
   },
   "outputs": [
    {
     "data": {
      "text/plain": [
       "[<matplotlib.lines.Line2D at 0x7f5037871048>]"
      ]
     },
     "execution_count": 51,
     "metadata": {},
     "output_type": "execute_result"
    },
    {
     "data": {
      "image/png": "[encoded data removed]",
      "text/plain": [
       "<Figure size 432x288 with 1 Axes>"
      ]
     },
     "metadata": {},
     "output_type": "display_data"
    }
   ],
   "source": [
    "# First-order\n",
    "plt.plot(x,y, color='black')\n",
    "plt.plot(x,g1, color='red')"
   ]
  },
  {
   "cell_type": "code",
   "execution_count": 52,
   "metadata": {
    "scrolled": false
   },
   "outputs": [
    {
     "data": {
      "text/plain": [
       "[<matplotlib.lines.Line2D at 0x7f5037b60438>]"
      ]
     },
     "execution_count": 52,
     "metadata": {},
     "output_type": "execute_result"
    },
    {
     "data": {
      "image/png": "[encoded data removed]",
      "text/plain": [
       "<Figure size 432x288 with 1 Axes>"
      ]
     },
     "metadata": {},
     "output_type": "display_data"
    }
   ],
   "source": [
    "# Second-order\n",
    "plt.plot(x,y, color='black')\n",
    "plt.plot(x,g1+g2, color='red')"
   ]
  },
  {
   "cell_type": "code",
   "execution_count": 53,
   "metadata": {},
   "outputs": [
    {
     "data": {
      "text/plain": [
       "[<matplotlib.lines.Line2D at 0x7f5037923748>]"
      ]
     },
     "execution_count": 53,
     "metadata": {},
     "output_type": "execute_result"
    },
    {
     "data": {
      "image/png": "[encoded data removed]",
      "text/plain": [
       "<Figure size 432x288 with 1 Axes>"
      ]
     },
     "metadata": {},
     "output_type": "display_data"
    }
   ],
   "source": [
    "# Third-order\n",
    "plt.plot(x,y, color='black')\n",
    "plt.plot(x,g1+g2+g3, color='red')"
   ]
  },
  {
   "cell_type": "code",
   "execution_count": 49,
   "metadata": {
    "scrolled": false
   },
   "outputs": [
    {
     "data": {
      "text/plain": [
       "[<matplotlib.lines.Line2D at 0x7f50379df940>]"
      ]
     },
     "execution_count": 49,
     "metadata": {},
     "output_type": "execute_result"
    },
    {
     "data": {
      "image/png": "[encoded data removed]",
      "text/plain": [
       "<Figure size 432x288 with 1 Axes>"
      ]
     },
     "metadata": {},
     "output_type": "display_data"
    }
   ],
   "source": [
    "# Fourth-order\n",
    "plt.plot(x,y, color='black')\n",
    "plt.plot(x,g1+g2+g3+g4, color='red')"
   ]
  },
  {
   "cell_type": "markdown",
   "metadata": {},
   "source": [
    "-----\n",
    "### Congratulations, we're almost done!\n",
    "\n",
    "Now, you just need to submit this assignment by uploading it to the course <a href=\"https://d2l.msu.edu/\">Desire2Learn</a> web page for today's dropbox (Don't forget to add your names in the first cell).\n"
   ]
  },
  {
   "cell_type": "markdown",
   "metadata": {},
   "source": [
    "&#169; Copyright 2018,  Michigan State University Board of Trustees"
   ]
  }
 ],
 "metadata": {
  "kernelspec": {
   "display_name": "Python 3",
   "language": "python",
   "name": "python3"
  },
  "language_info": {
   "codemirror_mode": {
    "name": "ipython",
    "version": 3
   },
   "file_extension": ".py",
   "mimetype": "text/x-python",
   "name": "python",
   "nbconvert_exporter": "python",
   "pygments_lexer": "ipython3",
   "version": "3.7.1"
  }
 },
 "nbformat": 4,
 "nbformat_minor": 1
}
