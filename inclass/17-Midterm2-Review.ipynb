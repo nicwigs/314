{
 "cells": [
  {
   "cell_type": "markdown",
   "metadata": {},
   "source": [
    "# In-Class Assignment: Midterm 2 Exam Review"
   ]
  },
  {
   "cell_type": "markdown",
   "metadata": {},
   "source": [
    "### Agenda for today's class (80 minutes)\n",
    "</p>\n",
    "\n",
    "1. (10 minutes) Instructor Review\n",
    "1. (20 minutes) Homework 4 Review\n",
    "1. (30 minutes) Midterm Review\n",
    "1. (20 minutes) Practice Applications\n"
   ]
  },
  {
   "cell_type": "markdown",
   "metadata": {},
   "source": [
    "----\n",
    "# 1. Instructor Review\n",
    "\n",
    "Please fill out the following form:\n",
    "\n",
    "[Direct Link](https://docs.google.com/forms/d/e/1FAIpQLScPJYIUFC-xw_xuOADkwgxoVmzYHerBbMxVoRVG5Y0j1VIvEw/viewform)"
   ]
  },
  {
   "cell_type": "markdown",
   "metadata": {},
   "source": [
    "----\n",
    "# 2. Homework 4 Review\n",
    "\n",
    "[HW4-Pagerank](HW4-Pagerank.ipynb)"
   ]
  },
  {
   "cell_type": "markdown",
   "metadata": {},
   "source": [
    "---\n",
    "\n",
    "# 3. Midterm Review \n",
    "\n",
    "\n",
    "* Chapter 1: Linear Equations and Vectors\n",
    "    1. Matrices and Systems of Linear Equations\n",
    "    2. Gauss-Jordan Elimination\n",
    "    3. The Vector Space $R^n$\n",
    "    4. Subspaces of $R^n$\n",
    "    5. Basis and Dimension in $R^n$\n",
    "    6. Dot Product, Norm, Angle, and Distance\n",
    "\n",
    "\n",
    "* Chapter 2: Matrices and Linear Transformations\n",
    "    1. Addition, Scalar Multiplication, and Multiplication of Matrices\n",
    "    2. Properties of Matrix Operations\n",
    "    3. Symmetric Matrices\n",
    "    4. The Inverse of a Matrix\n",
    "    5. Matrix Transformations, Rotations and Dilations\n",
    "    6. Linear Transformations\n",
    "\n",
    "\n",
    "* Chapter 3: Determinants and Eigenvectors\n",
    "    1. Introduction to Determinants\n",
    "    2. Properties of Determinants\n",
    "    3. Determinants, Matrix Inverse, and Systems of Linear Equations\n",
    "    4. Eigenvalues and Eigenvectors\n",
    "\n",
    "* Midterm 1\n",
    "----    \n",
    "* Chapter 4: General Vector Spaces\n",
    "    1. General Vector Spaces and Subspaces\n",
    "        - Polynomial space 1, x, x^2\n",
    "    2. Linear Combinations of Vectors\n",
    "    3. Linear Independence of Vectors\n",
    "    4. Properties of Bases\n",
    "    5. Rank\n",
    "    6. Projections, Gram-Schmidt Process and QR Factorization\n",
    "    7. Orthogonal Complement\n",
    "    8. Kernel Range, and the Rank/Nullity Theorem\n",
    "    9. One-to-One Transformations and Inverse Transformations\n",
    "    10. Transformations and Systems of Linear Equations\n",
    "\n",
    "\n",
    "* Chapter 5. Coordinate Representations\n",
    "    1. Coordinate Vectors\n",
    "    2. Matrix Representations of Linear Transformations\n",
    "    3. Diagonalization of Matrices\n",
    "        - n linear independent eigen vectors\n",
    "            - if orthrogonal to each other -> symmetric \n",
    "    4. Quadratic Forms, Difference Equations and Normal Modes.\n",
    "\n",
    "Following not covered on Midterm\n",
    "* Chapter 6. Inner Product Spaces\n",
    "    1. Inner Product Spaces\n",
    "    2. Non_Euclidean Geometry and Special Relativity\n",
    "    3. Least Squares Solutions\n",
    "    \n"
   ]
  },
  {
   "cell_type": "markdown",
   "metadata": {},
   "source": [
    "# Exam Layout\n",
    "4 problems\n",
    "\n",
    "1 from previous\n",
    "\n",
    "2 from new \n",
    "\n",
    "1 all short"
   ]
  },
  {
   "cell_type": "markdown",
   "metadata": {},
   "source": [
    "---\n",
    "\n",
    "# 4. Practice Applications\n",
    "\n",
    "Here is a list of applications from the book. Be prepared to solve questions relating to these application areas:\n",
    "\n",
    "1. Linear Combinations\n",
    "2. Kirchhoff's laws and Electrical Network problems.\n",
    "3. Polynomial curve fitting.\n",
    "4. The Inverse of a Matrix and Cryptography\n",
    "5. Reference frame transformations, linear and affine transformations. \n",
    "\n",
    "---\n",
    "\n",
    "6. Eigenvalue Decomposition\n",
    "7. Markov Models\n",
    "8. Basis vectors, Linear transforms\n",
    "9. Fundamental Spaces\n",
    "11. Singular value decomposition\n",
    "\n",
    "### Some examples:\n",
    "\n",
    "**DO THIS:** In Exercise set 1.7 (page 63) of the book, see if you can answer question 9.\n",
    "\n",
    "**DO THIS:** In Exercise set 1.7 (page 64) of the book, see if you can answer question 17.\n",
    "\n",
    "**DO THIS:** In Exercise set 1.7 (page 65) of the book, see if you can answer question 21.\n",
    "\n",
    "**DO THIS:** In Exercise set 2.4 (page 117) of the book, see if you can answer question 38.\n",
    "\n",
    "---\n",
    "\n",
    "**DO THIS:** In Exercise set 3.5 (page 208) of the book, see if you can answer question 3.\n",
    "\n",
    "**DO THIS:** In Exercise set 4.8 (page 282) of the book, see if you can answer question 15.\n",
    "\n",
    "**DO THIS:** In Exercise set 5.2 (page 340) of the book, see if you can answer question 20.\n",
    "\n",
    "**DO THIS:** In Exercise set 5.4 (page 340) of the book, see if you can answer question 6.\n",
    "\n",
    "**DO THIS:** In Exercise set 6.3 (page 364) of the book, see if you can answer question 6.\n"
   ]
  },
  {
   "cell_type": "markdown",
   "metadata": {},
   "source": [
    "-----\n",
    "### Congratulations, we're done!"
   ]
  },
  {
   "cell_type": "markdown",
   "metadata": {},
   "source": [
    "&#169; Copyright 2018,  Michigan State University Board of Trustees"
   ]
  }
 ],
 "metadata": {
  "kernelspec": {
   "display_name": "Python 3",
   "language": "python",
   "name": "python3"
  },
  "language_info": {
   "codemirror_mode": {
    "name": "ipython",
    "version": 3
   },
   "file_extension": ".py",
   "mimetype": "text/x-python",
   "name": "python",
   "nbconvert_exporter": "python",
   "pygments_lexer": "ipython3",
   "version": "3.7.1"
  }
 },
 "nbformat": 4,
 "nbformat_minor": 2
}
