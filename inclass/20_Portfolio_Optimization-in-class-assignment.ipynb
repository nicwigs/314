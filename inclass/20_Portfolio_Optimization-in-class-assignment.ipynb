{
 "cells": [
  {
   "cell_type": "markdown",
   "metadata": {},
   "source": [
    "## <p style=\"text-align: right;\"> &#9989; Nic Wiggins</p>"
   ]
  },
  {
   "cell_type": "markdown",
   "metadata": {},
   "source": [
    "You **NEED** to participate both individually and in groups in class to successfully complete this assignment and receive credits for it."
   ]
  },
  {
   "cell_type": "markdown",
   "metadata": {},
   "source": [
    "# In-Class Assignment: Portfolio Optimization\n",
    "\n",
    "<img src=\"https://www.mathworks.com/company/newsletters/articles/developing-portfolio-optimization-models/_jcr_content/mainParsys/image_0.adapt.full.high.jpg/1469941490053.jpg\" width=\"50%\">\n",
    "</p>\n"
   ]
  },
  {
   "cell_type": "markdown",
   "metadata": {},
   "source": [
    "### Agenda for today's class (80 minutes)\n",
    "\n",
    "</p>\n",
    "1. (25 minutes) Portfolio Pre-class Review\n",
    "1. (50 minutes) Portfolios with Three Risky Assets"
   ]
  },
  {
   "cell_type": "markdown",
   "metadata": {},
   "source": [
    "---\n",
    "# 1. Portfolio Pre-class Review\n",
    "[20--Portfolio_Optimization-pre-class-assignment](../preclass/20--Portfolio_Optimization-pre-class-assignment.ipynb)"
   ]
  },
  {
   "cell_type": "markdown",
   "metadata": {},
   "source": [
    "----\n",
    "\n",
    "# 2. Portfolios with Three Risky Assets\n",
    "\n",
    "We consider a small problem with only three assets denoted $1$, $2$, and $3$. \n",
    "Let $R_i(i=1,2,3)$ be the random return on the assets (when we invest, we can not make sure that we will earn money, there is alway risk).\n",
    "\n",
    "**Example:** The following table give the monthly means, variance and covariances for the continuously compounded returns on three stocks over five year. \n",
    "\n",
    "| Stock $i$  | $\\mu_i$ | $\\sigma_i$ | Pair $(i,j)$ | $\\sigma_{ij}$ |\n",
    "|---|---|---|---|---|\n",
    "| Microsoft (1) | 0.0427 | 0.1 | (1,2) | 0.0018 | \n",
    "| Nordstrom (2) | 0.0015 | 0.1044 | (1,3) | 0.0011 | \n",
    "| Starbucks (3) | 0.0285 | 0.1411 | (2,3) | 0.0026 | \n",
    "\n",
    "+ The second column shows the expected return for each month. We can see that the expected return for Starbucks is the largest. \n",
    "+ The third column shows the variance on the return for each stock. If the variance is big, then you may have a higher probability to earn less than (or loss) the expected value. \n",
    "+ The fourth and the fifth column shows the covariance between these stocks. There are some connections between the stocks and the increase of one stock has relations to the increase of another.\n",
    "\n",
    "We want to earn more money but we do not want too big risk. How do we choose a portflio (how to distributed the inverstment?)"
   ]
  },
  {
   "cell_type": "markdown",
   "metadata": {},
   "source": [
    "Let $x=(x_1,x_2,x_3)$ denote the distribution of your investment on these three stocks. \n",
    "Assume that you have to invest all the money, and you can not borrow money. \n",
    "That is $x_1+x_2+x_3=1$ (Note that we can choose negative values so we can short some stocks). \n",
    "\n",
    "The expected return is computed as \n",
    "$$\\mu = x_1 \\mu_1 + x_2 \\mu_2 + x_3 \\mu_3.$$\n",
    "The risk is computed as \n",
    "$$\\sigma = x_1^2\\sigma_1^2+x_2^2\\sigma_2^2+x_3^2\\sigma_3^2+2x_1x_2\\sigma_{12}+2x_2x_3\\sigma_{23}+2x_1x_3\\sigma_{13}$$"
   ]
  },
  {
   "cell_type": "code",
   "execution_count": 1,
   "metadata": {},
   "outputs": [],
   "source": [
    "%matplotlib inline\n",
    "import matplotlib.pylab as plt\n",
    "import numpy as np\n",
    "import sympy as sym\n",
    "import time\n",
    "sym.init_printing(use_unicode=True)"
   ]
  },
  {
   "cell_type": "markdown",
   "metadata": {},
   "source": [
    "<font color=red>**DO THIS:**</font> Write the risk as quadratic form. I.e., find the matrix $A$ such that $\\sigma = x^\\top A x$."
   ]
  },
  {
   "cell_type": "code",
   "execution_count": 17,
   "metadata": {},
   "outputs": [
    {
     "data": {
      "text/latex": [
       "$$\\left[\\begin{matrix}0.01 & 0.0018 & 0.0011\\\\0.0018 & 0.01089936 & 0.0026\\\\0.0011 & 0.0026 & 0.01990921\\end{matrix}\\right]$$"
      ],
      "text/plain": [
       "⎡ 0.01     0.0018      0.0011  ⎤\n",
       "⎢                              ⎥\n",
       "⎢0.0018  0.01089936    0.0026  ⎥\n",
       "⎢                              ⎥\n",
       "⎣0.0011    0.0026    0.01990921⎦"
      ]
     },
     "execution_count": 17,
     "metadata": {},
     "output_type": "execute_result"
    }
   ],
   "source": [
    "A = sym.Matrix([[0.1**2,0.0018,0.0011],[0.0018,0.1044**2,0.0026],[0.0011,0.0026,0.1411**2]])\n",
    "A"
   ]
  },
  {
   "cell_type": "markdown",
   "metadata": {},
   "source": [
    "<font color=red>**DO THIS:**</font> Choose your portfolio and explain why you choose this one. Remember, we want to get high expected return and low risk, and it is difficult to get both. "
   ]
  },
  {
   "cell_type": "markdown",
   "metadata": {},
   "source": [
    "Maximize return - factor * risk "
   ]
  },
  {
   "cell_type": "markdown",
   "metadata": {},
   "source": [
    "## Smallest Risk\n",
    "If you are not risky, you can choose the protfolio with the smallest risk. Then the optimization problem is to minimize the risk\n",
    "$$\\min_x~ x^\\top A x \\mbox{ subject to } x_1+x_2+x_3 = 1$$\n",
    "\n",
    "<font color=red>**DO THIS:**</font> Solve this problem using the Lagrangian multiplier from the pre-class assignment. "
   ]
  },
  {
   "cell_type": "code",
   "execution_count": 20,
   "metadata": {},
   "outputs": [
    {
     "data": {
      "text/plain": [
       "array([[ 0.44113344],\n",
       "       [ 0.36568794],\n",
       "       [ 0.19317862],\n",
       "       [-0.01056414]])"
      ]
     },
     "execution_count": 20,
     "metadata": {},
     "output_type": "execute_result"
    }
   ],
   "source": [
    "#####Start your code here #####\n",
    "C = np.matrix([1,1,1])\n",
    "d = 1\n",
    "left = np.zeros((4,4))\n",
    "left[:3,:3] = 2*A\n",
    "left[3,:3] = C\n",
    "left[:3,3] = C\n",
    "left\n",
    "\n",
    "right = np.zeros((4,1))\n",
    "right[3] = d\n",
    "right\n",
    "\n",
    "per = np.linalg.solve(left,right)\n",
    "per\n",
    "#####End of your code here#####"
   ]
  },
  {
   "cell_type": "markdown",
   "metadata": {},
   "source": [
    "<font color=red>**QUESTION:**</font> What is the expected return? "
   ]
  },
  {
   "cell_type": "code",
   "execution_count": 37,
   "metadata": {},
   "outputs": [
    {
     "data": {
      "text/plain": [
       "array([[0.02489052]])"
      ]
     },
     "execution_count": 37,
     "metadata": {},
     "output_type": "execute_result"
    }
   ],
   "source": [
    "r = np.array([0.0427,0.0015, 0.0285])\n",
    "r = r.reshape(1,3)\n",
    "\n",
    "np.matmul(per[:3].T, r.T)"
   ]
  },
  {
   "cell_type": "markdown",
   "metadata": {},
   "source": [
    "## Efficient Portfolios\n",
    "\n",
    "However, this approach may be too conservative, and we can not make enough profit. \n",
    "We know that for a expected return, we may have many portfoilios and we want to choose the one with smallest risk. \n",
    "The problem becomes\n",
    "\n",
    "\n",
    "$$\\min_x~ x^\\top A x \\mbox{ subject to } x_1+x_2+x_3 = 1,~x_1\\mu_1+x_2\\mu_2+x_3\\mu_3 = 0.0427$$\n",
    "\n",
    "The target return is the same of Microsoft, but we may not purchase only the Microsoft because it is risky. We can find a good portfolio to reduce the risk.\n",
    "<font color=red>**DO THIS:**</font> Solve this problem using the Lagrangian multiplier from the pre-class assignment. "
   ]
  },
  {
   "cell_type": "code",
   "execution_count": 43,
   "metadata": {},
   "outputs": [
    {
     "data": {
      "text/plain": [
       "array([[ 0.82752285],\n",
       "       [-0.09071021],\n",
       "       [ 0.26318736],\n",
       "       [-0.00184483],\n",
       "       [-0.35030637]])"
      ]
     },
     "execution_count": 43,
     "metadata": {},
     "output_type": "execute_result"
    }
   ],
   "source": [
    "#####Start your code here #####\n",
    "\n",
    "C = np.matrix([[1,1,1],[0.0427,0.0015,0.0285]])\n",
    "d = np.matrix([[1],[0.0427]])\n",
    "left = np.zeros((5,5))\n",
    "left[:3,:3] = 2*A\n",
    "left[3:5,:3] = C\n",
    "left[:3,3:5] = C.T\n",
    "left\n",
    "\n",
    "right = np.zeros((5,1))\n",
    "right[3:5] = d\n",
    "right\n",
    "\n",
    "per = np.linalg.solve(left,right)\n",
    "per\n",
    "\n",
    "#####End of your code here#####"
   ]
  },
  {
   "cell_type": "markdown",
   "metadata": {},
   "source": [
    "<font color=red>**QUESTION:**</font> What is the risk for your portfolio? Is this smaller than the one with Microsoft only (the risk for Microsoft only is 0.01)?"
   ]
  },
  {
   "cell_type": "code",
   "execution_count": 45,
   "metadata": {},
   "outputs": [
    {
     "data": {
      "text/latex": [
       "$$\\left[\\begin{matrix}0.00840145619488353\\end{matrix}\\right]$$"
      ],
      "text/plain": [
       "[0.00840145619488353]"
      ]
     },
     "execution_count": 45,
     "metadata": {},
     "output_type": "execute_result"
    }
   ],
   "source": [
    "x = per[:3]\n",
    "x.T*A*x"
   ]
  },
  {
   "cell_type": "markdown",
   "metadata": {},
   "source": [
    "## Efficient Portfolios Frontier\n",
    "\n",
    "The previous two portfolios are equally good, and it depends on the people who choose it. \n",
    "In fact, there are many this type of portfolios because we can change the target expected return. \n",
    "By changing the target expected return, we can obtain many different portfolios. \n",
    "When you increase the target expected return, you will also increase the risk. \n",
    "\n",
    "There is another way to balance the rish and expected return. Because you want to minimize the risk and increase the expected return. We can choose to solve \n",
    "\n",
    "$$\\min_x~ x^\\top A x -\\alpha (x_1\\mu_1+x_2\\mu_2+x_3\\mu_3) \\mbox{ subject to } x_1+x_2+x_3 = 1.$$\n",
    "Minimize the negative return is the same as increase the return. The new parameter $\\alpha\\geq 0$ is use to balance the risk and return. \n",
    "A small $\\alpha$ means that you care more on the risk. $\\alpha=0$ corresponds the minimum risk case. \n",
    "A large $\\alpha$ means that you care more on the return. $\\alpha\\rightarrow +\\infty$ corresponds to the maximum return.\n",
    "\n",
    "<font color=red>**DO THIS:**</font> Solve this problem using the Lagrangian multiplier from the pre-class assignment with $\\alpha$ you choose. "
   ]
  },
  {
   "cell_type": "code",
   "execution_count": 7,
   "metadata": {},
   "outputs": [],
   "source": [
    "#####Start your code here #####\n",
    "\n",
    "#####End of your code here#####"
   ]
  },
  {
   "cell_type": "markdown",
   "metadata": {},
   "source": [
    "-----\n",
    "### Congratulations, we're almost done!\n",
    "\n",
    "Now, you just need to submit this assignment by uploading it to the course <a href=\"https://d2l.msu.edu/\">Desire2Learn</a> web page for today's dropbox (Don't forget to add your names in the first cell).\n"
   ]
  },
  {
   "cell_type": "markdown",
   "metadata": {},
   "source": [
    "&#169; Copyright 2018,  Michigan State University Board of Trustees"
   ]
  }
 ],
 "metadata": {
  "kernelspec": {
   "display_name": "Python 3",
   "language": "python",
   "name": "python3"
  },
  "language_info": {
   "codemirror_mode": {
    "name": "ipython",
    "version": 3
   },
   "file_extension": ".py",
   "mimetype": "text/x-python",
   "name": "python",
   "nbconvert_exporter": "python",
   "pygments_lexer": "ipython3",
   "version": "3.7.1"
  }
 },
 "nbformat": 4,
 "nbformat_minor": 1
}
