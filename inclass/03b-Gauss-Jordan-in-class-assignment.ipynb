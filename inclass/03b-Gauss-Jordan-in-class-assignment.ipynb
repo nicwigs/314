{
 "cells": [
  {
   "cell_type": "markdown",
   "metadata": {},
   "source": [
    "## <p style=\"text-align: right;\"> Nic Wiggins</p>"
   ]
  },
  {
   "cell_type": "markdown",
   "metadata": {},
   "source": [
    "In order to successfully complete this assignment, you need to participate both individually and in groups during class."
   ]
  },
  {
   "cell_type": "markdown",
   "metadata": {},
   "source": [
    "# In-Class Assignment: Gauss-Jordan\n",
    "\n",
    "<img src=\"https://i.ytimg.com/vi/fSCz7jH_vHI/maxresdefault.jpg\" width=\"50%\">\n",
    "<p style=\"text-align: right;\">Image from: https://www.youtube.com/watch?v=fSCz7jH_vHI</p>\n",
    "    "
   ]
  },
  {
   "cell_type": "markdown",
   "metadata": {},
   "source": [
    "### Agenda for Day 1 (80 minutes)\n",
    "\n",
    "</p>\n",
    "\n",
    "1. (20 minutes) Pre-class assignment review\n",
    "1. (20 minutes) Introduce HW1\n",
    "1. (20 minutes) Gauss-Jordan Elimination\n",
    "1. (20 minutes) Algorithm Complexity\n",
    "\n",
    "### Agenda for Day 2 (80 minutes)\n",
    "5. (30 minutes) Code-Review (RREF)\n",
    "1. (30 minutes) Gauss Elimination and Complexity\n",
    "1. (20 minutes) Project Planning"
   ]
  },
  {
   "cell_type": "markdown",
   "metadata": {},
   "source": [
    "\n",
    "----\n",
    "# 5. Code-Review (RREF)\n",
    "\n",
    "&#9989; <font color=red>**DO THIS:**</font>  As a group consider the following example code written by a former student:"
   ]
  },
  {
   "cell_type": "code",
   "execution_count": 1,
   "metadata": {},
   "outputs": [],
   "source": [
    "def divide_row_to_get_one(vector,c):\n",
    "    constant = vector[c]\n",
    "    for e in range(0,len(vector)):\n",
    "        vector[e]=vector[e]/constant\n",
    "    return vector\n",
    "        \n",
    "def zero_out_column(matrix,r,c):\n",
    "    columns_in_matrix = len(matrix[0])\n",
    "    rows_in_matrix = len(matrix)\n",
    "    if(matrix[r][c] != 1):\n",
    "        print('ERROR - this should always be 1')\n",
    "    for e_r in range(rows_in_matrix):\n",
    "        if e_r != r:\n",
    "            constant = -matrix[e_r][c]\n",
    "            for e_c in range(columns_in_matrix):\n",
    "                if (matrix[r][e_c] != 0):\n",
    "                    matrix[e_r][e_c] = matrix[r][e_c] * constant + matrix[e_r][e_c]\n",
    "    return matrix\n",
    "\n",
    "def rref(matrix):\n",
    "    columns_in_matrix = len(matrix[0])\n",
    "    rows_in_matrix = len(matrix)\n",
    "    for c in range(columns_in_matrix):\n",
    "        pivot=False\n",
    "        for r in range(c,rows_in_matrix):\n",
    "            if matrix[r][c] != 0:\n",
    "                pivot = True\n",
    "                break\n",
    "        if pivot:\n",
    "            if(r != c):\n",
    "                #Swap_rows\n",
    "                temp = matrix[r]\n",
    "                matrix[r] = matrix[c]\n",
    "                matrix[c] = temp\n",
    "                r = c\n",
    "            matrix[c] = divide_row_to_get_one(matrix[r],c)\n",
    "            matrix = zero_out_column(matrix,r,c)\n",
    "    return matrix"
   ]
  },
  {
   "cell_type": "markdown",
   "metadata": {},
   "source": [
    "The student provided the following \"test code\" to demonstrate that the algorithm works.  "
   ]
  },
  {
   "cell_type": "code",
   "execution_count": 2,
   "metadata": {},
   "outputs": [
    {
     "name": "stdout",
     "output_type": "stream",
     "text": [
      "[[1.0, 0.0, 0.0, 4.0], [0.0, 1.0, 0.0, -1.5], [-0.0, -0.0, 1.0, -0.0]]\n"
     ]
    },
    {
     "data": {
      "text/latex": [
       "$$\\left ( \\left[\\begin{matrix}1 & 0 & 0 & 4\\\\0 & 1 & 0 & - \\frac{3}{2}\\\\0 & 0 & 1 & 0\\end{matrix}\\right], \\quad \\left ( 0, \\quad 1, \\quad 2\\right )\\right )$$"
      ],
      "text/plain": [
       "⎛⎡1  0  0   4  ⎤           ⎞\n",
       "⎜⎢             ⎥           ⎟\n",
       "⎜⎢0  1  0  -3/2⎥, (0, 1, 2)⎟\n",
       "⎜⎢             ⎥           ⎟\n",
       "⎝⎣0  0  1   0  ⎦           ⎠"
      ]
     },
     "execution_count": 2,
     "metadata": {},
     "output_type": "execute_result"
    }
   ],
   "source": [
    "matrix = [[1,0,0,4],[3,4,5,6],[3,4,1,6]]\n",
    "rref(matrix)\n",
    "print(matrix)\n",
    "\n",
    "import sympy as sym\n",
    "sym.init_printing(use_unicode=True) # Trick to make matrixes look nice in jupyter\n",
    "matrix = [[1,0,0,4],[3,4,5,6],[3,4,1,6]]\n",
    "spm = sym.Matrix(matrix)\n",
    "spm.rref()"
   ]
  },
  {
   "cell_type": "markdown",
   "metadata": {},
   "source": [
    "&#9989; <font color=red>**QUESTION:**</font> Why do we need the second \"matrix = [[1,2,4],[3,4,5]]\"  in the code."
   ]
  },
  {
   "cell_type": "markdown",
   "metadata": {},
   "source": [
    "If not, the we would give sym.Matrix our solved matrix from our rref function"
   ]
  },
  {
   "cell_type": "markdown",
   "metadata": {},
   "source": [
    "Next, we tried this code on a new matrix."
   ]
  },
  {
   "cell_type": "markdown",
   "metadata": {},
   "source": [
    "&#9989; <font color=red>**DO THIS:**</font>  Come up with one or more of your own tests to evaluate the code. Compare the results with the sympy.Matrix.rref function. "
   ]
  },
  {
   "cell_type": "code",
   "execution_count": 3,
   "metadata": {},
   "outputs": [],
   "source": [
    "# r = c inside pivot if - check with 0 in (0,0) of matrix\n"
   ]
  },
  {
   "cell_type": "markdown",
   "metadata": {},
   "source": [
    "&#9989; <font color=red>**QUESTION:**</font>  As a group, discuss how well the code matches with the pseudocode we developed? What worked? What didn't.  What would you change or do differently? Be prepared to share your answer with the class. "
   ]
  },
  {
   "cell_type": "markdown",
   "metadata": {},
   "source": [
    "Inside pivot if, had to set r = c or else not accounting for the row you just swapped\n",
    "using e_r instead of r in if (matrix[r][e_c] != 0): in zero_out_column function"
   ]
  },
  {
   "cell_type": "markdown",
   "metadata": {},
   "source": [
    "----\n",
    "# 6.  Gaussian Elimination"
   ]
  },
  {
   "cell_type": "markdown",
   "metadata": {},
   "source": [
    "**Gaussian elimination** (also known as row reduction) is also used to solve linear systems. Same as Gauss-Jordan elimination, it applies a sequence of row operations on the corresponding matrix of coefficients. It is named after Carl Friedrich Gauss (1777-1855). It also appears in a Chinese mathematical text as early as approximately 150 BC.\n",
    "Besides solving linear systems, it can be applied to find the rank of a matrix, calculate the determinant of a mtrix, and find the inverse of a square matrix. \n",
    "\n",
    "The difference between Gaussian elimination and Gauss-Jordan elimination is on the order of row operations to remove the elements on the upper right parts. Gauss-Jordan elimination makes non-diagonal parts to be zero from the first to the last column. While Gauss elimination works on the lower left parts first (from the first column to the last column), then work on the upper right part (from the last column to the first columns).\n",
    "\n",
    "Modify the previous code to Gaussian elimination."
   ]
  },
  {
   "cell_type": "code",
   "execution_count": 4,
   "metadata": {},
   "outputs": [],
   "source": [
    "def divide_row_to_get_one(vector,c):\n",
    "    constant = vector[c]\n",
    "    for e in range(0,len(vector)):\n",
    "        vector[e]=vector[e]/constant\n",
    "    return vector\n",
    "        \n",
    "def zero_out_column_below(matrix,r,c):\n",
    "    columns_in_matrix = len(matrix[0])\n",
    "    rows_in_matrix = len(matrix)\n",
    "    if(matrix[r][c] != 1):\n",
    "        print('ERROR - this should always be 1')\n",
    "    ### Put YOUR CODE HERE\n",
    "    ### The difference between this function and zero_out_colum is that\n",
    "    ### this function zeros out only the lower left part of the matrix.\n",
    "    for e_r in range(r, rows_in_matrix):\n",
    "        if e_r != r:\n",
    "            constant = -matrix[e_r][c]\n",
    "            for e_c in range(columns_in_matrix):\n",
    "                if (matrix[r][e_c] != 0):\n",
    "                    matrix[e_r][e_c] = matrix[r][e_c] * constant + matrix[e_r][e_c]\n",
    "                \n",
    "        \n",
    "    return matrix\n",
    "\n",
    "def zero_out_column_above(matrix,c):\n",
    "    ### Put YOUR CODE HERE\n",
    "    ### This function puts rows from 0 to c-1 (total c rows) on column c to be zero. \n",
    "    ### (Note that the index in python starts from 0)\n",
    "    r = c\n",
    "    columns_in_matrix = len(matrix[0])\n",
    "    rows_in_matrix = len(matrix)\n",
    "    if(matrix[r][c] != 1):\n",
    "        print('ERROR - this should always be 1')\n",
    "    for e_r in range(r):\n",
    "        if e_r != r:\n",
    "            constant = -matrix[e_r][c]\n",
    "            for e_c in range(columns_in_matrix):\n",
    "                if (matrix[r][e_c] != 0):\n",
    "                    matrix[e_r][e_c] = matrix[r][e_c] * constant + matrix[e_r][e_c]\n",
    "    \n",
    "    \n",
    "    return matrix\n",
    "\n",
    "\n",
    "def rref_Gauss(matrix):\n",
    "    columns_in_matrix = len(matrix[0])\n",
    "    rows_in_matrix = len(matrix)\n",
    "    for c in range(columns_in_matrix):\n",
    "        r = 0\n",
    "        pivot=False\n",
    "        for r in range(c,rows_in_matrix):\n",
    "            if matrix[r][c] != 0:\n",
    "                pivot = True\n",
    "                break\n",
    "        if pivot:\n",
    "            if(r != c):\n",
    "                #Swap_rows\n",
    "                temp = matrix[r]\n",
    "                matrix[r] = matrix[c]\n",
    "                matrix[c] = temp\n",
    "                r = c\n",
    "            matrix[r] = divide_row_to_get_one(matrix[r],c)\n",
    "            matrix = zero_out_column_below(matrix,r,c)\n",
    "    for c in range(rows_in_matrix-1, 0, -1):\n",
    "        zero_out_column_above(matrix,c)\n",
    "    \n",
    "    return matrix\n"
   ]
  },
  {
   "cell_type": "markdown",
   "metadata": {},
   "source": [
    "Compare your result with the sympy.Matrix.rref function for the following big matrix."
   ]
  },
  {
   "cell_type": "code",
   "execution_count": 5,
   "metadata": {},
   "outputs": [
    {
     "data": {
      "text/latex": [
       "$$\\left[\\begin{array}{ccccccccccc}1.0 & 0.0 & 0.0 & 0.0 & 0.0 & 0.0 & 0.0 & 0.0 & 0.0 & 0.0 & -0.0363125294096196\\\\0.0 & 1.0 & 0.0 & 0.0 & 0.0 & 0.0 & 0.0 & 0.0 & 0.0 & 0.0 & 0.00112800104022211\\\\0.0 & 0.0 & 1.0 & 0.0 & 0.0 & 0.0 & 0.0 & 0.0 & 0.0 & 0.0 & 0.0166239223732173\\\\0.0 & 0.0 & 0.0 & 1.0 & 0.0 & 0.0 & 0.0 & 0.0 & 0.0 & 0.0 & 0.0818944235618629\\\\0.0 & 0.0 & 0.0 & 0.0 & 1.0 & 0.0 & 0.0 & 0.0 & 0.0 & 0.0 & -0.0744680323972144\\\\0.0 & 0.0 & 0.0 & 0.0 & 0.0 & 1.0 & 0.0 & 0.0 & 0.0 & 0.0 & 0.0503262063037992\\\\0.0 & 0.0 & 0.0 & 0.0 & 0.0 & 0.0 & 1.0 & 0.0 & 0.0 & 0.0 & 0.000178907253670814\\\\0.0 & 0.0 & 0.0 & 0.0 & 0.0 & 0.0 & 0.0 & 1.0 & 0.0 & 0.0 & 0.0444249569216632\\\\0.0 & 0.0 & 0.0 & 0.0 & 0.0 & 0.0 & 0.0 & 0.0 & 1.0 & 0.0 & 0.115026249283988\\\\0.0 & 0.0 & 0.0 & 0.0 & 0.0 & 0.0 & 0.0 & 0.0 & 0.0 & 1.0 & 0.183553100911952\\end{array}\\right]$$"
      ],
      "text/plain": [
       "⎡1.0  0.0  0.0  0.0  0.0  0.0  0.0  0.0  0.0  0.0  -0.0363125294096196 ⎤\n",
       "⎢                                                                      ⎥\n",
       "⎢0.0  1.0  0.0  0.0  0.0  0.0  0.0  0.0  0.0  0.0  0.00112800104022211 ⎥\n",
       "⎢                                                                      ⎥\n",
       "⎢0.0  0.0  1.0  0.0  0.0  0.0  0.0  0.0  0.0  0.0   0.0166239223732173 ⎥\n",
       "⎢                                                                      ⎥\n",
       "⎢0.0  0.0  0.0  1.0  0.0  0.0  0.0  0.0  0.0  0.0   0.0818944235618629 ⎥\n",
       "⎢                                                                      ⎥\n",
       "⎢0.0  0.0  0.0  0.0  1.0  0.0  0.0  0.0  0.0  0.0  -0.0744680323972144 ⎥\n",
       "⎢                                                                      ⎥\n",
       "⎢0.0  0.0  0.0  0.0  0.0  1.0  0.0  0.0  0.0  0.0   0.0503262063037992 ⎥\n",
       "⎢                                                                      ⎥\n",
       "⎢0.0  0.0  0.0  0.0  0.0  0.0  1.0  0.0  0.0  0.0  0.000178907253670814⎥\n",
       "⎢                                                                      ⎥\n",
       "⎢0.0  0.0  0.0  0.0  0.0  0.0  0.0  1.0  0.0  0.0   0.0444249569216632 ⎥\n",
       "⎢                                                                      ⎥\n",
       "⎢0.0  0.0  0.0  0.0  0.0  0.0  0.0  0.0  1.0  0.0   0.115026249283988  ⎥\n",
       "⎢                                                                      ⎥\n",
       "⎣0.0  0.0  0.0  0.0  0.0  0.0  0.0  0.0  0.0  1.0   0.183553100911952  ⎦"
      ]
     },
     "execution_count": 5,
     "metadata": {},
     "output_type": "execute_result"
    }
   ],
   "source": [
    "big_matrix = [[30., 2,   7,   1, -3,  8, 0, 0, 3, 5, 1], \n",
    "                        [0,  64,  15,  0,   7,  -4, 0, 7, 7, 7, 2], \n",
    "                        [4,  2,   -88, 11, -4,  8, 3, 3, 9, 10, 3], \n",
    "                        [6,  4,   7,   52, 0,   0, 10, 11, 0, -9, 3], \n",
    "                        [8,  2,   24,  1, -51, 8, 1, 2, -1, -2, 4], \n",
    "                        [0,  -20, 7,   0,  9,  43, 10, 9, 4, 3, 3], \n",
    "                        [8,  4,   17,  -4,  4,  8, 70, 10, 9, 4, 2], \n",
    "                        [6,  2,   3,   -3, -1,  8, 0, 38, 11, -11, 1], \n",
    "                        [0,  2,   5,   -3,  0,  8, 0, 0, 33, -22, 0], \n",
    "                        [-4, 16,  9,   -2,  1,  8, 0, 0, 3, 50, 10]]\n",
    "rref_Gauss(big_matrix)\n",
    "sym.Matrix(big_matrix)"
   ]
  },
  {
   "cell_type": "code",
   "execution_count": 6,
   "metadata": {},
   "outputs": [
    {
     "data": {
      "text/latex": [
       "$$\\left ( \\left[\\begin{array}{ccccccccccc}1 & 0 & 0 & 0 & 0 & 0 & 0 & 0 & 0 & 0 & -0.0363125294096196\\\\0 & 1 & 0 & 0 & 0 & 0 & 0 & 0 & 0 & 0 & 0.00112800104022246\\\\0 & 0 & 1 & 0 & 0 & 0 & 0 & 0 & 0 & 0 & 0.0166239223732173\\\\0 & 0 & 0 & 1 & 0 & 0 & 0 & 0 & 0 & 0 & 0.0818944235618629\\\\0 & 0 & 0 & 0 & 1 & 0 & 0 & 0 & 0 & 0 & -0.0744680323972144\\\\0 & 0 & 0 & 0 & 0 & 1 & 0 & 0 & 0 & 0 & 0.0503262063037993\\\\0 & 0 & 0 & 0 & 0 & 0 & 1 & 0 & 0 & 0 & 0.000178907253670826\\\\0 & 0 & 0 & 0 & 0 & 0 & 0 & 1 & 0 & 0 & 0.0444249569216633\\\\0 & 0 & 0 & 0 & 0 & 0 & 0 & 0 & 1 & 0 & 0.115026249283988\\\\0 & 0 & 0 & 0 & 0 & 0 & 0 & 0 & 0 & 1 & 0.183553100911952\\end{array}\\right], \\quad \\left ( 0, \\quad 1, \\quad 2, \\quad 3, \\quad 4, \\quad 5, \\quad 6, \\quad 7, \\quad 8, \\quad 9\\right )\\right )$$"
      ],
      "text/plain": [
       "⎛⎡1  0  0  0  0  0  0  0  0  0  -0.0363125294096196 ⎤                         \n",
       "⎜⎢                                                  ⎥                         \n",
       "⎜⎢0  1  0  0  0  0  0  0  0  0  0.00112800104022246 ⎥                         \n",
       "⎜⎢                                                  ⎥                         \n",
       "⎜⎢0  0  1  0  0  0  0  0  0  0   0.0166239223732173 ⎥                         \n",
       "⎜⎢                                                  ⎥                         \n",
       "⎜⎢0  0  0  1  0  0  0  0  0  0   0.0818944235618629 ⎥                         \n",
       "⎜⎢                                                  ⎥                         \n",
       "⎜⎢0  0  0  0  1  0  0  0  0  0  -0.0744680323972144 ⎥                         \n",
       "⎜⎢                                                  ⎥, (0, 1, 2, 3, 4, 5, 6, 7\n",
       "⎜⎢0  0  0  0  0  1  0  0  0  0   0.0503262063037993 ⎥                         \n",
       "⎜⎢                                                  ⎥                         \n",
       "⎜⎢0  0  0  0  0  0  1  0  0  0  0.000178907253670826⎥                         \n",
       "⎜⎢                                                  ⎥                         \n",
       "⎜⎢0  0  0  0  0  0  0  1  0  0   0.0444249569216633 ⎥                         \n",
       "⎜⎢                                                  ⎥                         \n",
       "⎜⎢0  0  0  0  0  0  0  0  1  0   0.115026249283988  ⎥                         \n",
       "⎜⎢                                                  ⎥                         \n",
       "⎝⎣0  0  0  0  0  0  0  0  0  1   0.183553100911952  ⎦                         \n",
       "\n",
       "       ⎞\n",
       "       ⎟\n",
       "       ⎟\n",
       "       ⎟\n",
       "       ⎟\n",
       "       ⎟\n",
       "       ⎟\n",
       "       ⎟\n",
       "       ⎟\n",
       ", 8, 9)⎟\n",
       "       ⎟\n",
       "       ⎟\n",
       "       ⎟\n",
       "       ⎟\n",
       "       ⎟\n",
       "       ⎟\n",
       "       ⎟\n",
       "       ⎟\n",
       "       ⎠"
      ]
     },
     "execution_count": 6,
     "metadata": {},
     "output_type": "execute_result"
    }
   ],
   "source": [
    "big_matrix = [[30., 2,   7,   1, -3,  8, 0, 0, 3, 5, 1], \n",
    "                        [0,  64,  15,  0,   7,  -4, 0, 7, 7, 7, 2], \n",
    "                        [4,  2,   -88, 11, -4,  8, 3, 3, 9, 10, 3], \n",
    "                        [6,  4,   7,   52, 0,   0, 10, 11, 0, -9, 3], \n",
    "                        [8,  2,   24,  1, -51, 8, 1, 2, -1, -2, 4], \n",
    "                        [0,  -20, 7,   0,  9,  43, 10, 9, 4, 3, 3], \n",
    "                        [8,  4,   17,  -4,  4,  8, 70, 10, 9, 4, 2], \n",
    "                        [6,  2,   3,   -3, -1,  8, 0, 38, 11, -11, 1], \n",
    "                        [0,  2,   5,   -3,  0,  8, 0, 0, 33, -22, 0], \n",
    "                        [-4, 16,  9,   -2,  1,  8, 0, 0, 3, 50, 10]]\n",
    "spm = sym.Matrix(big_matrix)\n",
    "spm.rref()"
   ]
  },
  {
   "cell_type": "markdown",
   "metadata": {},
   "source": [
    "---\n",
    "# 7. Project Planning\n",
    "\n",
    "For your semester project, we will be interviewing faculty about how they use \"Linear Algebra\" in their research.  An proposed time-line for the project can now be found on the Class Schedule: \n",
    "\n",
    "- [Class Schedule](https://docs.google.com/spreadsheets/d/e/2PACX-1vQWVaZt0l_HSc9mySweZOX4RgjF0nDqMc2nl53bQMkWT9Gk6FhyZAEkw4SaciUkCk5cmWOyXgmcgoGp/pubhtml?gid=930190082&single=true)\n",
    "\n",
    "&#9989; <font color=red>**DO THIS:**</font> Let's think about what would make good interview questions.  Write down a few and share them with your neighbors.  \n",
    "\n",
    "- **THINK:** On your own, come up with a minimum of three \"good\" interview questions.\n",
    "- **PAIR:** Share your three questions with your group. Discuss the pros and cons of each question.\n",
    "- **SHARE:** Share your questions with the class. \n",
    "\n",
    "&#9989; <font color=red>**DO THIS:**</font> Come up with a list of three faculty you would like to interview. I will include a question on the next pre-class assignment. "
   ]
  },
  {
   "cell_type": "markdown",
   "metadata": {},
   "source": [
    "You can put your faculty ideas here..."
   ]
  },
  {
   "cell_type": "markdown",
   "metadata": {},
   "source": [
    "-----\n",
    "### Congratulations, we're done!\n",
    "\n",
    "Now, you just need to submit this assignment by uploading it to the course <a href=\"https://d2l.msu.edu/\">Desire2Learn</a> web page for today's dropbox (Don't forget to add your names in the first cell).\n"
   ]
  },
  {
   "cell_type": "markdown",
   "metadata": {},
   "source": [
    "-----\n",
    "### Congratulations, we're done!"
   ]
  },
  {
   "cell_type": "markdown",
   "metadata": {},
   "source": [
    "&#169; Copyright 2018,  Michigan State University Board of Trustees"
   ]
  }
 ],
 "metadata": {
  "kernelspec": {
   "display_name": "Python 3",
   "language": "python",
   "name": "python3"
  },
  "language_info": {
   "codemirror_mode": {
    "name": "ipython",
    "version": 3
   },
   "file_extension": ".py",
   "mimetype": "text/x-python",
   "name": "python",
   "nbconvert_exporter": "python",
   "pygments_lexer": "ipython3",
   "version": "3.7.1"
  }
 },
 "nbformat": 4,
 "nbformat_minor": 2
}
