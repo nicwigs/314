{
 "cells": [
  {
   "cell_type": "markdown",
   "metadata": {},
   "source": [
    "## <p style=\"text-align: right;\"> Nic Wiggins</p>"
   ]
  },
  {
   "cell_type": "markdown",
   "metadata": {},
   "source": [
    "<p style=\"text-align: right;\">\n",
    "In order to successfully complete this assignment you need to participate both individually and in groups during class on Tuesday January 8th.\n",
    "</p>\n"
   ]
  },
  {
   "cell_type": "markdown",
   "metadata": {},
   "source": [
    "# Welcome to CMSE / MTH 314"
   ]
  },
  {
   "cell_type": "markdown",
   "metadata": {},
   "source": [
    "# <p style=\"text-align: center;\">What can you do with $Ax=b$ ?</p>\n",
    "\n",
    "<img src=\"https://upload.wikimedia.org/wikipedia/commons/thumb/2/2f/Linear_subspaces_with_shading.svg/650px-Linear_subspaces_with_shading.svg.png\"><p style=\"text-align: right;\">\n",
    "Image from http://wikipedia.org/\n",
    "</p>"
   ]
  },
  {
   "cell_type": "code",
   "execution_count": 1,
   "metadata": {},
   "outputs": [
    {
     "data": {
      "image/jpeg": "[encoded data removed]",
      "text/html": [
       "\n",
       "        <iframe\n",
       "            width=\"640\"\n",
       "            height=\"360\"\n",
       "            src=\"https://www.youtube.com/embed/-aiL8iWhQjc\"\n",
       "            frameborder=\"0\"\n",
       "            allowfullscreen\n",
       "        ></iframe>\n",
       "        "
      ],
      "text/plain": [
       "<IPython.lib.display.YouTubeVideo at 0x1092d5b00>"
      ]
     },
     "execution_count": 1,
     "metadata": {},
     "output_type": "execute_result"
    }
   ],
   "source": [
    "from IPython.display import YouTubeVideo\n",
    "YouTubeVideo(\"-aiL8iWhQjc\",width=640,height=360)"
   ]
  },
  {
   "cell_type": "markdown",
   "metadata": {},
   "source": [
    "### Agenda for today's class (80 minutes)\n",
    "</p>\n",
    "1. (10 minutes) Pre-class procedure\n",
    "2. (10 minutes) Pre-class Survey\n",
    "3. (20 minutes) Example \n",
    "4. (25 minutes) Syllabus and Schedule\n",
    "5. (5 minutes) Post-class procedure (Wrap-up)"
   ]
  },
  {
   "cell_type": "markdown",
   "metadata": {},
   "source": [
    "---\n",
    "# 1. Pre-class procedure"
   ]
  },
  {
   "cell_type": "markdown",
   "metadata": {},
   "source": [
    "###  Step 1 - Get out your laptop\n",
    "* Feel free to grab one of the laptops in the classroom if you do not have your own. "
   ]
  },
  {
   "cell_type": "markdown",
   "metadata": {},
   "source": [
    "###  Step 2 - Activate your engineering account \n",
    "\n",
    "When you enrolled in class you should have received an engineering login.  Go to the following URL to activate the account and set your password.\n",
    "\n",
    "https://www.egr.msu.edu/decs/myaccount/?page=activate"
   ]
  },
  {
   "cell_type": "markdown",
   "metadata": {},
   "source": [
    "### Step 3 - Download this jupyter notebook\n",
    "* Go to the class <a href=\"https://d2l.msu.edu/\">D2L</a> page and download a copy of this notebook"
   ]
  },
  {
   "cell_type": "markdown",
   "metadata": {},
   "source": [
    "### Step 4 - Log onto the Engineering JupyterHub Website\n",
    "\n",
    "http://jupyterhub.egr.msu.edu\n"
   ]
  },
  {
   "cell_type": "markdown",
   "metadata": {},
   "source": [
    "### Step 5 - Create a CMSE314 Assignment Folder in your home directory\n"
   ]
  },
  {
   "cell_type": "markdown",
   "metadata": {},
   "source": [
    "###  Step 6 - Upload this notebook to newly created folder on Jupyterhub\n"
   ]
  },
  {
   "cell_type": "markdown",
   "metadata": {},
   "source": [
    "---\n",
    "# 2. Pre-class survey\n",
    "\n",
    "[Direct Link](https://docs.google.com/forms/d/e/1FAIpQLSephyaUFsIY5Z5wc23bUU80ebJSq2Pl3jQBgyAgetMTM2XR5w/viewform?usp=sf_link)"
   ]
  },
  {
   "cell_type": "code",
   "execution_count": 2,
   "metadata": {},
   "outputs": [
    {
     "data": {
      "text/html": [
       "\n",
       "<iframe \n",
       "\tsrc=\"https://docs.google.com/forms/d/e/1FAIpQLSephyaUFsIY5Z5wc23bUU80ebJSq2Pl3jQBgyAgetMTM2XR5w/viewform?usp=sf_link\" \n",
       "\twidth=\"100%\" \n",
       "\theight=\"500px\" \n",
       "\tframeborder=\"0\" \n",
       "\tmarginheight=\"0\" \n",
       "\tmarginwidth=\"0\">\n",
       "\tLoading...\n",
       "</iframe>\n"
      ],
      "text/plain": [
       "<IPython.core.display.HTML object>"
      ]
     },
     "execution_count": 2,
     "metadata": {},
     "output_type": "execute_result"
    }
   ],
   "source": [
    "from IPython.display import HTML\n",
    "HTML(\n",
    "\"\"\"\n",
    "<iframe \n",
    "\tsrc=\"https://docs.google.com/forms/d/e/1FAIpQLSephyaUFsIY5Z5wc23bUU80ebJSq2Pl3jQBgyAgetMTM2XR5w/viewform?usp=sf_link\" \n",
    "\twidth=\"100%\" \n",
    "\theight=\"500px\" \n",
    "\tframeborder=\"0\" \n",
    "\tmarginheight=\"0\" \n",
    "\tmarginwidth=\"0\">\n",
    "\tLoading...\n",
    "</iframe>\n",
    "\"\"\"\n",
    ")"
   ]
  },
  {
   "cell_type": "markdown",
   "metadata": {},
   "source": [
    "---\n",
    "\n",
    "# 3. Example:\n",
    "\n",
    "Suppose that we have three objects, we know that one has a mass of 2 kg, and we want to find the two unknown masses. Experimentation with a (assume weightless) meter stick produces these two balances. (diagram not to scale)\n",
    "\n",
    "<img src=\"https://goo.gl/h2cqwE\" align=\"center\" width=\"70%\">\n",
    "\n",
    "For the masses to balance we must have the sum of the moments on the left equal to the sum of the moments on the right, where the moment of an object is its mass times its distance from the balance point.   That gives a system of two  equations:\n",
    "\n",
    "$$ 40A + 15B = 50 \\times 2$$\n",
    "$$25B = 25 \\times 2 + 50A$$\n"
   ]
  },
  {
   "cell_type": "markdown",
   "metadata": {},
   "source": [
    "<font color=red>**Do This:**</font> In your groups, solve the above system of equations and report the mass for objects A and B."
   ]
  },
  {
   "cell_type": "code",
   "execution_count": 3,
   "metadata": {},
   "outputs": [],
   "source": [
    "A=1\n",
    "B=4"
   ]
  },
  {
   "cell_type": "markdown",
   "metadata": {},
   "source": [
    " <font color=red>**Do This:**</font> Now lets consider a system where we have three unknown masses instead of two. Experimentation with a meter stick produces the two balanced states shown below (diagram not to scale). Write the equations for this system.\n",
    "\n",
    "<img src=\"https://goo.gl/Rkn178\" width=\"70%\">\n"
   ]
  },
  {
   "cell_type": "markdown",
   "metadata": {},
   "source": [
    "35A+21B = 11C + 50*2 , \n",
    "25C = 10A + 24B + 50*2"
   ]
  },
  {
   "cell_type": "markdown",
   "metadata": {},
   "source": [
    " <font color=red>**Do This:**</font> Find a solution to the second set of equations and report the mass for objects A, B, and C."
   ]
  },
  {
   "cell_type": "code",
   "execution_count": 5,
   "metadata": {},
   "outputs": [],
   "source": [
    "#Infinite solutions - not enought equations"
   ]
  },
  {
   "cell_type": "markdown",
   "metadata": {},
   "source": [
    "----\n",
    "\n",
    "# 4. Syllabus and Schedule\n",
    "\n",
    "- [Syllabus](https://drive.google.com/open?id=1psOgaBhDn8aRldtLjVgsKrjybi41piLDAJBkWviXAtY)\n",
    "- [Class Schedule](https://drive.google.com/open?id=1psOgaBhDn8aRldtLjVgsKrjybi41piLDAJBkWviXAtY)"
   ]
  },
  {
   "cell_type": "code",
   "execution_count": 6,
   "metadata": {},
   "outputs": [
    {
     "data": {
      "text/html": [
       "\n",
       "<iframe \n",
       "\tsrc=\"https://drive.google.com/open?id=1AL-mBLX3YN-ULkIrtk3lWd60qIojEARyIiUHg1JYIY8\" \n",
       "\twidth=\"100%\" \n",
       "\theight=\"500px\" \n",
       "\tframeborder=\"0\" \n",
       "\tmarginheight=\"0\" \n",
       "\tmarginwidth=\"0\">\n",
       "\tLoading...\n",
       "</iframe>\n"
      ],
      "text/plain": [
       "<IPython.core.display.HTML object>"
      ]
     },
     "execution_count": 6,
     "metadata": {},
     "output_type": "execute_result"
    }
   ],
   "source": [
    "from IPython.display import HTML\n",
    "HTML(\n",
    "\"\"\"\n",
    "<iframe \n",
    "\tsrc=\"https://drive.google.com/open?id=1AL-mBLX3YN-ULkIrtk3lWd60qIojEARyIiUHg1JYIY8\" \n",
    "\twidth=\"100%\" \n",
    "\theight=\"500px\" \n",
    "\tframeborder=\"0\" \n",
    "\tmarginheight=\"0\" \n",
    "\tmarginwidth=\"0\">\n",
    "\tLoading...\n",
    "</iframe>\n",
    "\"\"\"\n",
    ")"
   ]
  },
  {
   "cell_type": "code",
   "execution_count": 7,
   "metadata": {},
   "outputs": [
    {
     "data": {
      "text/html": [
       "\n",
       "<iframe \n",
       "\tsrc=\"https://drive.google.com/open?id=1psOgaBhDn8aRldtLjVgsKrjybi41piLDAJBkWviXAtY\" \n",
       "\twidth=\"100%\" \n",
       "\theight=\"500px\" \n",
       "\tframeborder=\"0\" \n",
       "\tmarginheight=\"0\" \n",
       "\tmarginwidth=\"0\">\n",
       "\tLoading...\n",
       "</iframe>\n"
      ],
      "text/plain": [
       "<IPython.core.display.HTML object>"
      ]
     },
     "execution_count": 7,
     "metadata": {},
     "output_type": "execute_result"
    }
   ],
   "source": [
    "from IPython.display import HTML\n",
    "HTML(\n",
    "\"\"\"\n",
    "<iframe \n",
    "\tsrc=\"https://drive.google.com/open?id=1psOgaBhDn8aRldtLjVgsKrjybi41piLDAJBkWviXAtY\" \n",
    "\twidth=\"100%\" \n",
    "\theight=\"500px\" \n",
    "\tframeborder=\"0\" \n",
    "\tmarginheight=\"0\" \n",
    "\tmarginwidth=\"0\">\n",
    "\tLoading...\n",
    "</iframe>\n",
    "\"\"\"\n",
    ")"
   ]
  },
  {
   "cell_type": "markdown",
   "metadata": {},
   "source": [
    "----\n",
    "\n",
    "# 5. Post-class procedure (Wrap-up)\n",
    "\n",
    "### Step 1 - Review In-Class assignment\n",
    "* Make sure you have filled in all of the fields.  I try to put &#9989; symbols at each location where you need to do something.  A good organizational trick is to delete the symbols when you are done.  This allows for a quick review before turning everything in (i.e. make sure all of the symbles are gone). \n",
    "\n",
    "* [01-Linear_Equations_and_Vectors-pre-class-assignment.ipynb](01--Linear_Equations_and_Vectors-pre-class-assignment.ipynb)"
   ]
  },
  {
   "cell_type": "markdown",
   "metadata": {},
   "source": [
    "###  Step 2 - Save and Turn In assignment\n",
    "* Now, you just need to submit this assignment by uploading it to the course <a href=\"https://d2l.msu.edu/\">Desire2Learn</a> web page for today's dropbox."
   ]
  },
  {
   "cell_type": "markdown",
   "metadata": {},
   "source": [
    "### Step 3 - Download and review next pre-class assignment\n",
    "I will try my best to post the next pre-class assignment in-class the day it is assigned.  This will allow you to do a quick review of the assignment and ask questions."
   ]
  },
  {
   "cell_type": "markdown",
   "metadata": {},
   "source": [
    "-----\n",
    "### Congratulations, we're done!"
   ]
  },
  {
   "cell_type": "markdown",
   "metadata": {},
   "source": [
    "&#169; Copyright 2018,  Michigan State University Board of Trustees"
   ]
  }
 ],
 "metadata": {
  "kernelspec": {
   "display_name": "Python 3",
   "language": "python",
   "name": "python3"
  },
  "language_info": {
   "codemirror_mode": {
    "name": "ipython",
    "version": 3
   },
   "file_extension": ".py",
   "mimetype": "text/x-python",
   "name": "python",
   "nbconvert_exporter": "python",
   "pygments_lexer": "ipython3",
   "version": "3.7.1"
  }
 },
 "nbformat": 4,
 "nbformat_minor": 2
}
