{
 "cells": [
  {
   "cell_type": "markdown",
   "metadata": {},
   "source": [
    "## <p style=\"text-align: right;\">Nic Wiggins</p>"
   ]
  },
  {
   "cell_type": "markdown",
   "metadata": {},
   "source": [
    "In order to successfully complete this assignment, you need to participate both individually and in groups during class."
   ]
  },
  {
   "cell_type": "markdown",
   "metadata": {},
   "source": [
    "# In-Class Assignment: Gauss-Jordan\n",
    "\n",
    "<img src=\"https://i.ytimg.com/vi/fSCz7jH_vHI/maxresdefault.jpg\" width=\"50%\">\n",
    "<p style=\"text-align: right;\">Image from: https://www.youtube.com/watch?v=fSCz7jH_vHI</p>\n",
    "    "
   ]
  },
  {
   "cell_type": "markdown",
   "metadata": {},
   "source": [
    "### Agenda for Day 1 (80 minutes)\n",
    "\n",
    "</p>\n",
    "\n",
    "1. (20 minutes) Pre-class assignment review\n",
    "1. (20 minutes) Introduce HW1\n",
    "1. (20 minutes) Gauss-Jordan Elimination\n",
    "1. (20 minutes) Algorithm Complexity\n",
    "\n",
    "### Agenda for Day 2 (80 minutes)\n",
    "5. (30 minutes) Code-Review (RREF)\n",
    "1. (30 minutes) Gauss Elimination and Complexity\n",
    "1. (20 minutes) Project Planning"
   ]
  },
  {
   "cell_type": "markdown",
   "metadata": {},
   "source": [
    "---\n",
    "# 1. Pre-class assignment review\n",
    "\n",
    "[03--Gauss-Jordan-pre-class-assignment](03--Gauss-Jordan-pre-class-assignment.ipynb)"
   ]
  },
  {
   "cell_type": "markdown",
   "metadata": {},
   "source": [
    "----\n",
    "# 2. Introduce HW1\n",
    "\n",
    "[HW1-IterativeMethods](HW1-IterativeMethods.ipynb)"
   ]
  },
  {
   "cell_type": "markdown",
   "metadata": {},
   "source": [
    "----\n",
    "# 3. Gauss-Jordan Elimination\n",
    "\n",
    "&#9989; <font color=red>**DO THIS:**</font> As a group, discuss how you would implement the Gauss-Jordan elimination algorithm as a computer programer. Some questions to answer:\n",
    "\n",
    "1. What are the inputs?\n",
    "2. What are the outputs?\n",
    "3. What are the high level steps you would need to program?\n",
    "4. What would be the computational cost of the algorithm?\n",
    "\n",
    "Each group will present their algorithm to the class. "
   ]
  },
  {
   "cell_type": "markdown",
   "metadata": {},
   "source": [
    "1. Input augmented matrix\n",
    "2. Output the reduced matrix and answer if there is a solution\n",
    "3. \n",
    "For column in Matrix\n",
    "    start_row = col + 1\n",
    "    if first index in first col is not 0\n",
    "        search col and find non zero value, swap with top row\n",
    "    for index in col after 1st\n",
    "        if not zero\n",
    "            mulitply by -value to first row and add to make zero\n",
    "    \n",
    "            \n",
    "            \n",
    "\n",
    "4. O(n^3)\n",
    "\n",
    "Gauss_Jordan(matrix)\n",
    "    for c in loop_over_columns:\n",
    "        for r in find_column_pivot:\n",
    "            if r != 0:\n",
    "                break\n",
    "        if r != c:\n",
    "            swaprows(r,c)\n",
    "        ...\n",
    "        \n",
    "        "
   ]
  },
  {
   "cell_type": "markdown",
   "metadata": {},
   "source": [
    "----\n",
    "# 4. Algorithm Complexity\n",
    "\n",
    "As a class, we are going to try and determine the complexity of our Gauss-Jordan algorithm.  \n",
    "\n",
    "&#9989; <font color=red>**DO THIS:**</font>  Have a class discussion to come up with an agreed pseudocode."
   ]
  },
  {
   "cell_type": "markdown",
   "metadata": {},
   "source": [
    "For column in Matrix\n",
    "    start_row = col + 1\n",
    "    if first index in first col is not 0\n",
    "        search col and find non zero value, swap with top row\n",
    "    for index in col after 1st\n",
    "        if not zero\n",
    "            mulitply by -value to first row and add to make zero"
   ]
  },
  {
   "cell_type": "markdown",
   "metadata": {},
   "source": [
    "&#9989; <font color=red>**QUESTION:**</font> In your groups, estimate how long this will take by counting and multiplying the number of loops."
   ]
  },
  {
   "cell_type": "markdown",
   "metadata": {},
   "source": [
    "O(n^3)\n",
    "n additions/multiplications per n rows in column for n columns\n",
    "\n",
    "rows\n",
    "diag x/ .      +/-\n",
    "1.  n\n",
    "    (n-1)n     (n-1)\n",
    "2.  (n-1)\n",
    "    (n-1)(n-1) (n-1)(n-1)\n",
    "3.  (n-2)\n",
    "    (n-1)(n-2) (n-1)(n-2)\n",
    "    \n",
    "n+1-i\n",
    "(n-1)(n+1-i)\n",
    "\n",
    "sum i=1 to n\n",
    "    n(n+1-i)\n",
    "\n",
    "n(n^2+n) - n(sum i=1 to n) i\n",
    "n(n^2 + n) - n(n(n+1)/2\n"
   ]
  },
  {
   "cell_type": "markdown",
   "metadata": {},
   "source": [
    "-----\n",
    "### Congratulations, we're done!\n",
    "\n",
    "Now, you just need to submit this assignment by uploading it to the course <a href=\"https://d2l.msu.edu/\">Desire2Learn</a> web page for today's dropbox (Don't forget to add your names in the first cell).\n"
   ]
  },
  {
   "cell_type": "markdown",
   "metadata": {},
   "source": [
    "-----\n",
    "### Congratulations, we're done!"
   ]
  },
  {
   "cell_type": "markdown",
   "metadata": {},
   "source": [
    "&#169; Copyright 2018,  Michigan State University Board of Trustees"
   ]
  }
 ],
 "metadata": {
  "kernelspec": {
   "display_name": "Python 3",
   "language": "python",
   "name": "python3"
  },
  "language_info": {
   "codemirror_mode": {
    "name": "ipython",
    "version": 3
   },
   "file_extension": ".py",
   "mimetype": "text/x-python",
   "name": "python",
   "nbconvert_exporter": "python",
   "pygments_lexer": "ipython3",
   "version": "3.6.5"
  }
 },
 "nbformat": 4,
 "nbformat_minor": 2
}
