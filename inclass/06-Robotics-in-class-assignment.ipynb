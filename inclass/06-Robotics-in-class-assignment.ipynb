{
 "cells": [
  {
   "cell_type": "markdown",
   "metadata": {},
   "source": [
    "## <p style=\"text-align: right;\"> &#9989; Put your name(s) here</p>"
   ]
  },
  {
   "cell_type": "markdown",
   "metadata": {},
   "source": [
    "You **NEED** to participate both individually and in groups in class to successfully complete this assignment and receive credits for it."
   ]
  },
  {
   "cell_type": "markdown",
   "metadata": {},
   "source": [
    "# In-Class Assignment: Robotics\n",
    "\n",
    "\n",
    "Today, we will calculate the forward kinematics for a robot. \n",
    "We would like to come up with a set of equations such that we can joint angles and know the $x,~y,~z$ coordinates of the end effector with respect to the world coordinate system which is at the base of the robot.  \n",
    "\n",
    "This is a little more tricky than the 2D case where everything was rotating around the axes that projects out of the $x/y$ plane.  \n",
    "In 2D we only really worry about one axis of rotation. \n",
    "However in 3D we can rotate around the $x$, $y$, and $z$ axis. \n",
    "The following are the 3D transformation matrices that combine rotation and translations:\n",
    "\n",
    "\n",
    "\n",
    "## X-Axis rotation\n",
    "\n",
    "$$ \n",
    "\\left[ \\begin{matrix}\n",
    "    x' \\\\\n",
    "    y' \\\\\n",
    "    z' \\\\\n",
    "    1 \n",
    " \\end{matrix}\n",
    "\\right] \n",
    "=\n",
    "\\left[ \\begin{matrix}\n",
    "    1 & 0 & 0 & dx \\\\\n",
    "    0 & cos(q) & -sin(q)  & dy \\\\\n",
    "    0 & sin(q) & cos(q)  & dz \\\\\n",
    "    0 & 0 & 0 & 1\n",
    " \\end{matrix}\n",
    "\\right] \n",
    "\\left[ \\begin{matrix}\n",
    "    x \\\\\n",
    "    y \\\\\n",
    "    z \\\\\n",
    "    1 \n",
    " \\end{matrix}\n",
    "\\right] \n",
    "$$ \n",
    "\n",
    "\n",
    "\n",
    "## Y-Axis rotation\n",
    "\n",
    "$$ \n",
    "\\left[ \\begin{matrix}\n",
    "    x' \\\\\n",
    "    y' \\\\\n",
    "    z' \\\\\n",
    "    1 \n",
    " \\end{matrix}\n",
    "\\right] \n",
    "=\n",
    "\\left[ \\begin{matrix}\n",
    "    cos(q) & 0 & sin(q) & dx \\\\\n",
    "    0 & 1 & 0 & dy \\\\\n",
    "    -sin(q) & 0 & cos(q) & dz \\\\\n",
    "    0 & 0 & 0 & 1\n",
    " \\end{matrix}\n",
    "\\right] \n",
    "\\left[ \\begin{matrix}\n",
    "    x \\\\\n",
    "    y \\\\\n",
    "    z \\\\\n",
    "    1 \n",
    " \\end{matrix}\n",
    "\\right] \n",
    "$$ \n",
    "\n",
    "\n",
    "\n",
    "## Z-Axis rotation\n",
    "\n",
    "$$ \n",
    "\\left[ \\begin{matrix}\n",
    "    x' \\\\\n",
    "    y' \\\\\n",
    "    z' \\\\\n",
    "    1 \n",
    " \\end{matrix}\n",
    "\\right] \n",
    "=\n",
    "\\left[ \\begin{matrix}\n",
    "    cos(q) & -sin(q) & 0 & dx \\\\\n",
    "    sin(q) & cos(q) & 0 & dy \\\\\n",
    "    0 & 0 & 1 & dz \\\\\n",
    "    0 & 0 & 0 & 1\n",
    " \\end{matrix}\n",
    "\\right] \n",
    "\\left[ \\begin{matrix}\n",
    "    x \\\\\n",
    "    y \\\\\n",
    "    z \\\\\n",
    "    1 \n",
    " \\end{matrix}\n",
    "\\right] \n",
    "$$ "
   ]
  },
  {
   "cell_type": "markdown",
   "metadata": {},
   "source": [
    "### Agenda for today's class (80 minutes)\n",
    "\n",
    "</p>\n",
    "\n",
    "1. (20 minutes) Pre-Class Assignment Review\n",
    "1. (30 minutes) Pick and Place\n",
    "1. (30 minutes) Project Planning"
   ]
  },
  {
   "cell_type": "markdown",
   "metadata": {},
   "source": [
    "---\n",
    "# 1. Pre-Class Assignment Review\n",
    "\n",
    "[06--Robotics-pre-class-assignment](06--Robotics-pre-class-assignment.ipynb)"
   ]
  },
  {
   "cell_type": "markdown",
   "metadata": {},
   "source": [
    "----\n",
    "# 2. Pick and Place \n",
    "\n",
    "Consider the robot depicted in the following image. \n",
    "\n",
    "<img src=\"http://cfnewsads.thomasnet.com/images/large/489/489457.jpg\" width=\"50%\">\n",
    "   \n",
    "This style of robot is often called a \"Pick-and-place\" robot. \n",
    "It has; two motors that rotate around the z-axis to move the end effector in the $xy$-plane; one \"linear actuator\" which moves up-and-down in the $z$-direction; and then finally a third rotating \"wrist\" joint that turns the \"hand\" of the robot.\n",
    "Let's model our robot using the following system diagram:\n",
    "\n",
    "<img src=\"https://lh4.googleusercontent.com/z5P5JHOmmn3GzXulvHwtqKeLSeUILEHe_9yndHp33gZ1m2mqblR8nmHgNDDzHq3W38jJBdh-Tg=w740\" width=\"50%\">\n",
    "\n",
    "**NOTE:** The origin for this robot is located at the base of the first \"tower\" and is in-line with the first joint.  The $x$-direction goes from the origin to the right and the $z$-axis goes from the origin upwards. "
   ]
  },
  {
   "cell_type": "markdown",
   "metadata": {},
   "source": [
    "<font color=red>**Question a:**</font> Construct a joint transformation matrix called $J_1$, which represents a coordinate system that is located at the top of the first \"tower\" (robot's sholder) and moves by rotating around the $z$-axis by $\\theta_1$ degrees. Represent your matrix using ```sympy``` and the provided symbols:"
   ]
  },
  {
   "cell_type": "code",
   "execution_count": 1,
   "metadata": {},
   "outputs": [],
   "source": [
    "# Here are some libraries you may need to use\n",
    "%matplotlib inline\n",
    "import matplotlib.pylab as plt\n",
    "import numpy as np\n",
    "import sympy as sym\n",
    "import math\n",
    "sym.init_printing()"
   ]
  },
  {
   "cell_type": "code",
   "execution_count": 2,
   "metadata": {},
   "outputs": [],
   "source": [
    "#Use the following symbols\n",
    "\n",
    "q1,q2,d3,q4,v1,v2,a1,a2 = sym.symbols('\\Theta_1, \\Theta_2, d_3, \\Theta_4, V_1, V_2,A_1,A_2', negative=False)"
   ]
  },
  {
   "cell_type": "code",
   "execution_count": 3,
   "metadata": {},
   "outputs": [],
   "source": [
    "#put your answer here"
   ]
  },
  {
   "cell_type": "markdown",
   "metadata": {},
   "source": [
    "<font color=red>**Question b:**</font> Construct a joint transformation matrix called $J_2$, which represents a coordinate system that is located at the \"elbow\" joint between the two rotating arms and rotates with the second arm around the $z$-axis by $\\theta_2$ degrees. Represent your matrix using ```sympy``` and the symbols provided in question a:"
   ]
  },
  {
   "cell_type": "code",
   "execution_count": 5,
   "metadata": {},
   "outputs": [],
   "source": [
    "#put your answer here"
   ]
  },
  {
   "cell_type": "markdown",
   "metadata": {},
   "source": [
    "<font color=red>**Question c:**</font> Construct a joint transformation matrix called $J_3$, which represents a coordinate system that is located at the \"top\" of the linear actuator and moves vertically by $d_3$. Represent your matrix using ```sympy``` and the symbols provided in question a:"
   ]
  },
  {
   "cell_type": "code",
   "execution_count": 7,
   "metadata": {},
   "outputs": [],
   "source": [
    "#put your answer here"
   ]
  },
  {
   "cell_type": "markdown",
   "metadata": {},
   "source": [
    "<font color=red>**Question d:**</font> Construct a joint transformation matrix called $J_4$, which represents a coordinate system that is located at the tip of the robot's \"hand\" and rotates around the $z$-axis by $\\theta_4$. The configuration is such that the hand touches the table when $d_3=0$."
   ]
  },
  {
   "cell_type": "code",
   "execution_count": 9,
   "metadata": {},
   "outputs": [],
   "source": [
    "#put your answer here"
   ]
  },
  {
   "cell_type": "markdown",
   "metadata": {},
   "source": [
    "<font color=red>**Question e:**</font> Rewrite the joint transformation matrices from questions a - d as numpy matrices with discrete (instead of symbolic) values.  Plug in your transformations in the code below and use this to simulate the robot:"
   ]
  },
  {
   "cell_type": "code",
   "execution_count": 18,
   "metadata": {},
   "outputs": [
    {
     "data": {
      "application/vnd.jupyter.widget-view+json": {
       "model_id": "a7c8f9904a4e47899a8caca3b0b12e40",
       "version_major": 2,
       "version_minor": 0
      },
      "text/plain": [
       "interactive(children=(IntSlider(value=0, description='theta1', max=180, min=-180), IntSlider(value=0, descript…"
      ]
     },
     "metadata": {},
     "output_type": "display_data"
    }
   ],
   "source": [
    "from ipywidgets import interact\n",
    "from mpl_toolkits.mplot3d import Axes3D\n",
    "\n",
    "def Robot_Simulator(theta1=0,theta2=-0,d3=0,theta4=0):\n",
    "\n",
    "    #Convert from degrees to radians\n",
    "    q1 = theta1/180 * math.pi\n",
    "    q2 = theta2/180 * math.pi\n",
    "    q4 = theta4/180 * math.pi\n",
    "\n",
    "    #Define robot geomitry\n",
    "    V1 = 4 \n",
    "    V2 = 0\n",
    "    A1 = 2 \n",
    "    A2 = 2 \n",
    "\n",
    "    #Define your transfomraiton matrices here. \n",
    "    J1 = np.matrix([[1, 0, 0, 0 ], \n",
    "                    [0, 1, 0, 0 ], \n",
    "                    [0, 0, 1, 0],\n",
    "                    [0, 0, 0, 1]])\n",
    "\n",
    "    J2 = np.matrix([[1, 0, 0, 0 ], \n",
    "                    [0, 1, 0, 0 ], \n",
    "                    [0, 0, 1, 0],\n",
    "                    [0, 0, 0, 1]])\n",
    "\n",
    "    J3 = np.matrix([[1, 0, 0, 0 ], \n",
    "                    [0, 1, 0, 0 ], \n",
    "                    [0, 0, 1, 0],\n",
    "                    [0, 0, 0, 1]])\n",
    "\n",
    "    J4 = np.matrix([[1, 0, 0, 0 ], \n",
    "                    [0, 1, 0, 0 ], \n",
    "                    [0, 0, 1, 0],\n",
    "                    [0, 0, 0, 1]])\n",
    "\n",
    "    \n",
    "    #Make the rigid end effector\n",
    "    p = np.matrix([[-0.5,0,0, 1], [-0.5,0,0.5,1], [0.5,0,0.5, 1], [0.5,0,0,1],[0.5,0,0.5, 1], [0,0,0.5,1]]).T\n",
    "    \n",
    "    #Propogate and add joint points though the simulation\n",
    "    p = np.concatenate((J4*p, np.matrix([0,0,0,1]).T), axis=1 )\n",
    "    p = np.concatenate((J3*p, np.matrix([0,0,0,1]).T), axis=1 )\n",
    "    p = np.concatenate((J2*p, np.matrix([0,0,0,1]).T), axis=1 )\n",
    "    p = np.concatenate((J1*p, np.matrix([0,0,0,1]).T), axis=1 )\n",
    "        \n",
    "    fig = plt.figure()\n",
    "    ax = fig.add_subplot(111, projection='3d')\n",
    "\n",
    "    ax.scatter(p[0,:].tolist()[0],(p[1,:]).tolist()[0], (p[2,:]).tolist()[0], s=20, facecolors='none', edgecolors='r')\n",
    "    ax.scatter(0,0,0, s=20, facecolors='r', edgecolors='r')\n",
    "    ax.plot(p[0,:].tolist()[0],(p[1,:]).tolist()[0], (p[2,:]).tolist()[0])\n",
    "    ax.set_xlim([-5,5])\n",
    "    ax.set_ylim([-5,5])\n",
    "    ax.set_zlim([0,6])\n",
    "    ax.set_xlabel('x-axis')\n",
    "    ax.set_ylabel('y-axis')    \n",
    "    ax.set_zlabel('z-axis') \n",
    "\n",
    "    plt.show()\n",
    "    \n",
    "target = interact(Robot_Simulator, theta1=(-180,180), theta2=(-180,180), d3=(0,6), theta4=(-180,180)); ##TODO: Modify this line of code"
   ]
  },
  {
   "cell_type": "markdown",
   "metadata": {},
   "source": [
    "&#9989; <font color=red>**Question f:**</font> Can we change the order of the transformation matrices? Why? You can try and see what happens."
   ]
  },
  {
   "cell_type": "markdown",
   "metadata": {},
   "source": [
    "Put your answer to the above question here."
   ]
  },
  {
   "cell_type": "markdown",
   "metadata": {},
   "source": [
    "&#9989; <font color=red>**Question g:**</font> Why do we have to choose the specifical last column for the transformation matrices?"
   ]
  },
  {
   "cell_type": "markdown",
   "metadata": {},
   "source": [
    "Put your answer to the above question here."
   ]
  },
  {
   "cell_type": "markdown",
   "metadata": {},
   "source": [
    "---\n",
    "# 3. Project Planning\n",
    "\n",
    "For your semester project, we will be interviewing faculty about how they use \"Linear Algebra\" in their research.  An proposed time-line for the project can now be found on the Class Schedule: \n",
    "\n",
    "- [Class Schedule](https://docs.google.com/spreadsheets/d/e/2PACX-1vQWVaZt0l_HSc9mySweZOX4RgjF0nDqMc2nl53bQMkWT9Gk6FhyZAEkw4SaciUkCk5cmWOyXgmcgoGp/pubhtml?gid=930190082&single=true)\n",
    "\n",
    "&#9989; <font color=red>**DO THIS:**</font> Let's think about what would make good interview questions.  Write down a few and share them with your neighbors.  \n",
    "\n",
    "- **THINK:** On your own, come up with a minimum of three \"good\" interview questions.\n",
    "- **PAIR:** Share your three questions with your group. Discuss the pros and cons of each question.\n",
    "- **SHARE:** Share your questions with the class. \n",
    "\n",
    "&#9989; <font color=red>**DO THIS:**</font> Come up with a list of three faculty you would like to interview. I will include a question on the next pre-class assignment. "
   ]
  },
  {
   "cell_type": "markdown",
   "metadata": {},
   "source": [
    "You can put your faculty ideas here..."
   ]
  },
  {
   "cell_type": "markdown",
   "metadata": {},
   "source": [
    "-----\n",
    "### Congratulations, we're done!\n",
    "\n",
    "Now, you just need to submit this assignment by uploading it to the course <a href=\"https://d2l.msu.edu/\">Desire2Learn</a> web page for today's dropbox (Don't forget to add your names in the first cell).\n"
   ]
  },
  {
   "cell_type": "markdown",
   "metadata": {},
   "source": [
    "&#169; Copyright 2018,  Michigan State University Board of Trustees"
   ]
  }
 ],
 "metadata": {
  "kernelspec": {
   "display_name": "Python 3",
   "language": "python",
   "name": "python3"
  },
  "language_info": {
   "codemirror_mode": {
    "name": "ipython",
    "version": 3
   },
   "file_extension": ".py",
   "mimetype": "text/x-python",
   "name": "python",
   "nbconvert_exporter": "python",
   "pygments_lexer": "ipython3",
   "version": "3.6.5"
  }
 },
 "nbformat": 4,
 "nbformat_minor": 2
}
