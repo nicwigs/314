{
 "cells": [
  {
   "cell_type": "markdown",
   "metadata": {},
   "source": [
    "## <p style=\"text-align: right;\"> Nic Wiggins </p>"
   ]
  },
  {
   "cell_type": "markdown",
   "metadata": {},
   "source": [
    "You **NEED** to participate both individually and in groups in class to successfully complete this assignment and receive credits for it."
   ]
  },
  {
   "cell_type": "markdown",
   "metadata": {},
   "source": [
    "# In-Class Assignment: Matrix Multiply\n",
    "\n",
    "<img src=\"https://www.mathsisfun.com/algebra/images/matrix-multiply-a.svg\" >\n",
    "\n",
    "<p style=\"text-align: right;\">Image from: https://www.mathsisfun.com/algebra/matrix-multiplying.html</p>"
   ]
  },
  {
   "cell_type": "markdown",
   "metadata": {},
   "source": [
    "### Agenda for today's class (80 minutes)\n",
    "\n",
    "</p>\n",
    "1. (20 minutes) Review of Pre-class assignment\n",
    "1. (20 minutes) Matrix Multiply\n",
    "1. (20 minutes) Timing Study\n",
    "1. (20 minutes) Algorithm Complexity"
   ]
  },
  {
   "cell_type": "markdown",
   "metadata": {},
   "source": [
    "----\n",
    "# 1. Review of Pre-class assignment\n"
   ]
  },
  {
   "cell_type": "markdown",
   "metadata": {},
   "source": [
    "[04--Mechanics-pre-class-assignment](../preclass/04--Mechanics-pre-class-assignment.ipynb)"
   ]
  },
  {
   "cell_type": "markdown",
   "metadata": {},
   "source": [
    "---\n",
    "\n",
    "# 2. Matrix Multiply\n",
    "\n",
    "&#9989; <font color=red>**DO THIS:**</font> As a group, write your own matrix multiplication function using the template below and compare it to the built-in matrix multiplication that can be found in ```numpy```. Your function should take two \"lists of lists\" as inputs and return the result as a third list of lists.  "
   ]
  },
  {
   "cell_type": "code",
   "execution_count": 1,
   "metadata": {},
   "outputs": [],
   "source": [
    "#some libraries (maybe not all) you will need in this notebook\n",
    "\n",
    "%matplotlib inline\n",
    "import matplotlib.pylab as plt\n",
    "import numpy as np\n",
    "import sympy as sym\n",
    "sym.init_printing(use_unicode=True)\n",
    "\n",
    "import random\n",
    "import time"
   ]
  },
  {
   "cell_type": "code",
   "execution_count": 55,
   "metadata": {},
   "outputs": [],
   "source": [
    "def multiply(m1,m2):\n",
    "    #first matrix is nxd in size\n",
    "    #second matrix is dxm in size\n",
    "    n = len(m1) \n",
    "    d = len(m2)\n",
    "    m = len(m2[0])\n",
    "                 \n",
    "    #check to make sure sizes match\n",
    "    if len(m1[0]) != d:\n",
    "        print(\"ERROR - inner dimentions not equal\")\n",
    "    \n",
    "    #### put your matrix multiply code here #####\n",
    "    a1 = np.array(m1)\n",
    "    a2 = np.array(m2)\n",
    "\n",
    "    r = np.zeros((n,m))\n",
    "    \n",
    "    for i in range(n):\n",
    "        for j in range(m):\n",
    "            r[i][j] = np.dot(a1[i,:],a2[:,j])\n",
    "    result = r.tolist()\n",
    "    return result\n",
    "\n",
    "# Their answer\n",
    "#result = [[0 for i in range(n)] for j in range(m)]\n",
    "#for i in range(n):\n",
    "#    for j in range(m):\n",
    "#        for k in range(0,d):\n",
    "#            result[i][j] = result[i][j] + m1[i][k] * m2[k][j]\n",
    "#return result\n"
   ]
  },
  {
   "cell_type": "markdown",
   "metadata": {},
   "source": [
    "Test your code with the following examples"
   ]
  },
  {
   "cell_type": "code",
   "execution_count": 56,
   "metadata": {},
   "outputs": [],
   "source": [
    "#Basic test 1\n",
    "n = 3\n",
    "d = 2\n",
    "m = 3\n",
    "\n",
    "#generate two random lists of lists.\n",
    "matrix1 = [[random.random() for i in range(d)] for j in range(n)]\n",
    "matrix2 = [[random.random() for i in range(m)] for j in range(d)]"
   ]
  },
  {
   "cell_type": "code",
   "execution_count": 57,
   "metadata": {},
   "outputs": [
    {
     "data": {
      "text/latex": [
       "$$\\left[\\begin{matrix}0.387670112752354 & 0.22376029384806\\\\0.6930656435146 & 0.438116963897993\\\\0.241128010708657 & 0.340526782544157\\end{matrix}\\right]$$"
      ],
      "text/plain": [
       "⎡0.387670112752354  0.22376029384806 ⎤\n",
       "⎢                                    ⎥\n",
       "⎢ 0.6930656435146   0.438116963897993⎥\n",
       "⎢                                    ⎥\n",
       "⎣0.241128010708657  0.340526782544157⎦"
      ]
     },
     "execution_count": 57,
     "metadata": {},
     "output_type": "execute_result"
    }
   ],
   "source": [
    "sym.init_printing(use_unicode=True) # Trick to make matrixes look nice in jupyter\n",
    "\n",
    "sym.Matrix(matrix1) # Show matrix using sympy"
   ]
  },
  {
   "cell_type": "code",
   "execution_count": 58,
   "metadata": {},
   "outputs": [
    {
     "data": {
      "text/latex": [
       "$$\\left[\\begin{matrix}0.610241316915856 & 0.576172274276858 & 0.713083009753812\\\\0.940336853575202 & 0.501939715314396 & 0.203088353666728\\end{matrix}\\right]$$"
      ],
      "text/plain": [
       "⎡0.610241316915856  0.576172274276858  0.713083009753812⎤\n",
       "⎢                                                       ⎥\n",
       "⎣0.940336853575202  0.501939715314396  0.203088353666728⎦"
      ]
     },
     "execution_count": 58,
     "metadata": {},
     "output_type": "execute_result"
    }
   ],
   "source": [
    "sym.Matrix(matrix2) # Show matrix using sympy"
   ]
  },
  {
   "cell_type": "code",
   "execution_count": 59,
   "metadata": {},
   "outputs": [],
   "source": [
    "#Compute matrix multiply using your function\n",
    "x = multiply(matrix1, matrix2)"
   ]
  },
  {
   "cell_type": "code",
   "execution_count": 60,
   "metadata": {
    "scrolled": false
   },
   "outputs": [
    {
     "name": "stdout",
     "output_type": "stream",
     "text": [
      "True\n"
     ]
    }
   ],
   "source": [
    "#Compare to numpy result\n",
    "np_x = np.matrix(matrix1)*np.matrix(matrix2)\n",
    "\n",
    "#use allclose function to see if they are numrically \"close enough\"\n",
    "print(np.allclose(x, np_x))\n",
    "\n",
    "#Result should be True"
   ]
  },
  {
   "cell_type": "code",
   "execution_count": 61,
   "metadata": {},
   "outputs": [
    {
     "data": {
      "text/latex": [
       "$$\\left[\\begin{matrix}0.146100255499395 & 0.449474027902975 & 0.91190605300256 & 0.438965059479751\\\\0.344036026311412 & 0.436549662652509 & 0.103247246993875 & 0.844901004135232\\\\0.0330624803581939 & 0.431674130325009 & 0.767464888190054 & 0.29142250674266\\\\0.615032464675769 & 0.889682393505038 & 0.680808500857835 & 0.902517601520806\\end{matrix}\\right]$$"
      ],
      "text/plain": [
       "⎡0.146100255499395   0.449474027902975  0.91190605300256   0.438965059479751⎤\n",
       "⎢                                                                           ⎥\n",
       "⎢0.344036026311412   0.436549662652509  0.103247246993875  0.844901004135232⎥\n",
       "⎢                                                                           ⎥\n",
       "⎢0.0330624803581939  0.431674130325009  0.767464888190054  0.29142250674266 ⎥\n",
       "⎢                                                                           ⎥\n",
       "⎣0.615032464675769   0.889682393505038  0.680808500857835  0.902517601520806⎦"
      ]
     },
     "execution_count": 61,
     "metadata": {},
     "output_type": "execute_result"
    }
   ],
   "source": [
    "#Test identity matrix\n",
    "n = 4\n",
    "\n",
    "# Make a Ransom Matrix\n",
    "matrix1 = [[random.random() for i in range(n)] for j in range(n)]\n",
    "sym.Matrix(matrix1) # Show matrix using sympy"
   ]
  },
  {
   "cell_type": "code",
   "execution_count": 62,
   "metadata": {},
   "outputs": [
    {
     "data": {
      "text/latex": [
       "$$\\left[\\begin{matrix}1 & 0 & 0 & 0\\\\0 & 1 & 0 & 0\\\\0 & 0 & 1 & 0\\\\0 & 0 & 0 & 1\\end{matrix}\\right]$$"
      ],
      "text/plain": [
       "⎡1  0  0  0⎤\n",
       "⎢          ⎥\n",
       "⎢0  1  0  0⎥\n",
       "⎢          ⎥\n",
       "⎢0  0  1  0⎥\n",
       "⎢          ⎥\n",
       "⎣0  0  0  1⎦"
      ]
     },
     "execution_count": 62,
     "metadata": {},
     "output_type": "execute_result"
    }
   ],
   "source": [
    "#generate a 3x3 identity matrix\n",
    "matrix2 = [[0 for i in range(n)] for j in range(n)]\n",
    "for i in range(n):\n",
    "    matrix2[i][i] = 1\n",
    "sym.Matrix(matrix2) # Show matrix using sympy"
   ]
  },
  {
   "cell_type": "code",
   "execution_count": 63,
   "metadata": {},
   "outputs": [
    {
     "data": {
      "text/plain": [
       "True"
      ]
     },
     "execution_count": 63,
     "metadata": {},
     "output_type": "execute_result"
    }
   ],
   "source": [
    "result = multiply(matrix1, matrix2)\n",
    "\n",
    "#Verify results are the same as the original\n",
    "np.allclose(matrix1, result)"
   ]
  },
  {
   "cell_type": "markdown",
   "metadata": {},
   "source": [
    "# 3. Timing Study\n",
    "In this part, you will compare your matrix multiplication with the ```numpy``` matrix multiplication. \n",
    "You will multiply two randomly generated $n\\times n$ matrices using both the ```matrix()``` function defined above and the ```numpy``` matrix multiplication. \n",
    "Here is the basic structure of your timing study:\n",
    "\n",
    "1. Initialize two empty lists called ```my_time``` and ```numpy_time```\n",
    "2. Loop over values of n (100, 200, 300, 400, 500)\n",
    "3. For each value of $n$ use the time.clock() function to calculate the time it takes to use your algorithm and append that time (in seconds) to the ```my_time``` list.\n",
    "4. For each value of $n$ use the time.clock() function to calculate the time it takes to use the ```numpy``` matrix multiplication and append that time (in seconds) to the ```numpy_time``` list.\n",
    "5. Use the provided code to generate a scatter plot of your results."
   ]
  },
  {
   "cell_type": "code",
   "execution_count": 64,
   "metadata": {},
   "outputs": [],
   "source": [
    "n_list = [100, 200, 300, 400, 500]\n",
    "my_time = []\n",
    "numpy_time = []"
   ]
  },
  {
   "cell_type": "code",
   "execution_count": 65,
   "metadata": {},
   "outputs": [],
   "source": [
    "# RUN AT YOUR OWN RISK.\n",
    "# THIS MAY TAKE A WHILE!!!!\n",
    "\n",
    "for n in n_list:\n",
    "    #Generate random nxn array of two lists\n",
    "    matrix1 = [[random.random() for i in range(n)] for j in range(n)]\n",
    "    matrix2 = [[random.random() for i in range(n)] for j in range(n)]\n",
    "    start = time.time()\n",
    "    x = multiply(matrix1, matrix2)\n",
    "    stop = time.time()\n",
    "    my_time.append(stop - start)\n",
    "    \n",
    "    #Convert the lists to a numpy matrix\n",
    "    npm1 = np.matrix(matrix1)\n",
    "    npm2 = np.matrix(matrix2)\n",
    "\n",
    "    #Calculate the time it takes to run the numpy matrix. \n",
    "    start = time.time()\n",
    "    answer = npm1*npm2\n",
    "    stop = time.time()\n",
    "    numpy_time.append(stop - start)"
   ]
  },
  {
   "cell_type": "code",
   "execution_count": 66,
   "metadata": {
    "scrolled": false
   },
   "outputs": [
    {
     "data": {
      "image/png": "[encoded data removed]",
      "text/plain": [
       "<Figure size 432x288 with 1 Axes>"
      ]
     },
     "metadata": {
      "needs_background": "light"
     },
     "output_type": "display_data"
    }
   ],
   "source": [
    "plt.scatter(n_list,my_time, color='red', label = 'my time')\n",
    "plt.scatter(n_list,numpy_time, color='green', label='numpy time')\n",
    "\n",
    "plt.xlabel('Size of $n x n$ matrix');\n",
    "plt.ylabel('time (seconds)')\n",
    "plt.legend();"
   ]
  },
  {
   "cell_type": "markdown",
   "metadata": {},
   "source": [
    "Based on the above results, you can see that the ```numpy``` algorithm not only is faster but also \"scales\" at a slower rate than your algorithm.  "
   ]
  },
  {
   "cell_type": "markdown",
   "metadata": {},
   "source": [
    "&#9989; <font color=red>**QUESTION:**</font> Why do you think the ```numpy``` matrix multiplication is so much faster?  "
   ]
  },
  {
   "cell_type": "markdown",
   "metadata": {},
   "source": [
    "I have to convert lists to arrays - they are given it in matrix object. This is quicker than the answer in class since im using dot product and it vectorizes instead of having an additional loop calculating dot product. numpy library is already compiled so it doesnt have to be compiled like mine, also numpy can be utilizing parallel computing. "
   ]
  },
  {
   "cell_type": "markdown",
   "metadata": {},
   "source": [
    "# 4. Algorithm Complexity (Estimating Big-O)\n",
    "In the above example, as the size of the input $n$ gets bigger, the algorithm takes longer to complete. \n",
    "Some algorithms work fine for small inputs but then \"blow up\" when you give them bigger inputs. \n",
    "Computer scientists have come up with a notation called \"Big-O\" that provides a way to compare the speed or memory usage of different algorithms by quantifying using a simple estimate how well an algorithm scales as its inputs get bigger.  \n",
    "\n",
    "For example, the following are some Big-O syntax, ordered by size. \n",
    "An algorithm with \"Big-O\" scaling on the left hand is considered better than an algorithm with \"Big-O\" scaling on the right hand:\n",
    "\n",
    "$$O(1) < O(\\log{n}) < O(n) < O(n^2) < O(n^3) < O(n!)$$\n",
    "\n",
    "\n",
    "The stuff inside the parentheses is a function. \n",
    "We can graph these functions as follows:"
   ]
  },
  {
   "cell_type": "code",
   "execution_count": 69,
   "metadata": {
    "scrolled": false
   },
   "outputs": [
    {
     "data": {
      "image/png": "[encoded data removed]",
      "text/plain": [
       "<Figure size 432x288 with 1 Axes>"
      ]
     },
     "metadata": {
      "needs_background": "light"
     },
     "output_type": "display_data"
    }
   ],
   "source": [
    "import scipy as sp\n",
    "from scipy.special import factorial\n",
    "\n",
    "n = np.linspace(1,100)\n",
    "\n",
    "plt.plot(n,np.ones(n.size), label='$1$')\n",
    "plt.plot(n,np.log(n), label='$\\log(n)$')\n",
    "plt.plot(n,n, label='$n$')\n",
    "plt.plot(n,n**2, label='n^2')\n",
    "plt.plot(n,n**3, label='n^3')\n",
    "plt.plot(n,factorial(n), label='n!')\n",
    "\n",
    "plt.axis([0,100,0,1000])\n",
    "plt.xlabel('number of inputs (n)')\n",
    "plt.ylabel('time or computer memory')\n",
    "plt.legend();"
   ]
  },
  {
   "cell_type": "markdown",
   "metadata": {},
   "source": [
    "&#9989; <font color=red>**QUESTION:**</font> Many commonly used algorithms have Big-O notation of $O(n\\log(n))$. In your groups discuss if this is faster or slower than $O(n^2)$ and why. "
   ]
  },
  {
   "cell_type": "markdown",
   "metadata": {},
   "source": [
    "O(nlog(n)) is faster than O(n^2) since log(n) < n as n approaches infinity"
   ]
  },
  {
   "cell_type": "markdown",
   "metadata": {},
   "source": [
    "&#9989; <font color=red>**QUESTION:**</font> As a group, can you estimate the \"Big-O\" notation for the algorithm you developed in in Section 3? Be prepared to explain your answer to the class. "
   ]
  },
  {
   "cell_type": "markdown",
   "metadata": {},
   "source": [
    "Answer given in class with the 3 loops would be O(n^3). Using dot product that I used, is still O(n^3)"
   ]
  },
  {
   "cell_type": "markdown",
   "metadata": {},
   "source": [
    "-----\n",
    "### Congratulations, we're done!\n",
    "\n",
    "Now, you just need to submit this assignment by uploading it to the course <a href=\"https://d2l.msu.edu/\">Desire2Learn</a> web page for today's dropbox (Don't forget to add your names in the first cell).\n"
   ]
  },
  {
   "cell_type": "markdown",
   "metadata": {},
   "source": [
    "&#169; Copyright 2018,  Michigan State University Board of Trustees"
   ]
  },
  {
   "cell_type": "code",
   "execution_count": null,
   "metadata": {},
   "outputs": [],
   "source": []
  }
 ],
 "metadata": {
  "kernelspec": {
   "display_name": "Python 3",
   "language": "python",
   "name": "python3"
  },
  "language_info": {
   "codemirror_mode": {
    "name": "ipython",
    "version": 3
   },
   "file_extension": ".py",
   "mimetype": "text/x-python",
   "name": "python",
   "nbconvert_exporter": "python",
   "pygments_lexer": "ipython3",
   "version": "3.7.1"
  }
 },
 "nbformat": 4,
 "nbformat_minor": 2
}
