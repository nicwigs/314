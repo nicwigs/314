{
 "cells": [
  {
   "cell_type": "markdown",
   "metadata": {},
   "source": [
    "## <p style=\"text-align: right;\"> &#9989; Put your name(s) here</p>"
   ]
  },
  {
   "cell_type": "markdown",
   "metadata": {},
   "source": [
    "You **NEED** to participate both individually and in groups in class to successfully complete this assignment and receive credits for it."
   ]
  },
  {
   "cell_type": "markdown",
   "metadata": {},
   "source": [
    "\n",
    "# In-Class Assignment: Diagonalization\n",
    "\n",
    "<img src=\"https://wikimedia.org/api/rest_v1/media/math/render/svg/62ab0ef52ecb1e1452efe6acf096923035c75f62\" width=\"50%\">\n",
    "<p style=\"text-align: right;\">Image from: https://en.wikipedia.org/wiki/Diagonalizable_matrix</p>\n",
    "\n",
    "    "
   ]
  },
  {
   "cell_type": "markdown",
   "metadata": {},
   "source": [
    "### Agenda for today's class (80 minutes)\n",
    "\n",
    "</p>\n",
    "\n",
    "1. (20 minutes) Pre-class Assignment Review\n",
    "1. (40 minutes) Diagonalization\n",
    "1. (20 minutes) The Power of a Matrix\n"
   ]
  },
  {
   "cell_type": "code",
   "execution_count": null,
   "metadata": {},
   "outputs": [],
   "source": [
    "%matplotlib inline\n",
    "import matplotlib.pylab as plt\n",
    "import numpy as np\n",
    "import sympy as sym\n",
    "sym.init_printing()"
   ]
  },
  {
   "cell_type": "markdown",
   "metadata": {},
   "source": [
    "---\n",
    "# 1. Pre-class Assignment Review"
   ]
  },
  {
   "cell_type": "markdown",
   "metadata": {},
   "source": [
    "[14--Diagonalization-pre-class-assignment](14--Diagonalization-pre-class-assignment.ipynb)"
   ]
  },
  {
   "cell_type": "markdown",
   "metadata": {},
   "source": [
    "# 2. Diagonalization"
   ]
  },
  {
   "cell_type": "markdown",
   "metadata": {},
   "source": [
    "## The eigenvalues of triangular (upper and lower) and diagonal matrices\n",
    "\n",
    "* The eigenvalues for triangular matrices are the diagonal elements.\n",
    "* The eigenvalues for the digonal matrices are the diagonal elements. "
   ]
  },
  {
   "cell_type": "markdown",
   "metadata": {},
   "source": [
    "## Diagonalization\n",
    "\n",
    "* We need to find $C$ from the (column) eigenvectors such that the following holds \n",
    "$$C^{-1}AC= D$$\n",
    "* $C$, $A$, and $D$ are $n\\times n$ matrices."
   ]
  },
  {
   "cell_type": "markdown",
   "metadata": {},
   "source": [
    "* Suppose that we have $n$ linearly independent eigenvectors of $A$. \n",
    "We put them in the columns of $C$ and we can computer $AC$.\n",
    "$$ AC=A\\begin{bmatrix} \\vdots  & \\vdots  & \\vdots  & \\vdots  \\\\ \\vdots  & \\vdots  & \\vdots  & \\vdots  \\\\ { x }_{ 1 } & { x }_{ 2 } & \\dots  & { x }_{ n } \\\\ \\vdots  & \\vdots  & \\vdots  & \\vdots  \\end{bmatrix}=\\begin{bmatrix} \\vdots  & \\vdots  & \\vdots  & \\vdots  \\\\ \\vdots  & \\vdots  & \\vdots  & \\vdots  \\\\ { { \\lambda  }_{ 1 }x }_{ 1 } & { \\lambda  }_{ 2 }{ x }_{ 2 } & \\dots  & { \\lambda  }_{ n }{ x }_{ n } \\\\ \\vdots  & \\vdots  & \\vdots  & \\vdots  \\end{bmatrix}=\\begin{bmatrix} \\vdots  & \\vdots  & \\vdots  & \\vdots  \\\\ \\vdots  & \\vdots  & \\vdots  & \\vdots  \\\\ { x }_{ 1 } & { x }_{ 2 } & \\dots  & { x }_{ n } \\\\ \\vdots  & \\vdots  & \\vdots  & \\vdots  \\end{bmatrix}\\begin{bmatrix} { \\lambda  }_{ 1 } & 0 & 0 & 0 \\\\ 0 & { \\lambda  }_{ 2 } & 0 & 0 \\\\ \\vdots  & \\vdots  & { \\dots  } & \\vdots  \\\\ 0 & 0 & 0 & { \\lambda  }_{ n } \\end{bmatrix}$$\n",
    "* This is equivalent to  \n",
    "$$ AC=CD $$\n",
    "\n",
    "* Because the columns of $C$ are linearly independent, we have that \n",
    "$$AC=CD \\\\ C^{-1}AC = D\\\\ A = CD C^{-1}$$\n",
    "\n",
    "* $A$ is saied to be *similar* to the diagonal matrix $D$, and the transformation of $A$ into $D$ is called a *similarity transformation*."
   ]
  },
  {
   "cell_type": "markdown",
   "metadata": {},
   "source": [
    "### A simple example\n",
    "\n",
    "We consider \n",
    "$$ A = \\begin{bmatrix}7& -10\\\\3& -4\\end{bmatrix},\\quad C = \\begin{bmatrix}2& 5\\\\1& 3\\end{bmatrix}$$"
   ]
  },
  {
   "cell_type": "markdown",
   "metadata": {},
   "source": [
    "&#9989;  <font color=red>** Do this:**</font> Find the similar matrix $C^{-1}AC$ of $A$."
   ]
  },
  {
   "cell_type": "code",
   "execution_count": null,
   "metadata": {},
   "outputs": [],
   "source": [
    "#Put your answer to the above question here."
   ]
  },
  {
   "cell_type": "markdown",
   "metadata": {},
   "source": [
    "&#9989;  <font color=red>** Do this:**</font> Find the eigenvalues and eigenvectos of $A$."
   ]
  },
  {
   "cell_type": "code",
   "execution_count": null,
   "metadata": {},
   "outputs": [],
   "source": [
    "#Put your answer to the above question here."
   ]
  },
  {
   "cell_type": "markdown",
   "metadata": {},
   "source": [
    "*Similar matrices have the same eigenvalues.*\n",
    " \n",
    " \n",
    "**Definition**: A square matrix $A$ is saied to be *diagonalizable* if there exist a matrix $C$ such that $D=C^{-1}AC$ is a diagonal matrix.\n",
    "\n",
    "What are the conditions for diagonalizable matrices.\n",
    "\n",
    "* If $A$ is diagonalizable, we have $C^{-1}AC=D$. It implies that \n",
    "$$AC = DC$$\n",
    "* We consider the columns of $C$, and we found that columns of $C$ are eigenvectors. \n",
    "* Because $C$ is invertable, the columns of $C$ are linear independent. \n",
    "* There are $A$ has $n$ linear independent eigenvectors."
   ]
  },
  {
   "cell_type": "markdown",
   "metadata": {},
   "source": [
    "### A second example\n",
    "\n",
    "&#9989;  <font color=red>** Do this:**</font> We consider \n",
    "$$ A = \\begin{bmatrix}-4& -6\\\\3& 5\\end{bmatrix}.$$\n",
    "Find a matrix $C$ such that $C^{-1}AC$ is diagonal."
   ]
  },
  {
   "cell_type": "code",
   "execution_count": null,
   "metadata": {},
   "outputs": [],
   "source": [
    "#Put your answer to the above question here."
   ]
  },
  {
   "cell_type": "markdown",
   "metadata": {},
   "source": [
    "### The third example\n",
    "\n",
    "&#9989;  <font color=red>** Do this:**</font> We consider \n",
    "$$ A = \\begin{bmatrix}5& -3\\\\3& -1\\end{bmatrix}.$$\n",
    "Can we find a matrix $C$ such that $C^{-1}AC$ is diagonal?"
   ]
  },
  {
   "cell_type": "code",
   "execution_count": null,
   "metadata": {},
   "outputs": [],
   "source": [
    "#Put your answer to the above question here."
   ]
  },
  {
   "cell_type": "markdown",
   "metadata": {},
   "source": [
    "## Dimensions of eigenspaces and diagonalization\n",
    "\n",
    "**Definition**: The set of all eigenvectors of a $n\\times n$ matrix corresponding to a eigenvalue $\\lambda$, together with the zero vector, is a subspace of $R^n$. This subspace spaces is called *eigenspace*.\n",
    "\n",
    "* For the third example, we have that the characteristic equation $(\\lambda-2)^2=0$.\n",
    "* Eigenvalue $\\lambda=2$ has multiplicity 2, but the eigenspace has dimension 1, since we can not find two lineare independent eigenvector for $\\lambda =2$. \n",
    "\n",
    "> The dimension of an eigenspace of a matrix is less than or equal to the multiplicity of the corresponding eigenvalue as a root of the characteristic equation.\n",
    "\n",
    "> A matrix is diagonalizable if and only if the dimension of every eigenspace is equal to the multiplicity of the corresponding eigenvalue as a root of the characteristic equation."
   ]
  },
  {
   "cell_type": "markdown",
   "metadata": {},
   "source": [
    "### The fourth example\n",
    "\n",
    "&#9989;  <font color=red>** Do this:**</font> We consider \n",
    "$$ A = \\begin{bmatrix}2& -1\\\\1& 2\\end{bmatrix}.$$\n",
    "Can we find a matrix $C$ such that $C^{-1}AC$ is diagonal?"
   ]
  },
  {
   "cell_type": "code",
   "execution_count": null,
   "metadata": {},
   "outputs": [],
   "source": [
    "#Put your answer to the above question here."
   ]
  },
  {
   "cell_type": "markdown",
   "metadata": {},
   "source": [
    "# 3. The Power of a Matrix\n",
    "\n",
    "* For a diagonalizable matrix $A$, we have $C^{-1}AC=D$. Then we have \n",
    "$$A = C D C^{-1}$$\n",
    "* We have \n",
    "$$A^2 = C D C^{-1} C D C^{-1} = C D^2 C^{-1}$$\n",
    "$$A^n = C D C^{-1} \\dots C D C^{-1} = C D^n C^{-1}$$\n",
    "* Because the columns of $C$ are eigenvectors, so we can say that the eigenvectors for $A$ and $A^n$ are the same if $A$ is diagonalizable. \n",
    "* If $x$ is an eigenvector of $A$ with the corresponding eigenvalue $\\lambda$, then $x$ is also an eigenvector of $A^n$ with the corresponding eigenvalue $\\lambda^n$."
   ]
  },
  {
   "cell_type": "markdown",
   "metadata": {},
   "source": [
    "### Fibonacci numbers\n",
    "\n",
    "* The Fibonacci numbers are: $0, 1, 1, 2, 3, 5, 8, 13, \\dots$\n",
    "* The next number is the sum of the previous two numbers \n",
    "$$0+ 1 = 1 \\\\ 1+ 1 =2 \\\\ 2 +3 = 5\\\\ 3+5 =8$$\n",
    "* Say that $F_1=0$, $F_2=1$, $F_3=1$, how can we compute $F_{1000}$ without using the for loop."
   ]
  },
  {
   "cell_type": "markdown",
   "metadata": {},
   "source": [
    "* Because the equation \n",
    "$$F_{k+2} = F_{k+1} + F_{k}$$\n",
    "involve the previous two number. We can introduce an addition equation \n",
    "$$F_{k+1} = F_{k+1}$$.\n",
    "* Then we have \n",
    "$$ \\begin{bmatrix} {F}_{k+2} \\\\ {F}_{k+1} \\end{bmatrix} =\\begin{bmatrix} 1 & 1 \\\\ 1 & 0 \\end{bmatrix} \\begin{bmatrix} {F}_{k+1} \\\\ {F}_{k} \\end{bmatrix}=\\begin{bmatrix} {F}_{k+1}+{F}_{k} \\\\ {F}_{k+1} \\end{bmatrix} $$\n",
    "* Let \n",
    "$$A = \\begin{bmatrix} 1 & 1 \\\\ 1 & 0 \\end{bmatrix},$$ \n",
    "then we have \n",
    "$$ \\begin{bmatrix} {F}_{k+2} \\\\ {F}_{k+1} \\end{bmatrix} =A\\begin{bmatrix} {F}_{k+1} \\\\ {F}_{k} \\end{bmatrix}=  A^2\\begin{bmatrix} {F}_{k} \\\\ {F}_{k-1}\\end{bmatrix} = \\dots = A^k\\begin{bmatrix} {F}_{2} \\\\ {F}_{1} \\end{bmatrix}  $$\n",
    "\n",
    "\n",
    "&#9989;  <font color=red>** Do this:**</font> Use the matrix diagonalization to solve this problem and find $F_{100}$."
   ]
  },
  {
   "cell_type": "code",
   "execution_count": null,
   "metadata": {},
   "outputs": [],
   "source": [
    "#Put your answer to the above question here."
   ]
  },
  {
   "cell_type": "markdown",
   "metadata": {},
   "source": [
    "### 2-Fibonacci numbers (Pell sequence)\n",
    "\n",
    "* The Fibonacci numbers are: $0, 1, 2, 5, 12, 29, 70, 169, \\dots$\n",
    "* We found that \n",
    "$$0+ 2*1 = 2 \\\\ 1+ 2*2 =5 \\\\ 2 +2*5 = 12\\\\ 5+2*12 =29$$\n",
    "\n",
    "* Say that $F_1=0$, $F_2=1$, compute $F_{1000}$ without using the for loop.\n",
    "\n",
    "&#9989;  <font color=red>** Do this:**</font> Use the matrix diagonalization to solve this problem and find $F_{100}$."
   ]
  },
  {
   "cell_type": "code",
   "execution_count": null,
   "metadata": {},
   "outputs": [],
   "source": [
    "#Put your answer to the above question here."
   ]
  },
  {
   "cell_type": "markdown",
   "metadata": {},
   "source": [
    "-----\n",
    "### Congratulations, we're almost done!\n",
    "\n",
    "Now, you just need to submit this assignment by uploading it to the course <a href=\"https://d2l.msu.edu/\">Desire2Learn</a> web page for today's dropbox (Don't forget to add your names in the first cell).\n"
   ]
  },
  {
   "cell_type": "markdown",
   "metadata": {},
   "source": [
    "&#169; Copyright 2018,  Michigan State University Board of Trustees"
   ]
  }
 ],
 "metadata": {
  "kernelspec": {
   "display_name": "Python 3",
   "language": "python",
   "name": "python3"
  },
  "language_info": {
   "codemirror_mode": {
    "name": "ipython",
    "version": 3
   },
   "file_extension": ".py",
   "mimetype": "text/x-python",
   "name": "python",
   "nbconvert_exporter": "python",
   "pygments_lexer": "ipython3",
   "version": "3.6.5"
  }
 },
 "nbformat": 4,
 "nbformat_minor": 1
}
