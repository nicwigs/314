{
 "cells": [
  {
   "cell_type": "markdown",
   "metadata": {},
   "source": [
    "## <p style=\"text-align: right;\"> &#9989; Put your name(s) here</p>"
   ]
  },
  {
   "cell_type": "markdown",
   "metadata": {},
   "source": [
    "You **NEED** to participate both individually and in groups in class to successfully complete this assignment and receive credits for it."
   ]
  },
  {
   "cell_type": "markdown",
   "metadata": {},
   "source": [
    "# In-Class Assignment: Singular Value Decomposition\n",
    "\n",
    "<img src=\"https://upload.wikimedia.org/wikipedia/commons/thumb/b/bb/Singular-Value-Decomposition.svg/1024px-Singular-Value-Decomposition.svg.png\" width='40%'>\n",
    "From: https://en.wikipedia.org/wiki/Singular_value_decomposition"
   ]
  },
  {
   "cell_type": "markdown",
   "metadata": {},
   "source": [
    "### Agenda for today's class (80 minutes)\n",
    "\n",
    "</p>\n",
    "\n",
    "1. (20 minutes) Pre-Class Assignment Review\n",
    "1. (20 minutes) Singular Value Decomposition\n",
    "1. (40 minutes) Using SVD for Dimensionality Reduction"
   ]
  },
  {
   "cell_type": "markdown",
   "metadata": {},
   "source": [
    "----\n",
    "# 1. SVD Pre-Class Assignment Review\n",
    "\n",
    "[15--SVD-pre-class-assignment](15--SVD-pre-class-assignment.ipynb)\n",
    "\n",
    "<img src=\"https://slideplayer.com/slide/4792782/15/images/9/The+Singular+Value+Decomposition.jpg\" width=\"70%\">"
   ]
  },
  {
   "cell_type": "markdown",
   "metadata": {},
   "source": [
    "----\n",
    "# 2. Singular Value Decomposition\n",
    "\n",
    "In the pre-class assignement, we computed the matrices $U$ and $V$ from the eigendecomposition of $AA^\\top$ and $A^\\top A$, and the matrix $\\Sigma$ comes from the eigenvalues of $A^\\top A$ or $AA^\\top$. Here, we would like to explain why we can do this. \n",
    "\n",
    "* We have $AA^\\top = UD_1U^\\top$ because $AA^\\top$ is symmetric positive semidefinite. All diagonal elements in $D_1$ are nonnegative. Let $U=[u_1,\\dots, u_m]$\n",
    "* We have $A^\\top A = VD_2V^\\top$ because $A^\\top A$ is symmetric positive semidefinite. All diagonal elements in $D_2$ are nonnegative. Note the size of $D_1$ may not be the same. $D_1$ has size $m\\times m$, and $D_2$ has size $n\\times n$. Let $V=[v_1,\\dots, v_m]$\n",
    "* WLOG, we assume that the diagonal elements of $D_1$ and $D_2$ are in decreasing order. That is $\\sigma_1^2\\geq \\sigma_2^2\\geq \\dots \\geq \\sigma_r^2$, where $r$ is the rank of the matrix.\n",
    "* Assume that $v_1$ is the unit eigenvector of $A^\\top A$ corresponding to the eigenvalue $\\sigma_1^2$. That is \n",
    "$$A^\\top A v_1 = \\sigma^2 v_1$$\n",
    "Multiply $A$ to the left and we have \n",
    "$$AA^\\top A v_1 = \\sigma^2 Av_1$$\n",
    "That is $Av_1$ is an eigenvector of $AA^\\top$ corresponding to $\\sigma_1^2$.\n",
    "* We measure the length of $Av_1$. \n",
    "$$(Av_1)\\cdot (Av_1) = v_1 A^\\top A v_1 = v_1 \\cdot \\sigma_1^2 v_1 = \\sigma_1^2$$\n",
    "That is $\\|Av_1\\|=\\sigma_1$, and ${1\\over\\sigma_1}Av_1$ is an unit eigenvector of $AA^\\top$ corresponding to $\\sigma_1^2$.\n",
    "* That is ${1\\over \\sigma_1}Av_1=\\pm u_1$. Since we can change the sign for $u$, we let $u_1={1\\over \\sigma_1}Av_1$.\n",
    "* Doing this from $\\sigma_1$ to $\\sigma_r$, we have \n",
    "$$[u_1, \\cdots, u_r] = A [v_1,\\cdots,v_r] \\Sigma_{r\\times r}^{-1}$$\n",
    "where $\\Sigma_{r\\times r}$ is the diagonal matrix with elements $\\sigma_1,\\dots,\\sigma_r$.\n",
    "* We have the simplified version: \n",
    "$$A=[u_1, \\cdots, u_r] \\Sigma_{r\\times r} [v_1,\\cdots,v_r]^\\top$$\n",
    "* By completing the orthogonal matrix, we have the full version. \n",
    "$$A = U \\Sigma V^\\top$$\n"
   ]
  },
  {
   "cell_type": "markdown",
   "metadata": {},
   "source": [
    "----\n",
    "# 3. Using SVD for dimensionality reduction\n",
    "\n",
    "<img src=\"https://cdn.thinglink.me/api/image/455884818001952770/1240/10/scaletowidth\" width=\"30%\">\n",
    "\n",
    "\n",
    "\n",
    "The following code reads an image file from a website, discards the red and blue channels, and pulls out the 'green' component of the image in a numpy matrix called $A$. \n",
    "We will treat this numpy array as a grayscale image. "
   ]
  },
  {
   "cell_type": "code",
   "execution_count": null,
   "metadata": {},
   "outputs": [],
   "source": [
    "# Here are some libraries you may need to use\n",
    "%matplotlib inline\n",
    "import matplotlib.pylab as plt\n",
    "import numpy as np\n",
    "import sympy as sym\n",
    "import math\n",
    "sym.init_printing()"
   ]
  },
  {
   "cell_type": "code",
   "execution_count": null,
   "metadata": {
    "scrolled": false
   },
   "outputs": [],
   "source": [
    "from urllib.request import urlopen, urlretrieve\n",
    "import imageio\n",
    "\n",
    "url = 'https://cdn.thinglink.me/api/image/455884818001952770/1240/10/scaletowidth'\n",
    "file = '.flags.jpeg'\n",
    "\n",
    "urlretrieve(url, file);\n",
    "\n",
    "im = imageio.imread(file)\n",
    "\n",
    "A = np.matrix(im[:,:,1])\n",
    "plt.imshow(A, cmap='gray');"
   ]
  },
  {
   "cell_type": "markdown",
   "metadata": {},
   "source": [
    "## Step 1: Singular Value Decomposition\n",
    "The following code does a singular value decomposition (SVD) of the image matrix $A$. \n",
    "\n",
    "$$A = U\\Sigma V^T$$\n",
    "\n",
    "**Note:** This may take a while.......hopefully you should only need to do this once..."
   ]
  },
  {
   "cell_type": "code",
   "execution_count": null,
   "metadata": {},
   "outputs": [],
   "source": [
    "%%time\n",
    "import scipy.linalg as la\n",
    "\n",
    "U, e, Vt = np.linalg.svd(A)"
   ]
  },
  {
   "cell_type": "code",
   "execution_count": null,
   "metadata": {
    "scrolled": false
   },
   "outputs": [],
   "source": [
    "U = np.matrix(U)\n",
    "U.shape"
   ]
  },
  {
   "cell_type": "code",
   "execution_count": null,
   "metadata": {},
   "outputs": [],
   "source": [
    "e.shape"
   ]
  },
  {
   "cell_type": "code",
   "execution_count": null,
   "metadata": {},
   "outputs": [],
   "source": [
    "Vt = np.matrix(Vt)\n",
    "Vt.shape"
   ]
  },
  {
   "cell_type": "markdown",
   "metadata": {},
   "source": [
    "<font color=red>** QUESTION:**</font> Remember that the scipy ```svd``` function returns $U$, a vector of singular values ($\\sigma$) and the transpose of $V$.  Verify the success of the decomposition by regenerating $A$ from the calculated components and comparing the regenerated $A$ to the original image $A$ using the numpy ```allclose``` function."
   ]
  },
  {
   "cell_type": "code",
   "execution_count": null,
   "metadata": {},
   "outputs": [],
   "source": [
    "#Put your answer here \n",
    "# You need to create a matrix of the same size of $A$ with diagonal elements from the singular values, \n",
    "# while all other values being zero.\n",
    "\n",
    "S = \n",
    "\n",
    "S.shape\n"
   ]
  },
  {
   "cell_type": "code",
   "execution_count": null,
   "metadata": {},
   "outputs": [],
   "source": [
    "new_im = U*S*Vt"
   ]
  },
  {
   "cell_type": "markdown",
   "metadata": {},
   "source": [
    "<font color=red>** QUESTION:**</font> We use the np.allclose function instead of a simple python equality (==) to account for small errors in calculation. Where do these errors come from?  "
   ]
  },
  {
   "cell_type": "markdown",
   "metadata": {},
   "source": [
    "<font size=8 color=\"#009600\">&#9998;</font> Do This - Erase the contents of this cell and replace it with your answer to the above question!  (double-click on this text to edit this cell, and hit shift+enter to save the text)"
   ]
  },
  {
   "cell_type": "markdown",
   "metadata": {},
   "source": [
    "## Step 2: Removing small singular values."
   ]
  },
  {
   "cell_type": "markdown",
   "metadata": {},
   "source": [
    "We are now going to make a new image but only keep the $N$ biggest singular values while setting all of the rest to zero. First we define a new vector (```s```) consisting of the first $N=10$ singular values:"
   ]
  },
  {
   "cell_type": "code",
   "execution_count": null,
   "metadata": {
    "scrolled": false
   },
   "outputs": [],
   "source": [
    "#Put your answer here"
   ]
  },
  {
   "cell_type": "markdown",
   "metadata": {},
   "source": [
    "Now lets remake the $\\Sigma$ matrix using $s$. We will call this new $\\Sigma$ matrix ```S``` (capital ```S```). We will use ```S``` to generate a new image and show the rsults:"
   ]
  },
  {
   "cell_type": "code",
   "execution_count": null,
   "metadata": {
    "scrolled": false
   },
   "outputs": [],
   "source": [
    "# Sigma matrix should be the same size as the original A matrix with mostly zero values\n",
    "S = np.zeros(A.shape)\n",
    "\n",
    "# The upper left diagonal of the Sigma matrix should be the singular values\n",
    "S[:len(s), :len(s)] = np.diag(s)\n",
    "\n",
    "#Compressed image\n",
    "I = U*S*Vt\n",
    "\n",
    "plt.imshow(I, cmap='gray')"
   ]
  },
  {
   "cell_type": "markdown",
   "metadata": {},
   "source": [
    "We can plot the difference between the original image and the image generated with only 10 singular values. This represents the error in the image at each pixel."
   ]
  },
  {
   "cell_type": "code",
   "execution_count": null,
   "metadata": {
    "scrolled": false
   },
   "outputs": [],
   "source": [
    "plt.imshow(A-I)"
   ]
  },
  {
   "cell_type": "markdown",
   "metadata": {},
   "source": [
    "The following calculates the root mean squared error for the image"
   ]
  },
  {
   "cell_type": "code",
   "execution_count": null,
   "metadata": {},
   "outputs": [],
   "source": [
    "rmse = np.sqrt(((np.array(A)  - np.array(I)) ** 2).mean())\n",
    "rmse"
   ]
  },
  {
   "cell_type": "markdown",
   "metadata": {},
   "source": [
    "Although 10 values seems like a good number, you can really see some distortion in the second image. \n",
    "We want to find a better number for $N$. \n",
    "The following code makes a plot of the singular values to get an idea of the scale. \n",
    "Note that this plot has a $y$-axis that is logarithmic. "
   ]
  },
  {
   "cell_type": "code",
   "execution_count": null,
   "metadata": {
    "scrolled": false
   },
   "outputs": [],
   "source": [
    "plt.plot(e)\n",
    "plt.gca().set_yscale('log')\n",
    "plt.xlabel('index')\n",
    "plt.ylabel('singular value')"
   ]
  },
  {
   "cell_type": "markdown",
   "metadata": {},
   "source": [
    "<font color=red>** Question 4.c:**</font> Next, modify the code in **Step 2** to pick a different value for $N$ such that it is hard to tell the difference between the new image and the original image. \n",
    "Try to make this $N$ as small as possible. \n",
    "Describe The procedure you used to come up with a new value for $N$.  "
   ]
  },
  {
   "cell_type": "markdown",
   "metadata": {},
   "source": [
    "<font size=8 color=\"#009600\">&#9998;</font> Do This - Erase the contents of this cell and replace it with your answer to the above question!  (double-click on this text to edit this cell, and hit shift+enter to save the text)"
   ]
  },
  {
   "cell_type": "markdown",
   "metadata": {},
   "source": [
    "## Step 3: Compression\n",
    "\n",
    "The reason we set a bunch of singular values to zero is to save memory to store this image. \n",
    "However, so far we haven't saved anything. \n",
    "We can make an estimation of storage of the original image $A$ by multiplying the number of the rows by the number of columns (i.e this is how many numbers we need to store to recreate the image):"
   ]
  },
  {
   "cell_type": "code",
   "execution_count": null,
   "metadata": {},
   "outputs": [],
   "source": [
    "A.shape[0]*A.shape[1]"
   ]
  },
  {
   "cell_type": "markdown",
   "metadata": {},
   "source": [
    "Our new SVD representation requires even more space to store the same information!"
   ]
  },
  {
   "cell_type": "code",
   "execution_count": null,
   "metadata": {
    "scrolled": false
   },
   "outputs": [],
   "source": [
    "U.shape[0]*U.shape[1] + len(s) + Vt.shape[0] * Vt.shape[1]"
   ]
  },
  {
   "cell_type": "markdown",
   "metadata": {},
   "source": [
    "However, the trick is that singular values of zero  don't add anything to the calculation and the zeros propagate  though the math.  We can now make a new set of matrices, ```U1```,  ```S1```, and ```V1``` which are much smaller than ```U```, ```e```, ```Vt``` because we can remove the rows and columns that turn out to be zero in the math. \n",
    "\n",
    "That means we can choose the simplified version. "
   ]
  },
  {
   "cell_type": "code",
   "execution_count": null,
   "metadata": {},
   "outputs": [],
   "source": [
    "U1 = np.matrix(U[:,:len(s)])\n",
    "S1 = np.diag(s)\n",
    "Vt1 = np.matrix(Vt[:len(s),:])\n",
    "\n",
    "#Compressed image\n",
    "I = U1*S1*Vt1\n",
    "\n",
    "plt.imshow(I, cmap='gray')"
   ]
  },
  {
   "cell_type": "markdown",
   "metadata": {},
   "source": [
    "<font color=red>** QUESTION:**</font> How much space is required to store ```U1```, ```s```, and ```Vt1```? "
   ]
  },
  {
   "cell_type": "code",
   "execution_count": null,
   "metadata": {},
   "outputs": [],
   "source": [
    "## Put your answer here"
   ]
  },
  {
   "cell_type": "markdown",
   "metadata": {},
   "source": [
    "<font color=red>** QUESTION:**</font> If everything from above is correct, then we demonstrated that converting an image to a reduced SVD format will save in memory storage. Describe at least two disadvantages of using SVD for image compression."
   ]
  },
  {
   "cell_type": "markdown",
   "metadata": {},
   "source": [
    "<font size=8 color=\"#009600\">&#9998;</font> Do This - Erase the contents of this cell and replace it with your answer to the above question!  (double-click on this text to edit this cell, and hit shift+enter to save the text)"
   ]
  },
  {
   "cell_type": "markdown",
   "metadata": {},
   "source": [
    "-----\n",
    "### Congratulations, we're almost done!\n",
    "\n",
    "Now, you just need to submit this assignment by uploading it to the course <a href=\"https://d2l.msu.edu/\">Desire2Learn</a> web page for today's dropbox (Don't forget to add your names in the first cell).\n"
   ]
  },
  {
   "cell_type": "markdown",
   "metadata": {},
   "source": [
    "&#169; Copyright 2018,  Michigan State University Board of Trustees"
   ]
  }
 ],
 "metadata": {
  "kernelspec": {
   "display_name": "Python 3",
   "language": "python",
   "name": "python3"
  },
  "language_info": {
   "codemirror_mode": {
    "name": "ipython",
    "version": 3
   },
   "file_extension": ".py",
   "mimetype": "text/x-python",
   "name": "python",
   "nbconvert_exporter": "python",
   "pygments_lexer": "ipython3",
   "version": "3.6.5"
  }
 },
 "nbformat": 4,
 "nbformat_minor": 1
}
