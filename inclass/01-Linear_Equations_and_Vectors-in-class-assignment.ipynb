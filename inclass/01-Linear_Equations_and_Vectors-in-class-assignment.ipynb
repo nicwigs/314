{
 "cells": [
  {
   "cell_type": "markdown",
   "metadata": {},
   "source": [
    "Nic Wiggins"
   ]
  },
  {
   "cell_type": "markdown",
   "metadata": {},
   "source": [
    "<p style=\"text-align: right;\">\n",
    "To successfully complete this assignment, you need to participate both individually and in groups during class on **Thursday Jan. 10th**.\n",
    "</p>"
   ]
  },
  {
   "cell_type": "markdown",
   "metadata": {},
   "source": [
    "# In-Class Assignment: Solving Systems of Linear Equations\n",
    "\n",
    "<img src=\"http://profilerehab.com/facebook_covers/groundhog_day/groundhog_day_images_3.jpg\" alt=\"Picture of groundhog day movie poster. \">\n"
   ]
  },
  {
   "cell_type": "markdown",
   "metadata": {},
   "source": [
    "### Agenda for today's class (80 minutes)\n",
    "\n",
    "</p>\n",
    "\n",
    "1. (20 minutes) Overview of Linear Systems\n",
    "1. (20 minutes) Review Pre-class Assignment\n",
    "1. (20 minutes) Jacobi Method for solving Linear Systems\n",
    "1. (20 minutes) Numerical Error"
   ]
  },
  {
   "cell_type": "markdown",
   "metadata": {},
   "source": [
    "# 1. Overview of Linear Systems\n",
    "\n",
    "In mathematics, a linear combination is an expression constructed from a set of terms (e.g., $x_1,x_2,\\dots,x_n$) by multiplying each term by a constant and adding the results together.  One example is:\n",
    "\n",
    "$$a_1x_1 +a_2x_2 +a_3x_3 + \\dots +a_nx_n$$\n",
    "\n",
    "A function or operation is **linear** if scaling inputs scales the output, and adding inputs adds the outputs.  In other words a function $F(x)$ is linear if the following two rules are true:\n",
    "\n",
    "**LINEAR RULES:**\n",
    "$$F(cx) = cF(x)$$\n",
    "$$F(x+y) = F(x)+F(y)$$\n",
    "\n",
    "\n",
    "Consider the example depicted in the image above for getting a piano up a ramp. For every 3 horizontal feet of motion would result in a 1 foot rise.We can describe this as a simple function:\n",
    "$$F(x) = x/3$$"
   ]
  },
  {
   "cell_type": "markdown",
   "metadata": {},
   "source": [
    " **Do This:**  As a group, use the white board to show/prove that $F(x) = x/3$ is linear.\n",
    "$$ cx/3 = c*(x/3) $$\n",
    "$$ (a+b)/3 = a/3 + b/3 $$"
   ]
  },
  {
   "cell_type": "markdown",
   "metadata": {},
   "source": [
    "Now consider another function:\n",
    "$$F(x) = 2x + 2x^2$$\n",
    "\n",
    " **Do This:**  As a group, use the white board to show/prove that $F(x) = 2x + 2x^2$ is not Linear.\n",
    " \n",
    "$$ 2*(cx) + 2*(cx)^2  = 2cx + 2c^2x^2 !=  c(2x + 2x^2) $$"
   ]
  },
  {
   "cell_type": "markdown",
   "metadata": {},
   "source": [
    "**Note:** Be prepared to discuss your reasoning with the class. "
   ]
  },
  {
   "cell_type": "markdown",
   "metadata": {},
   "source": [
    "---\n",
    "# 2. Pre-class Assignment Review\n",
    "\n",
    "\n",
    "[Pre-Class Assignment](./01--Linear_Equations_and_Vectors-pre-class-assignment.ipynb)"
   ]
  },
  {
   "cell_type": "markdown",
   "metadata": {},
   "source": [
    "----\n",
    "# 3. Jacobi Method for Solving Linear Systems\n",
    "\n",
    "As a group, we will write an iterative method (named after Jacobi) to solve the following system of equations:\n",
    "\n",
    "$$ 6x + 2y - z = 4$$\n",
    "$$ x + 5y + z = 3$$\n",
    "$$ 2x + y + 4z = 27$$\n",
    "\n",
    "Here is a basic outline of the Jacobi method:\n",
    "\n",
    "1. Initialize each of the variables to zero ($x_0 = 0, y_0 = 0, z_0 = 0$) \n",
    "2. Calculate the next iteration using the above equations and the values from the previous iteration. For example the formula for calculating $x_i$ from $y_{(i-1)}$ and $z_{(i-1)}$ is:\n",
    "    $$x_i = \\frac{4 - 2y_{(i-1)} + z_{(i-1)}}{6} $$\n",
    "3. Increment the iteration count $(i = i + 1)$ and repeat step 2.\n",
    "4. Stop when the iteration \"converges\" or a maximum number (ex. 100) of iterations has been reached.\n",
    "\n",
    "**IMPORTANT NOTE:** This method does not work for all systems of linear equations.  From **Theorem 7.1** in the book, we know that the Jacobi method can be used when the absolute value of the diagonal element of each row **dominate** the sum of the absolute values for the other elements in the same row. "
   ]
  },
  {
   "cell_type": "markdown",
   "metadata": {},
   "source": [
    " **Do This:** On a paper, write out the equations for $x_i, y_i$, and $z_i$ based on $x_{(i-1)}, y_{(i-1)}$, and $z_{(i-1)}$.  Show your answer to an instructor:\n",
    " \n",
    " $$x_i = \\frac{4 - 2y_{(i-1)} + z_{(i-1)}}{6} $$\n",
    " $$y_i = \\frac{3 - x_{(i-1)} - z_{(i-1)}}{5} $$\n",
    " $$z_i = \\frac{27 - 2x_{(i-1)} - y_{(i-1)}}{4} $$\n",
    "\n"
   ]
  },
  {
   "cell_type": "markdown",
   "metadata": {},
   "source": [
    "We recommend that you copy and paste the answer your group came up with here for your notes."
   ]
  },
  {
   "cell_type": "markdown",
   "metadata": {},
   "source": [
    " **To This:** Complete the following code by adding formulas for $y_i$ and $z_i$ to solve the above equations using the Jacobi method.  "
   ]
  },
  {
   "cell_type": "code",
   "execution_count": 1,
   "metadata": {
    "scrolled": false
   },
   "outputs": [
    {
     "data": {
      "text/plain": [
       "<matplotlib.legend.Legend at 0x7ff2378cf438>"
      ]
     },
     "execution_count": 1,
     "metadata": {},
     "output_type": "execute_result"
    },
    {
     "data": {
      "image/png": "[encoded data removed]",
      "text/plain": [
       "<Figure size 432x288 with 1 Axes>"
      ]
     },
     "metadata": {},
     "output_type": "display_data"
    }
   ],
   "source": [
    "%matplotlib inline\n",
    "import matplotlib.pylab as plt\n",
    "\n",
    "x = []\n",
    "y = []\n",
    "z = []\n",
    "\n",
    "#step 1: inicialize to zero\n",
    "x.append(0)\n",
    "y.append(0)\n",
    "z.append(0)\n",
    "\n",
    "for i in range(1,100):\n",
    "    xi = (4 - 2*y[i-1]+ z[i-1])/6\n",
    "    yi = (3 - x[i-1] - z[i-1])/5\n",
    "    zi = (27-2*x[i-1] - y[i-1])/4\n",
    "    \n",
    "    #Add latest value to history\n",
    "    x.append(xi)\n",
    "    y.append(yi)\n",
    "    z.append(zi)\n",
    "\n",
    "#Plot History of values\n",
    "plt.plot(x, label='x')\n",
    "plt.plot(y, label='y')\n",
    "plt.plot(z, label='z')\n",
    "plt.xlabel('Iteration')\n",
    "plt.ylabel('Value')\n",
    "plt.legend(loc=1)"
   ]
  },
  {
   "cell_type": "markdown",
   "metadata": {},
   "source": [
    "**Question:** What are the final values for $x,y$ and $z$?\n",
    "\n",
    "$$x = 2$$\n",
    "$$y = -1$$\n",
    "$$z = 6$$"
   ]
  },
  {
   "cell_type": "markdown",
   "metadata": {},
   "source": [
    "  **DO THIS:** Write out each of the above equations and show that your final result is a solution to the system of equations:"
   ]
  },
  {
   "cell_type": "code",
   "execution_count": 4,
   "metadata": {},
   "outputs": [
    {
     "data": {
      "text/plain": [
       "True"
      ]
     },
     "execution_count": 4,
     "metadata": {},
     "output_type": "execute_result"
    }
   ],
   "source": [
    "x = 2\n",
    "y = -1\n",
    "z = 6\n",
    "\n",
    "(6*x + 2*y - z == 4) and (x + 5*y + z == 3) and (2*x + y + 4*z == 27)"
   ]
  },
  {
   "cell_type": "markdown",
   "metadata": {},
   "source": [
    "**Quesiton:** By inspecting the graph, how mang iterations did it take for the algorithum to converge to a solution?  "
   ]
  },
  {
   "cell_type": "markdown",
   "metadata": {},
   "source": [
    "About 5 or 6"
   ]
  },
  {
   "cell_type": "markdown",
   "metadata": {},
   "source": [
    "**Question:** Discuss in your group, how you could rewrite the above code to stop early.  "
   ]
  },
  {
   "cell_type": "markdown",
   "metadata": {},
   "source": [
    "Once all values converge, when the previous value is the same as the new value within a certain tolerance"
   ]
  },
  {
   "cell_type": "markdown",
   "metadata": {},
   "source": [
    "# 4. Numerical Error\n",
    "\n",
    "In your group, discuss the following statement and answer the following questions."
   ]
  },
  {
   "cell_type": "code",
   "execution_count": 17,
   "metadata": {},
   "outputs": [
    {
     "data": {
      "text/plain": [
       "False"
      ]
     },
     "execution_count": 17,
     "metadata": {},
     "output_type": "execute_result"
    }
   ],
   "source": [
    "0.1 + 0.2 == 0.3"
   ]
  },
  {
   "cell_type": "markdown",
   "metadata": {},
   "source": [
    "**Question:** Why does python return **FALSE** even though the above statement is clearly true?"
   ]
  },
  {
   "cell_type": "markdown",
   "metadata": {},
   "source": [
    "floating point error, since storing in finite number of bits"
   ]
  },
  {
   "cell_type": "markdown",
   "metadata": {},
   "source": [
    "**Question:** If Python is sometimes wrong, why do we use it? "
   ]
  },
  {
   "cell_type": "markdown",
   "metadata": {},
   "source": [
    "All languages have this issue"
   ]
  },
  {
   "cell_type": "markdown",
   "metadata": {},
   "source": [
    "**Question:**  What can you do to watch out for these types of errors?  "
   ]
  },
  {
   "cell_type": "markdown",
   "metadata": {},
   "source": [
    "Check floating point values within a given threshold"
   ]
  },
  {
   "cell_type": "markdown",
   "metadata": {},
   "source": [
    "**Question:**  Modify the following program to return **TRUE** if the values are within some small number (```e```) of each other."
   ]
  },
  {
   "cell_type": "code",
   "execution_count": 9,
   "metadata": {},
   "outputs": [
    {
     "data": {
      "text/plain": [
       "True"
      ]
     },
     "execution_count": 9,
     "metadata": {},
     "output_type": "execute_result"
    }
   ],
   "source": [
    "def checktrue(a,b,e=0.001):\n",
    "    return abs(a-b) < e\n",
    "\n",
    "#Test function\n",
    "checktrue(0.1+0.2, 0.3)"
   ]
  },
  {
   "cell_type": "markdown",
   "metadata": {},
   "source": [
    "**Question**: What is a good value for ```e```? Why?"
   ]
  },
  {
   "cell_type": "markdown",
   "metadata": {},
   "source": [
    "Depends on what your using it for, a few places past your smallest place"
   ]
  },
  {
   "cell_type": "markdown",
   "metadata": {},
   "source": [
    "**Question**: The errors seen in this example seem like they would be fairly common in python.  See if you can find a function in ```Numpy``` that has the same purpose as  ```checktrue```:"
   ]
  },
  {
   "cell_type": "markdown",
   "metadata": {},
   "source": [
    "numpy.isclose()"
   ]
  },
  {
   "cell_type": "markdown",
   "metadata": {},
   "source": [
    "-----\n",
    "### Congratulations, we're done!\n",
    "\n",
    "Now, you just need to submit this assignment by uploading it to the course <a href=\"https://d2l.msu.edu/\">Desire2Learn</a> web page for today's dropbox (Don't forget to add your names in the first cell).\n"
   ]
  },
  {
   "cell_type": "markdown",
   "metadata": {},
   "source": [
    "&#169; Copyright 2018-2019,  Michigan State University Board of Trustees"
   ]
  }
 ],
 "metadata": {
  "kernelspec": {
   "display_name": "Python 3",
   "language": "python",
   "name": "python3"
  },
  "language_info": {
   "codemirror_mode": {
    "name": "ipython",
    "version": 3
   },
   "file_extension": ".py",
   "mimetype": "text/x-python",
   "name": "python",
   "nbconvert_exporter": "python",
   "pygments_lexer": "ipython3",
   "version": "3.6.5"
  }
 },
 "nbformat": 4,
 "nbformat_minor": 2
}
