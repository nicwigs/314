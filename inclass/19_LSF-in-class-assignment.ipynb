{
 "cells": [
  {
   "cell_type": "markdown",
   "metadata": {},
   "source": [
    "## <p style=\"text-align: right;\"> &#9989; Nic Wiggins </p>"
   ]
  },
  {
   "cell_type": "markdown",
   "metadata": {},
   "source": [
    "You **NEED** to participate both individually and in groups in class to successfully complete this assignment and receive credits for it."
   ]
  },
  {
   "cell_type": "markdown",
   "metadata": {},
   "source": [
    "# In-Class Assignment: Least Squares Fit (LSF)\n",
    "\n",
    "<img src=\"https://goo.gl/urheBA\" width=\"50%\">\n",
    "</p>\n"
   ]
  },
  {
   "cell_type": "markdown",
   "metadata": {},
   "source": [
    "### Agenda for today's class (80 minutes)\n",
    "\n",
    "</p>\n",
    "1. (20 minutes) LSF Pre-class Review\n",
    "1. (30 minutes) Finding the best solution in an overdetermined system\n",
    "1. (30 minutes) Pseudoinverse"
   ]
  },
  {
   "cell_type": "markdown",
   "metadata": {},
   "source": [
    "---\n",
    "# 1. LSF Pre-class Review\n",
    "[17--LSF-pre-class-assignment](../preclass/19--LSF-pre-class-assignment.ipynb)"
   ]
  },
  {
   "cell_type": "markdown",
   "metadata": {},
   "source": [
    "----\n",
    "\n",
    "# 2. Finding the best solution in an overdetermined system\n",
    "\n",
    "Let $Ax = y$ be a system of $m$ linear equations in $n$ variables. A *least squares solution* of $Ax = y$ is an element $\\hat{x}$ in $R^n$ such that:\n",
    "\n",
    "$$ \\min_{\\hat{x}}~\\|y - A\\hat{x}\\|.$$\n",
    "\n",
    "In other words, $\\hat{x}$ is a value of $x$ for which $Ax$ is as close as possible to $b$. From previous lectures, we know this to be true if the vector $$y - A\\hat{x}$$ is orthogonal (perpendicular) to the column space of $A$.\n",
    "\n",
    "We also know that the dot product is zero if two vectors are orthogonal. So we have  \n",
    "$$a_1 \\cdot (Ax - y)  = 0, $$\n",
    "for all $a_1$ in the column spaces of $A$.\n",
    "\n",
    "The columns of $A$ span the column space of $A$. Denote the columns of $A$ as \n",
    "$$A = [a_1, \\cdots, a_n].$$ \n",
    "Then we have \n",
    "$$a_1^\\top (Ax - y)  = 0, \\\\ a_2^\\top(Ax-y)=0\\\\\\vdots \\\\a_n^\\top(Ax-y)=0.$$\n",
    "It is the same as taking the transpose of $A$ and doing a matrix multiply:\n",
    "$$A^\\top (Ax - y) = 0.$$\n",
    "\n",
    "That is:\n",
    "\n",
    "<font size=40>$$A^\\top Ax = A^\\top y$$</font>\n",
    "\n",
    "The above equation is called the *least squares solution* to the original equation $Ax=y$.  "
   ]
  },
  {
   "cell_type": "markdown",
   "metadata": {},
   "source": [
    "**Example:** A researcher has conducted experiments of a particular Hormone dosage in a population of rats. The table shows the number of fatalities at each dosage level tested. Determine the least squares line and use it to predict the number of rat fatalities at hormone dosage of 22. \n",
    "\n",
    "| Hormone level  | 20 | 25 | 30 | 35 | 40 | 45 | 50  |\n",
    "|---|---|---|---|---|---|---|---|\n",
    "| Fatalities | 101 | 115 | 92 | 64 | 60 | 50 | 49| \n"
   ]
  },
  {
   "cell_type": "code",
   "execution_count": 1,
   "metadata": {},
   "outputs": [],
   "source": [
    "%matplotlib inline\n",
    "import matplotlib.pylab as plt\n",
    "import numpy as np\n",
    "import sympy as sym\n",
    "import time\n",
    "sym.init_printing(use_unicode=True)"
   ]
  },
  {
   "cell_type": "code",
   "execution_count": 2,
   "metadata": {
    "scrolled": false
   },
   "outputs": [
    {
     "data": {
      "image/png": "[encoded data removed]",
      "text/plain": [
       "<Figure size 432x288 with 1 Axes>"
      ]
     },
     "metadata": {
      "needs_background": "light"
     },
     "output_type": "display_data"
    }
   ],
   "source": [
    "H = [20,25,30,35,40,45,50]\n",
    "f = [101,115, 92,64,60,50,49]\n",
    "\n",
    "plt.scatter(H,f)\n",
    "plt.xlabel('Hormone Level')\n",
    "plt.ylabel('Fatalities')\n",
    "f = np.matrix(f).T"
   ]
  },
  {
   "cell_type": "markdown",
   "metadata": {},
   "source": [
    "<font color=red>** DO THIS:**</font> You want to determine a line that is expressed by the following equation \n",
    "$$f = a+b*H,$$\n",
    "to approximate the connection between Hormone dosage ($H$) and Fatalities $f$. \n",
    "That is, you want to find $a$ and $b$ for this line. You can put $x=[a; b]$ as one column vector that you need to solve.\n",
    "\n",
    "Construct your matrices $A$ and $y$."
   ]
  },
  {
   "cell_type": "code",
   "execution_count": 7,
   "metadata": {},
   "outputs": [
    {
     "name": "stdout",
     "output_type": "stream",
     "text": [
      "[[20  1]\n",
      " [25  1]\n",
      " [30  1]\n",
      " [35  1]\n",
      " [40  1]\n",
      " [45  1]\n",
      " [50  1]]\n",
      "[[101]\n",
      " [115]\n",
      " [ 92]\n",
      " [ 64]\n",
      " [ 60]\n",
      " [ 50]\n",
      " [ 49]]\n"
     ]
    }
   ],
   "source": [
    "#####Start your code here #####\n",
    "\n",
    "A = np.matrix([[20, 1],[25, 1],[30, 1],[35, 1],[40, 1],[45, 1],[50, 1]])\n",
    "y = np.matrix([[101],[115],[92],[64],[60],[50],[49]])\n",
    "print(A)\n",
    "print(y)\n",
    "#####End of your code here#####"
   ]
  },
  {
   "cell_type": "markdown",
   "metadata": {},
   "source": [
    "<font color=red>**QUESTION:**</font> Calculate the square matrix $C = A^\\top A$ and the modified right hand side vector as $A^\\top y$"
   ]
  },
  {
   "cell_type": "code",
   "execution_count": 8,
   "metadata": {},
   "outputs": [
    {
     "name": "stdout",
     "output_type": "stream",
     "text": [
      "[[9275  245]\n",
      " [ 245    7]]\n",
      "[[16995]\n",
      " [  531]]\n"
     ]
    }
   ],
   "source": [
    "#####Start your code here #####\n",
    "C   = A.T*A\n",
    "Aty = A.T*y\n",
    "\n",
    "print(C)\n",
    "print(Aty)\n",
    "#####End of your code here#####"
   ]
  },
  {
   "cell_type": "markdown",
   "metadata": {},
   "source": [
    "<font color=red>** QUESTION:**</font> Find the *least squares solution* by solving $Cx=Aty$ for $x$."
   ]
  },
  {
   "cell_type": "code",
   "execution_count": 10,
   "metadata": {},
   "outputs": [],
   "source": [
    "#####Start your code here #####\n",
    "x = np.linalg.inv(C)*Aty\n",
    "#####End of your code here#####"
   ]
  },
  {
   "cell_type": "markdown",
   "metadata": {},
   "source": [
    "<font color=red>** QUESTION:**</font> Plot the original data and the line estimated by the coefficient found in the above quation."
   ]
  },
  {
   "cell_type": "code",
   "execution_count": 20,
   "metadata": {},
   "outputs": [
    {
     "data": {
      "text/plain": [
       "[<matplotlib.lines.Line2D at 0x11aade240>]"
      ]
     },
     "execution_count": 20,
     "metadata": {},
     "output_type": "execute_result"
    },
    {
     "data": {
      "image/png": "[encoded data removed]",
      "text/plain": [
       "<Figure size 432x288 with 1 Axes>"
      ]
     },
     "metadata": {
      "needs_background": "light"
     },
     "output_type": "display_data"
    }
   ],
   "source": [
    "H = [20,25,30,35,40,45,50]\n",
    "f = [101,115, 92,64,60,50,49]\n",
    "H2 = np.linspace(np.min(H), np.max(H))\n",
    "plt.scatter(H,f)\n",
    "#####Start your code here #####\n",
    "f2 = x.item(0)*H2 + x.item(1)\n",
    "plt.plot(H2,f2)\n",
    "#####End of your code here#####"
   ]
  },
  {
   "cell_type": "markdown",
   "metadata": {},
   "source": [
    "<font color=red>** QUESTION:**</font> Repeat the above analysis but now with a eight-order polynomial."
   ]
  },
  {
   "cell_type": "code",
   "execution_count": 55,
   "metadata": {},
   "outputs": [
    {
     "data": {
      "text/plain": [
       "array([ 400,  625,  900, 1225, 1600, 2025, 2500])"
      ]
     },
     "execution_count": 55,
     "metadata": {},
     "output_type": "execute_result"
    }
   ],
   "source": [
    "h = np.array(H)\n",
    "h**2"
   ]
  },
  {
   "cell_type": "code",
   "execution_count": 65,
   "metadata": {},
   "outputs": [
    {
     "name": "stdout",
     "output_type": "stream",
     "text": [
      "[[ 1.55057995e+04]\n",
      " [-3.10001910e+03]\n",
      " [ 2.52237659e+02]\n",
      " [-1.06205502e+01]\n",
      " [ 2.44419638e-01]\n",
      " [-2.92263665e-03]\n",
      " [ 1.42220796e-05]]\n"
     ]
    },
    {
     "data": {
      "text/plain": [
       "[<matplotlib.lines.Line2D at 0x11b771278>]"
      ]
     },
     "execution_count": 65,
     "metadata": {},
     "output_type": "execute_result"
    },
    {
     "data": {
      "image/png": "[encoded data removed]",
      "text/plain": [
       "<Figure size 432x288 with 1 Axes>"
      ]
     },
     "metadata": {
      "needs_background": "light"
     },
     "output_type": "display_data"
    }
   ],
   "source": [
    "n = 7\n",
    "\n",
    "A = np.ones((len(H), n))\n",
    "\n",
    "#####Start your code here #####\n",
    "h = np.array(H)\n",
    "for i in range(n):\n",
    "    A[:,i] = h**i\n",
    "A = np.matrix(A)\n",
    "C   = A.T*A\n",
    "Aty = A.T*y\n",
    "x = np.linalg.inv(C)*Aty\n",
    "print(x)\n",
    "\n",
    "H = [20,25,30,35,40,45,50]\n",
    "f = [101,115, 92,64,60,50,49]\n",
    "H2 = np.linspace(np.min(H), np.max(H))\n",
    "plt.scatter(H,f)\n",
    "#####Start your code here #####\n",
    "f8 = 0*H2\n",
    "for i in range(n):\n",
    "    f8 += x.item(i)*H2**i\n",
    "plt.plot(H2,f8)\n",
    "#####End of your code here#####\n"
   ]
  },
  {
   "cell_type": "markdown",
   "metadata": {},
   "source": [
    "<font color=red>** QUESTION:**</font> Check the rank of $C=A^\\top A$ for the previous case. What do you get? Why?"
   ]
  },
  {
   "cell_type": "markdown",
   "metadata": {},
   "source": [
    "7\n",
    "Rank has to be same dim as rows or else singular and cannot take inverse. "
   ]
  },
  {
   "cell_type": "markdown",
   "metadata": {},
   "source": [
    "----\n",
    "# 3. Pseudoinverse\n",
    "\n",
    "+ Consider a $m\\times n$ matrix $A$ where its rank $r$ maybe less than $m$ and $n$ ($r\\leq m$ and $r\\leq n$). This is the very general case.\n",
    "+ Remember that the rowspace of $A$ is in $R^n$ with dimension $r$ and the columnspace of $A$ is in $R^m$ also with dimension $r$.\n",
    "+ The nullspace of $A$ is in $R^n$ with dimension $n-r$ and the nullspace of $A^\\top$ is in $R^m$ with dimension $m-r$.\n",
    "+ Because the rowspace of $A$ and column space $A$ have the same dimension. Therefore, we can find a linear transform that maps one point from the rowspace to one and only one point in the columnspace, vice verse. \n",
    "    + For any $x$ in the rowspace, we have that $Ax$ is one point in the columnspace. If $x'$ is another point in the row space different from $x$, we have $Ax\\neq Ax'$ (The mapping is one-to-one). For any $y$ in the columnspace, we can find $x$ in the rowspace such that $y=Ax$ (The mapping is onto). \n",
    "    + Therefore, $A$ is the one-to-one mapping from the rowspace to the columnspace. "
   ]
  },
  {
   "cell_type": "markdown",
   "metadata": {},
   "source": [
    "+ The pseudoinverse $A^+$, which is a $n\\times m$ matrix, maps $y=Ax$ from the columnspace to the rowspace\n",
    "$$ x={A}^{+}{Ax} =A^+y$$"
   ]
  },
  {
   "cell_type": "markdown",
   "metadata": {},
   "source": [
    "## How to compute pseudoinverse\n",
    "We want to find the $n\\times m$ matrix that maps from columnspace to the rowspace of $A$, and \n",
    "$$x=A^+Ax,$$\n",
    "if $x$ is in the rowspace. \n",
    "\n",
    "+ Let's apply SVD on $A$: $$A= U\\Sigma V^\\top,$$\n",
    "where $U$ is a $m\\times m$ matrix, $V^\\top$ is a $n\\times n$ matrix, and $\\Sigma$ is a diagonal $m\\times n$ matrix. \n",
    "We can decompose the matrices as \n",
    "$$A = \\begin{bmatrix}\\vdots & \\vdots \\\\ U_1 & U_2 \\\\ \\vdots &\\vdots\\end{bmatrix} \\begin{bmatrix}\\Sigma_1 & 0 \\\\ 0 & 0\\end{bmatrix}  \\begin{bmatrix}\\cdots & V_1^\\top & \\cdots \\\\ \\cdots & V_2^\\top &\\cdots \\end{bmatrix}.$$\n",
    "Here $U_1$ is of $m\\times r$, $U_2$ is of $m\\times (m-r)$, $\\Sigma_1$ is of $r\\times r$, $V_1^\\top$ is of $r\\times n$, and $V_2^\\top$ is of $(n-r)\\times n$. \n",
    "    + The columnspace of $U_1$ is the columnspace of $A$, and columnspace of $U_2$ is the nullspace of $A^\\top$. \n",
    "    + The rowspace of $V_1$ is the rowspace of $A$, and rowspae of $V_2$ is the nullspace of $A$.\n",
    "\n",
    "+ If $x$ is in the rowspace of $A$, we have that $V_2^\\top x=0$. We have $Ax = U_1\\Sigma_1 V_1^\\top x$.\n",
    "    + If we define a matrix $B=V_1\\Sigma_1^{-1}U_1^\\top$, we have that $BAx=V_1\\Sigma_1^{-1}U_1^\\top U_1\\Sigma_1 V_1^\\top x=V_1V_1^\\top x$. That is $BAx=x$ is $x$ is in the rowspace of $A$. \n",
    "    \n",
    "+ The matrix $B$ is the pseudoinverse of matrix $A$. \n",
    "$$A^+ = V_1\\Sigma_1^{-1}U_1^\\top$$\n",
    "$$A^+ = \\begin{bmatrix}\\vdots & \\vdots \\\\ V_1 & V_2 \\\\ \\vdots &\\vdots\\end{bmatrix} \\begin{bmatrix}\\Sigma_1^{-1} & 0 \\\\ 0 & 0\\end{bmatrix}  \\begin{bmatrix}\\cdots & U_1^\\top & \\cdots \\\\ \\cdots & U_2^\\top &\\cdots \\end{bmatrix}.$$"
   ]
  },
  {
   "cell_type": "markdown",
   "metadata": {},
   "source": [
    "**Example 1:** Let $$A=[1,2]$$\n",
    "we know that \n",
    "$r=m=1$ and $n=2$.\n",
    "<font color=red>**DO THIS:**</font> Calculate the pseudoinverse $A^+$ of $A$."
   ]
  },
  {
   "cell_type": "code",
   "execution_count": null,
   "metadata": {},
   "outputs": [],
   "source": [
    "#####Start your code here #####\n",
    "\n",
    "#####End of your code here#####"
   ]
  },
  {
   "cell_type": "markdown",
   "metadata": {},
   "source": [
    "<font color=red>**DO THIS:**</font> Compute $AA^+$ and $A^+A$"
   ]
  },
  {
   "cell_type": "code",
   "execution_count": null,
   "metadata": {},
   "outputs": [],
   "source": [
    "#####Start your code here #####\n",
    "\n",
    "#####End of your code here#####"
   ]
  },
  {
   "cell_type": "markdown",
   "metadata": {},
   "source": [
    "<font color=red>**QUESTION:**</font> If $x$ is in the nullspace of $A$ what is the effect of $A^+Ax$?"
   ]
  },
  {
   "cell_type": "markdown",
   "metadata": {},
   "source": [
    "Put your answer to the above question here"
   ]
  },
  {
   "cell_type": "markdown",
   "metadata": {},
   "source": [
    "<font color=red>**QUESTION:**</font> If $x$ is in the rowspace of $A$ what is the effect of $A^+Ax$?"
   ]
  },
  {
   "cell_type": "markdown",
   "metadata": {},
   "source": [
    "Put your answer to the above question here"
   ]
  },
  {
   "cell_type": "markdown",
   "metadata": {},
   "source": [
    "## Left inverse is pseudoinverse\n",
    "\n",
    "We can compute the left inverse of $A$ if $r=n\\leq m$. In this case, we may have more rows than columns, and the matrix $A$ has full column rank. \n",
    "\n",
    "In this case, the SVD of $A$ is \n",
    "$$A = U\\Sigma V^\\top   .$$\n",
    "Here $U$ is of $m\\times m$, $\\Sigma$ is of $n\\times n$ and nonsingular, $V^\\top$ is of $n\\times n$. \n",
    "The pseudoinverse of $A$ is $$A^+ = V\\Sigma^{-1}U^\\top$$\n",
    "\n",
    "The left inverse of $A$ is \n",
    "$$(A^\\top A)^{-1}A^\\top= (V\\Sigma U^\\top U\\Sigma V^\\top  )^{-1} V\\Sigma U^\\top = V(\\Sigma \\Sigma )^{-1} V^\\top V\\Sigma U^\\top =  V\\Sigma ^{-1} U^\\top =A^+$$"
   ]
  },
  {
   "cell_type": "markdown",
   "metadata": {},
   "source": [
    "**Example 2:** Let $$A=\\begin{bmatrix}1\\\\2\\end{bmatrix}$$\n",
    "we know that \n",
    "$r=n=1$ and $m=2$. Then we have the left inverse.\n",
    "<font color=red>**DO THIS:**</font> Calculate the pseudoinverse $A^+$ of $A$."
   ]
  },
  {
   "cell_type": "markdown",
   "metadata": {},
   "source": [
    "Put your answer to the above question here"
   ]
  },
  {
   "cell_type": "markdown",
   "metadata": {},
   "source": [
    "\n",
    "<font color=red>**DO THIS:**</font> Calculate the left inverse of $A$, and verify that it is the same as $A^+$."
   ]
  },
  {
   "cell_type": "markdown",
   "metadata": {},
   "source": [
    "Put your answer to the above question here"
   ]
  },
  {
   "cell_type": "markdown",
   "metadata": {},
   "source": [
    "-----\n",
    "### Congratulations, we're almost done!\n",
    "\n",
    "Now, you just need to submit this assignment by uploading it to the course <a href=\"https://d2l.msu.edu/\">Desire2Learn</a> web page for today's dropbox (Don't forget to add your names in the first cell).\n"
   ]
  },
  {
   "cell_type": "markdown",
   "metadata": {},
   "source": [
    "&#169; Copyright 2018,  Michigan State University Board of Trustees"
   ]
  }
 ],
 "metadata": {
  "kernelspec": {
   "display_name": "Python 3",
   "language": "python",
   "name": "python3"
  },
  "language_info": {
   "codemirror_mode": {
    "name": "ipython",
    "version": 3
   },
   "file_extension": ".py",
   "mimetype": "text/x-python",
   "name": "python",
   "nbconvert_exporter": "python",
   "pygments_lexer": "ipython3",
   "version": "3.7.1"
  }
 },
 "nbformat": 4,
 "nbformat_minor": 1
}
