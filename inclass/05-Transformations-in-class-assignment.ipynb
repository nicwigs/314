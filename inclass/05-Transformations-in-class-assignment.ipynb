{
 "cells": [
  {
   "cell_type": "markdown",
   "metadata": {},
   "source": [
    "## <p style=\"text-align: right;\">  Nic Wiggins </p>"
   ]
  },
  {
   "cell_type": "markdown",
   "metadata": {},
   "source": [
    "You **NEED** to participate both individually and in groups in class to successfully complete this assignment and receive credits for it."
   ]
  },
  {
   "cell_type": "markdown",
   "metadata": {},
   "source": [
    "# In-Class Assignment: Transformations\n",
    "\n",
    "<img src=\"https://people.gnome.org/~mathieu/libart/art-affines.png\">\n",
    "\n",
    "<p style=\"text-align: right;\">Image from: https://people.gnome.org/~mathieu/libart/libart-affine-transformation-matrices.html</p>\n",
    "    "
   ]
  },
  {
   "cell_type": "markdown",
   "metadata": {},
   "source": [
    "### Agenda for today's class (80 minutes)\n",
    "\n",
    "</p>\n",
    "1. (20 minutes) Review of Pre-Class Assignment\n",
    "1. (30 minutes) Affine Transforms\n",
    "1. (30 minutes) Fractals"
   ]
  },
  {
   "cell_type": "markdown",
   "metadata": {},
   "source": [
    "----\n",
    "# 1. Review of Pre-Class Assignment\n",
    "\n",
    "[05--Transformations-pre-class-assignment](../preclass/05--Transformations-pre-class-assignment.ipynb)"
   ]
  },
  {
   "cell_type": "markdown",
   "metadata": {},
   "source": [
    "----\n",
    "# 2. Affine Transforms\n",
    "\n",
    "In this section, we are going to explore different types of transformation matrices. \n",
    "The following code is designed to demonstrate the properties of some different transformation matrices.  \n",
    "\n",
    "&#9989; <font color=red>**DO THIS:**</font> Review the following code.  "
   ]
  },
  {
   "cell_type": "code",
   "execution_count": 2,
   "metadata": {},
   "outputs": [],
   "source": [
    "#Some python packages we will be useing\n",
    "%matplotlib inline\n",
    "import numpy as np\n",
    "import matplotlib.pylab as plt\n",
    "from mpl_toolkits.mplot3d import Axes3D #Lets us make 3D plots\n",
    "import numpy as np\n",
    "import sympy as sym\n",
    "sym.init_printing(use_unicode=True) # Trick to make matrixes look nice in jupyter"
   ]
  },
  {
   "cell_type": "code",
   "execution_count": 3,
   "metadata": {},
   "outputs": [
    {
     "data": {
      "image/png": "[encoded data removed]",
      "text/plain": [
       "<Figure size 432x288 with 1 Axes>"
      ]
     },
     "metadata": {
      "needs_background": "light"
     },
     "output_type": "display_data"
    }
   ],
   "source": [
    "# Define some points\n",
    "x = [0.0,  0.0,  2.0,  8.0, 10.0, 10.0, 8.0, 4.0, 3.0, 3.0, 4.0, 6.0, 7.0, 7.0, 10.0, \n",
    "     10.0,  8.0,  2.0, 0.0, 0.0, 2.0, 6.0, 7.0,  7.0,  6.0,  4.0,  3.0, 3.0, 0.0]\n",
    "y = [0.0, -2.0, -4.0, -4.0, -2.0,  2.0, 4.0, 4.0, 5.0, 7.0, 8.0, 8.0, 7.0, 6.0,  6.0,\n",
    "     8.0, 10.0, 10.0, 8.0, 4.0, 2.0, 2.0, 1.0, -1.0, -2.0, -2.0, -1.0, 0.0, 0.0]\n",
    "con = [ 1.0 for i in range(len(x))] \n",
    "\n",
    "p = np.matrix([x,y,con])\n",
    "\n",
    "\n",
    "mp = p.copy()\n",
    "\n",
    "#Plot Points\n",
    "plt.plot(mp[0,:].tolist()[0],mp[1,:].tolist()[0], color='green');\n",
    "plt.axis('scaled');\n",
    "plt.axis([-10,20,-15,15]);\n",
    "plt.title('Start Location');"
   ]
  },
  {
   "cell_type": "markdown",
   "metadata": {},
   "source": [
    "### Example Scaling Matrix"
   ]
  },
  {
   "cell_type": "code",
   "execution_count": 3,
   "metadata": {
    "scrolled": false
   },
   "outputs": [
    {
     "data": {
      "text/latex": [
       "$$\\left[\\begin{matrix}0.5 & 0.0 & 0.0\\\\0.0 & 0.5 & 0.0\\\\0.0 & 0.0 & 1.0\\end{matrix}\\right]$$"
      ],
      "text/plain": [
       "⎡0.5  0.0  0.0⎤\n",
       "⎢             ⎥\n",
       "⎢0.0  0.5  0.0⎥\n",
       "⎢             ⎥\n",
       "⎣0.0  0.0  1.0⎦"
      ]
     },
     "execution_count": 3,
     "metadata": {},
     "output_type": "execute_result"
    },
    {
     "data": {
      "image/png": "[encoded data removed]",
      "text/plain": [
       "<Figure size 432x288 with 1 Axes>"
      ]
     },
     "metadata": {
      "needs_background": "light"
     },
     "output_type": "display_data"
    }
   ],
   "source": [
    "#Example Scaling Matrix\n",
    "\n",
    "#Define Matrix\n",
    "scale = 0.5\n",
    "S = np.matrix([[scale,0,0], [0,scale,0], [0,0,1]])\n",
    "\n",
    "#Apply matrix\n",
    "\n",
    "mp = p.copy()\n",
    "\n",
    "mp = S*mp\n",
    "\n",
    "#Plot points after transform\n",
    "plt.plot(mp[0,:].tolist()[0],mp[1,:].tolist()[0], color='green')\n",
    "plt.axis('scaled')\n",
    "plt.axis([-10,20,-15,15])\n",
    "plt.title('After Scaling')\n",
    "\n",
    "sym.Matrix(S)"
   ]
  },
  {
   "cell_type": "markdown",
   "metadata": {},
   "source": [
    "### Example Transpose Matrix"
   ]
  },
  {
   "cell_type": "code",
   "execution_count": 4,
   "metadata": {},
   "outputs": [
    {
     "data": {
      "text/latex": [
       "$$\\left[\\begin{matrix}1 & 0 & 1\\\\0 & 1 & 1\\\\0 & 0 & 1\\end{matrix}\\right]$$"
      ],
      "text/plain": [
       "⎡1  0  1⎤\n",
       "⎢       ⎥\n",
       "⎢0  1  1⎥\n",
       "⎢       ⎥\n",
       "⎣0  0  1⎦"
      ]
     },
     "execution_count": 4,
     "metadata": {},
     "output_type": "execute_result"
    },
    {
     "data": {
      "image/png": "[encoded data removed]",
      "text/plain": [
       "<Figure size 432x288 with 1 Axes>"
      ]
     },
     "metadata": {
      "needs_background": "light"
     },
     "output_type": "display_data"
    }
   ],
   "source": [
    "#Example Transpose Matrix\n",
    "\n",
    "#Define Matrix\n",
    "dx = 1\n",
    "dy = 1\n",
    "T = np.matrix([[1,0,dx], [0,1,dy], [0,0,1]])\n",
    "\n",
    "#Apply matrix\n",
    "\n",
    "mp = p.copy()\n",
    "\n",
    "mp = T*mp\n",
    "\n",
    "#Plot points after transform\n",
    "plt.plot(mp[0,:].tolist()[0],mp[1,:].tolist()[0], color='green')\n",
    "plt.axis('scaled')\n",
    "plt.axis([-10,20,-15,15])\n",
    "plt.title('After Transpose')\n",
    "\n",
    "sym.Matrix(T)"
   ]
  },
  {
   "cell_type": "markdown",
   "metadata": {},
   "source": [
    "### Example Reflection Matrix"
   ]
  },
  {
   "cell_type": "code",
   "execution_count": 5,
   "metadata": {},
   "outputs": [
    {
     "data": {
      "text/latex": [
       "$$\\left[\\begin{matrix}1 & 0 & 0\\\\0 & -1 & 0\\\\0 & 0 & 1\\end{matrix}\\right]$$"
      ],
      "text/plain": [
       "⎡1  0   0⎤\n",
       "⎢        ⎥\n",
       "⎢0  -1  0⎥\n",
       "⎢        ⎥\n",
       "⎣0  0   1⎦"
      ]
     },
     "execution_count": 5,
     "metadata": {},
     "output_type": "execute_result"
    },
    {
     "data": {
      "image/png": "[encoded data removed]",
      "text/plain": [
       "<Figure size 432x288 with 1 Axes>"
      ]
     },
     "metadata": {
      "needs_background": "light"
     },
     "output_type": "display_data"
    }
   ],
   "source": [
    "#Example Reflection Matrix\n",
    "\n",
    "#Define Matrix\n",
    "Re = np.matrix([[1,0,0],[0,-1,0],[0,0,1]])\n",
    "\n",
    "#Apply matrix\n",
    "\n",
    "mp = p.copy()\n",
    "\n",
    "mp = Re*mp\n",
    "\n",
    "#Plot points after transform\n",
    "plt.plot(mp[0,:].tolist()[0],mp[1,:].tolist()[0], color='green')\n",
    "plt.axis('scaled')\n",
    "plt.axis([-10,20,-15,15])\n",
    "\n",
    "sym.Matrix(Re)"
   ]
  },
  {
   "cell_type": "markdown",
   "metadata": {},
   "source": [
    "### Example Rotation Matrix"
   ]
  },
  {
   "cell_type": "code",
   "execution_count": 28,
   "metadata": {},
   "outputs": [
    {
     "data": {
      "text/latex": [
       "$$\\left[\\begin{matrix}0.866025403784439 & -0.5 & 0.0\\\\0.5 & 0.866025403784439 & 0.0\\\\0.0 & 0.0 & 1.0\\end{matrix}\\right]$$"
      ],
      "text/plain": [
       "⎡0.866025403784439        -0.5         0.0⎤\n",
       "⎢                                         ⎥\n",
       "⎢       0.5         0.866025403784439  0.0⎥\n",
       "⎢                                         ⎥\n",
       "⎣       0.0                0.0         1.0⎦"
      ]
     },
     "execution_count": 28,
     "metadata": {},
     "output_type": "execute_result"
    },
    {
     "data": {
      "image/png": "[encoded data removed]",
      "text/plain": [
       "<Figure size 432x288 with 1 Axes>"
      ]
     },
     "metadata": {
      "needs_background": "light"
     },
     "output_type": "display_data"
    }
   ],
   "source": [
    "#Example Rotation Matrix\n",
    "\n",
    "#Define Matrix\n",
    "theta = np.pi / 6\n",
    "R = np.matrix([[np.cos(theta),-np.sin(theta),0],[np.sin(theta), np.cos(theta),0],[0,0,1]])\n",
    "\n",
    "#Apply matrix\n",
    "\n",
    "mp = p.copy()\n",
    "\n",
    "mp = R*mp\n",
    "\n",
    "#Plot points after transform\n",
    "plt.plot(mp[0,:].tolist()[0],mp[1,:].tolist()[0], color='green')\n",
    "plt.axis('scaled')\n",
    "plt.axis([-10,20,-15,15])\n",
    "\n",
    "sym.Matrix(R)"
   ]
  },
  {
   "cell_type": "markdown",
   "metadata": {},
   "source": [
    "### Example Shear Matrix"
   ]
  },
  {
   "cell_type": "code",
   "execution_count": 7,
   "metadata": {
    "scrolled": false
   },
   "outputs": [
    {
     "data": {
      "text/latex": [
       "$$\\left[\\begin{matrix}1.0 & 0.1 & 0.0\\\\-0.5 & 1.0 & 0.0\\\\0.0 & 0.0 & 1.0\\end{matrix}\\right]$$"
      ],
      "text/plain": [
       "⎡1.0   0.1  0.0⎤\n",
       "⎢              ⎥\n",
       "⎢-0.5  1.0  0.0⎥\n",
       "⎢              ⎥\n",
       "⎣0.0   0.0  1.0⎦"
      ]
     },
     "execution_count": 7,
     "metadata": {},
     "output_type": "execute_result"
    },
    {
     "data": {
      "image/png": "[encoded data removed]",
      "text/plain": [
       "<Figure size 432x288 with 1 Axes>"
      ]
     },
     "metadata": {
      "needs_background": "light"
     },
     "output_type": "display_data"
    }
   ],
   "source": [
    "#Example Shear Matrix\n",
    "\n",
    "#Define Matrix\n",
    "shx = 0.1\n",
    "shy = -0.5\n",
    "SH = np.matrix([[1,shx,0], [shy,1,0], [0,0,1]])\n",
    "\n",
    "#Apply matrix\n",
    "\n",
    "mp = p.copy()\n",
    "\n",
    "mp = SH*mp\n",
    "\n",
    "#Plot points after transform\n",
    "plt.plot(mp[0,:].tolist()[0],mp[1,:].tolist()[0], color='green')\n",
    "plt.axis('scaled')\n",
    "plt.axis([-10,20,-15,15])\n",
    "\n",
    "sym.Matrix(SH)"
   ]
  },
  {
   "cell_type": "markdown",
   "metadata": {},
   "source": [
    "### Combine Transforms\n",
    "\n",
    "We have five transforms $R$, $S$, $T$, $Re$, and $SH$ \n",
    "\n",
    "&#9989; <font color=red>**DO THIS:**</font> Construct a ($3 \\times 3$) transformation Matrix (called $M$) which combines these five transforms into a single matrix. You can choose different orders for these five matrix, then compare your result with other students. "
   ]
  },
  {
   "cell_type": "code",
   "execution_count": 8,
   "metadata": {},
   "outputs": [],
   "source": [
    "#Put your code here\n",
    "# First operation is right most, read right to left\n",
    "M = Re*T*S*R*SH"
   ]
  },
  {
   "cell_type": "code",
   "execution_count": 9,
   "metadata": {},
   "outputs": [
    {
     "data": {
      "image/png": "[encoded data removed]",
      "text/plain": [
       "<Figure size 432x288 with 1 Axes>"
      ]
     },
     "metadata": {
      "needs_background": "light"
     },
     "output_type": "display_data"
    }
   ],
   "source": [
    "#Plot combined transformed points\n",
    "mp = p.copy()\n",
    "mp = M*mp\n",
    "plt.plot(mp[0,:].tolist()[0],mp[1,:].tolist()[0], color='green');\n",
    "plt.axis('scaled');\n",
    "plt.axis([-10,20,-15,15]);\n",
    "plt.title('Start Location');"
   ]
  },
  {
   "cell_type": "markdown",
   "metadata": {},
   "source": [
    "&#9989; <font color=red>**Questions:**</font> Did you can get the same result with others? You can compare the matrix $M$ to see the difference. If not, can you explain why it happens?"
   ]
  },
  {
   "cell_type": "markdown",
   "metadata": {},
   "source": [
    "No\n",
    "Translate, scale and reflect are the same despite order, once you include rotatation and shear the order matters."
   ]
  },
  {
   "cell_type": "markdown",
   "metadata": {},
   "source": [
    "## Interactive Example"
   ]
  },
  {
   "cell_type": "code",
   "execution_count": 10,
   "metadata": {},
   "outputs": [],
   "source": [
    "from ipywidgets import interact\n",
    "\n",
    "def affine_image(angle=0,scale=1.0,dx=0,dy=0, shx=0, shy=0):\n",
    "    theta = -angle/180  * np.pi\n",
    "    \n",
    "    plt.plot(p[0,:].tolist()[0],p[1,:].tolist()[0], color='green')\n",
    "    \n",
    "    S = np.matrix([[scale,0,0], [0,scale,0], [0,0,1]])\n",
    "    SH = np.matrix([[1,shx,0], [shy,1,0], [0,0,1]])\n",
    "    T = np.matrix([[1,0,dx], [0,1,dy], [0,0,1]])\n",
    "    R = np.matrix([[np.cos(theta),-np.sin(theta),0],[np.sin(theta), np.cos(theta),0],[0,0,1]])\n",
    "    \n",
    "    #Apply Transforms\n",
    "    p2 =  T*SH*R*S*p;\n",
    "    \n",
    "    #Plot Output\n",
    "    plt.plot(p2[0,:].tolist()[0],p2[1,:].tolist()[0], color='black')\n",
    "    plt.axis('scaled')\n",
    "    plt.axis([-10,20,-15,15])"
   ]
  },
  {
   "cell_type": "code",
   "execution_count": 11,
   "metadata": {},
   "outputs": [
    {
     "data": {
      "application/vnd.jupyter.widget-view+json": {
       "model_id": "033956256634476dae7bc94a0c1457d1",
       "version_major": 2,
       "version_minor": 0
      },
      "text/plain": [
       "interactive(children=(IntSlider(value=0, description='angle', max=180, min=-180), FloatSlider(value=1.0, descr…"
      ]
     },
     "metadata": {},
     "output_type": "display_data"
    }
   ],
   "source": [
    "interact(affine_image, angle=(-180,180), scale=(0.01,2), dx=(-5,15,0.5), dy=(-15,15,0.5), shx = (-1,1,0.1), shy = (-1,1,0.1)); ##TODO: Modify this line of code"
   ]
  },
  {
   "cell_type": "markdown",
   "metadata": {},
   "source": [
    "&#9989; <font color=red>**DO THIS:**</font>  Using the above interactive enviornment to see if you can figure out the transformation matrix to make the following image:\n",
    "\n",
    "<img src=\"https://lh6.googleusercontent.com/_0-jr5Z0DQzqVM3TD3Xa3QWC43PBT6ru5M-B-_7dfbib2SSvkNkxtioBFaU__jTvEJMMG9SAVg=w380\">"
   ]
  },
  {
   "cell_type": "markdown",
   "metadata": {},
   "source": [
    "&#9989; <font color=red>**Questions:**</font> What where the input values?"
   ]
  },
  {
   "cell_type": "markdown",
   "metadata": {},
   "source": [
    "\n",
    "Put your answer here:\n",
    "\n",
    "r =  172\n",
    "\n",
    "scale = 0.91\n",
    "\n",
    "dx = 11.00\n",
    "\n",
    "dy = -7.5\n",
    "\n",
    "shx = -0.4\n",
    "\n",
    "shy = -0.1"
   ]
  },
  {
   "cell_type": "markdown",
   "metadata": {},
   "source": [
    "----\n",
    "\n",
    "# 3. Fractals\n",
    "\n",
    "In this assignment, you will follow the psudocode written on page 136 of the textbook to generate figures similar to Figure 2.24. \n",
    "\n",
    "\n",
    "\n",
    "For the $T_1$ case, we have \n",
    "\n",
    "$$ \n",
    "T_1\\left[ \\begin{matrix}\n",
    "    x \\\\\n",
    "    y \n",
    " \\end{matrix}\n",
    "\\right] \n",
    "=\n",
    "\\left[ \\begin{matrix}\n",
    "    0.86 & 0.03  \\\\\n",
    "    -0.03 & 0.86 \n",
    " \\end{matrix}\n",
    "\\right] \n",
    "\\left[ \\begin{matrix}\n",
    "    x \\\\\n",
    "    y \n",
    " \\end{matrix}\n",
    "\\right] +\n",
    "\\left[\\begin{matrix}\n",
    "0\\\\\n",
    "1.5\n",
    "\\end{matrix}\n",
    "\\right]\n",
    "$$ \n",
    "\n",
    "Therefore, we have introduce an additional variable $z=1$ and it becomes \n",
    "$$ \n",
    "T_1\\left[ \\begin{matrix}\n",
    "    x \\\\\n",
    "    y \n",
    " \\end{matrix}\n",
    "\\right] \n",
    "=\n",
    "\\left[ \\begin{matrix}\n",
    "    0.86 & 0.03 & 0 \\\\\n",
    "    -0.03 & 0.86 & 1.5\n",
    " \\end{matrix}\n",
    "\\right] \n",
    "\\left[ \\begin{matrix}\n",
    "    x \\\\\n",
    "    y \\\\\n",
    "    z\n",
    " \\end{matrix}\n",
    "\\right] \n",
    "$$ \n",
    "Please NOTE that we do not change the value for $z$, and it is alwasy $1$.\n",
    "\n",
    "1. Let $x = 0$, $y = 0$, $z=1$\n",
    "2. Use a random generator to select one of the affine transformations $T_i$ according to the given probabilities.\n",
    "3. Let $(x',y') = T_i(x,y,z)$.\n",
    "4. Plot $(x', y')$\n",
    "5. Let $(x,y) = (x',y')$\n",
    "6. Repeat Steps 2, 3, 4, and 5 twenty thousand times. "
   ]
  },
  {
   "cell_type": "code",
   "execution_count": 32,
   "metadata": {},
   "outputs": [
    {
     "data": {
      "image/png": "[encoded data removed]",
      "text/plain": [
       "<Figure size 720x720 with 1 Axes>"
      ]
     },
     "metadata": {
      "needs_background": "light"
     },
     "output_type": "display_data"
    }
   ],
   "source": [
    "%matplotlib inline\n",
    "\n",
    "import numpy as np\n",
    "import matplotlib.pylab as plt\n",
    "\n",
    "T1 = np.matrix([[ 0.86,  0.03, 0],[-0.03, 0.86, 1.5]])\n",
    "T2 = np.matrix([[  0.2, -0.25, 0],[ 0.21, 0.23, 1.5]])\n",
    "T3 = np.matrix([[-0.15,  0.27, 0],[ 0.25, 0.26, 0.45]])\n",
    "T4 = np.matrix([[    0,     0, 0],[    0, 0.17, 0]])\n",
    "\n",
    "prob = [0.83,0.08,0.08,0.01]\n",
    "\n",
    "I = np.matrix([[1,0,0],[0,1,0],[0,0,1]])\n",
    "\n",
    "fig = plt.figure(figsize=[10,10])\n",
    "p = np.matrix([[0.],[0],[1]])\n",
    "plt.plot(p[0],p[1], 'go');\n",
    "for i in range(1,1000):\n",
    "    ticket = np.random.random();\n",
    "    if (ticket < prob[0]):\n",
    "        T = T1\n",
    "    elif (ticket < sum(prob[0:2])):\n",
    "        T = T2\n",
    "    elif (ticket < sum(prob[0:3])):\n",
    "        T = T3\n",
    "    else:\n",
    "        T = T4\n",
    "    p[0:2,0] = T*p    \n",
    "    plt.plot(p[0],p[1], 'go');\n",
    "plt.axis('scaled');"
   ]
  },
  {
   "cell_type": "code",
   "execution_count": 34,
   "metadata": {},
   "outputs": [
    {
     "data": {
      "text/latex": [
       "$$\\left[\\begin{matrix}0.86 & 0.03 & 0.0\\\\-0.03 & 0.86 & 1.5\\end{matrix}\\right]$$"
      ],
      "text/plain": [
       "⎡0.86   0.03  0.0⎤\n",
       "⎢                ⎥\n",
       "⎣-0.03  0.86  1.5⎦"
      ]
     },
     "execution_count": 34,
     "metadata": {},
     "output_type": "execute_result"
    }
   ],
   "source": [
    "sym.Matrix(T1)"
   ]
  },
  {
   "cell_type": "markdown",
   "metadata": {},
   "source": [
    "&#9989; <font color=red>**Do This:**</font> In your group, discuss each of the four transformation matrices and understand what type of transformation is made for each."
   ]
  },
  {
   "cell_type": "markdown",
   "metadata": {},
   "source": [
    "&#9989; <font color=red>**QUESTION:**</font>  Describe in words for the actions performed by $T_1$, $T_2$, $T_3$, and $T_4$. "
   ]
  },
  {
   "cell_type": "markdown",
   "metadata": {},
   "source": [
    "$T_1$: Scale, shear, translate up"
   ]
  },
  {
   "cell_type": "markdown",
   "metadata": {},
   "source": [
    "$T_2$: shear, Rotation, translate up"
   ]
  },
  {
   "cell_type": "markdown",
   "metadata": {},
   "source": [
    "$T_3$: Reflection (negative) , Rotation, translate up"
   ]
  },
  {
   "cell_type": "markdown",
   "metadata": {},
   "source": [
    "\n",
    "$T_4$: Scale y"
   ]
  },
  {
   "cell_type": "markdown",
   "metadata": {},
   "source": [
    "&#9989; <font color=red>**DO THIS:**</font> Using the same ideas to design and build your own fractal.  You are welcome to get inspiration from the internet just make sure you document where your inspiration comes from.  Try to build something fun, unique and different."
   ]
  },
  {
   "cell_type": "code",
   "execution_count": 6,
   "metadata": {},
   "outputs": [
    {
     "data": {
      "image/png": "[encoded data removed]",
      "text/plain": [
       "<Figure size 720x720 with 1 Axes>"
      ]
     },
     "metadata": {
      "needs_background": "light"
     },
     "output_type": "display_data"
    }
   ],
   "source": [
    "%matplotlib inline\n",
    "\n",
    "import numpy as np\n",
    "import matplotlib.pylab as plt\n",
    "\n",
    "T1 = np.matrix([[ 0.86,  0.03, 0],[-0.03, 0.86, 1.5]])\n",
    "T2 = -1*np.matrix([[  0.2, -0.25, 0],[ 0.21, 0.23, 1.5]])\n",
    "T3 = -1*np.matrix([[-0.15,  0.27, 0],[ 0.25, 0.26, 0.45]])\n",
    "T4 = np.matrix([[    0,     0, 0],[    0, 0.17, 0]])\n",
    "\n",
    "prob = [0.83,0.08,0.08,0.01]\n",
    "\n",
    "I = np.matrix([[1,0,0],[0,1,0],[0,0,1]])\n",
    "\n",
    "fig = plt.figure(figsize=[10,10])\n",
    "p = np.matrix([[0.],[0],[1]])\n",
    "plt.plot(p[0],p[1], 'go');\n",
    "for i in range(1,1000):\n",
    "    ticket = np.random.random();\n",
    "    if (ticket < prob[0]):\n",
    "        T = T1\n",
    "    elif (ticket < sum(prob[0:2])):\n",
    "        T = T2\n",
    "    elif (ticket < sum(prob[0:3])):\n",
    "        T = T3\n",
    "    else:\n",
    "        T = T4\n",
    "    p[0:2,0] = T*p    \n",
    "    plt.plot(p[0],p[1], 'go');\n",
    "plt.axis('scaled');"
   ]
  },
  {
   "cell_type": "markdown",
   "metadata": {},
   "source": [
    "-----\n",
    "### Congratulations, we're done!\n",
    "\n",
    "Now, you just need to submit this assignment by uploading it to the course <a href=\"https://d2l.msu.edu/\">Desire2Learn</a> web page for today's dropbox (Don't forget to add your names in the first cell).\n"
   ]
  },
  {
   "cell_type": "markdown",
   "metadata": {},
   "source": [
    "&#169; Copyright 2018,  Michigan State University Board of Trustees"
   ]
  }
 ],
 "metadata": {
  "kernelspec": {
   "display_name": "Python 3",
   "language": "python",
   "name": "python3"
  },
  "language_info": {
   "codemirror_mode": {
    "name": "ipython",
    "version": 3
   },
   "file_extension": ".py",
   "mimetype": "text/x-python",
   "name": "python",
   "nbconvert_exporter": "python",
   "pygments_lexer": "ipython3",
   "version": "3.7.1"
  }
 },
 "nbformat": 4,
 "nbformat_minor": 2
}
