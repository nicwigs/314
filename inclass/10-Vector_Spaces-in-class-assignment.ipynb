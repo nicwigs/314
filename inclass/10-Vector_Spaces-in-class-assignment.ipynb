{
 "cells": [
  {
   "cell_type": "markdown",
   "metadata": {},
   "source": [
    "## <p style=\"text-align: right;\"> Nic Wiggins </p>"
   ]
  },
  {
   "cell_type": "markdown",
   "metadata": {},
   "source": [
    "You **NEED** to participate both individually and in groups in class to successfully complete this assignment and receive credits for it."
   ]
  },
  {
   "cell_type": "markdown",
   "metadata": {},
   "source": [
    "# In-Class Assignment: Vector Spaces\n",
    "\n",
    "<img src=\"https://upload.wikimedia.org/wikipedia/commons/thumb/5/59/3d_basis_transformation.svg/580px-3d_basis_transformation.svg.png\" width=\"50%\">\n",
    "<p style=\"text-align: right;\">Image from: https://en.wikipedia.org/wiki/Change_of_basis</p>\n",
    "\n",
    "\n",
    "\n",
    "    "
   ]
  },
  {
   "cell_type": "markdown",
   "metadata": {},
   "source": [
    "### Agenda for today's class (80 minutes)\n",
    "\n",
    "</p>\n",
    "\n",
    "1. (30 minutes) Exam Review\n",
    "1. (20 minutes) Pre-Class Review\n",
    "1. (30 minutes) Vector Spaces"
   ]
  },
  {
   "cell_type": "markdown",
   "metadata": {},
   "source": [
    "----\n",
    "\n",
    "# 1. Exam Review\n",
    "\n",
    "[Midterm-Exam1_SS19](Midterm-Exam1_SS19.ipynb)"
   ]
  },
  {
   "cell_type": "markdown",
   "metadata": {},
   "source": [
    "----\n",
    "\n",
    "# 2. Pre-Class Review\n",
    "\n",
    "[10--Vector_Spaces-pre-class-assignment](./preclass/10--Vector_Spaces-pre-class-assignment.ipynb)"
   ]
  },
  {
   "cell_type": "markdown",
   "metadata": {},
   "source": [
    "---\n",
    "\n",
    "# 3. Vector Spaces\n",
    "\n",
    "A **Vector Space** is a set $V$ of elements called **vectors**, having operations of addition and scalar multiplication defined on it that satisfy the following conditions ($u$, $v$, and $w$ are arbitrary elements of $V$, and c and d are scalars.)\n",
    "\n",
    "### Closure Axioms\n",
    "\n",
    "1. The sum $u + v$ exists and is an element of $V$. ($V$ is closed under addition.)\n",
    "2. $cu$ is an element of $V$. ($V$ is closed under multiplication.)\n",
    "\n",
    "### Addition Axioms\n",
    "\n",
    "3. $u + v = v + u$ (commutative property)\n",
    "4. $u + (v + w) = (u + v) + w$ (associative property)\n",
    "5. There exists an element of $V$, called a **zero vector**, denoted $0$, such that $u+0 = u$\n",
    "6. For every element $u$ of $V$, there exists an element called a **negative** of $u$, denoted $-u$, such that $u + (-u) = 0$.\n",
    "\n",
    "### Scalar Multiplication Axioms\n",
    "\n",
    "7. $c(u+v) = cu + cv$\n",
    "8. $(c + d)u = cu + du$\n",
    "9.  $c(du) = (cd)u$\n",
    "10. $1u = u$\n",
    "\n",
    "## Definition of a basis of a vector space\n",
    "\n",
    "> A finite set of vectors ${v_1,\\dots, v_n}$ is called a **basis** of a *vector space* $V$ if the set *spans* $V$ and is *linearly independent*. \n",
    ">i.e. each vector in $V$ can be expressed uniquely as a *linear combination* of the vectors in a basis.\n",
    "\n"
   ]
  },
  {
   "cell_type": "markdown",
   "metadata": {},
   "source": [
    "## Vector spaces\n",
    "\n",
    "&#9989; <font color=red>**DO THIS:**</font> Let $U$ be the set of all circles in $R^2$ having center at the origin. \n",
    "Interpret the origin as being in this set, i.e., it is a circle center at the origin with radius zero. \n",
    "Assume $C_1$ and $C_2$ are elements of $U$. \n",
    "Let $C_1 + C_2$ be the circle centered at the origin, whose radius is the sum of the radii of $C_1$ and $C_2$. \n",
    "Let $kC_1$ be the circle center at the origin, whose radius is $|k|$ times that of $C_1$. \n",
    "Determine which vector space axioms hold and which do not. (See page 216 of the textbook).\n"
   ]
  },
  {
   "cell_type": "markdown",
   "metadata": {},
   "source": [
    "6 Does not satisfy, no negative circle \n",
    "8 Does not satisfy, if c + d = 0\n"
   ]
  },
  {
   "cell_type": "markdown",
   "metadata": {},
   "source": [
    "## Spans:\n",
    "\n",
    "&#9989; <font color=red>**DO THIS:**</font> Let $v$, $v_1$, and $v_2$ be vectors in a vector space $V$. \n",
    "Let $v$ be a linear combination of $v_1$ and $v_2$. \n",
    "If $c_1$ and $c_2$ are nonzero real numbers, show that $v$ is also a linear combination of $c_1v_1$ and $c_2v_2$."
   ]
  },
  {
   "cell_type": "markdown",
   "metadata": {},
   "source": [
    "v = xv1 + yv2\n",
    "c1v1 + c2v2 = xv1 + yv2\n"
   ]
  },
  {
   "cell_type": "markdown",
   "metadata": {},
   "source": [
    "&#9989; <font color=red>**DO THIS:**</font> Let $v_1$ and $v_2$ span a vector space $V$. \n",
    "Let $v_3$ be any other vector in $V$. \n",
    "Show that $v_1$, $v_2$, and $v_3$ also span $V$."
   ]
  },
  {
   "cell_type": "markdown",
   "metadata": {},
   "source": [
    "Closure Axiom #1\n",
    "v1 + v2 = v\n",
    "v + v3 = v4\n"
   ]
  },
  {
   "cell_type": "markdown",
   "metadata": {},
   "source": [
    "## Linear Independent:\n",
    "Read the definition for *Linear Dependent* and *Linearly independent* in the textbook and consider the following matrix, which is in the reduced row echelon form.\n",
    "\n",
    "\n",
    "$$ \n",
    "\\left[\n",
    "\\begin{matrix}\n",
    "    1   & 0 & 0 & 7  \\\\\n",
    "    0   & 1 & 0 & 4  \\\\\n",
    "    0   & 0 & 1 & 3\n",
    "\\end{matrix}\n",
    "\\right] \n",
    "$$\n",
    "\n",
    "&#9989; <font color=red>**DO THIS:**</font> Show that the row vectors form a linearly independent set:\n"
   ]
  },
  {
   "cell_type": "markdown",
   "metadata": {},
   "source": [
    "np.matrix([[1,0,0],[0,1,0],[0,0,1],[7,4,3]])*np.matrix([[a],[b],[c]) = np.matrix([[0],[0],[0]])\n",
    "reduce form ^\n"
   ]
  },
  {
   "cell_type": "markdown",
   "metadata": {},
   "source": [
    "&#9989; <font color=red>**DO THIS:**</font> Is the set of nonzero row vectors of any matrix in reduced row echelon form linearly independent? Discuss in your groups and include your thoughts below."
   ]
  },
  {
   "cell_type": "markdown",
   "metadata": {},
   "source": [
    "Yes"
   ]
  },
  {
   "cell_type": "markdown",
   "metadata": {},
   "source": [
    "&#9989; <font color=red>**DO THIS:**</font> A computer program accepts a number of vectors in $R^3$ as input and checks to see if the vectors are linearly independent and outputs a True/False statment. \n",
    "Discuss in your groups, which is more likely to happen due to round-off error--that the computer states that a given set of linearly independent vectors is linearly dependent, or vice versa? \n",
    "Put your groups thoughts below."
   ]
  },
  {
   "cell_type": "markdown",
   "metadata": {},
   "source": [
    "dependant are more likely to be independedent"
   ]
  },
  {
   "cell_type": "markdown",
   "metadata": {},
   "source": [
    "-----\n",
    "### Congratulations, we're almost done!\n",
    "\n",
    "Now, you just need to submit this assignment by uploading it to the course <a href=\"https://d2l.msu.edu/\">Desire2Learn</a> web page for today's dropbox (Don't forget to add your names in the first cell).\n"
   ]
  },
  {
   "cell_type": "markdown",
   "metadata": {},
   "source": [
    "&#169; Copyright 2018,  Michigan State University Board of Trustees"
   ]
  }
 ],
 "metadata": {
  "kernelspec": {
   "display_name": "Python 3",
   "language": "python",
   "name": "python3"
  },
  "language_info": {
   "codemirror_mode": {
    "name": "ipython",
    "version": 3
   },
   "file_extension": ".py",
   "mimetype": "text/x-python",
   "name": "python",
   "nbconvert_exporter": "python",
   "pygments_lexer": "ipython3",
   "version": "3.7.1"
  }
 },
 "nbformat": 4,
 "nbformat_minor": 1
}
