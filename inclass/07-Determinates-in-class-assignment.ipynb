{
 "cells": [
  {
   "cell_type": "markdown",
   "metadata": {},
   "source": [
    "## <p style=\"text-align: right;\"> &#9989; Nic Wiggins </p>"
   ]
  },
  {
   "cell_type": "markdown",
   "metadata": {},
   "source": [
    "You **NEED** to participate both individually and in groups in class to successfully complete this assignment and receive credits for it."
   ]
  },
  {
   "cell_type": "markdown",
   "metadata": {},
   "source": [
    "# In-Class Assignment: Determinants"
   ]
  },
  {
   "cell_type": "markdown",
   "metadata": {},
   "source": [
    "### Agenda for today's class (80 minutes)\n",
    "\n",
    "</p>\n",
    "\n",
    "1. (20 minutes) Review Pre-class Assignment\n",
    "1. (30 minutes) Project Planning\n",
    "1. (30 minutes) Systems of Linear Equations with Many Solutions"
   ]
  },
  {
   "cell_type": "markdown",
   "metadata": {},
   "source": [
    "# 1. Review Pre-class Assignment\n",
    "\n",
    "[07--Determinantes-pre-class-assignment](../preclass/07--Determinantes-pre-class-assignment.ipynb)"
   ]
  },
  {
   "cell_type": "markdown",
   "metadata": {},
   "source": [
    "---\n",
    "# 2. Project Planning\n",
    "\n",
    "For your semester project, we will be interviewing faculty about how they use \"Linear Algebra\" in their research.  An proposed time-line for the project can now be found on the Class Schedule: \n",
    "\n",
    "- [Class Schedule](https://docs.google.com/spreadsheets/d/e/2PACX-1vQWVaZt0l_HSc9mySweZOX4RgjF0nDqMc2nl53bQMkWT9Gk6FhyZAEkw4SaciUkCk5cmWOyXgmcgoGp/pubhtml?gid=930190082&single=true)\n",
    "\n",
    "&#9989; <font color=red>**DO THIS:**</font> Let's think about what would make good interview questions.  Write down a few and share them with your neighbors.  \n",
    "\n",
    "- **THINK:** On your own, come up with a minimum of three \"good\" interview questions.\n",
    "    - How does LA show up in your research?\n",
    "    - How does it simplify your research?\n",
    "    - What aspects of LA do you utlize the most?\n",
    "    - Is it doable without? \n",
    "        - What would other methods be?\n",
    "    - What do you use to implement?\n",
    "        - What specific packages?\n",
    "    - How do you use LA to visualize your data?\n",
    "    - How big is your data, how does that affect the way you go about your research? \n",
    "\n",
    "    \n",
    "- **PAIR:** Share your three questions with your group. Discuss the pros and cons of each question.\n",
    "- **SHARE:** Share your questions with the class. \n",
    "\n",
    "&#9989; <font color=red>**DO THIS:**</font> Come up with a list of three faculty you would like to interview. I will include a question on the next pre-class assignment. "
   ]
  },
  {
   "cell_type": "markdown",
   "metadata": {},
   "source": [
    "You can put your faculty ideas here..."
   ]
  },
  {
   "cell_type": "markdown",
   "metadata": {},
   "source": [
    "----\n",
    "\n",
    "# 3. Systems of Linear Equations with Many Solutions\n",
    "\n",
    "When we solve a system of equations, we mentioned that we may have three outcomes: unique solution, no solution (inconsistent), infinity many solutions. \n",
    "\n",
    "**A system is inconstent means that $b$ is not in the sub space spanned by all the columns**\n",
    "\n",
    "Assume that we have $m$ equations and $n$ unkowns. \n",
    "\n",
    "**Case 1** $m< n$, we do not have enough equations, there will be only two outcomes: no solution, or infinity many solutions. \n",
    "\n",
    "**Case 2** $m= n$, we may have all three outcomes. If the determinate is nonzero, we have unique solution, otherwise, we have to decide the outcome based on augmented matrix. \n",
    "\n",
    "**Case 3** $m>n$, we have more equations than the number of unknowns. That means there will be redundant equations (we can remove them) or conflict equations (no solution). We may have all three outcomes. \n",
    "\n"
   ]
  },
  {
   "cell_type": "markdown",
   "metadata": {},
   "source": [
    "We talked about several methods for solving the system of equations. The most general one is the Gauss-Jordan or Gaussian elimination, which works for all three cases. Note that Jacobian and Gauss-Seidel can not work on Case 1 and Case 3. \n",
    "\n",
    "We will focus on the Gaussian elimination.  After the Gaussian elimiation, we look at the last several rows (could be zero) with all zeros except the last column. \n",
    "\n",
    "If one element from the corresponding right hand side is not zero, we have that $0$ equals some nonzero number, which is impossible. Therefore, there is no solution. E.g., \n",
    "$$\\left[\n",
    "\\begin{matrix}\n",
    "    1 & 0 & 0  \\\\\n",
    "    0 & 1 & 0  \\\\\n",
    "    0 & 0 & 1  \\\\\n",
    "    0 & 0 & 0\n",
    " \\end{matrix}\n",
    " \\, \\middle\\vert \\,\n",
    "\\begin{matrix}\n",
    "2 \\\\ 3 \\\\ 4 \\\\ 5\n",
    "\\end{matrix}\n",
    "\\right] \n",
    "$$\n",
    "In this case, we say that the system is *inconsistent*. We will focus on consistent systems only.\n",
    "\n",
    "Otherwise, we remove all the rows with all zeros (which is the same as removing redundant equations). \n",
    "If the number of remaining equations is the same as the number of unknowns, the rref is an identity matrix, and we have unique solution. E.g.,\n",
    "$$\\left[\n",
    "\\begin{matrix}\n",
    "    1 & 0 & 0  \\\\\n",
    "    0 & 1 & 0  \\\\\n",
    "    0 & 0 & 1  \\\\\n",
    "    0 & 0 & 0\n",
    " \\end{matrix}\n",
    " \\, \\middle\\vert \\,\n",
    "\\begin{matrix}\n",
    "2 \\\\ 3 \\\\ 4 \\\\ 0\n",
    "\\end{matrix}\n",
    "\\right] \n",
    " \\Rightarrow \\left[\n",
    "\\begin{matrix}\n",
    "    1 & 0 & 0  \\\\\n",
    "    0 & 1 & 0  \\\\\n",
    "    0 & 0 & 1  \\\\\n",
    " \\end{matrix}\n",
    " \\, \\middle\\vert \\,\n",
    "\\begin{matrix}\n",
    "2 \\\\ 3 \\\\ 4 \n",
    "\\end{matrix}\n",
    "\\right] $$"
   ]
  },
  {
   "cell_type": "markdown",
   "metadata": {},
   "source": [
    "If the number of remaining equations is less than the number of unknonws, we have infinite many solutions. E.g., \n",
    "$$\\left[\n",
    "\\begin{matrix}\n",
    "    1 & 0 & 0  \\\\\n",
    "    0 & 1 & 0  \\\\\n",
    "    0 & 0 & 0\n",
    " \\end{matrix}\n",
    " \\, \\middle\\vert \\,\n",
    "\\begin{matrix}\n",
    "2 \\\\ 3  \\\\ 0\n",
    "\\end{matrix}\n",
    "\\right] \n",
    " \\Rightarrow \\left[\n",
    "\\begin{matrix}\n",
    "    1 & 0 & 0  \\\\\n",
    "    0 & 1 & 0  \\\\\n",
    " \\end{matrix}\n",
    " \\, \\middle\\vert \\,\n",
    "\\begin{matrix}\n",
    "2 \\\\ 3  \n",
    "\\end{matrix}\n",
    "\\right] \\Rightarrow x= [2, 3, x_3]^\\top $$\n",
    "where $x_3$ is a free variable.\n",
    "\n",
    "$$\\left[\n",
    "\\begin{matrix}\n",
    "    1 & 2 & 0  \\\\\n",
    "    0 & 0 & 1  \\\\\n",
    "    0 & 0 & 0\n",
    " \\end{matrix}\n",
    " \\, \\middle\\vert \\,\n",
    "\\begin{matrix}\n",
    "2 \\\\ 3  \\\\ 0\n",
    "\\end{matrix}\n",
    "\\right] \n",
    " \\Rightarrow \\left[\n",
    "\\begin{matrix}\n",
    "    1 & 2 & 0  \\\\\n",
    "    0 & 0 & 1  \\\\\n",
    " \\end{matrix}\n",
    " \\, \\middle\\vert \\,\n",
    "\\begin{matrix}\n",
    "2 \\\\ 3  \n",
    "\\end{matrix}\n",
    "\\right]  \\Rightarrow x= [2-2x_2, x_2, 3]$$\n",
    "where $x_2$ is a free variable.\n",
    "\n",
    "$$\\left[\n",
    "\\begin{matrix}\n",
    "    1 & 2 & 0 & 1 \\\\\n",
    "    0 & 0 & 1 & 3 \\\\\n",
    "    0 & 0 & 0 & 0\n",
    " \\end{matrix}\n",
    " \\, \\middle\\vert \\,\n",
    "\\begin{matrix}\n",
    "2 \\\\ 5  \\\\ 0\n",
    "\\end{matrix}\n",
    "\\right] \n",
    " \\Rightarrow \\left[\n",
    "\\begin{matrix}\n",
    "    1 & 2 & 0 & 1 \\\\\n",
    "    0 & 0 & 1 & 3 \\\\\n",
    " \\end{matrix}\n",
    " \\, \\middle\\vert \\,\n",
    "\\begin{matrix}\n",
    "2 \\\\ 5 \n",
    "\\end{matrix}\n",
    "\\right]  \\Rightarrow x= [2-2x_2-x_4, x_2, 5-3x_4, x_4]$$\n",
    "where $x_2$ and $x_4$ are free variables."
   ]
  },
  {
   "cell_type": "markdown",
   "metadata": {},
   "source": [
    "&#9989; <font color=red>**QUESTION:**</font>  Assume that the system is consistent, why the number of equations can not be larger than the number of unknowns after the redundant equations are removed? "
   ]
  },
  {
   "cell_type": "markdown",
   "metadata": {},
   "source": [
    "The matrix becomes upper triangular matrix, the bottom row would have to be all 0, and thrown out"
   ]
  },
  {
   "cell_type": "markdown",
   "metadata": {},
   "source": [
    "&#9989; <font color=red>**DO THIS:**</font> If there are two solutions for $Ax=b$, that is $Ax=b$ and $Ax'=b$ while $x\\neq x'$. Check that $A(cx+(1-c)x') = b$ for any real number $c$. Therefore, if we have two solutions, we have infinite many solutions."
   ]
  },
  {
   "cell_type": "markdown",
   "metadata": {},
   "source": [
    "\n",
    "$$ A(cx) + A((1-c)x') $$\n",
    "$$ cAx + (1-c)Ax' $$\n",
    "$$ cb + (1-c)b $$\n",
    "$$ [c + (1-c)]b $$\n",
    "$$ b $$"
   ]
  },
  {
   "cell_type": "markdown",
   "metadata": {},
   "source": [
    "If $Ax=b$ and $Ax'=b$, then we have $A(x-x')=0$. If $x$ is a **particular** solution to $Ax=b$, then all the solutions to $Ax=b$ are $\\{x+v: $v$ \\mbox{ is a solution to the homogeneous system } Av=0\\}$. \n",
    "\n",
    "**The solution for $Ax=0$ is always a subspace.** "
   ]
  },
  {
   "cell_type": "markdown",
   "metadata": {},
   "source": [
    "After removing the redundant rows, if the number of equations is the same as the number of unknowns, we have unique solutions. If the difference between this two number is 1, all the solutions lie on a line. If the difference is 2, all the solutions lie on a 2-D plane.  "
   ]
  },
  {
   "cell_type": "markdown",
   "metadata": {},
   "source": [
    "&#9989; <font color=red>**QUESTION:**</font>  What is the solution to the folling set of linear equations in augmented matrix form?\n",
    "\n",
    "$$A = \n",
    "\\left[\n",
    "\\begin{matrix}\n",
    "    -2 & 4 & 8  \\\\\n",
    "    1 & -2 & 4  \\\\\n",
    "    4 & -8 & 16 \n",
    " \\end{matrix}\n",
    " \\, \\middle\\vert \\,\n",
    "\\begin{matrix}\n",
    "0 \\\\ 0 \\\\ 0\n",
    "\\end{matrix}\n",
    "\\right] \n",
    "$$"
   ]
  },
  {
   "cell_type": "markdown",
   "metadata": {},
   "source": [
    "$$A = \n",
    "\\left[\n",
    "\\begin{matrix}\n",
    "    1 & -2 & 0  \\\\\n",
    "    0 & 0 & 8  \\\\\n",
    "    0 & 0 & 0 \n",
    " \\end{matrix}\n",
    " \\, \\middle\\vert \\,\n",
    "\\begin{matrix}\n",
    "0 \\\\ 0 \\\\ 0\n",
    "\\end{matrix}\n",
    "\\right] \n",
    "$$\n",
    "\n",
    "$$ R3 = -4R2+R3 $$ \n",
    "$$ R2 = 1/2R1+R2 $$ \n",
    "$$ R1 = R1 - R2 $$ \n",
    "$$ R1 = -1/2R1 $$ \n",
    "\n"
   ]
  },
  {
   "cell_type": "markdown",
   "metadata": {},
   "source": [
    "-----\n",
    "### Congratulations, we're done!\n",
    "\n",
    "Now, you just need to submit this assignment by uploading it to the course <a href=\"https://d2l.msu.edu/\">Desire2Learn</a> web page for today's dropbox (Don't forget to add your names in the first cell).\n"
   ]
  },
  {
   "cell_type": "markdown",
   "metadata": {},
   "source": [
    "-----\n",
    "### Congratulations, we're done!"
   ]
  },
  {
   "cell_type": "markdown",
   "metadata": {},
   "source": [
    "&#169; Copyright 2018,  Michigan State University Board of Trustees"
   ]
  }
 ],
 "metadata": {
  "kernelspec": {
   "display_name": "Python 3",
   "language": "python",
   "name": "python3"
  },
  "language_info": {
   "codemirror_mode": {
    "name": "ipython",
    "version": 3
   },
   "file_extension": ".py",
   "mimetype": "text/x-python",
   "name": "python",
   "nbconvert_exporter": "python",
   "pygments_lexer": "ipython3",
   "version": "3.7.1"
  }
 },
 "nbformat": 4,
 "nbformat_minor": 2
}
