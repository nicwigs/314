{
 "cells": [
  {
   "cell_type": "markdown",
   "metadata": {},
   "source": [
    "## <p style=\"text-align: right;\"> Nic Wiggins</p>"
   ]
  },
  {
   "cell_type": "markdown",
   "metadata": {},
   "source": [
    "In order to successfully complete this assignment, you need to participate both individually and in groups during class."
   ]
  },
  {
   "cell_type": "markdown",
   "metadata": {},
   "source": [
    "# In-Class Assignment: Solving Systems of Linear Equations\n",
    "\n",
    "<img src=\"https://upload.wikimedia.org/wikipedia/commons/thumb/c/c3/Sextic_Graph.svg/1200px-Sextic_Graph.svg.png\" width='50%'>\n",
    "    "
   ]
  },
  {
   "cell_type": "markdown",
   "metadata": {},
   "source": [
    "### Agenda for today's class (80 minutes)\n",
    "\n",
    "</p>\n",
    "\n",
    "1. (20 minutes) Understanding the Column Picture and Spanning a Space.\n",
    "1. (20 minutes) Review\n",
    "1. (20 minutes) Solving Systems of Linear equations\n",
    "1. (20 minutes) Practice - Curve Fitting Example"
   ]
  },
  {
   "cell_type": "code",
   "execution_count": 1,
   "metadata": {},
   "outputs": [],
   "source": [
    "# Here are some libraries you may need to use\n",
    "%matplotlib inline\n",
    "import matplotlib.pylab as plt\n",
    "import numpy as np\n",
    "import sympy as sym\n",
    "import math\n",
    "sym.init_printing()"
   ]
  },
  {
   "cell_type": "markdown",
   "metadata": {},
   "source": [
    "# 1. Understanding the column picture and Spanning a space.\n",
    "\n",
    "In the first pre-class assignment, we talked about the column picture for a system of linear equations. Here, we emphasize it here again. Consider the following:"
   ]
  },
  {
   "cell_type": "markdown",
   "metadata": {},
   "source": [
    "### Column vector format:\n",
    "\n",
    "We can write a system of equations as a linear combination of column vectors:\n",
    "\n",
    "$$ \n",
    "c\n",
    "\\left[\n",
    "\\begin{matrix}\n",
    "    1 \\\\ 20  \n",
    " \\end{matrix}\n",
    "\\right]\n",
    "+\n",
    "b\n",
    "\\left[\n",
    "\\begin{matrix}\n",
    "    1 \\\\ 25  \n",
    " \\end{matrix}\n",
    "\\right]\n",
    "=\n",
    "\\left[\n",
    "\\begin{matrix}\n",
    " 30 \\\\ 690\n",
    "\\end{matrix}\n",
    "\\right]\n",
    "$$\n",
    "\n",
    "**Note** We did this problem before, and the solution to this set of equations is $c=12$ and $b=18$"
   ]
  },
  {
   "cell_type": "markdown",
   "metadata": {},
   "source": [
    "### Column Picture:\n",
    "\n",
    "Lets plot this \"column picture\" which shows how the above equation is a \"linear combination\" of the two column vectors.  \n",
    "\n",
    "One way to think about this is we can only move in straight lines in two directions. The first direction is (1,20) and the second is (1,25).  The solution to the problem is how far in each direction we need to move to get at our final destination of (30,690).\n",
    "\n",
    "The first column is a vector in the (1,20) direction. The variable $c$ is how far in the (1,20) direction we want to go.  Then $b$ is how far in the (1,25) direction we want to go to arrive at the point (30,690).\n",
    "\n",
    "We will use the ```matplotlib``` function ```arrow``` to plot the vectors.  The arrow function takes a starting point $[x,y]$ and a direction $[dx,dy]$ as inputs and draws an error from the starting point in the direction specified."
   ]
  },
  {
   "cell_type": "markdown",
   "metadata": {},
   "source": [
    "First we plot the first column as a vector. From the origin (0,0) to $c\\left[\n",
    "\\begin{matrix}\n",
    "    1 \\\\ 20  \n",
    " \\end{matrix}\n",
    "\\right]$\n",
    "\n",
    "**or** $x = c$ and $y = 20c$ with $c=12$"
   ]
  },
  {
   "cell_type": "code",
   "execution_count": 2,
   "metadata": {},
   "outputs": [
    {
     "data": {
      "text/plain": [
       "<matplotlib.patches.FancyArrow at 0x7efdd45b7cf8>"
      ]
     },
     "execution_count": 2,
     "metadata": {},
     "output_type": "execute_result"
    },
    {
     "data": {
      "image/png": "[encoded data removed]",
      "text/plain": [
       "<Figure size 432x288 with 1 Axes>"
      ]
     },
     "metadata": {},
     "output_type": "display_data"
    }
   ],
   "source": [
    "c = 12\n",
    "\n",
    "#hack to inicialize bounds of plot (need this to get the arrows to work?)\n",
    "plt.plot(0,0)\n",
    "plt.plot(30,690)\n",
    "\n",
    "# Plot the first arrow \n",
    "plt.arrow(0, 0, c*1, c*20,head_width=2, head_length=10, fc='blue', ec='blue')"
   ]
  },
  {
   "cell_type": "markdown",
   "metadata": {},
   "source": [
    "Then, we plot the second column as a vector by adding it to the first one. This ```arrow``` starts at the end of the previous vector and \"add\" the second column vector:"
   ]
  },
  {
   "cell_type": "code",
   "execution_count": 3,
   "metadata": {},
   "outputs": [
    {
     "data": {
      "text/plain": [
       "<matplotlib.patches.FancyArrow at 0x7efdd455dac8>"
      ]
     },
     "execution_count": 3,
     "metadata": {},
     "output_type": "execute_result"
    },
    {
     "data": {
      "image/png": "[encoded data removed]",
      "text/plain": [
       "<Figure size 432x288 with 1 Axes>"
      ]
     },
     "metadata": {},
     "output_type": "display_data"
    }
   ],
   "source": [
    "b = 18\n",
    "\n",
    "#hack to inicialize bounds of plot (need this to get the arrows to work?)\n",
    "plt.plot(0,0)\n",
    "plt.plot(30,690)\n",
    "\n",
    "# Plot the first arrow\n",
    "plt.arrow(0, 0, c*1, c*20,head_width=2, head_length=10, fc='blue', ec='blue')\n",
    "\n",
    "#Plot the second arrow starting at the end of the first\n",
    "plt.arrow(c, c*20, b*1, b*25, head_width=2, head_length=10, fc='red', ec='red')"
   ]
  },
  {
   "cell_type": "markdown",
   "metadata": {},
   "source": [
    "The takeaway to this figure is that these two column vectors, when added together, end up at the a point that represents the right hand side of the above equation (i.e. 30, 690). "
   ]
  },
  {
   "cell_type": "code",
   "execution_count": 4,
   "metadata": {
    "scrolled": false
   },
   "outputs": [
    {
     "data": {
      "image/png": "[encoded data removed]",
      "text/plain": [
       "<Figure size 432x288 with 1 Axes>"
      ]
     },
     "metadata": {},
     "output_type": "display_data"
    }
   ],
   "source": [
    "#hack to inicialize bounds of plot (need this to get the arrows to work?)\n",
    "plt.plot(0,0)\n",
    "plt.plot(30,690)\n",
    "\n",
    "# Plot the first arrow\n",
    "plt.arrow(0, 0, c*1, c*20,head_width=2, head_length=10, fc='blue', ec='blue')\n",
    "\n",
    "#Plot the second arrow starting at the end of the first\n",
    "plt.arrow(c, c*20, b*1, b*25, head_width=2, head_length=10, fc='red', ec='red')\n",
    "\n",
    "#Plot a righthand column vector as a point.\n",
    "plt.scatter(30,690, color='purple', s=50)\n",
    "plt.xlabel('x');\n",
    "plt.ylabel('y');"
   ]
  },
  {
   "cell_type": "markdown",
   "metadata": {},
   "source": [
    "We say that the two column vectors \"**span**\" the $xy$-plane.  This means that any point on the $xy$-plane can be represented as a linear combination of the two vectors.  \n",
    "\n",
    "<font color=red>**QUESTION:**</font> Give an example of two column vectors that do **NOT** span the $xy-$plane:"
   ]
  },
  {
   "cell_type": "markdown",
   "metadata": {},
   "source": [
    "$ \\left[\n",
    "\\begin{matrix}\n",
    "    0 \\\\ 20  \n",
    " \\end{matrix}\n",
    "\\right]$\n",
    "and\n",
    "$ \\left[\n",
    "\\begin{matrix}\n",
    "    0 \\\\ 3  \n",
    " \\end{matrix}\n",
    "\\right]$\n",
    "\n",
    "Have to be in the same direction/colinear"
   ]
  },
  {
   "cell_type": "markdown",
   "metadata": {},
   "source": [
    "----\n",
    "\n",
    "# 2. Review\n",
    "- Pre-class assignment - [02--Python_Linear_Algebra_Packages-pre-class-assignment](02--Python_Linear_Algebra_Packages-pre-class-assignment.ipynb)\n"
   ]
  },
  {
   "cell_type": "markdown",
   "metadata": {},
   "source": [
    "----\n",
    "# 3. Solving Systems of Linear equations \n",
    "Remember the following set of equations from the mass weight example:\n",
    "\n",
    "<img src=\"https://goo.gl/h2cqwE\" align=\"center\" width=\"70%\">\n",
    "\n",
    "$$40A + 15B = 100$$\n",
    "$$25B = 50 + 50A$$\n"
   ]
  },
  {
   "cell_type": "markdown",
   "metadata": {},
   "source": [
    "<font color=red>**QUESTION:**</font>  Formulate the above system of equations as the problem $Ax=b$. Define the matrices $A$ and $b$ as ```numpy``` matrices:"
   ]
  },
  {
   "cell_type": "code",
   "execution_count": 30,
   "metadata": {},
   "outputs": [],
   "source": [
    "#Put your code here\n",
    "A = np.matrix([[40,15],[-50,25]])\n",
    "b = np.matrix([[100],[50]])"
   ]
  },
  {
   "cell_type": "markdown",
   "metadata": {},
   "source": [
    "<font color=red>**QUESTION:**</font>  solve the above system of equations using the ```np.linalg.solve``` function:"
   ]
  },
  {
   "cell_type": "code",
   "execution_count": 31,
   "metadata": {},
   "outputs": [
    {
     "name": "stdout",
     "output_type": "stream",
     "text": [
      "[[1.]\n",
      " [4.]]\n"
     ]
    }
   ],
   "source": [
    "x = np.linalg.solve(A,b)\n",
    "print(x)"
   ]
  },
  {
   "cell_type": "markdown",
   "metadata": {},
   "source": [
    " <font color=red>**DO THIS:**</font> Write the code to draw the above solution as a column picture. "
   ]
  },
  {
   "cell_type": "code",
   "execution_count": 36,
   "metadata": {},
   "outputs": [
    {
     "data": {
      "text/plain": [
       "<matplotlib.patches.FancyArrow at 0x7efdd40f3240>"
      ]
     },
     "execution_count": 36,
     "metadata": {},
     "output_type": "execute_result"
    },
    {
     "data": {
      "image/png": "[encoded data removed]",
      "text/plain": [
       "<Figure size 432x288 with 1 Axes>"
      ]
     },
     "metadata": {},
     "output_type": "display_data"
    }
   ],
   "source": [
    "c = 1\n",
    "b = 4\n",
    "#hack to inicialize bounds of plot (need this to get the arrows to work?)\n",
    "plt.plot(0,-70)\n",
    "plt.plot(100,50)\n",
    "\n",
    "# Plot the first arrow\n",
    "plt.arrow(0, 0, c*40, c*-50,head_width=2, head_length=10, fc='blue', ec='blue')\n",
    "\n",
    "#Plot the second arrow starting at the end of the first\n",
    "plt.arrow(c*40, c*-50, b*15, b*25, head_width=2, head_length=10, fc='red', ec='red')"
   ]
  },
  {
   "cell_type": "markdown",
   "metadata": {},
   "source": [
    "----\n",
    "# 4. Practice - Curve Fitting Example\n",
    "\n",
    "Consider the following polynomial that falls on the $xy$-plane:\n",
    "\n",
    "$$y = ax^2 + bx + c$$\n"
   ]
  },
  {
   "cell_type": "markdown",
   "metadata": {},
   "source": [
    "<font color=red>**Question a:**</font>  Assume that points (1,2), (-1,12), and (2,3) are on the polynomial. Generate a system of linear equations to solve for $a$, $b$, and $c$. Express your equations in the form $Ax=b$ and define $A$ and $b$ as numpy matrices."
   ]
  },
  {
   "cell_type": "code",
   "execution_count": 39,
   "metadata": {},
   "outputs": [
    {
     "name": "stdout",
     "output_type": "stream",
     "text": [
      "[[ 1  1  1]\n",
      " [ 1 -1  1]\n",
      " [ 4  2  1]]\n",
      "[[ 2]\n",
      " [12]\n",
      " [ 3]]\n"
     ]
    }
   ],
   "source": [
    "A = np.matrix([[1,1,1],[1,-1,1],[4,2,1]])\n",
    "b = np.matrix([[2],[12],[3]])\n",
    "print(A)\n",
    "print(b)"
   ]
  },
  {
   "cell_type": "markdown",
   "metadata": {},
   "source": [
    "<font color=red>** Question b:**</font> Write the code to solve for $x$ (i.e., ($a,b,c$)) using ```numpy```."
   ]
  },
  {
   "cell_type": "code",
   "execution_count": 41,
   "metadata": {},
   "outputs": [
    {
     "data": {
      "text/plain": [
       "matrix([[ 2.],\n",
       "        [-5.],\n",
       "        [ 5.]])"
      ]
     },
     "execution_count": 41,
     "metadata": {},
     "output_type": "execute_result"
    }
   ],
   "source": [
    "np.linalg.solve(A,b)"
   ]
  },
  {
   "cell_type": "markdown",
   "metadata": {},
   "source": [
    "<font color=red>** Question c:**</font> Given the value of your $x$ matrix derived in the previous question, what are the values for $a$, $b$, and $c$?"
   ]
  },
  {
   "cell_type": "code",
   "execution_count": 44,
   "metadata": {},
   "outputs": [],
   "source": [
    "#Put your answer to the above question here.\n",
    "a = 2\n",
    "b = -5\n",
    "c = 5"
   ]
  },
  {
   "cell_type": "markdown",
   "metadata": {},
   "source": [
    "Assuming the above is correct, the following code will print your 2nd order polynomial and plot the original points:"
   ]
  },
  {
   "cell_type": "code",
   "execution_count": 45,
   "metadata": {
    "scrolled": false
   },
   "outputs": [
    {
     "data": {
      "text/plain": [
       "Text(0,0.5,'y-axis')"
      ]
     },
     "execution_count": 45,
     "metadata": {},
     "output_type": "execute_result"
    },
    {
     "data": {
      "image/png": "[encoded data removed]",
      "text/plain": [
       "<Figure size 432x288 with 1 Axes>"
      ]
     },
     "metadata": {},
     "output_type": "display_data"
    }
   ],
   "source": [
    "x = np.linspace(-3,3)\n",
    "y = a*x**2 + b*x + c\n",
    "\n",
    "#plot the function. (Transpose is needed to make the data line up).\n",
    "plt.plot(x,y.transpose())\n",
    "\n",
    "#Plot the original points\n",
    "plt.scatter(1, 2)\n",
    "plt.scatter(-1, 12)\n",
    "plt.scatter(2, 3)\n",
    "plt.xlabel('x-axis')\n",
    "plt.ylabel('y-axis')"
   ]
  },
  {
   "cell_type": "markdown",
   "metadata": {},
   "source": [
    "&#9989; <font color=red>** Question d:**</font> The following program is intended to take four points as inputs ($p1, p2, p3, p4 \\in R^2$) and calculate the coefficients $a$, $b$, $c$, and $d$ so that the graph of $f(x) = ax^3 + bx^2 + cx + d$ passes smoothly through the points.  Test the function with the following points (1,2), (-1,6), (2,3), (3,2) as inputs and print the values for $a$, $b$, $c$, and $d$."
   ]
  },
  {
   "cell_type": "code",
   "execution_count": 76,
   "metadata": {},
   "outputs": [],
   "source": [
    "def fitPoly3(p1,p2,p3,p4):\n",
    "    A = np.matrix([[p1[0]**3, p1[0]**2, p1[0], 1],\n",
    "                   [p2[0]**3, p2[0]**2, p2[0], 1],\n",
    "                   [p3[0]**3, p3[0]**2, p3[0], 1],\n",
    "                   [p4[0]**3, p4[0]**2, p4[0], 1]])\n",
    "    \n",
    "    b = np.matrix([p1[1],p2[1],p3[1],p4[1]]).T\n",
    "\n",
    "    X = np.linalg.solve(A, b)\n",
    "    a = X.item(0)\n",
    "    b = X.item(1)\n",
    "    c = X.item(2)\n",
    "    d = X.item(3)\n",
    "    \n",
    "    #Try putting your figure generation code here\n",
    "    x = np.linspace(-3,3)\n",
    "    y = a*x**3 + b*x**2 + c*x + d\n",
    "\n",
    "    #plot the function. (Transpose is needed to make the data line up).\n",
    "    plt.plot(x,y.transpose())\n",
    "\n",
    "    #Plot the original points\n",
    "    plt.scatter(p1[0],p1[1])\n",
    "    plt.scatter(p2[0],p2[1])\n",
    "    plt.scatter(p3[0],p3[1])\n",
    "    plt.scatter(p4[0],p4[1])\n",
    "    plt.xlabel('x-axis')\n",
    "    plt.ylabel('y-axis')\n",
    "    \n",
    "    return (a,b,c,d)"
   ]
  },
  {
   "cell_type": "code",
   "execution_count": 77,
   "metadata": {},
   "outputs": [
    {
     "data": {
      "image/png": "[encoded data removed]",
      "text/latex": [
       "$$\\left ( -0.5000000000000001, \\quad 2.0000000000000004, \\quad -1.5000000000000004, \\quad 2.0\\right )$$"
      ],
      "text/plain": [
       "(-0.5000000000000001, 2.0000000000000004, -1.5000000000000004, 2.0)"
      ]
     },
     "execution_count": 77,
     "metadata": {},
     "output_type": "execute_result"
    },
    {
     "data": {
      "image/png": "[encoded data removed]",
      "text/plain": [
       "<Figure size 432x288 with 1 Axes>"
      ]
     },
     "metadata": {},
     "output_type": "display_data"
    }
   ],
   "source": [
    "p1 = [1,2]\n",
    "p2 = [-1,6]\n",
    "p3 = [2,3]\n",
    "p4 = [3,2]\n",
    "coef = fitPoly3(p1,p2,p3,p4)\n",
    "coef"
   ]
  },
  {
   "cell_type": "markdown",
   "metadata": {},
   "source": [
    "<font color=red>**Question e**</font> Modify the above ```fitpoly3``` function to also generate a figure of the input points and the resulting polynomial in range ```x=(-3,3)```. "
   ]
  },
  {
   "cell_type": "code",
   "execution_count": 78,
   "metadata": {},
   "outputs": [],
   "source": [
    "# Put the answer to the above question above or copy and paste the above function and modify it in this cell. "
   ]
  },
  {
   "cell_type": "markdown",
   "metadata": {},
   "source": [
    "&#9989; <font color=red>**Question f**</font> Give any four $R^2$ input points to ```fitPoly3```, is there always a unique solution?  Explain your answer. "
   ]
  },
  {
   "cell_type": "code",
   "execution_count": 84,
   "metadata": {},
   "outputs": [
    {
     "ename": "LinAlgError",
     "evalue": "Singular matrix",
     "output_type": "error",
     "traceback": [
      "\u001b[0;31m---------------------------------------------------------------------------\u001b[0m",
      "\u001b[0;31mLinAlgError\u001b[0m                               Traceback (most recent call last)",
      "\u001b[0;32m<ipython-input-84-eaffa96aa961>\u001b[0m in \u001b[0;36m<module>\u001b[0;34m()\u001b[0m\n\u001b[1;32m      3\u001b[0m \u001b[0mp3\u001b[0m \u001b[0;34m=\u001b[0m \u001b[0;34m[\u001b[0m\u001b[0;36m2\u001b[0m\u001b[0;34m,\u001b[0m\u001b[0;36m3\u001b[0m\u001b[0;34m]\u001b[0m\u001b[0;34m\u001b[0m\u001b[0m\n\u001b[1;32m      4\u001b[0m \u001b[0mp4\u001b[0m \u001b[0;34m=\u001b[0m \u001b[0;34m[\u001b[0m\u001b[0;36m3\u001b[0m\u001b[0;34m,\u001b[0m\u001b[0;36m2\u001b[0m\u001b[0;34m]\u001b[0m\u001b[0;34m\u001b[0m\u001b[0m\n\u001b[0;32m----> 5\u001b[0;31m \u001b[0mcoef\u001b[0m \u001b[0;34m=\u001b[0m \u001b[0mfitPoly3\u001b[0m\u001b[0;34m(\u001b[0m\u001b[0mp1\u001b[0m\u001b[0;34m,\u001b[0m\u001b[0mp2\u001b[0m\u001b[0;34m,\u001b[0m\u001b[0mp3\u001b[0m\u001b[0;34m,\u001b[0m\u001b[0mp4\u001b[0m\u001b[0;34m)\u001b[0m\u001b[0;34m\u001b[0m\u001b[0m\n\u001b[0m\u001b[1;32m      6\u001b[0m \u001b[0mcoef\u001b[0m\u001b[0;34m\u001b[0m\u001b[0m\n\u001b[1;32m      7\u001b[0m \u001b[0;31m#Example of no solution\u001b[0m\u001b[0;34m\u001b[0m\u001b[0;34m\u001b[0m\u001b[0m\n",
      "\u001b[0;32m<ipython-input-76-2e9d367d886b>\u001b[0m in \u001b[0;36mfitPoly3\u001b[0;34m(p1, p2, p3, p4)\u001b[0m\n\u001b[1;32m      7\u001b[0m     \u001b[0mb\u001b[0m \u001b[0;34m=\u001b[0m \u001b[0mnp\u001b[0m\u001b[0;34m.\u001b[0m\u001b[0mmatrix\u001b[0m\u001b[0;34m(\u001b[0m\u001b[0;34m[\u001b[0m\u001b[0mp1\u001b[0m\u001b[0;34m[\u001b[0m\u001b[0;36m1\u001b[0m\u001b[0;34m]\u001b[0m\u001b[0;34m,\u001b[0m\u001b[0mp2\u001b[0m\u001b[0;34m[\u001b[0m\u001b[0;36m1\u001b[0m\u001b[0;34m]\u001b[0m\u001b[0;34m,\u001b[0m\u001b[0mp3\u001b[0m\u001b[0;34m[\u001b[0m\u001b[0;36m1\u001b[0m\u001b[0;34m]\u001b[0m\u001b[0;34m,\u001b[0m\u001b[0mp4\u001b[0m\u001b[0;34m[\u001b[0m\u001b[0;36m1\u001b[0m\u001b[0;34m]\u001b[0m\u001b[0;34m]\u001b[0m\u001b[0;34m)\u001b[0m\u001b[0;34m.\u001b[0m\u001b[0mT\u001b[0m\u001b[0;34m\u001b[0m\u001b[0m\n\u001b[1;32m      8\u001b[0m \u001b[0;34m\u001b[0m\u001b[0m\n\u001b[0;32m----> 9\u001b[0;31m     \u001b[0mX\u001b[0m \u001b[0;34m=\u001b[0m \u001b[0mnp\u001b[0m\u001b[0;34m.\u001b[0m\u001b[0mlinalg\u001b[0m\u001b[0;34m.\u001b[0m\u001b[0msolve\u001b[0m\u001b[0;34m(\u001b[0m\u001b[0mA\u001b[0m\u001b[0;34m,\u001b[0m \u001b[0mb\u001b[0m\u001b[0;34m)\u001b[0m\u001b[0;34m\u001b[0m\u001b[0m\n\u001b[0m\u001b[1;32m     10\u001b[0m     \u001b[0ma\u001b[0m \u001b[0;34m=\u001b[0m \u001b[0mX\u001b[0m\u001b[0;34m.\u001b[0m\u001b[0mitem\u001b[0m\u001b[0;34m(\u001b[0m\u001b[0;36m0\u001b[0m\u001b[0;34m)\u001b[0m\u001b[0;34m\u001b[0m\u001b[0m\n\u001b[1;32m     11\u001b[0m     \u001b[0mb\u001b[0m \u001b[0;34m=\u001b[0m \u001b[0mX\u001b[0m\u001b[0;34m.\u001b[0m\u001b[0mitem\u001b[0m\u001b[0;34m(\u001b[0m\u001b[0;36m1\u001b[0m\u001b[0;34m)\u001b[0m\u001b[0;34m\u001b[0m\u001b[0m\n",
      "\u001b[0;32m/opt/anaconda3/lib/python3.6/site-packages/numpy/linalg/linalg.py\u001b[0m in \u001b[0;36msolve\u001b[0;34m(a, b)\u001b[0m\n\u001b[1;32m    388\u001b[0m     \u001b[0msignature\u001b[0m \u001b[0;34m=\u001b[0m \u001b[0;34m'DD->D'\u001b[0m \u001b[0;32mif\u001b[0m \u001b[0misComplexType\u001b[0m\u001b[0;34m(\u001b[0m\u001b[0mt\u001b[0m\u001b[0;34m)\u001b[0m \u001b[0;32melse\u001b[0m \u001b[0;34m'dd->d'\u001b[0m\u001b[0;34m\u001b[0m\u001b[0m\n\u001b[1;32m    389\u001b[0m     \u001b[0mextobj\u001b[0m \u001b[0;34m=\u001b[0m \u001b[0mget_linalg_error_extobj\u001b[0m\u001b[0;34m(\u001b[0m\u001b[0m_raise_linalgerror_singular\u001b[0m\u001b[0;34m)\u001b[0m\u001b[0;34m\u001b[0m\u001b[0m\n\u001b[0;32m--> 390\u001b[0;31m     \u001b[0mr\u001b[0m \u001b[0;34m=\u001b[0m \u001b[0mgufunc\u001b[0m\u001b[0;34m(\u001b[0m\u001b[0ma\u001b[0m\u001b[0;34m,\u001b[0m \u001b[0mb\u001b[0m\u001b[0;34m,\u001b[0m \u001b[0msignature\u001b[0m\u001b[0;34m=\u001b[0m\u001b[0msignature\u001b[0m\u001b[0;34m,\u001b[0m \u001b[0mextobj\u001b[0m\u001b[0;34m=\u001b[0m\u001b[0mextobj\u001b[0m\u001b[0;34m)\u001b[0m\u001b[0;34m\u001b[0m\u001b[0m\n\u001b[0m\u001b[1;32m    391\u001b[0m \u001b[0;34m\u001b[0m\u001b[0m\n\u001b[1;32m    392\u001b[0m     \u001b[0;32mreturn\u001b[0m \u001b[0mwrap\u001b[0m\u001b[0;34m(\u001b[0m\u001b[0mr\u001b[0m\u001b[0;34m.\u001b[0m\u001b[0mastype\u001b[0m\u001b[0;34m(\u001b[0m\u001b[0mresult_t\u001b[0m\u001b[0;34m,\u001b[0m \u001b[0mcopy\u001b[0m\u001b[0;34m=\u001b[0m\u001b[0;32mFalse\u001b[0m\u001b[0;34m)\u001b[0m\u001b[0;34m)\u001b[0m\u001b[0;34m\u001b[0m\u001b[0m\n",
      "\u001b[0;32m/opt/anaconda3/lib/python3.6/site-packages/numpy/linalg/linalg.py\u001b[0m in \u001b[0;36m_raise_linalgerror_singular\u001b[0;34m(err, flag)\u001b[0m\n\u001b[1;32m     87\u001b[0m \u001b[0;34m\u001b[0m\u001b[0m\n\u001b[1;32m     88\u001b[0m \u001b[0;32mdef\u001b[0m \u001b[0m_raise_linalgerror_singular\u001b[0m\u001b[0;34m(\u001b[0m\u001b[0merr\u001b[0m\u001b[0;34m,\u001b[0m \u001b[0mflag\u001b[0m\u001b[0;34m)\u001b[0m\u001b[0;34m:\u001b[0m\u001b[0;34m\u001b[0m\u001b[0m\n\u001b[0;32m---> 89\u001b[0;31m     \u001b[0;32mraise\u001b[0m \u001b[0mLinAlgError\u001b[0m\u001b[0;34m(\u001b[0m\u001b[0;34m\"Singular matrix\"\u001b[0m\u001b[0;34m)\u001b[0m\u001b[0;34m\u001b[0m\u001b[0m\n\u001b[0m\u001b[1;32m     90\u001b[0m \u001b[0;34m\u001b[0m\u001b[0m\n\u001b[1;32m     91\u001b[0m \u001b[0;32mdef\u001b[0m \u001b[0m_raise_linalgerror_nonposdef\u001b[0m\u001b[0;34m(\u001b[0m\u001b[0merr\u001b[0m\u001b[0;34m,\u001b[0m \u001b[0mflag\u001b[0m\u001b[0;34m)\u001b[0m\u001b[0;34m:\u001b[0m\u001b[0;34m\u001b[0m\u001b[0m\n",
      "\u001b[0;31mLinAlgError\u001b[0m: Singular matrix"
     ]
    }
   ],
   "source": [
    "p1 = [0,2]\n",
    "p2 = [0,4]\n",
    "p3 = [2,3]\n",
    "p4 = [3,2]\n",
    "coef = fitPoly3(p1,p2,p3,p4)\n",
    "coef\n",
    "#Example of no solution\n",
    "# Two equations would contradict, through any x there can be only one y"
   ]
  },
  {
   "cell_type": "markdown",
   "metadata": {},
   "source": [
    "-----\n",
    "### Congratulations, we're done!\n",
    "\n",
    "Now, you just need to submit this assignment by uploading it to the course <a href=\"https://d2l.msu.edu/\">Desire2Learn</a> web page for today's dropbox (Don't forget to add your names in the first cell).\n"
   ]
  },
  {
   "cell_type": "markdown",
   "metadata": {},
   "source": [
    "-----\n",
    "### Congratulations, we're done!"
   ]
  },
  {
   "cell_type": "markdown",
   "metadata": {},
   "source": [
    "&#169; Copyright 2018,  Michigan State University Board of Trustees"
   ]
  },
  {
   "cell_type": "code",
   "execution_count": null,
   "metadata": {},
   "outputs": [],
   "source": []
  },
  {
   "cell_type": "code",
   "execution_count": null,
   "metadata": {},
   "outputs": [],
   "source": []
  }
 ],
 "metadata": {
  "kernelspec": {
   "display_name": "Python 3",
   "language": "python",
   "name": "python3"
  },
  "language_info": {
   "codemirror_mode": {
    "name": "ipython",
    "version": 3
   },
   "file_extension": ".py",
   "mimetype": "text/x-python",
   "name": "python",
   "nbconvert_exporter": "python",
   "pygments_lexer": "ipython3",
   "version": "3.7.1"
  }
 },
 "nbformat": 4,
 "nbformat_minor": 2
}
