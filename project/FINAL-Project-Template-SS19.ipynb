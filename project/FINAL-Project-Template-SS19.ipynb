{
 "cells": [
  {
   "cell_type": "markdown",
   "metadata": {},
   "source": [
    "# MTH314 Projects\n",
    "This class will have an individual project due towards the end of the semester. \n",
    "Students will conduct an interview with a researcher and present to the class how linear algebra is used in the real world.\n",
    "This project will include an independent research, final report, and presentation. "
   ]
  },
  {
   "cell_type": "markdown",
   "metadata": {},
   "source": [
    "## Logistics\n",
    "\n",
    "There will be two days for presentation (about 15 people each day)\n",
    "Students will need to send the .pynb file or slides to the TA or the instrutor the day before the presentation, and the presentation will be from the same computer.\n",
    "It is expected that you can make some changes after the presentation. \n",
    "\n",
    "Final reports (in the .pynb format) will be turned in via D2L. "
   ]
  },
  {
   "cell_type": "markdown",
   "metadata": {},
   "source": [
    "## Milestones and Due Dates\n",
    "\n",
    "- **Tuesday/Thursday, Apr. 16/18th** - Presentation Day\n",
    "- **Friday, Apr. 19th** - Report Due"
   ]
  },
  {
   "cell_type": "markdown",
   "metadata": {},
   "source": [
    "## Rubric\n",
    "Remember the project is worth 20% of your final grade. \n",
    "The project points will be broken down as follows:\n",
    "\n",
    "### 50% Final Report \n",
    "There is limit for the final report. \n",
    "However you must convey the provided information. \n",
    "\n",
    "* 25% - Who is the person you interviewed and why did you choose them. This should include a description of their research.\n",
    "* 25% - Narrative of the interview.  How did it go? What went well? What didn't go well, etc.\n",
    "* 25% - What did you learn from the interview. \n",
    "* 25% - Deep dive - Take something interesting that you learned from the interview and do a deep dive. Generally there are two things you can do \n",
    "    * 1) implement and demonstrate something related to what you learned using code \n",
    "    * 2) read a paper by your researcher and provide a summary of the paper in a way that is understandable by your classmates.\n",
    "    \n",
    "### 30% Presentation\n",
    "Presentations will be a max of 5 minutes.  You will be graded on your preparedness (i.e. did you practice and did you keep your presentation in the allotted time). \n",
    "\n",
    "### 20% Participation\n",
    "Students will be expected to fill out paper feedback forms for their peers and participate by asking questions and engaging in the presentations. \n",
    "Students are not allowed to be on their phones or laptops during presentations.  \n",
    "\n",
    "\n",
    "## Project Report Template\n",
    "Please use the rest of this notebook as a recommend outline for your project report.\n",
    "\n",
    "----"
   ]
  },
  {
   "cell_type": "markdown",
   "metadata": {},
   "source": [
    "# <center> &#9989; Project Title </center>\n",
    "\n",
    "<center>By &#9989; \"Your name\"</center>"
   ]
  },
  {
   "cell_type": "markdown",
   "metadata": {},
   "source": [
    "&#9989; Replace the following with a picture that \"defines\" your project.  This could be a faculty picture, a picture of their research, something that comes out of your demonstration or some other visual representation.  \n",
    "\n",
    "<img src=\"http://simpleicon.com/wp-content/uploads/camera.png\" width=\"20%\">\n",
    "<p style=\"text-align: right;\">Image from: URL</p>\n",
    "\n",
    "\n",
    "[Link to the reseacher's website](URL Goes here)"
   ]
  },
  {
   "cell_type": "markdown",
   "metadata": {},
   "source": [
    "---\n",
    "# Abstract\n",
    "\n",
    "&#9989;  Provide a short paragraph about what is in this report. Include a short description of who you interviewed, key things you learned, and a short description of your project demonstration.\n"
   ]
  },
  {
   "cell_type": "markdown",
   "metadata": {},
   "source": [
    "----\n",
    "# Faculty Biography\n",
    "\n",
    "&#9989;  Who is the person you interviewed and why did you choose them?"
   ]
  },
  {
   "cell_type": "markdown",
   "metadata": {},
   "source": [
    "----\n",
    "# Interview\n",
    "\n",
    "&#9989; Narrative of the interview. How did it go? What went well? What didn't go well, etc."
   ]
  },
  {
   "cell_type": "markdown",
   "metadata": {},
   "source": [
    "----\n",
    "# Lessons Learned\n",
    "\n",
    "&#9989; What did you learn from the interview."
   ]
  },
  {
   "cell_type": "markdown",
   "metadata": {},
   "source": [
    "---\n",
    "# Deep Dive\n",
    "\n",
    "&#9989; Deep Dive - Take something interesting that you learned from the interview and do a deep dive. \n",
    "Generally there are two things you can do:\n",
    "1) implement and demonstrate something related to what you learned using code\n",
    "2) read a paper by your faculty and provide a summary of the paper in a way that is understandable by your classmates."
   ]
  },
  {
   "cell_type": "markdown",
   "metadata": {},
   "source": [
    "---\n",
    "# Concluding Discussion and Future Work\n",
    "\n",
    "&#9989; A summary of what you did. What went well, what didn't go well, and your next steps. "
   ]
  },
  {
   "cell_type": "markdown",
   "metadata": {},
   "source": [
    "----\n",
    "\n",
    "# References\n",
    "\n",
    "&#9989; Include a bibliography of your sources. \n",
    "Make sure you include links to any code you used for your demonstration project. \n",
    "Organize these references nicely."
   ]
  },
  {
   "cell_type": "markdown",
   "metadata": {},
   "source": [
    "-----\n",
    "### &#9989;  Congratulations, you are done!\n",
    "\n",
    "Now, you just need to submit this report by uploading it to the course <a href=\"https://d2l.msu.edu/\">Desire2Learn</a> web page for today's dropbox."
   ]
  }
 ],
 "metadata": {
  "anaconda-cloud": {},
  "kernelspec": {
   "display_name": "Python 3",
   "language": "python",
   "name": "python3"
  },
  "language_info": {
   "codemirror_mode": {
    "name": "ipython",
    "version": 3
   },
   "file_extension": ".py",
   "mimetype": "text/x-python",
   "name": "python",
   "nbconvert_exporter": "python",
   "pygments_lexer": "ipython3",
   "version": "3.7.1"
  }
 },
 "nbformat": 4,
 "nbformat_minor": 1
}
