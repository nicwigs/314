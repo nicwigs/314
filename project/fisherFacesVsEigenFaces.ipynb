{
 "cells": [
  {
   "cell_type": "code",
   "execution_count": 25,
   "metadata": {},
   "outputs": [],
   "source": [
    "import numpy as np\n",
    "import matplotlib.pyplot as plt\n",
    "\n",
    "from sklearn.datasets import fetch_lfw_people, load_digits\n",
    "from sklearn.model_selection import train_test_split\n",
    "from sklearn import metrics\n",
    "\n",
    "from sklearn.model_selection import GridSearchCV\n",
    "from sklearn.svm import SVC\n",
    "from sklearn.metrics import classification_report, confusion_matrix\n",
    "\n",
    "from sklearn import cluster\n",
    "from sklearn.neighbors import KNeighborsClassifier\n",
    "from sklearn.cluster import KMeans\n",
    "\n",
    "sk_data = fetch_lfw_people(min_faces_per_person=50, resize=0.4)\n",
    "\n",
    "images = sk_data.images\n",
    "feature_vectors = sk_data.data\n",
    "class_labels = sk_data.target\n",
    "categories = sk_data.target_names\n",
    "n_samples, n_features = feature_vectors.shape\n",
    "N, h, w = sk_data.images.shape\n",
    "n_classes = len(categories)\n",
    "\n",
    "X_train, X_test, y_train, y_test = train_test_split(feature_vectors, class_labels, test_size=0.25)\n"
   ]
  },
  {
   "cell_type": "code",
   "execution_count": 2,
   "metadata": {},
   "outputs": [],
   "source": [
    "def myPCA(X,n=0):\n",
    "    \n",
    "    if n == 0:\n",
    "        n=X.shape[0]\n",
    "        \n",
    "    # n = n-dim of image\n",
    "    # N = Number of images\n",
    "    # From sklearn comes in Nxn -> need it to be n x N\n",
    "\n",
    "        \n",
    "    X1 = X.T\n",
    "    Xmean = X1.mean(axis = 1).reshape(-1,1)\n",
    "    X2 = X1 - Xmean\n",
    "    \n",
    "    C = np.matmul(X2,X2.T)\n",
    "    vals, vecs = np.linalg.eig(C)\n",
    "    #vecs, vals, variances = np.linalg.svd(X2, full_matrices=False)\n",
    "    #vals = np.power(vals,2) / X2.shape[1]\n",
    "    \n",
    "    idx = vals.argsort()[::-1]   \n",
    "    vals = vals[idx]\n",
    "    vecs = vecs[:,idx]\n",
    "        \n",
    "    vals = vals[:n].copy()\n",
    "    vecs = vecs[:,:n].copy()\n",
    "    \n",
    "    Xb = np.matmul(vecs.T,X2) #X in terms of new basis\n",
    "    Xb = np.dot(np.linalg.inv(np.diag(np.power(vals,0.5))),Xb) #Whiting\n",
    "    \n",
    "    return vals, vecs.T, Xb.T, Xmean\n"
   ]
  },
  {
   "cell_type": "code",
   "execution_count": 3,
   "metadata": {},
   "outputs": [],
   "source": [
    "# c = n_classes\n",
    "\n",
    "def myLDA(X,y,c, n =0, s=0):\n",
    "    if n == 0:\n",
    "        n = c-1\n",
    "    \n",
    "    # n = n-dim of image\n",
    "    # N = Number of images\n",
    "    # From sklearn comes in Nxn -> need it to be n x N\n",
    "    X1 = X.T\n",
    "\n",
    "    \n",
    "    d = X1.shape[0]\n",
    "    meanTotal = X1.mean(axis = 1).reshape(-1,1)\n",
    "\n",
    "    Sw = np.zeros((d, d),  dtype=np.float32)\n",
    "    Sb = np.zeros((d, d),  dtype=np.float32)\n",
    "    \n",
    "    for i in range(0,c):\n",
    "        Xi = X1[:,np.where(y==i)[0]]\n",
    "        meanClass = np.mean(Xi, axis = 1).reshape(-1,1)\n",
    "        Sw = Sw + np.dot((Xi-meanClass), (Xi-meanClass).T)\n",
    "        Sb = Sb + Xi.shape[1] * np.dot((meanClass - meanTotal), (meanClass - meanTotal).T)\n",
    "        \n",
    "    #Shrinkage\n",
    "    Sw = (1-s)*Sw + s*np.identity(d)\n",
    "    Sb = (1-s)*Sb + s*np.identity(d)\n",
    "        \n",
    "    C = np.dot(np.linalg.inv(Sw), Sb)\n",
    "    vals, vecs = np.linalg.eig(C)\n",
    "    \n",
    "    idx = vals.argsort()[::-1]   \n",
    "    vals = vals[idx]\n",
    "    vecs = vecs[:,idx]\n",
    "        \n",
    "    vals = np.array(vals[0:n].real, dtype=np.float32, copy=True)\n",
    "    vecs = np.array(vecs[:,:n].real, dtype=np.float32, copy=True)\n",
    "    \n",
    "    Xb = np.matmul(vecs.T,X1)  #X in terms of new basis\n",
    "\n",
    "    \n",
    "    return vals, vecs.T, Xb.T\n",
    "    \n",
    "    "
   ]
  },
  {
   "cell_type": "code",
   "execution_count": 4,
   "metadata": {},
   "outputs": [],
   "source": [
    "def pcaTransform(X,vec,val,mean):\n",
    "    # X is from sklearn -> row vectors\n",
    "    Xb = np.matmul(vec,(X-mean.reshape(-1)).T) #X in terms of new basis\n",
    "    Xb = np.dot(np.linalg.inv(np.diag(np.power(val,0.5))),Xb).T #Whiting\n",
    "    return Xb"
   ]
  },
  {
   "cell_type": "code",
   "execution_count": 5,
   "metadata": {},
   "outputs": [],
   "source": [
    "def ldaTransform(vec, Xpca):\n",
    "    return np.dot(vec,Xpca.T).T"
   ]
  },
  {
   "cell_type": "code",
   "execution_count": 6,
   "metadata": {},
   "outputs": [
    {
     "data": {
      "text/plain": [
       "12"
      ]
     },
     "execution_count": 6,
     "metadata": {},
     "output_type": "execute_result"
    }
   ],
   "source": [
    "n_classes"
   ]
  },
  {
   "cell_type": "code",
   "execution_count": 7,
   "metadata": {},
   "outputs": [
    {
     "data": {
      "text/plain": [
       "(1170, 1850)"
      ]
     },
     "execution_count": 7,
     "metadata": {},
     "output_type": "execute_result"
    }
   ],
   "source": [
    "X_train.shape"
   ]
  },
  {
   "cell_type": "code",
   "execution_count": 8,
   "metadata": {},
   "outputs": [
    {
     "data": {
      "text/plain": [
       "(1170, 1)"
      ]
     },
     "execution_count": 8,
     "metadata": {},
     "output_type": "execute_result"
    }
   ],
   "source": [
    "y_train = y_train.reshape((-1,1))\n",
    "y_train.shape"
   ]
  },
  {
   "cell_type": "code",
   "execution_count": 9,
   "metadata": {},
   "outputs": [],
   "source": [
    "pval, pvec, pXb, pMean = myPCA(X_train, len(y_train)-n_classes)\n",
    "lval, lvec, lXb = myLDA(pXb,y_train,n_classes, n = n_classes-1, s = 0.5)\n",
    "ffvec = np.dot(pvec.T,np.dot(np.diag(np.power(pval,0.5)),lvec.T)).T\n",
    "FF = ffvec + pMean.reshape(-1)"
   ]
  },
  {
   "cell_type": "code",
   "execution_count": 10,
   "metadata": {
    "scrolled": true
   },
   "outputs": [
    {
     "data": {
      "image/png": "[encoded data removed]",
      "text/plain": [
       "<Figure size 734.4x1821.6 with 11 Axes>"
      ]
     },
     "metadata": {},
     "output_type": "display_data"
    }
   ],
   "source": [
    "def plot_gallery(images, h, w, n_row=3, n_col=5, tot = 3*5):\n",
    "    \"\"\"Helper function to plot a gallery of portraits\"\"\"\n",
    "    plt.figure(figsize=(1.7 * n_col, 2.3 * n_row))\n",
    "    plt.subplots_adjust(bottom=0, left=.01, right=.99, top=.90, hspace=.35)\n",
    "    for i in range(tot):\n",
    "        plt.subplot(n_row, n_col, i + 1)\n",
    "        plt.imshow(images[i].reshape((h, w)))\n",
    "        plt.xticks(())\n",
    "        plt.yticks(())\n",
    "        \n",
    "plot_gallery(FF, h, w, n_row=11, n_col=6,tot = n_classes-1 )"
   ]
  },
  {
   "cell_type": "code",
   "execution_count": 11,
   "metadata": {},
   "outputs": [
    {
     "data": {
      "text/plain": [
       "<matplotlib.image.AxesImage at 0x1a1b97d2e8>"
      ]
     },
     "execution_count": 11,
     "metadata": {},
     "output_type": "execute_result"
    },
    {
     "data": {
      "image/png": "[encoded data removed]",
      "text/plain": [
       "<Figure size 432x288 with 1 Axes>"
      ]
     },
     "metadata": {
      "needs_background": "light"
     },
     "output_type": "display_data"
    }
   ],
   "source": [
    "f = np.dot(pvec.T,np.dot(np.diag(np.power(pval,0.5)),np.dot(lXb[1000],lvec).T)).T\n",
    "plt.imshow(f.reshape((h, w)))"
   ]
  },
  {
   "cell_type": "code",
   "execution_count": 12,
   "metadata": {},
   "outputs": [
    {
     "data": {
      "text/plain": [
       "<matplotlib.image.AxesImage at 0x1a1bb562e8>"
      ]
     },
     "execution_count": 12,
     "metadata": {},
     "output_type": "execute_result"
    },
    {
     "data": {
      "image/png": "[encoded data removed]",
      "text/plain": [
       "<Figure size 432x288 with 1 Axes>"
      ]
     },
     "metadata": {
      "needs_background": "light"
     },
     "output_type": "display_data"
    }
   ],
   "source": [
    "plt.imshow(X_train[1000].reshape((h, w)))"
   ]
  },
  {
   "cell_type": "code",
   "execution_count": 13,
   "metadata": {},
   "outputs": [
    {
     "data": {
      "text/plain": [
       "(390, 11)"
      ]
     },
     "execution_count": 13,
     "metadata": {},
     "output_type": "execute_result"
    }
   ],
   "source": [
    "X_test_transformed = ldaTransform(lvec, pcaTransform(X_test,pvec,pval,pMean))\n",
    "X_test_transformed.shape"
   ]
  },
  {
   "cell_type": "code",
   "execution_count": 14,
   "metadata": {},
   "outputs": [
    {
     "data": {
      "text/plain": [
       "(390, 1)"
      ]
     },
     "execution_count": 14,
     "metadata": {},
     "output_type": "execute_result"
    }
   ],
   "source": [
    "y_test = y_test.reshape((-1,1))\n",
    "y_test.shape"
   ]
  },
  {
   "cell_type": "code",
   "execution_count": 15,
   "metadata": {},
   "outputs": [
    {
     "data": {
      "text/plain": [
       "(1170, 11)"
      ]
     },
     "execution_count": 15,
     "metadata": {},
     "output_type": "execute_result"
    }
   ],
   "source": [
    "X_train_transformed = ldaTransform(lvec, pcaTransform(X_train,pvec,pval,pMean))\n",
    "X_train_transformed.shape"
   ]
  },
  {
   "cell_type": "code",
   "execution_count": 16,
   "metadata": {},
   "outputs": [
    {
     "data": {
      "text/plain": [
       "KNeighborsClassifier(algorithm='auto', leaf_size=30, metric='minkowski',\n",
       "           metric_params=None, n_jobs=None, n_neighbors=10, p=2,\n",
       "           weights='uniform')"
      ]
     },
     "execution_count": 16,
     "metadata": {},
     "output_type": "execute_result"
    }
   ],
   "source": [
    "neigh = KNeighborsClassifier(n_neighbors=10)\n",
    "neigh.fit(X_train_transformed, y_train.reshape(-1)) "
   ]
  },
  {
   "cell_type": "code",
   "execution_count": 17,
   "metadata": {},
   "outputs": [],
   "source": [
    "pre = neigh.predict(X_test_transformed)"
   ]
  },
  {
   "cell_type": "code",
   "execution_count": 18,
   "metadata": {},
   "outputs": [
    {
     "data": {
      "text/plain": [
       "0.47435897435897434"
      ]
     },
     "execution_count": 18,
     "metadata": {},
     "output_type": "execute_result"
    }
   ],
   "source": [
    "neigh.score(X_test_transformed, y_test)"
   ]
  },
  {
   "cell_type": "code",
   "execution_count": 19,
   "metadata": {},
   "outputs": [
    {
     "name": "stdout",
     "output_type": "stream",
     "text": [
      "              precision    recall  f1-score   support\n",
      "\n",
      "           0       0.44      0.32      0.37        22\n",
      "           1       0.55      0.55      0.55        53\n",
      "           2       0.14      0.15      0.14        27\n",
      "           3       0.74      0.64      0.69       138\n",
      "           4       0.28      0.35      0.31        26\n",
      "           5       0.41      0.72      0.52        18\n",
      "           6       0.27      0.30      0.29        10\n",
      "           7       0.15      0.12      0.13        17\n",
      "           8       0.29      0.36      0.32        11\n",
      "           9       0.25      0.33      0.29        12\n",
      "          10       0.57      0.38      0.46        21\n",
      "          11       0.33      0.37      0.35        35\n",
      "\n",
      "   micro avg       0.47      0.47      0.47       390\n",
      "   macro avg       0.37      0.38      0.37       390\n",
      "weighted avg       0.50      0.47      0.48       390\n",
      "\n"
     ]
    }
   ],
   "source": [
    "print(classification_report(y_test, pre))"
   ]
  },
  {
   "cell_type": "markdown",
   "metadata": {},
   "source": [
    "## Eigen Faces"
   ]
  },
  {
   "cell_type": "code",
   "execution_count": 20,
   "metadata": {},
   "outputs": [],
   "source": [
    "ef_n = 12\n",
    "efval, efvec, efXb, efMean = myPCA(X_train, ef_n)\n"
   ]
  },
  {
   "cell_type": "code",
   "execution_count": 21,
   "metadata": {},
   "outputs": [],
   "source": [
    "Xef_test_transformed = pcaTransform(X_test,efvec,efval,efMean)"
   ]
  },
  {
   "cell_type": "code",
   "execution_count": 22,
   "metadata": {},
   "outputs": [
    {
     "data": {
      "text/plain": [
       "(1170, 12)"
      ]
     },
     "execution_count": 22,
     "metadata": {},
     "output_type": "execute_result"
    }
   ],
   "source": [
    "efXb.shape"
   ]
  },
  {
   "cell_type": "code",
   "execution_count": 23,
   "metadata": {},
   "outputs": [
    {
     "data": {
      "text/plain": [
       "(390, 12)"
      ]
     },
     "execution_count": 23,
     "metadata": {},
     "output_type": "execute_result"
    }
   ],
   "source": [
    "Xef_test_transformed.shape"
   ]
  },
  {
   "cell_type": "code",
   "execution_count": 24,
   "metadata": {},
   "outputs": [
    {
     "name": "stdout",
     "output_type": "stream",
     "text": [
      "0.49743589743589745\n",
      "              precision    recall  f1-score   support\n",
      "\n",
      "           0       0.40      0.18      0.25        22\n",
      "           1       0.37      0.72      0.49        53\n",
      "           2       0.38      0.33      0.35        27\n",
      "           3       0.62      0.75      0.68       138\n",
      "           4       0.27      0.15      0.20        26\n",
      "           5       0.50      0.28      0.36        18\n",
      "           6       0.00      0.00      0.00        10\n",
      "           7       0.62      0.29      0.40        17\n",
      "           8       0.00      0.00      0.00        11\n",
      "           9       0.25      0.17      0.20        12\n",
      "          10       0.93      0.67      0.78        21\n",
      "          11       0.31      0.26      0.28        35\n",
      "\n",
      "   micro avg       0.50      0.50      0.50       390\n",
      "   macro avg       0.39      0.32      0.33       390\n",
      "weighted avg       0.47      0.50      0.47       390\n",
      "\n"
     ]
    },
    {
     "name": "stderr",
     "output_type": "stream",
     "text": [
      "/Users/nicwiggins/anaconda3/lib/python3.7/site-packages/sklearn/metrics/classification.py:1143: UndefinedMetricWarning: Precision and F-score are ill-defined and being set to 0.0 in labels with no predicted samples.\n",
      "  'precision', 'predicted', average, warn_for)\n"
     ]
    }
   ],
   "source": [
    "neighef = KNeighborsClassifier(n_neighbors=10)\n",
    "neighef.fit(efXb, y_train.reshape(-1)) \n",
    "print(neighef.score(Xef_test_transformed, y_test.reshape(-1)))\n",
    "pre = neighef.predict(Xef_test_transformed)\n",
    "\n",
    "print(classification_report(y_test, pre))"
   ]
  },
  {
   "cell_type": "markdown",
   "metadata": {},
   "source": [
    "## try SVM"
   ]
  },
  {
   "cell_type": "code",
   "execution_count": 26,
   "metadata": {},
   "outputs": [
    {
     "name": "stdout",
     "output_type": "stream",
     "text": [
      "Fitting the classifier to the training set\n"
     ]
    },
    {
     "name": "stderr",
     "output_type": "stream",
     "text": [
      "/Users/nicwiggins/anaconda3/lib/python3.7/site-packages/sklearn/model_selection/_split.py:2053: FutureWarning: You should specify a value for 'cv' instead of relying on the default value. The default value will change from 3 to 5 in version 0.22.\n",
      "  warnings.warn(CV_WARNING, FutureWarning)\n"
     ]
    },
    {
     "name": "stdout",
     "output_type": "stream",
     "text": [
      "Best estimator found by grid search:\n",
      "SVC(C=1000.0, cache_size=200, class_weight='balanced', coef0=0.0,\n",
      "  decision_function_shape='ovr', degree=3, gamma=0.0001, kernel='rbf',\n",
      "  max_iter=-1, probability=False, random_state=None, shrinking=True,\n",
      "  tol=0.001, verbose=False)\n",
      "              precision    recall  f1-score   support\n",
      "\n",
      "           0       0.00      0.00      0.00        17\n",
      "           1       0.00      0.00      0.00        61\n",
      "           2       0.00      0.00      0.00        28\n",
      "           3       0.00      0.00      0.00       118\n",
      "           4       0.00      0.00      0.00        25\n",
      "           5       0.00      0.00      0.00        19\n",
      "           6       0.00      0.00      0.00        18\n",
      "           7       0.00      0.00      0.00        18\n",
      "           8       0.00      0.00      0.00        20\n",
      "           9       0.00      0.00      0.00        19\n",
      "          10       0.00      0.00      0.00        10\n",
      "          11       0.09      1.00      0.17        37\n",
      "\n",
      "   micro avg       0.09      0.09      0.09       390\n",
      "   macro avg       0.01      0.08      0.01       390\n",
      "weighted avg       0.01      0.09      0.02       390\n",
      "\n"
     ]
    },
    {
     "name": "stderr",
     "output_type": "stream",
     "text": [
      "/Users/nicwiggins/anaconda3/lib/python3.7/site-packages/sklearn/model_selection/_search.py:841: DeprecationWarning: The default of the `iid` parameter will change from True to False in version 0.22 and will be removed in 0.24. This will change numeric results when test-set sizes are unequal.\n",
      "  DeprecationWarning)\n",
      "/Users/nicwiggins/anaconda3/lib/python3.7/site-packages/sklearn/metrics/classification.py:1143: UndefinedMetricWarning: Precision and F-score are ill-defined and being set to 0.0 in labels with no predicted samples.\n",
      "  'precision', 'predicted', average, warn_for)\n"
     ]
    }
   ],
   "source": [
    "print(\"Fitting the classifier to the training set\")\n",
    "param_grid = {'C': [1e3, 5e3, 1e4, 5e4, 1e5],\n",
    "              'gamma': [0.0001, 0.0005, 0.001, 0.005, 0.01, 0.1], }\n",
    "clf = GridSearchCV(SVC(kernel='rbf', class_weight='balanced'), param_grid)\n",
    "clf = clf.fit(X_train_transformed, y_train.reshape(-1))\n",
    "print(\"Best estimator found by grid search:\")\n",
    "print(clf.best_estimator_)\n",
    "pre = clf.predict(X_test_transformed)\n",
    "\n",
    "print(classification_report(y_test, pre))"
   ]
  },
  {
   "cell_type": "code",
   "execution_count": null,
   "metadata": {},
   "outputs": [],
   "source": []
  }
 ],
 "metadata": {
  "kernelspec": {
   "display_name": "Python 3",
   "language": "python",
   "name": "python3"
  },
  "language_info": {
   "codemirror_mode": {
    "name": "ipython",
    "version": 3
   },
   "file_extension": ".py",
   "mimetype": "text/x-python",
   "name": "python",
   "nbconvert_exporter": "python",
   "pygments_lexer": "ipython3",
   "version": "3.7.1"
  }
 },
 "nbformat": 4,
 "nbformat_minor": 2
}
